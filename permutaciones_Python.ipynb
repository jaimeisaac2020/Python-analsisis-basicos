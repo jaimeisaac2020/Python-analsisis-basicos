{
  "nbformat": 4,
  "nbformat_minor": 0,
  "metadata": {
    "colab": {
      "name": "permutaciones_Python.ipynb",
      "provenance": [],
      "authorship_tag": "ABX9TyOtQd7xyuJNn0udEAliA+x8",
      "include_colab_link": true
    },
    "kernelspec": {
      "name": "python3",
      "display_name": "Python 3"
    },
    "language_info": {
      "name": "python"
    }
  },
  "cells": [
    {
      "cell_type": "markdown",
      "metadata": {
        "id": "view-in-github",
        "colab_type": "text"
      },
      "source": [
        "<a href=\"https://colab.research.google.com/github/jaimeisaac2020/Python-analsisis-basicos/blob/mi-github/permutaciones_Python.ipynb\" target=\"_parent\"><img src=\"https://colab.research.google.com/assets/colab-badge.svg\" alt=\"Open In Colab\"/></a>"
      ]
    },
    {
      "cell_type": "code",
      "source": [
        "from itertools import permutations"
      ],
      "metadata": {
        "id": "DjJzlXxkWkv9"
      },
      "execution_count": 1,
      "outputs": []
    },
    {
      "cell_type": "code",
      "execution_count": 2,
      "metadata": {
        "colab": {
          "base_uri": "https://localhost:8080/"
        },
        "id": "Cey6hd_8WWqZ",
        "outputId": "9dcaee6a-12f2-4bd0-a157-0d0c2ea2d723"
      },
      "outputs": [
        {
          "output_type": "stream",
          "name": "stdout",
          "text": [
            "('A', 'A', 'B', 'B')\n",
            "('A', 'A', 'B', 'B')\n",
            "('A', 'B', 'A', 'B')\n",
            "('A', 'B', 'B', 'A')\n",
            "('A', 'B', 'A', 'B')\n",
            "('A', 'B', 'B', 'A')\n",
            "('A', 'A', 'B', 'B')\n",
            "('A', 'A', 'B', 'B')\n",
            "('A', 'B', 'A', 'B')\n",
            "('A', 'B', 'B', 'A')\n",
            "('A', 'B', 'A', 'B')\n",
            "('A', 'B', 'B', 'A')\n",
            "('B', 'A', 'A', 'B')\n",
            "('B', 'A', 'B', 'A')\n",
            "('B', 'A', 'A', 'B')\n",
            "('B', 'A', 'B', 'A')\n",
            "('B', 'B', 'A', 'A')\n",
            "('B', 'B', 'A', 'A')\n",
            "('B', 'A', 'A', 'B')\n",
            "('B', 'A', 'B', 'A')\n",
            "('B', 'A', 'A', 'B')\n",
            "('B', 'A', 'B', 'A')\n",
            "('B', 'B', 'A', 'A')\n",
            "('B', 'B', 'A', 'A')\n"
          ]
        }
      ],
      "source": [
        "perm=permutations('AABB',4)\n",
        "for i in list(perm):\n",
        "    print(i)"
      ]
    },
    {
      "cell_type": "code",
      "source": [
        "c1 = {1, 2, 3, 4, 5, 6}\n",
        "c2 = {2, 4, 6, 8, 10}\n",
        "c3 = {1, 2, 3}\n",
        "c4 = {4, 5, 6}"
      ],
      "metadata": {
        "id": "CE64gleAWzfT"
      },
      "execution_count": 6,
      "outputs": []
    },
    {
      "cell_type": "code",
      "source": [
        "c1|c2"
      ],
      "metadata": {
        "colab": {
          "base_uri": "https://localhost:8080/"
        },
        "id": "pmRaCPovW09x",
        "outputId": "d302281d-80cd-4cb3-9137-ab63b0d3b18f"
      },
      "execution_count": 7,
      "outputs": [
        {
          "output_type": "execute_result",
          "data": {
            "text/plain": [
              "{1, 2, 3, 4, 5, 6, 8, 10}"
            ]
          },
          "metadata": {},
          "execution_count": 7
        }
      ]
    },
    {
      "cell_type": "code",
      "source": [
        "len(c1)"
      ],
      "metadata": {
        "colab": {
          "base_uri": "https://localhost:8080/"
        },
        "id": "SGXh7WobXCDD",
        "outputId": "5cdb7794-43ba-4c59-af12-fc3aee5301bc"
      },
      "execution_count": 8,
      "outputs": [
        {
          "output_type": "execute_result",
          "data": {
            "text/plain": [
              "6"
            ]
          },
          "metadata": {},
          "execution_count": 8
        }
      ]
    },
    {
      "cell_type": "code",
      "source": [
        ""
      ],
      "metadata": {
        "id": "DJ1cOWvNbcMy"
      },
      "execution_count": null,
      "outputs": []
    }
  ]
}