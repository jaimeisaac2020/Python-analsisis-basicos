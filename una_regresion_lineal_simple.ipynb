{
  "nbformat": 4,
  "nbformat_minor": 0,
  "metadata": {
    "colab": {
      "name": "una regresion lineal simple.ipynb",
      "provenance": [],
      "authorship_tag": "ABX9TyPntdlWgmAdc7stTw6pfFmm",
      "include_colab_link": true
    },
    "kernelspec": {
      "name": "python3",
      "display_name": "Python 3"
    },
    "language_info": {
      "name": "python"
    }
  },
  "cells": [
    {
      "cell_type": "markdown",
      "metadata": {
        "id": "view-in-github",
        "colab_type": "text"
      },
      "source": [
        "<a href=\"https://colab.research.google.com/github/jaimeisaac2020/Python-analsisis-basicos/blob/mi-github/una_regresion_lineal_simple.ipynb\" target=\"_parent\"><img src=\"https://colab.research.google.com/assets/colab-badge.svg\" alt=\"Open In Colab\"/></a>"
      ]
    },
    {
      "cell_type": "code",
      "metadata": {
        "colab": {
          "base_uri": "https://localhost:8080/"
        },
        "id": "4ngRY6SiP1UG",
        "outputId": "b335ac2f-3a35-4bf2-8a20-b47ed8df0ff4"
      },
      "source": [
        "!pip install sklearn"
      ],
      "execution_count": 15,
      "outputs": [
        {
          "output_type": "stream",
          "name": "stdout",
          "text": [
            "Requirement already satisfied: sklearn in /usr/local/lib/python3.7/dist-packages (0.0)\n",
            "Requirement already satisfied: scikit-learn in /usr/local/lib/python3.7/dist-packages (from sklearn) (1.0.1)\n",
            "Requirement already satisfied: joblib>=0.11 in /usr/local/lib/python3.7/dist-packages (from scikit-learn->sklearn) (1.1.0)\n",
            "Requirement already satisfied: numpy>=1.14.6 in /usr/local/lib/python3.7/dist-packages (from scikit-learn->sklearn) (1.19.5)\n",
            "Requirement already satisfied: scipy>=1.1.0 in /usr/local/lib/python3.7/dist-packages (from scikit-learn->sklearn) (1.4.1)\n",
            "Requirement already satisfied: threadpoolctl>=2.0.0 in /usr/local/lib/python3.7/dist-packages (from scikit-learn->sklearn) (3.0.0)\n"
          ]
        }
      ]
    },
    {
      "cell_type": "code",
      "metadata": {
        "id": "qIy7C4R9LwLu"
      },
      "source": [
        "import numpy as np\n",
        "import pandas as pd\n",
        "from scipy.stats import stats\n",
        "import matplotlib.pyplot as plt"
      ],
      "execution_count": 1,
      "outputs": []
    },
    {
      "cell_type": "code",
      "metadata": {
        "id": "Bt1uMMFjMQbk"
      },
      "source": [
        "data=pd.read_csv('Mens_height_weight.csv')"
      ],
      "execution_count": 2,
      "outputs": []
    },
    {
      "cell_type": "code",
      "metadata": {
        "colab": {
          "base_uri": "https://localhost:8080/",
          "height": 206
        },
        "id": "thnpWsMQMeiD",
        "outputId": "ef3153a6-9eee-48ca-fc39-62bdbd78ea38"
      },
      "source": [
        "data.head()"
      ],
      "execution_count": 3,
      "outputs": [
        {
          "output_type": "execute_result",
          "data": {
            "text/html": [
              "<div>\n",
              "<style scoped>\n",
              "    .dataframe tbody tr th:only-of-type {\n",
              "        vertical-align: middle;\n",
              "    }\n",
              "\n",
              "    .dataframe tbody tr th {\n",
              "        vertical-align: top;\n",
              "    }\n",
              "\n",
              "    .dataframe thead th {\n",
              "        text-align: right;\n",
              "    }\n",
              "</style>\n",
              "<table border=\"1\" class=\"dataframe\">\n",
              "  <thead>\n",
              "    <tr style=\"text-align: right;\">\n",
              "      <th></th>\n",
              "      <th>Height</th>\n",
              "      <th>Weight</th>\n",
              "    </tr>\n",
              "  </thead>\n",
              "  <tbody>\n",
              "    <tr>\n",
              "      <th>0</th>\n",
              "      <td>179</td>\n",
              "      <td>84</td>\n",
              "    </tr>\n",
              "    <tr>\n",
              "      <th>1</th>\n",
              "      <td>177</td>\n",
              "      <td>83</td>\n",
              "    </tr>\n",
              "    <tr>\n",
              "      <th>2</th>\n",
              "      <td>164</td>\n",
              "      <td>62</td>\n",
              "    </tr>\n",
              "    <tr>\n",
              "      <th>3</th>\n",
              "      <td>181</td>\n",
              "      <td>90</td>\n",
              "    </tr>\n",
              "    <tr>\n",
              "      <th>4</th>\n",
              "      <td>186</td>\n",
              "      <td>91</td>\n",
              "    </tr>\n",
              "  </tbody>\n",
              "</table>\n",
              "</div>"
            ],
            "text/plain": [
              "   Height  Weight\n",
              "0     179      84\n",
              "1     177      83\n",
              "2     164      62\n",
              "3     181      90\n",
              "4     186      91"
            ]
          },
          "metadata": {},
          "execution_count": 3
        }
      ]
    },
    {
      "cell_type": "code",
      "metadata": {
        "id": "C_hADsDcXhRz"
      },
      "source": [
        "X=data.iloc[:,0].values"
      ],
      "execution_count": 74,
      "outputs": []
    },
    {
      "cell_type": "code",
      "metadata": {
        "id": "KBYzgDAqXmHD",
        "outputId": "6937627e-7224-41a6-bd54-29321898dbee",
        "colab": {
          "base_uri": "https://localhost:8080/"
        }
      },
      "source": [
        "X"
      ],
      "execution_count": 75,
      "outputs": [
        {
          "output_type": "execute_result",
          "data": {
            "text/plain": [
              "array([179, 177, 164, 181, 186, 162, 159, 155, 158, 151, 150, 157, 176,\n",
              "       163, 190, 169, 160, 171, 165, 182, 179, 157, 159, 151, 168, 184,\n",
              "       173, 159, 181, 190, 157, 169, 177, 171, 160, 173, 183, 169, 179,\n",
              "       150, 170, 179, 158, 155, 152, 157, 174, 162, 179])"
            ]
          },
          "metadata": {},
          "execution_count": 75
        }
      ]
    },
    {
      "cell_type": "code",
      "metadata": {
        "id": "z_WBjsffXt8Z"
      },
      "source": [
        "y=data.iloc[:,1].values"
      ],
      "execution_count": 76,
      "outputs": []
    },
    {
      "cell_type": "code",
      "metadata": {
        "id": "HcBY0qTXXxmU",
        "outputId": "3d6bd4e4-3efd-42ce-ef7a-b69e21aeb1b3",
        "colab": {
          "base_uri": "https://localhost:8080/"
        }
      },
      "source": [
        "y"
      ],
      "execution_count": 77,
      "outputs": [
        {
          "output_type": "execute_result",
          "data": {
            "text/plain": [
              "array([ 84,  83,  62,  90,  91,  63,  55,  53,  56,  55,  54,  60,  78,\n",
              "        64,  87,  72,  59,  70,  66,  81,  78,  56,  64,  47,  66,  81,\n",
              "        75,  61,  80, 100,  55,  65,  75,  70,  59,  65,  90,  75,  74,\n",
              "        55,  71,  75,  55,  59,  58,  62,  79,  66,  74])"
            ]
          },
          "metadata": {},
          "execution_count": 77
        }
      ]
    },
    {
      "cell_type": "code",
      "metadata": {
        "colab": {
          "base_uri": "https://localhost:8080/",
          "height": 297
        },
        "id": "5yuN6wP0Mfk0",
        "outputId": "9fbb0e00-1f5a-42a5-8a93-300d5aa51c62"
      },
      "source": [
        "plt.figure(figsize=(12,5))\n",
        "fig,ax=plt.subplots(1,1)\n",
        "ax.scatter(data['Height'],data['Weight'])\n",
        "ax.set_xlabel('Altura')\n",
        "ax.set_ylabel('Peso')\n",
        "plt.show()"
      ],
      "execution_count": 49,
      "outputs": [
        {
          "output_type": "display_data",
          "data": {
            "text/plain": [
              "<Figure size 864x360 with 0 Axes>"
            ]
          },
          "metadata": {}
        },
        {
          "output_type": "display_data",
          "data": {
            "image/png": "[encoded data removed]",
            "text/plain": [
              "<Figure size 432x288 with 1 Axes>"
            ]
          },
          "metadata": {
            "needs_background": "light"
          }
        }
      ]
    },
    {
      "cell_type": "code",
      "metadata": {
        "colab": {
          "base_uri": "https://localhost:8080/",
          "height": 320
        },
        "id": "bXEudPRpMt_c",
        "outputId": "09415b03-8228-4230-a9e8-56121f4eb230"
      },
      "source": [
        "plt.figure(figsize=(10,5))\n",
        "plt.scatter(data['Height'],data['Weight'],color='red')\n",
        "plt.show()"
      ],
      "execution_count": 50,
      "outputs": [
        {
          "output_type": "display_data",
          "data": {
            "image/png": "[encoded data removed]",
            "text/plain": [
              "<Figure size 720x360 with 1 Axes>"
            ]
          },
          "metadata": {
            "needs_background": "light"
          }
        }
      ]
    },
    {
      "cell_type": "code",
      "metadata": {
        "colab": {
          "base_uri": "https://localhost:8080/",
          "height": 112
        },
        "id": "jHVb5t6WNcDE",
        "outputId": "7904cfd8-a313-4e02-db90-e7bef139154a"
      },
      "source": [
        "data.corr()"
      ],
      "execution_count": 12,
      "outputs": [
        {
          "output_type": "execute_result",
          "data": {
            "text/html": [
              "<div>\n",
              "<style scoped>\n",
              "    .dataframe tbody tr th:only-of-type {\n",
              "        vertical-align: middle;\n",
              "    }\n",
              "\n",
              "    .dataframe tbody tr th {\n",
              "        vertical-align: top;\n",
              "    }\n",
              "\n",
              "    .dataframe thead th {\n",
              "        text-align: right;\n",
              "    }\n",
              "</style>\n",
              "<table border=\"1\" class=\"dataframe\">\n",
              "  <thead>\n",
              "    <tr style=\"text-align: right;\">\n",
              "      <th></th>\n",
              "      <th>Height</th>\n",
              "      <th>Weight</th>\n",
              "    </tr>\n",
              "  </thead>\n",
              "  <tbody>\n",
              "    <tr>\n",
              "      <th>Height</th>\n",
              "      <td>1.000000</td>\n",
              "      <td>0.942603</td>\n",
              "    </tr>\n",
              "    <tr>\n",
              "      <th>Weight</th>\n",
              "      <td>0.942603</td>\n",
              "      <td>1.000000</td>\n",
              "    </tr>\n",
              "  </tbody>\n",
              "</table>\n",
              "</div>"
            ],
            "text/plain": [
              "          Height    Weight\n",
              "Height  1.000000  0.942603\n",
              "Weight  0.942603  1.000000"
            ]
          },
          "metadata": {},
          "execution_count": 12
        }
      ]
    },
    {
      "cell_type": "code",
      "metadata": {
        "id": "t_rwDOsSPMHp"
      },
      "source": [
        "from sklearn import linear_model , feature_selection,preprocessing\n",
        "import statsmodels.formula.api as sm\n",
        "from sklearn.model_selection import train_test_split\n",
        "# train_test_split sustituye a sklearn.model_selection import cross_validate\n",
        "from statsmodels.tools.eval_measures import mse\n",
        "from statsmodels.tools.tools import add_constant\n",
        "from sklearn.metrics import mean_squared_error"
      ],
      "execution_count": 18,
      "outputs": []
    },
    {
      "cell_type": "code",
      "metadata": {
        "id": "UBmcts7_NurR"
      },
      "source": [
        "lm=linear_model.LinearRegression()"
      ],
      "execution_count": 138,
      "outputs": []
    },
    {
      "cell_type": "code",
      "metadata": {
        "colab": {
          "base_uri": "https://localhost:8080/"
        },
        "id": "FBqHem_rRBfl",
        "outputId": "7634662c-09b1-4d35-e391-8b36d34d02e2"
      },
      "source": [
        "modelo=lm.fit(data['Height'][:,np.newaxis],data['Weight'])"
      ],
      "execution_count": 151,
      "outputs": [
        {
          "output_type": "stream",
          "name": "stderr",
          "text": [
            "/usr/local/lib/python3.7/dist-packages/ipykernel_launcher.py:1: FutureWarning: Support for multi-dimensional indexing (e.g. `obj[:, None]`) is deprecated and will be removed in a future version.  Convert to a numpy array before indexing instead.\n",
            "  \"\"\"Entry point for launching an IPython kernel.\n"
          ]
        }
      ]
    },
    {
      "cell_type": "code",
      "metadata": {
        "id": "CetLfKffX6GI"
      },
      "source": [
        "modelo1=lm.fit(X,y)"
      ],
      "execution_count": 140,
      "outputs": []
    },
    {
      "cell_type": "code",
      "metadata": {
        "id": "Ws78LnXMYNEq",
        "outputId": "a0573b9a-9a27-475a-cdd0-05cd446fb08b",
        "colab": {
          "base_uri": "https://localhost:8080/"
        }
      },
      "source": [
        "modelo1.intercept_"
      ],
      "execution_count": 141,
      "outputs": [
        {
          "output_type": "execute_result",
          "data": {
            "text/plain": [
              "-99.27720960627336"
            ]
          },
          "metadata": {},
          "execution_count": 141
        }
      ]
    },
    {
      "cell_type": "code",
      "metadata": {
        "colab": {
          "base_uri": "https://localhost:8080/"
        },
        "id": "Gg4dxmwQOFlZ",
        "outputId": "10863f4e-cfe9-4ccd-8790-f7306f32f481"
      },
      "source": [
        "modelo.intercept_"
      ],
      "execution_count": 152,
      "outputs": [
        {
          "output_type": "execute_result",
          "data": {
            "text/plain": [
              "-99.2772096062735"
            ]
          },
          "metadata": {},
          "execution_count": 152
        }
      ]
    },
    {
      "cell_type": "code",
      "metadata": {
        "id": "VF00o-1TSfVm",
        "outputId": "715d74ab-e3ec-4565-8025-f33118f549a4",
        "colab": {
          "base_uri": "https://localhost:8080/"
        }
      },
      "source": [
        "modelo.coef_"
      ],
      "execution_count": 153,
      "outputs": [
        {
          "output_type": "execute_result",
          "data": {
            "text/plain": [
              "array([1.00092142])"
            ]
          },
          "metadata": {},
          "execution_count": 153
        }
      ]
    },
    {
      "cell_type": "code",
      "metadata": {
        "id": "_w-UzLLwTJYK",
        "outputId": "1cd160f5-fd0d-4f53-d938-8fff731a0cda",
        "colab": {
          "base_uri": "https://localhost:8080/"
        }
      },
      "source": [
        "modelo.predict(data['Height'][:,np.newaxis])"
      ],
      "execution_count": 154,
      "outputs": [
        {
          "output_type": "stream",
          "name": "stderr",
          "text": [
            "/usr/local/lib/python3.7/dist-packages/ipykernel_launcher.py:1: FutureWarning: Support for multi-dimensional indexing (e.g. `obj[:, None]`) is deprecated and will be removed in a future version.  Convert to a numpy array before indexing instead.\n",
            "  \"\"\"Entry point for launching an IPython kernel.\n"
          ]
        },
        {
          "output_type": "execute_result",
          "data": {
            "text/plain": [
              "array([79.88772423, 77.88588139, 64.87390296, 81.88956706, 86.89417415,\n",
              "       62.87206012, 59.86929587, 55.86561019, 58.86837445, 51.86192452,\n",
              "       50.8610031 , 57.86745303, 76.88495997, 63.87298154, 90.89785983,\n",
              "       69.87851005, 60.87021728, 71.88035288, 65.87482438, 82.89048848,\n",
              "       79.88772423, 57.86745303, 59.86929587, 51.86192452, 68.87758863,\n",
              "       84.89233132, 73.88219572, 59.86929587, 81.88956706, 90.89785983,\n",
              "       57.86745303, 69.87851005, 77.88588139, 71.88035288, 60.87021728,\n",
              "       73.88219572, 83.8914099 , 69.87851005, 79.88772423, 50.8610031 ,\n",
              "       70.87943147, 79.88772423, 58.86837445, 55.86561019, 52.86284594,\n",
              "       57.86745303, 74.88311714, 62.87206012, 79.88772423])"
            ]
          },
          "metadata": {},
          "execution_count": 154
        }
      ]
    },
    {
      "cell_type": "code",
      "metadata": {
        "id": "lhJnyEQiTy5z",
        "outputId": "7c033126-8d68-4a02-e769-a987f040f81c",
        "colab": {
          "base_uri": "https://localhost:8080/",
          "height": 81
        }
      },
      "source": [
        "pd.DataFrame(zip(data.columns,modelo.coef_),\n",
        "columns = ['features', 'estimatedCoefficients'])"
      ],
      "execution_count": 155,
      "outputs": [
        {
          "output_type": "execute_result",
          "data": {
            "text/html": [
              "<div>\n",
              "<style scoped>\n",
              "    .dataframe tbody tr th:only-of-type {\n",
              "        vertical-align: middle;\n",
              "    }\n",
              "\n",
              "    .dataframe tbody tr th {\n",
              "        vertical-align: top;\n",
              "    }\n",
              "\n",
              "    .dataframe thead th {\n",
              "        text-align: right;\n",
              "    }\n",
              "</style>\n",
              "<table border=\"1\" class=\"dataframe\">\n",
              "  <thead>\n",
              "    <tr style=\"text-align: right;\">\n",
              "      <th></th>\n",
              "      <th>features</th>\n",
              "      <th>estimatedCoefficients</th>\n",
              "    </tr>\n",
              "  </thead>\n",
              "  <tbody>\n",
              "    <tr>\n",
              "      <th>0</th>\n",
              "      <td>Height</td>\n",
              "      <td>1.000921</td>\n",
              "    </tr>\n",
              "  </tbody>\n",
              "</table>\n",
              "</div>"
            ],
            "text/plain": [
              "  features  estimatedCoefficients\n",
              "0   Height               1.000921"
            ]
          },
          "metadata": {},
          "execution_count": 155
        }
      ]
    },
    {
      "cell_type": "code",
      "metadata": {
        "id": "RvuqWqWyUw_o",
        "outputId": "708ca288-d3f9-499a-bea5-7dd56110d0a2",
        "colab": {
          "base_uri": "https://localhost:8080/",
          "height": 334
        }
      },
      "source": [
        "fig, ax = plt.subplots(1, 1)\n",
        "ax.scatter(data.Height,data.Weight)\n",
        "ax.plot(data.Height,modelo1.predict(data.Height[:, np.newaxis]),\n",
        "color = 'red')\n",
        "ax.set_xlabel('Height')\n",
        "ax.set_ylabel('Weight')\n",
        "plt.show()"
      ],
      "execution_count": 156,
      "outputs": [
        {
          "output_type": "stream",
          "name": "stderr",
          "text": [
            "/usr/local/lib/python3.7/dist-packages/ipykernel_launcher.py:3: FutureWarning: Support for multi-dimensional indexing (e.g. `obj[:, None]`) is deprecated and will be removed in a future version.  Convert to a numpy array before indexing instead.\n",
            "  This is separate from the ipykernel package so we can avoid doing imports until\n"
          ]
        },
        {
          "output_type": "display_data",
          "data": {
            "image/png": "[encoded data removed]",
            "text/plain": [
              "<Figure size 432x288 with 1 Axes>"
            ]
          },
          "metadata": {
            "needs_background": "light"
          }
        }
      ]
    },
    {
      "cell_type": "code",
      "metadata": {
        "id": "sPYn38XVXCRZ",
        "outputId": "52de1146-ab25-4488-a20b-0a398a508816",
        "colab": {
          "base_uri": "https://localhost:8080/"
        }
      },
      "source": [
        "modelo.predict([[110]]) # Tengo duda del pronostico, investigar mas."
      ],
      "execution_count": 157,
      "outputs": [
        {
          "output_type": "execute_result",
          "data": {
            "text/plain": [
              "array([10.82414638])"
            ]
          },
          "metadata": {},
          "execution_count": 157
        }
      ]
    },
    {
      "cell_type": "markdown",
      "metadata": {
        "id": "VVb0KBw6dbD6"
      },
      "source": [
        "# Con statsmodels"
      ]
    },
    {
      "cell_type": "code",
      "metadata": {
        "id": "NCX9X4LrfSJA"
      },
      "source": [
        "data=pd.read_csv('Mens_height_weight.csv')"
      ],
      "execution_count": 158,
      "outputs": []
    },
    {
      "cell_type": "code",
      "metadata": {
        "id": "FUnxeMRmfbJH",
        "outputId": "b17f083b-bbf7-4401-dfd7-ed4648c872f3",
        "colab": {
          "base_uri": "https://localhost:8080/",
          "height": 206
        }
      },
      "source": [
        "data.head()"
      ],
      "execution_count": 159,
      "outputs": [
        {
          "output_type": "execute_result",
          "data": {
            "text/html": [
              "<div>\n",
              "<style scoped>\n",
              "    .dataframe tbody tr th:only-of-type {\n",
              "        vertical-align: middle;\n",
              "    }\n",
              "\n",
              "    .dataframe tbody tr th {\n",
              "        vertical-align: top;\n",
              "    }\n",
              "\n",
              "    .dataframe thead th {\n",
              "        text-align: right;\n",
              "    }\n",
              "</style>\n",
              "<table border=\"1\" class=\"dataframe\">\n",
              "  <thead>\n",
              "    <tr style=\"text-align: right;\">\n",
              "      <th></th>\n",
              "      <th>Height</th>\n",
              "      <th>Weight</th>\n",
              "    </tr>\n",
              "  </thead>\n",
              "  <tbody>\n",
              "    <tr>\n",
              "      <th>0</th>\n",
              "      <td>179</td>\n",
              "      <td>84</td>\n",
              "    </tr>\n",
              "    <tr>\n",
              "      <th>1</th>\n",
              "      <td>177</td>\n",
              "      <td>83</td>\n",
              "    </tr>\n",
              "    <tr>\n",
              "      <th>2</th>\n",
              "      <td>164</td>\n",
              "      <td>62</td>\n",
              "    </tr>\n",
              "    <tr>\n",
              "      <th>3</th>\n",
              "      <td>181</td>\n",
              "      <td>90</td>\n",
              "    </tr>\n",
              "    <tr>\n",
              "      <th>4</th>\n",
              "      <td>186</td>\n",
              "      <td>91</td>\n",
              "    </tr>\n",
              "  </tbody>\n",
              "</table>\n",
              "</div>"
            ],
            "text/plain": [
              "   Height  Weight\n",
              "0     179      84\n",
              "1     177      83\n",
              "2     164      62\n",
              "3     181      90\n",
              "4     186      91"
            ]
          },
          "metadata": {},
          "execution_count": 159
        }
      ]
    },
    {
      "cell_type": "code",
      "metadata": {
        "id": "v1K9lyYCYyLH"
      },
      "source": [
        "import pandas as pd                         # Este proporciona una estructura similiar a los data.frame\n",
        "import statsmodels.api as sm                # Este proporciona funciones para la estimación de muchos modelos estadísticos\n",
        "import statsmodels.formula.api as smf       # Permite ajustar modelos estadísticos utilizando fórmulas de estilo R\n",
        "import matplotlib.pyplot as plt             # Permite la generación de gráficos"
      ],
      "execution_count": 160,
      "outputs": []
    },
    {
      "cell_type": "code",
      "metadata": {
        "id": "0AZK--CbemCu",
        "outputId": "67736e94-1057-4ce8-fb04-50b14aa506fa",
        "colab": {
          "base_uri": "https://localhost:8080/",
          "height": 279
        }
      },
      "source": [
        "data.plot(kind='scatter', x='Height', y='Weight')\n",
        "plt.show()"
      ],
      "execution_count": 161,
      "outputs": [
        {
          "output_type": "display_data",
          "data": {
            "image/png": "[encoded data removed]",
            "text/plain": [
              "<Figure size 432x288 with 1 Axes>"
            ]
          },
          "metadata": {
            "needs_background": "light"
          }
        }
      ]
    },
    {
      "cell_type": "code",
      "metadata": {
        "id": "0H9_XiOqf9ZV"
      },
      "source": [
        "X = data[\"Height\"]                           # X: usualmente significa nuestras variables de entrada (o variables independientes)\n",
        "X = sm.add_constant(X)                 # Se agrega una intercepción (beta_0) al modelo\n",
        "y = data[\"Weight\"]                            # Y: normalmente significa la variable respuesta (o variable dependiente)\n",
        "\n",
        "# Para encajar en el modelo\n",
        "\n",
        "mod1 = sm.OLS(y, X).fit()              # sm.OLS(respuesta, entrada)\n",
        "predictions = mod1.predict(X)"
      ],
      "execution_count": 162,
      "outputs": []
    },
    {
      "cell_type": "code",
      "metadata": {
        "id": "LBr9wFzRhfkf",
        "outputId": "6f4cf600-97dd-404a-ae92-beb0fc492e77",
        "colab": {
          "base_uri": "https://localhost:8080/"
        }
      },
      "source": [
        "predictions"
      ],
      "execution_count": 163,
      "outputs": [
        {
          "output_type": "execute_result",
          "data": {
            "text/plain": [
              "0     79.887724\n",
              "1     77.885881\n",
              "2     64.873903\n",
              "3     81.889567\n",
              "4     86.894174\n",
              "5     62.872060\n",
              "6     59.869296\n",
              "7     55.865610\n",
              "8     58.868374\n",
              "9     51.861925\n",
              "10    50.861003\n",
              "11    57.867453\n",
              "12    76.884960\n",
              "13    63.872982\n",
              "14    90.897860\n",
              "15    69.878510\n",
              "16    60.870217\n",
              "17    71.880353\n",
              "18    65.874824\n",
              "19    82.890488\n",
              "20    79.887724\n",
              "21    57.867453\n",
              "22    59.869296\n",
              "23    51.861925\n",
              "24    68.877589\n",
              "25    84.892331\n",
              "26    73.882196\n",
              "27    59.869296\n",
              "28    81.889567\n",
              "29    90.897860\n",
              "30    57.867453\n",
              "31    69.878510\n",
              "32    77.885881\n",
              "33    71.880353\n",
              "34    60.870217\n",
              "35    73.882196\n",
              "36    83.891410\n",
              "37    69.878510\n",
              "38    79.887724\n",
              "39    50.861003\n",
              "40    70.879431\n",
              "41    79.887724\n",
              "42    58.868374\n",
              "43    55.865610\n",
              "44    52.862846\n",
              "45    57.867453\n",
              "46    74.883117\n",
              "47    62.872060\n",
              "48    79.887724\n",
              "dtype: float64"
            ]
          },
          "metadata": {},
          "execution_count": 163
        }
      ]
    },
    {
      "cell_type": "code",
      "metadata": {
        "id": "Nzs_6HRLgW0G",
        "outputId": "946df2ba-cf6e-48f0-8cce-07c391a3027f",
        "colab": {
          "base_uri": "https://localhost:8080/",
          "height": 486
        }
      },
      "source": [
        "mod1.summary()"
      ],
      "execution_count": 164,
      "outputs": [
        {
          "output_type": "execute_result",
          "data": {
            "text/html": [
              "<table class=\"simpletable\">\n",
              "<caption>OLS Regression Results</caption>\n",
              "<tr>\n",
              "  <th>Dep. Variable:</th>         <td>Weight</td>      <th>  R-squared:         </th> <td>   0.889</td>\n",
              "</tr>\n",
              "<tr>\n",
              "  <th>Model:</th>                   <td>OLS</td>       <th>  Adj. R-squared:    </th> <td>   0.886</td>\n",
              "</tr>\n",
              "<tr>\n",
              "  <th>Method:</th>             <td>Least Squares</td>  <th>  F-statistic:       </th> <td>   374.5</td>\n",
              "</tr>\n",
              "<tr>\n",
              "  <th>Date:</th>             <td>Mon, 15 Nov 2021</td> <th>  Prob (F-statistic):</th> <td>5.00e-24</td>\n",
              "</tr>\n",
              "<tr>\n",
              "  <th>Time:</th>                 <td>21:52:04</td>     <th>  Log-Likelihood:    </th> <td> -137.50</td>\n",
              "</tr>\n",
              "<tr>\n",
              "  <th>No. Observations:</th>      <td>    49</td>      <th>  AIC:               </th> <td>   279.0</td>\n",
              "</tr>\n",
              "<tr>\n",
              "  <th>Df Residuals:</th>          <td>    47</td>      <th>  BIC:               </th> <td>   282.8</td>\n",
              "</tr>\n",
              "<tr>\n",
              "  <th>Df Model:</th>              <td>     1</td>      <th>                     </th>     <td> </td>   \n",
              "</tr>\n",
              "<tr>\n",
              "  <th>Covariance Type:</th>      <td>nonrobust</td>    <th>                     </th>     <td> </td>   \n",
              "</tr>\n",
              "</table>\n",
              "<table class=\"simpletable\">\n",
              "<tr>\n",
              "     <td></td>       <th>coef</th>     <th>std err</th>      <th>t</th>      <th>P>|t|</th>  <th>[0.025</th>    <th>0.975]</th>  \n",
              "</tr>\n",
              "<tr>\n",
              "  <th>const</th>  <td>  -99.2772</td> <td>    8.706</td> <td>  -11.403</td> <td> 0.000</td> <td> -116.792</td> <td>  -81.762</td>\n",
              "</tr>\n",
              "<tr>\n",
              "  <th>Height</th> <td>    1.0009</td> <td>    0.052</td> <td>   19.353</td> <td> 0.000</td> <td>    0.897</td> <td>    1.105</td>\n",
              "</tr>\n",
              "</table>\n",
              "<table class=\"simpletable\">\n",
              "<tr>\n",
              "  <th>Omnibus:</th>       <td> 1.620</td> <th>  Durbin-Watson:     </th> <td>   1.867</td>\n",
              "</tr>\n",
              "<tr>\n",
              "  <th>Prob(Omnibus):</th> <td> 0.445</td> <th>  Jarque-Bera (JB):  </th> <td>   1.255</td>\n",
              "</tr>\n",
              "<tr>\n",
              "  <th>Skew:</th>          <td> 0.173</td> <th>  Prob(JB):          </th> <td>   0.534</td>\n",
              "</tr>\n",
              "<tr>\n",
              "  <th>Kurtosis:</th>      <td> 2.296</td> <th>  Cond. No.          </th> <td>2.51e+03</td>\n",
              "</tr>\n",
              "</table><br/><br/>Warnings:<br/>[1] Standard Errors assume that the covariance matrix of the errors is correctly specified.<br/>[2] The condition number is large, 2.51e+03. This might indicate that there are<br/>strong multicollinearity or other numerical problems."
            ],
            "text/plain": [
              "<class 'statsmodels.iolib.summary.Summary'>\n",
              "\"\"\"\n",
              "                            OLS Regression Results                            \n",
              "==============================================================================\n",
              "Dep. Variable:                 Weight   R-squared:                       0.889\n",
              "Model:                            OLS   Adj. R-squared:                  0.886\n",
              "Method:                 Least Squares   F-statistic:                     374.5\n",
              "Date:                Mon, 15 Nov 2021   Prob (F-statistic):           5.00e-24\n",
              "Time:                        21:52:04   Log-Likelihood:                -137.50\n",
              "No. Observations:                  49   AIC:                             279.0\n",
              "Df Residuals:                      47   BIC:                             282.8\n",
              "Df Model:                           1                                         \n",
              "Covariance Type:            nonrobust                                         \n",
              "==============================================================================\n",
              "                 coef    std err          t      P>|t|      [0.025      0.975]\n",
              "------------------------------------------------------------------------------\n",
              "const        -99.2772      8.706    -11.403      0.000    -116.792     -81.762\n",
              "Height         1.0009      0.052     19.353      0.000       0.897       1.105\n",
              "==============================================================================\n",
              "Omnibus:                        1.620   Durbin-Watson:                   1.867\n",
              "Prob(Omnibus):                  0.445   Jarque-Bera (JB):                1.255\n",
              "Skew:                           0.173   Prob(JB):                        0.534\n",
              "Kurtosis:                       2.296   Cond. No.                     2.51e+03\n",
              "==============================================================================\n",
              "\n",
              "Warnings:\n",
              "[1] Standard Errors assume that the covariance matrix of the errors is correctly specified.\n",
              "[2] The condition number is large, 2.51e+03. This might indicate that there are\n",
              "strong multicollinearity or other numerical problems.\n",
              "\"\"\""
            ]
          },
          "metadata": {},
          "execution_count": 164
        }
      ]
    },
    {
      "cell_type": "code",
      "metadata": {
        "id": "mR7ePNYViKk2",
        "outputId": "572178c8-2e88-410f-f216-ac96001fc25f",
        "colab": {
          "base_uri": "https://localhost:8080/",
          "height": 1000
        }
      },
      "source": [
        "X"
      ],
      "execution_count": 165,
      "outputs": [
        {
          "output_type": "execute_result",
          "data": {
            "text/html": [
              "<div>\n",
              "<style scoped>\n",
              "    .dataframe tbody tr th:only-of-type {\n",
              "        vertical-align: middle;\n",
              "    }\n",
              "\n",
              "    .dataframe tbody tr th {\n",
              "        vertical-align: top;\n",
              "    }\n",
              "\n",
              "    .dataframe thead th {\n",
              "        text-align: right;\n",
              "    }\n",
              "</style>\n",
              "<table border=\"1\" class=\"dataframe\">\n",
              "  <thead>\n",
              "    <tr style=\"text-align: right;\">\n",
              "      <th></th>\n",
              "      <th>const</th>\n",
              "      <th>Height</th>\n",
              "    </tr>\n",
              "  </thead>\n",
              "  <tbody>\n",
              "    <tr>\n",
              "      <th>0</th>\n",
              "      <td>1.0</td>\n",
              "      <td>179</td>\n",
              "    </tr>\n",
              "    <tr>\n",
              "      <th>1</th>\n",
              "      <td>1.0</td>\n",
              "      <td>177</td>\n",
              "    </tr>\n",
              "    <tr>\n",
              "      <th>2</th>\n",
              "      <td>1.0</td>\n",
              "      <td>164</td>\n",
              "    </tr>\n",
              "    <tr>\n",
              "      <th>3</th>\n",
              "      <td>1.0</td>\n",
              "      <td>181</td>\n",
              "    </tr>\n",
              "    <tr>\n",
              "      <th>4</th>\n",
              "      <td>1.0</td>\n",
              "      <td>186</td>\n",
              "    </tr>\n",
              "    <tr>\n",
              "      <th>5</th>\n",
              "      <td>1.0</td>\n",
              "      <td>162</td>\n",
              "    </tr>\n",
              "    <tr>\n",
              "      <th>6</th>\n",
              "      <td>1.0</td>\n",
              "      <td>159</td>\n",
              "    </tr>\n",
              "    <tr>\n",
              "      <th>7</th>\n",
              "      <td>1.0</td>\n",
              "      <td>155</td>\n",
              "    </tr>\n",
              "    <tr>\n",
              "      <th>8</th>\n",
              "      <td>1.0</td>\n",
              "      <td>158</td>\n",
              "    </tr>\n",
              "    <tr>\n",
              "      <th>9</th>\n",
              "      <td>1.0</td>\n",
              "      <td>151</td>\n",
              "    </tr>\n",
              "    <tr>\n",
              "      <th>10</th>\n",
              "      <td>1.0</td>\n",
              "      <td>150</td>\n",
              "    </tr>\n",
              "    <tr>\n",
              "      <th>11</th>\n",
              "      <td>1.0</td>\n",
              "      <td>157</td>\n",
              "    </tr>\n",
              "    <tr>\n",
              "      <th>12</th>\n",
              "      <td>1.0</td>\n",
              "      <td>176</td>\n",
              "    </tr>\n",
              "    <tr>\n",
              "      <th>13</th>\n",
              "      <td>1.0</td>\n",
              "      <td>163</td>\n",
              "    </tr>\n",
              "    <tr>\n",
              "      <th>14</th>\n",
              "      <td>1.0</td>\n",
              "      <td>190</td>\n",
              "    </tr>\n",
              "    <tr>\n",
              "      <th>15</th>\n",
              "      <td>1.0</td>\n",
              "      <td>169</td>\n",
              "    </tr>\n",
              "    <tr>\n",
              "      <th>16</th>\n",
              "      <td>1.0</td>\n",
              "      <td>160</td>\n",
              "    </tr>\n",
              "    <tr>\n",
              "      <th>17</th>\n",
              "      <td>1.0</td>\n",
              "      <td>171</td>\n",
              "    </tr>\n",
              "    <tr>\n",
              "      <th>18</th>\n",
              "      <td>1.0</td>\n",
              "      <td>165</td>\n",
              "    </tr>\n",
              "    <tr>\n",
              "      <th>19</th>\n",
              "      <td>1.0</td>\n",
              "      <td>182</td>\n",
              "    </tr>\n",
              "    <tr>\n",
              "      <th>20</th>\n",
              "      <td>1.0</td>\n",
              "      <td>179</td>\n",
              "    </tr>\n",
              "    <tr>\n",
              "      <th>21</th>\n",
              "      <td>1.0</td>\n",
              "      <td>157</td>\n",
              "    </tr>\n",
              "    <tr>\n",
              "      <th>22</th>\n",
              "      <td>1.0</td>\n",
              "      <td>159</td>\n",
              "    </tr>\n",
              "    <tr>\n",
              "      <th>23</th>\n",
              "      <td>1.0</td>\n",
              "      <td>151</td>\n",
              "    </tr>\n",
              "    <tr>\n",
              "      <th>24</th>\n",
              "      <td>1.0</td>\n",
              "      <td>168</td>\n",
              "    </tr>\n",
              "    <tr>\n",
              "      <th>25</th>\n",
              "      <td>1.0</td>\n",
              "      <td>184</td>\n",
              "    </tr>\n",
              "    <tr>\n",
              "      <th>26</th>\n",
              "      <td>1.0</td>\n",
              "      <td>173</td>\n",
              "    </tr>\n",
              "    <tr>\n",
              "      <th>27</th>\n",
              "      <td>1.0</td>\n",
              "      <td>159</td>\n",
              "    </tr>\n",
              "    <tr>\n",
              "      <th>28</th>\n",
              "      <td>1.0</td>\n",
              "      <td>181</td>\n",
              "    </tr>\n",
              "    <tr>\n",
              "      <th>29</th>\n",
              "      <td>1.0</td>\n",
              "      <td>190</td>\n",
              "    </tr>\n",
              "    <tr>\n",
              "      <th>30</th>\n",
              "      <td>1.0</td>\n",
              "      <td>157</td>\n",
              "    </tr>\n",
              "    <tr>\n",
              "      <th>31</th>\n",
              "      <td>1.0</td>\n",
              "      <td>169</td>\n",
              "    </tr>\n",
              "    <tr>\n",
              "      <th>32</th>\n",
              "      <td>1.0</td>\n",
              "      <td>177</td>\n",
              "    </tr>\n",
              "    <tr>\n",
              "      <th>33</th>\n",
              "      <td>1.0</td>\n",
              "      <td>171</td>\n",
              "    </tr>\n",
              "    <tr>\n",
              "      <th>34</th>\n",
              "      <td>1.0</td>\n",
              "      <td>160</td>\n",
              "    </tr>\n",
              "    <tr>\n",
              "      <th>35</th>\n",
              "      <td>1.0</td>\n",
              "      <td>173</td>\n",
              "    </tr>\n",
              "    <tr>\n",
              "      <th>36</th>\n",
              "      <td>1.0</td>\n",
              "      <td>183</td>\n",
              "    </tr>\n",
              "    <tr>\n",
              "      <th>37</th>\n",
              "      <td>1.0</td>\n",
              "      <td>169</td>\n",
              "    </tr>\n",
              "    <tr>\n",
              "      <th>38</th>\n",
              "      <td>1.0</td>\n",
              "      <td>179</td>\n",
              "    </tr>\n",
              "    <tr>\n",
              "      <th>39</th>\n",
              "      <td>1.0</td>\n",
              "      <td>150</td>\n",
              "    </tr>\n",
              "    <tr>\n",
              "      <th>40</th>\n",
              "      <td>1.0</td>\n",
              "      <td>170</td>\n",
              "    </tr>\n",
              "    <tr>\n",
              "      <th>41</th>\n",
              "      <td>1.0</td>\n",
              "      <td>179</td>\n",
              "    </tr>\n",
              "    <tr>\n",
              "      <th>42</th>\n",
              "      <td>1.0</td>\n",
              "      <td>158</td>\n",
              "    </tr>\n",
              "    <tr>\n",
              "      <th>43</th>\n",
              "      <td>1.0</td>\n",
              "      <td>155</td>\n",
              "    </tr>\n",
              "    <tr>\n",
              "      <th>44</th>\n",
              "      <td>1.0</td>\n",
              "      <td>152</td>\n",
              "    </tr>\n",
              "    <tr>\n",
              "      <th>45</th>\n",
              "      <td>1.0</td>\n",
              "      <td>157</td>\n",
              "    </tr>\n",
              "    <tr>\n",
              "      <th>46</th>\n",
              "      <td>1.0</td>\n",
              "      <td>174</td>\n",
              "    </tr>\n",
              "    <tr>\n",
              "      <th>47</th>\n",
              "      <td>1.0</td>\n",
              "      <td>162</td>\n",
              "    </tr>\n",
              "    <tr>\n",
              "      <th>48</th>\n",
              "      <td>1.0</td>\n",
              "      <td>179</td>\n",
              "    </tr>\n",
              "  </tbody>\n",
              "</table>\n",
              "</div>"
            ],
            "text/plain": [
              "    const  Height\n",
              "0     1.0     179\n",
              "1     1.0     177\n",
              "2     1.0     164\n",
              "3     1.0     181\n",
              "4     1.0     186\n",
              "5     1.0     162\n",
              "6     1.0     159\n",
              "7     1.0     155\n",
              "8     1.0     158\n",
              "9     1.0     151\n",
              "10    1.0     150\n",
              "11    1.0     157\n",
              "12    1.0     176\n",
              "13    1.0     163\n",
              "14    1.0     190\n",
              "15    1.0     169\n",
              "16    1.0     160\n",
              "17    1.0     171\n",
              "18    1.0     165\n",
              "19    1.0     182\n",
              "20    1.0     179\n",
              "21    1.0     157\n",
              "22    1.0     159\n",
              "23    1.0     151\n",
              "24    1.0     168\n",
              "25    1.0     184\n",
              "26    1.0     173\n",
              "27    1.0     159\n",
              "28    1.0     181\n",
              "29    1.0     190\n",
              "30    1.0     157\n",
              "31    1.0     169\n",
              "32    1.0     177\n",
              "33    1.0     171\n",
              "34    1.0     160\n",
              "35    1.0     173\n",
              "36    1.0     183\n",
              "37    1.0     169\n",
              "38    1.0     179\n",
              "39    1.0     150\n",
              "40    1.0     170\n",
              "41    1.0     179\n",
              "42    1.0     158\n",
              "43    1.0     155\n",
              "44    1.0     152\n",
              "45    1.0     157\n",
              "46    1.0     174\n",
              "47    1.0     162\n",
              "48    1.0     179"
            ]
          },
          "metadata": {},
          "execution_count": 165
        }
      ]
    },
    {
      "cell_type": "code",
      "metadata": {
        "id": "la8mleJ5gZVF"
      },
      "source": [
        "new_data=pd.DataFrame({\n",
        "    'const':1,\n",
        "    'Height':179\n",
        "},index=['Jaime'])"
      ],
      "execution_count": 166,
      "outputs": []
    },
    {
      "cell_type": "code",
      "metadata": {
        "id": "VEe3di89hK23",
        "outputId": "a43d85c4-de1b-4ff7-98f8-bbd2a29928b2",
        "colab": {
          "base_uri": "https://localhost:8080/",
          "height": 81
        }
      },
      "source": [
        "new_data"
      ],
      "execution_count": 167,
      "outputs": [
        {
          "output_type": "execute_result",
          "data": {
            "text/html": [
              "<div>\n",
              "<style scoped>\n",
              "    .dataframe tbody tr th:only-of-type {\n",
              "        vertical-align: middle;\n",
              "    }\n",
              "\n",
              "    .dataframe tbody tr th {\n",
              "        vertical-align: top;\n",
              "    }\n",
              "\n",
              "    .dataframe thead th {\n",
              "        text-align: right;\n",
              "    }\n",
              "</style>\n",
              "<table border=\"1\" class=\"dataframe\">\n",
              "  <thead>\n",
              "    <tr style=\"text-align: right;\">\n",
              "      <th></th>\n",
              "      <th>const</th>\n",
              "      <th>Height</th>\n",
              "    </tr>\n",
              "  </thead>\n",
              "  <tbody>\n",
              "    <tr>\n",
              "      <th>Jaime</th>\n",
              "      <td>1</td>\n",
              "      <td>179</td>\n",
              "    </tr>\n",
              "  </tbody>\n",
              "</table>\n",
              "</div>"
            ],
            "text/plain": [
              "       const  Height\n",
              "Jaime      1     179"
            ]
          },
          "metadata": {},
          "execution_count": 167
        }
      ]
    },
    {
      "cell_type": "code",
      "metadata": {
        "id": "yvO04HiQhLiM",
        "outputId": "354e6093-2195-4a5d-f3ab-fca5f0286e08",
        "colab": {
          "base_uri": "https://localhost:8080/"
        }
      },
      "source": [
        "mod1.predict(new_data)"
      ],
      "execution_count": 168,
      "outputs": [
        {
          "output_type": "execute_result",
          "data": {
            "text/plain": [
              "Jaime    79.887724\n",
              "dtype: float64"
            ]
          },
          "metadata": {},
          "execution_count": 168
        }
      ]
    },
    {
      "cell_type": "markdown",
      "metadata": {
        "id": "uG4xOXAQjDNT"
      },
      "source": [
        "# Con formulas."
      ]
    },
    {
      "cell_type": "code",
      "metadata": {
        "id": "pgT1S8FqhRvl"
      },
      "source": [
        "mod2 = smf.ols('y ~ 0+X', data=data).fit()  "
      ],
      "execution_count": 173,
      "outputs": []
    },
    {
      "cell_type": "code",
      "metadata": {
        "id": "q5386d2ojpxH"
      },
      "source": [
        "#falta probar el modelo con X por data.Height"
      ],
      "execution_count": 121,
      "outputs": []
    },
    {
      "cell_type": "code",
      "metadata": {
        "id": "o4VXKnfjjLR_",
        "outputId": "f73d11bc-d783-4ac4-806a-b8c087ff128a",
        "colab": {
          "base_uri": "https://localhost:8080/"
        }
      },
      "source": [
        "print(mod2.summary())"
      ],
      "execution_count": 174,
      "outputs": [
        {
          "output_type": "stream",
          "name": "stdout",
          "text": [
            "                            OLS Regression Results                            \n",
            "==============================================================================\n",
            "Dep. Variable:                      y   R-squared:                       0.889\n",
            "Model:                            OLS   Adj. R-squared:                  0.886\n",
            "Method:                 Least Squares   F-statistic:                     374.5\n",
            "Date:                Mon, 15 Nov 2021   Prob (F-statistic):           5.00e-24\n",
            "Time:                        21:53:24   Log-Likelihood:                -137.50\n",
            "No. Observations:                  49   AIC:                             279.0\n",
            "Df Residuals:                      47   BIC:                             282.8\n",
            "Df Model:                           1                                         \n",
            "Covariance Type:            nonrobust                                         \n",
            "==============================================================================\n",
            "                 coef    std err          t      P>|t|      [0.025      0.975]\n",
            "------------------------------------------------------------------------------\n",
            "X[0]         -99.2772      8.706    -11.403      0.000    -116.792     -81.762\n",
            "X[1]           1.0009      0.052     19.353      0.000       0.897       1.105\n",
            "==============================================================================\n",
            "Omnibus:                        1.620   Durbin-Watson:                   1.867\n",
            "Prob(Omnibus):                  0.445   Jarque-Bera (JB):                1.255\n",
            "Skew:                           0.173   Prob(JB):                        0.534\n",
            "Kurtosis:                       2.296   Cond. No.                     2.51e+03\n",
            "==============================================================================\n",
            "\n",
            "Warnings:\n",
            "[1] Standard Errors assume that the covariance matrix of the errors is correctly specified.\n",
            "[2] The condition number is large, 2.51e+03. This might indicate that there are\n",
            "strong multicollinearity or other numerical problems.\n"
          ]
        }
      ]
    },
    {
      "cell_type": "code",
      "metadata": {
        "id": "KA7iaQNWjNxe"
      },
      "source": [
        "new_data1=pd.DataFrame({\n",
        "    'const':1,\n",
        "    'Height':179\n",
        "},index=['Jaime'])"
      ],
      "execution_count": 176,
      "outputs": []
    },
    {
      "cell_type": "code",
      "metadata": {
        "id": "Or1kd8LFj5Jw"
      },
      "source": [
        "#mod2.predict(new_data1)# no me da el pronostico, investigar sobre esto."
      ],
      "execution_count": 178,
      "outputs": []
    },
    {
      "cell_type": "code",
      "metadata": {
        "id": "efhgyUEjj710",
        "outputId": "2a53b85e-4000-4b01-a551-dfb31cbe18e1",
        "colab": {
          "base_uri": "https://localhost:8080/",
          "height": 404
        }
      },
      "source": [
        "fig, ax = plt.subplots(figsize=(8,6))                                    # Ajuste del gráfico\n",
        "ax.plot(data[\"Height\"] , data[\"Weight\"] , 'o', label=\"Datos\")                         # Ajuste para las etiquetas del gráfico\n",
        "ax.plot(data[\"Height\"], mod2.fittedvalues, 'r--.', label=\"Ajustado\")           # Ajuste para las etiquetas del gráfico\n",
        "legend = ax.legend(loc=\"best\")                                           # Ajustes para las leyendas del gráfico\n",
        "plt.xlabel('Altura')                                          # Etiqueta del eje X\n",
        "plt.ylabel('Peso')                                               # Etiqueta del eje Y\n",
        "plt.title('Diagrama de dispersión con la recta del modelo ajustado');    # Título del gráfico\n"
      ],
      "execution_count": 180,
      "outputs": [
        {
          "output_type": "display_data",
          "data": {
            "image/png": "[encoded data removed]",
            "text/plain": [
              "<Figure size 576x432 with 1 Axes>"
            ]
          },
          "metadata": {
            "needs_background": "light"
          }
        }
      ]
    }
  ]
}