{
  "nbformat": 4,
  "nbformat_minor": 0,
  "metadata": {
    "colab": {
      "provenance": [],
      "authorship_tag": "ABX9TyNJcUUvJKhIHY1rFBwlrZhf",
      "include_colab_link": true
    },
    "kernelspec": {
      "name": "python3",
      "display_name": "Python 3"
    },
    "language_info": {
      "name": "python"
    }
  },
  "cells": [
    {
      "cell_type": "markdown",
      "metadata": {
        "id": "view-in-github",
        "colab_type": "text"
      },
      "source": [
        "<a href=\"https://colab.research.google.com/github/jaimeisaac2020/Python-analsisis-basicos/blob/mi-github/MCD_dos_numeros.ipynb\" target=\"_parent\"><img src=\"https://colab.research.google.com/assets/colab-badge.svg\" alt=\"Open In Colab\"/></a>"
      ]
    },
    {
      "cell_type": "code",
      "execution_count": 2,
      "metadata": {
        "colab": {
          "base_uri": "https://localhost:8080/"
        },
        "id": "R-1EBL2HGAI-",
        "outputId": "bbe336d2-ec47-4f12-9501-004f5f42956c"
      },
      "outputs": [
        {
          "output_type": "stream",
          "name": "stdout",
          "text": [
            "Ingrese el primer número: 67\n",
            "Ingrese el segundo número: 134\n",
            "El MCD de 67 y 134 es: 67\n"
          ]
        }
      ],
      "source": [
        "# Función para calcular el MCD utilizando el algoritmo de Euclides\n",
        "def mcd(a, b):\n",
        "    while b:\n",
        "        a, b = b, a % b\n",
        "    return a\n",
        "\n",
        "# Solicitar al usuario ingresar dos números\n",
        "numero1 = int(input(\"Ingrese el primer número: \"))\n",
        "numero2 = int(input(\"Ingrese el segundo número: \"))\n",
        "\n",
        "# Calcular el MCD utilizando la función mcd()\n",
        "resultado = mcd(numero1, numero2)\n",
        "\n",
        "# Imprimir el resultado\n",
        "print(f\"El MCD de {numero1} y {numero2} es: {resultado}\")\n"
      ]
    }
  ]
}