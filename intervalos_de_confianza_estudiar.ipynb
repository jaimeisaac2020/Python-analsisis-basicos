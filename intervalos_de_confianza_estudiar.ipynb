{
  "nbformat": 4,
  "nbformat_minor": 0,
  "metadata": {
    "colab": {
      "provenance": [],
      "authorship_tag": "ABX9TyOJ+FhMcYiMRG5B5O1y7C2t",
      "include_colab_link": true
    },
    "kernelspec": {
      "name": "python3",
      "display_name": "Python 3"
    },
    "language_info": {
      "name": "python"
    }
  },
  "cells": [
    {
      "cell_type": "markdown",
      "metadata": {
        "id": "view-in-github",
        "colab_type": "text"
      },
      "source": [
        "<a href=\"https://colab.research.google.com/github/jaimeisaac2020/Python-analsisis-basicos/blob/mi-github/intervalos_de_confianza_estudiar.ipynb\" target=\"_parent\"><img src=\"https://colab.research.google.com/assets/colab-badge.svg\" alt=\"Open In Colab\"/></a>"
      ]
    },
    {
      "cell_type": "markdown",
      "source": [],
      "metadata": {
        "id": "aqYKRWg56HwL"
      }
    },
    {
      "cell_type": "code",
      "execution_count": 1,
      "metadata": {
        "colab": {
          "base_uri": "https://localhost:8080/"
        },
        "id": "xW48-yoHx4zL",
        "outputId": "a87edc90-067b-485c-8674-94c0e28c98a9"
      },
      "outputs": [
        {
          "output_type": "stream",
          "name": "stdout",
          "text": [
            "54.488659061147814 67.51134093885219\n"
          ]
        }
      ],
      "source": [
        "import numpy as np\n",
        "from scipy.stats import t\n",
        "\n",
        "particulas = np.array([58, 70, 57, 61, 59])\n",
        "n = len(particulas)\n",
        "m = np.mean(particulas)\n",
        "s = np.std(particulas, ddof=1)  # Usamos ddof=1 para calcular la desviación estándar muestral\n",
        "\n",
        "c = 0.95\n",
        "a = 1 - c\n",
        "t_critical = t.ppf(1 - a / 2, n - 1)\n",
        "\n",
        "li = m - t_critical * s / np.sqrt(n)\n",
        "ls = m + t_critical * s / np.sqrt(n)\n",
        "\n",
        "print(li, ls)\n"
      ]
    },
    {
      "cell_type": "markdown",
      "source": [
        "Con base en un estudio sobre niños que padecen dolor torácico (Selbst, Ruddy, Clark, Henretig, & Santulli,\n",
        "1988), se encontró que de 137 niños que tenían dolor en el pecho, 100 daban radiografías normales. Obtener\n",
        "un intervalo de confianza de 95% para la proporción de niños con dolor en el pecho que dieron radiografías de\n",
        "tórax normales."
      ],
      "metadata": {
        "id": "MdUhM2BByTgv"
      }
    },
    {
      "cell_type": "code",
      "source": [
        "import scipy.stats as stats\n",
        "import numpy as np\n",
        "\n",
        "x = 100  # valor observado de X\n",
        "n = 137  # tamaño de muestra\n",
        "p = x / n  # proporción estimada\n",
        "\n",
        "c = 0.95\n",
        "a = 1 - c\n",
        "z_critical = stats.norm.ppf(a / 2, loc=0, scale=1)\n",
        "\n",
        "li = p - z_critical * np.sqrt(p * (1 - p) / n)\n",
        "ls = p + z_critical * np.sqrt(p * (1 - p) / n)\n",
        "\n",
        "print(li, ls)\n"
      ],
      "metadata": {
        "colab": {
          "base_uri": "https://localhost:8080/"
        },
        "id": "d8FGAuMox8ZB",
        "outputId": "4c56076e-4e5c-4fc0-d1ad-7403f5a1a9de"
      },
      "execution_count": 2,
      "outputs": [
        {
          "output_type": "stream",
          "name": "stdout",
          "text": [
            "0.8042748039316672 0.655579210666873\n"
          ]
        }
      ]
    },
    {
      "cell_type": "markdown",
      "source": [
        "Se espera tener una cierta variación aleatoria en el espesor de las láminas de plástico que produce una máquina. Para determinar cuándo la variación en el espesor se encuentra dentro de ciertos límites, cada día se seleccionan, al azar 12 láminas de plástico y se mide su espesor, en milímetros. Los datos que se han obtenido\n",
        "son los siguientes: 12.6, 11.9, 12.3, 12.8, 11.8, 11.7, 12.4, 12.1, 12.3, 12.0, 12.5, 12.9. Si el espesor está distribuido normalmente, construya un intervalo de 95% para la varianza del espesor. Si no es aceptable una varianza\n",
        "del espesor, a nivel general, mayor que 0.9, existe alguna razón para preocuparse con base en esta evidencia."
      ],
      "metadata": {
        "id": "titb_-UYysUf"
      }
    },
    {
      "cell_type": "code",
      "source": [
        "import numpy as np\n",
        "from scipy.stats import chi2\n",
        "\n",
        "# Datos\n",
        "x = np.array([12.6, 11.9, 12.3, 12.8, 11.8, 11.7, 12.4, 12.1, 12.3, 12.0, 12.5, 12.9])\n",
        "n = len(x)\n",
        "v = np.var(x, ddof=1)  # Usamos ddof=1 para calcular la varianza muestral\n",
        "\n",
        "# Valor de alfa\n",
        "c = 0.95\n",
        "a = 1 - c\n",
        "\n",
        "# Puntos críticos\n",
        "x1 = chi2.ppf(1 - a / 2, n - 1)\n",
        "x2 = chi2.ppf(a / 2, n - 1)\n",
        "\n",
        "print(\"Punto crítico superior:\", x1)\n",
        "print(\"Punto crítico inferior:\", x2)\n",
        "\n",
        "# Cálculo de los límites del intervalo\n",
        "li95 = (n - 1) * v / x2\n",
        "ls95 = (n - 1) * v / x1\n",
        "\n",
        "print(\"Límite inferior del intervalo:\", li95)\n",
        "print(\"Límite superior del intervalo:\", ls95)\n"
      ],
      "metadata": {
        "colab": {
          "base_uri": "https://localhost:8080/"
        },
        "id": "Q3GmIvUXyh38",
        "outputId": "4284336d-0e19-4348-ca65-64c58d6067ac"
      },
      "execution_count": 3,
      "outputs": [
        {
          "output_type": "stream",
          "name": "stdout",
          "text": [
            "Punto crítico superior: 21.9200492610212\n",
            "Punto crítico inferior: 3.8157482522361\n",
            "Límite inferior del intervalo: 0.43045292598573953\n",
            "Límite superior del intervalo: 0.07493140094902692\n"
          ]
        }
      ]
    },
    {
      "cell_type": "markdown",
      "source": [
        "Ejemplo\n",
        "Un fruticultor quiere probar si un nuevo insecticida es más eficiente debido a que reducirá las pérdidas ocasionadas por el daño de los insectos. Para probar la afirmación, el fruticultor rocía 21 árboles con el nuevo insecticida y otros 16 árboles con el insecticida tradicional. Se obtuvieron los siguientes datos con relación al rendimiento por árbol (en libras de fruta):\n",
        "\n",
        "|  | Insecticida nuevo | Insecticida tradicional |\n",
        "| :---: | :---: | :---: |\n",
        "| promedio | 240 | 227 |\n",
        "| varianza | 900 | 625 |\n",
        "\n",
        "Los datos proporcionan evidencia suficiente para concluir que el insecticida nuevo es más eficiente que el tradicional. Compare los promedios mediante un intervalo de confianza de $90 \\%$."
      ],
      "metadata": {
        "id": "VtshnDH0zfQx"
      }
    },
    {
      "cell_type": "code",
      "source": [
        "import scipy.stats as stats\n",
        "\n",
        "# Datos\n",
        "nx = 21\n",
        "ny = 16\n",
        "mx = 240\n",
        "my = 227\n",
        "vx = 900\n",
        "vy = 625\n",
        "conf = 0.95\n",
        "alfa = 1 - conf\n",
        "\n",
        "# Puntos críticos en la distribución F\n",
        "qf1 = stats.f.ppf(1 - alfa / 2, ny - 1, nx - 1)\n",
        "qf2 = stats.f.ppf(alfa / 2, ny - 1, nx - 1)\n",
        "\n",
        "print(\"Punto crítico superior:\", qf1)\n",
        "print(\"Punto crítico inferior:\", qf2)\n",
        "\n",
        "# Límites del intervalo para el cociente de varianzas\n",
        "li_intervalo = vx * qf2 / vy\n",
        "ls_intervalo = vx * qf1 / vy\n",
        "\n",
        "print(\"Límite inferior del intervalo:\", li_intervalo)\n",
        "print(\"Límite superior del intervalo:\", ls_intervalo)\n"
      ],
      "metadata": {
        "colab": {
          "base_uri": "https://localhost:8080/"
        },
        "id": "ImiOu3ItzRW0",
        "outputId": "e8971d64-a123-4d58-910f-c835ba859569"
      },
      "execution_count": 4,
      "outputs": [
        {
          "output_type": "stream",
          "name": "stdout",
          "text": [
            "Punto crítico superior: 2.5730961411916615\n",
            "Punto crítico inferior: 0.3628576116959192\n",
            "Límite inferior del intervalo: 0.5225149608421236\n",
            "Límite superior del intervalo: 3.705258443315993\n"
          ]
        }
      ]
    },
    {
      "cell_type": "markdown",
      "source": [
        "Siguiendo con el ejercicio anterior, y teniendo en cuenta que los dos grupos no tienen diferencias significativas en su variabilidad, se procede a estimar la varianza conjunta. Recordemos que se tiene la siguiente definición de variables y datos asociados:\n",
        "$X$ Libras de fruta recolectada en los árboles tratados con el insecticida nuevo.\n",
        "$Y$ : Libras de fruta recolectada en los árboles tratados con el insecticida tradicional.\n",
        "$$\n",
        "n_x=21, n_i=16 ; \\bar{x}=240 \\quad \\bar{y}=227 . \\quad s_x^2=900 \\quad s_i^2=625\n",
        "$$\n",
        "285\n",
        "En consecuencia, se puede determinar la estimación de varianza conjunta a partir de las varianzas para las dos muestras, así:"
      ],
      "metadata": {
        "id": "ejP7UcNs0dnP"
      }
    },
    {
      "cell_type": "code",
      "source": [
        "import scipy.stats as stats\n",
        "import numpy as np\n",
        "\n",
        "# Datos\n",
        "nx = 21\n",
        "ny = 16\n",
        "mx = 240\n",
        "my = 227\n",
        "vx = 900\n",
        "vy = 625\n",
        "conf = 0.90\n",
        "alfa = 1 - conf\n",
        "\n",
        "# Punto crítico en la distribución t\n",
        "t_critical = stats.t.ppf(alfa / 2, nx + ny - 2)\n",
        "\n",
        "print(\"Punto crítico (t):\", t_critical)\n",
        "\n",
        "# Estimación de la varianza conjunta\n",
        "sp2 = ((nx - 1) * vx + (ny - 1) * vy) / (nx + ny - 2)\n",
        "\n",
        "# Error estándar\n",
        "ee = np.sqrt(sp2 * ((1 / nx) + (1 / ny)))\n",
        "\n",
        "print(\"Estimación de la varianza conjunta:\", sp2)\n",
        "print(\"Error estándar:\", ee)\n",
        "\n",
        "# Límites del intervalo para la diferencia de promedios\n",
        "li = (mx - my) - t_critical * ee\n",
        "ls = (mx - my) + t_critical * ee\n",
        "\n",
        "print(\"Límite inferior del intervalo:\", li)\n",
        "print(\"Límite superior del intervalo:\", ls)\n"
      ],
      "metadata": {
        "colab": {
          "base_uri": "https://localhost:8080/"
        },
        "id": "2Cei9zCe0Nok",
        "outputId": "146d520c-beeb-4e38-afde-ebd9b5b16f88"
      },
      "execution_count": 5,
      "outputs": [
        {
          "output_type": "stream",
          "name": "stdout",
          "text": [
            "Punto crítico (t): -1.6895724539637715\n",
            "Estimación de la varianza conjunta: 782.1428571428571\n",
            "Error estándar: 9.280561757275917\n",
            "Límite inferior del intervalo: 28.680181502403002\n",
            "Límite superior del intervalo: -2.680181502403004\n"
          ]
        }
      ]
    },
    {
      "cell_type": "markdown",
      "source": [
        "Ejemplo\n",
        "Se ha estudiado la prevalencia de caries en un grupo de nińos que siguieron un plan de prevención de la enfermedad y en otro grupo de niños que no siguieron el plan y que fueron seleccionados como control.\n",
        "\n",
        "|  | Niños con caries | Niños sin caries |\n",
        "| :---: | :---: | :---: |\n",
        "| Grupo control | 100 | 260 |\n",
        "| Grupo prevención | 60 | 320 |\n",
        "\n",
        "Estime la diferencia entre las proporciones de niños con caries en ambas poblaciones fla de los nif̆os que no siguen el plan de prevención y la de los nińos que sí lo siguen), mediante un intervalo de confianza de $95 \\%$.\n",
        "$X$. Número de niños con caries en el grupo control.\n",
        "$Y$. Número de niños con caries en el grupo que tuvo prevención.\n",
        "Debido a que el intervalo es de $95 \\%$, se tiene que $1-a=0.95, a / 2=0.025 \\mathrm{y}$ el correspondiente punto crítico en la distribución normal es ztozt $=1.96$. El cálculo del intervalo de confianza para la diferencia de proporciones es:"
      ],
      "metadata": {
        "id": "fmw-qAKD3Z03"
      }
    },
    {
      "cell_type": "code",
      "source": [
        "import scipy.stats as stats\n",
        "import numpy as np\n",
        "\n",
        "# Datos\n",
        "nx = 360\n",
        "ny = 380\n",
        "x = 100\n",
        "y = 60\n",
        "px = x / nx\n",
        "py = y / ny\n",
        "conf = 0.95\n",
        "alfa = 1 - conf\n",
        "\n",
        "# Punto crítico en la distribución normal\n",
        "z_critical = stats.norm.ppf(alfa / 2)\n",
        "\n",
        "print(\"Punto crítico (z):\", z_critical)\n",
        "\n",
        "# Intervalo de confianza para la diferencia de proporciones\n",
        "li_intervalo = (px - py) - z_critical * np.sqrt((px * (1 - px) / nx) + (py * (1 - py) / ny))\n",
        "ls_intervalo = (px - py) + z_critical * np.sqrt((px * (1 - px) / nx) + (py * (1 - py) / ny))\n",
        "\n",
        "print(\"Límite inferior del intervalo:\", li_intervalo)\n",
        "print(\"Límite superior del intervalo:\", ls_intervalo)\n"
      ],
      "metadata": {
        "colab": {
          "base_uri": "https://localhost:8080/"
        },
        "id": "XkFpCiOg3Hc9",
        "outputId": "8d0ab49c-398e-4325-b010-471b899ffdc0"
      },
      "execution_count": 6,
      "outputs": [
        {
          "output_type": "stream",
          "name": "stdout",
          "text": [
            "Punto crítico (z): -1.959963984540054\n",
            "Límite inferior del intervalo: 0.17891588942170308\n",
            "Límite superior del intervalo: 0.06085019244964199\n"
          ]
        }
      ]
    },
    {
      "cell_type": "code",
      "source": [],
      "metadata": {
        "id": "7nDXNr3O55i3"
      },
      "execution_count": null,
      "outputs": []
    }
  ]
}