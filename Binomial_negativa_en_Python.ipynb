{
  "nbformat": 4,
  "nbformat_minor": 0,
  "metadata": {
    "colab": {
      "provenance": [],
      "authorship_tag": "ABX9TyPe+SLpAhO8kueysxfUueh1",
      "include_colab_link": true
    },
    "kernelspec": {
      "name": "python3",
      "display_name": "Python 3"
    },
    "language_info": {
      "name": "python"
    }
  },
  "cells": [
    {
      "cell_type": "markdown",
      "metadata": {
        "id": "view-in-github",
        "colab_type": "text"
      },
      "source": [
        "<a href=\"https://colab.research.google.com/github/jaimeisaac2020/Python-analsisis-basicos/blob/mi-github/Binomial_negativa_en_Python.ipynb\" target=\"_parent\"><img src=\"https://colab.research.google.com/assets/colab-badge.svg\" alt=\"Open In Colab\"/></a>"
      ]
    },
    {
      "cell_type": "markdown",
      "source": [
        "La distribución de Pascal, también conocida como distribución binomial negativa, modela el número de ensayos necesarios hasta que se obtiene un número fijo de éxitos en una secuencia de ensayos de Bernoulli, donde cada ensayo tiene una probabilidad de éxito constante. A continuación, te mostraré algunos ejercicios resueltos de la distribución de Pascal o binomial negativa en Python:\n",
        "\n",
        "**Ejercicio 1:**\n",
        "\n",
        "Supongamos que la probabilidad de éxito en un ensayo es de 0.2. ¿Cuál es la probabilidad de que se necesiten exactamente 5 ensayos para obtener 3 éxitos?\n",
        "\n",
        "```python\n",
        "from scipy.stats import nbinom\n",
        "\n",
        "p = 0.2  # Probabilidad de éxito en un ensayo\n",
        "k = 3    # Número de éxitos deseados\n",
        "x = 5    # Número de ensayos necesarios\n",
        "\n",
        "# Calcula la probabilidad\n",
        "probabilidad = nbinom.pmf(x - k, k, p)\n",
        "print(f\"La probabilidad de necesitar exactamente 5 ensayos para obtener 3 éxitos es: {probabilidad:.4f}\")\n",
        "```\n",
        "\n",
        "**Ejercicio 2:**\n",
        "\n",
        "Si la probabilidad de éxito en un ensayo es de 0.1, ¿cuál es la probabilidad de que se necesiten al menos 6 ensayos para obtener 4 éxitos?\n",
        "\n",
        "```python\n",
        "from scipy.stats import nbinom\n",
        "\n",
        "p = 0.1  # Probabilidad de éxito en un ensayo\n",
        "k = 4    # Número de éxitos deseados\n",
        "x = 6    # Número mínimo de ensayos necesarios\n",
        "\n",
        "# Calcula la probabilidad acumulativa\n",
        "probabilidad_acumulativa = 1 - nbinom.cdf(x - k - 1, k, p)\n",
        "print(f\"La probabilidad de necesitar al menos 6 ensayos para obtener 4 éxitos es: {probabilidad_acumulativa:.4f}\")\n",
        "```\n",
        "\n",
        "**Ejercicio 3:**\n",
        "\n",
        "Si la probabilidad de éxito en un ensayo es de 0.3, ¿cuál es la probabilidad de que se necesiten exactamente 8 ensayos para obtener 5 éxitos?\n",
        "\n",
        "```python\n",
        "from scipy.stats import nbinom\n",
        "\n",
        "p = 0.3  # Probabilidad de éxito en un ensayo\n",
        "k = 5    # Número de éxitos deseados\n",
        "x = 8    # Número de ensayos necesarios\n",
        "\n",
        "# Calcula la probabilidad\n",
        "probabilidad = nbinom.pmf(x - k, k, p)\n",
        "print(f\"La probabilidad de necesitar exactamente 8 ensayos para obtener 5 éxitos es: {probabilidad:.4f}\")\n",
        "```\n",
        "\n",
        "**Ejercicio 4:**\n",
        "\n",
        "Supongamos que la probabilidad de éxito en un ensayo es de 0.4. ¿Cuál es el valor esperado (media) de la distribución de Pascal?\n",
        "\n",
        "```python\n",
        "from scipy.stats import nbinom\n",
        "\n",
        "p = 0.4  # Probabilidad de éxito en un ensayo\n",
        "\n",
        "# Calcula la media\n",
        "media = k / p\n",
        "print(f\"El valor esperado (media) de la distribución de Pascal es: {media:.2f}\")\n",
        "```\n",
        "\n",
        "**Ejercicio 5:**\n",
        "\n",
        "Calcula la varianza de la distribución de Pascal cuando la probabilidad de éxito en un ensayo es de 0.2.\n",
        "\n",
        "```python\n",
        "from scipy.stats import nbinom\n",
        "\n",
        "p = 0.2  # Probabilidad de éxito en un ensayo\n",
        "\n",
        "# Calcula la varianza\n",
        "varianza = k * (1 - p) / (p**2)\n",
        "print(f\"La varianza de la distribución de Pascal es: {varianza:.2f}\")\n",
        "```\n",
        "\n",
        "Estos ejercicios te ayudarán a comprender y trabajar con la distribución de Pascal o binomial negativa en Python. Puedes modificar los valores de `p`, `k`, y `x` según tus necesidades para resolver problemas similares."
      ],
      "metadata": {
        "id": "FCY-jjsPm0IO"
      }
    },
    {
      "cell_type": "code",
      "execution_count": 1,
      "metadata": {
        "colab": {
          "base_uri": "https://localhost:8080/"
        },
        "id": "MJ59zf2WmjjM",
        "outputId": "871ab446-376a-4949-fd53-fd479ee29b6a"
      },
      "outputs": [
        {
          "output_type": "stream",
          "name": "stdout",
          "text": [
            "La probabilidad de necesitar exactamente 5 ensayos para obtener 3 éxitos es: 0.0307\n"
          ]
        }
      ],
      "source": [
        "from scipy.stats import nbinom\n",
        "\n",
        "p = 0.2  # Probabilidad de éxito en un ensayo\n",
        "k = 3    # Número de éxitos deseados\n",
        "x = 5    # Número de ensayos necesarios\n",
        "\n",
        "# Calcula la probabilidad\n",
        "probabilidad = nbinom.pmf(x - k, k, p)\n",
        "print(f\"La probabilidad de necesitar exactamente 5 ensayos para obtener 3 éxitos es: {probabilidad:.4f}\")\n"
      ]
    },
    {
      "cell_type": "code",
      "source": [
        "from scipy.stats import nbinom\n",
        "\n",
        "p = 0.1  # Probabilidad de éxito en un ensayo\n",
        "k = 4    # Número de éxitos deseados\n",
        "x = 6    # Número mínimo de ensayos necesarios\n",
        "\n",
        "# Calcula la probabilidad acumulativa\n",
        "probabilidad_acumulativa = 1 - nbinom.cdf(x - k - 1, k, p)\n",
        "print(f\"La probabilidad de necesitar al menos 6 ensayos para obtener 4 éxitos es: {probabilidad_acumulativa:.4f}\")\n"
      ],
      "metadata": {
        "colab": {
          "base_uri": "https://localhost:8080/"
        },
        "id": "lDhy7R8ym41P",
        "outputId": "1f007593-6b7b-4177-a8c8-258341edca7e"
      },
      "execution_count": 2,
      "outputs": [
        {
          "output_type": "stream",
          "name": "stdout",
          "text": [
            "La probabilidad de necesitar al menos 6 ensayos para obtener 4 éxitos es: 0.9995\n"
          ]
        }
      ]
    },
    {
      "cell_type": "code",
      "source": [
        "from scipy.stats import nbinom\n",
        "\n",
        "p = 0.3  # Probabilidad de éxito en un ensayo\n",
        "k = 5    # Número de éxitos deseados\n",
        "x = 8    # Número de ensayos necesarios\n",
        "\n",
        "# Calcula la probabilidad\n",
        "probabilidad = nbinom.pmf(x - k, k, p)\n",
        "print(f\"La probabilidad de necesitar exactamente 8 ensayos para obtener 5 éxitos es: {probabilidad:.4f}\")\n"
      ],
      "metadata": {
        "colab": {
          "base_uri": "https://localhost:8080/"
        },
        "id": "dQe-TZY0m8tz",
        "outputId": "7861749f-d9c4-48b9-bb67-46b5e586a221"
      },
      "execution_count": 3,
      "outputs": [
        {
          "output_type": "stream",
          "name": "stdout",
          "text": [
            "La probabilidad de necesitar exactamente 8 ensayos para obtener 5 éxitos es: 0.0292\n"
          ]
        }
      ]
    },
    {
      "cell_type": "code",
      "source": [
        "from scipy.stats import nbinom\n",
        "\n",
        "p = 0.4  # Probabilidad de éxito en un ensayo\n",
        "\n",
        "# Calcula la media\n",
        "media = k / p\n",
        "print(f\"El valor esperado (media) de la distribución de Pascal es: {media:.2f}\")\n"
      ],
      "metadata": {
        "colab": {
          "base_uri": "https://localhost:8080/"
        },
        "id": "72rfBaJdnAJh",
        "outputId": "ce6fe7f2-66ee-4f12-e995-e1e7fa8c32fc"
      },
      "execution_count": 4,
      "outputs": [
        {
          "output_type": "stream",
          "name": "stdout",
          "text": [
            "El valor esperado (media) de la distribución de Pascal es: 12.50\n"
          ]
        }
      ]
    },
    {
      "cell_type": "code",
      "source": [
        "from scipy.stats import nbinom\n",
        "\n",
        "p = 0.2  # Probabilidad de éxito en un ensayo\n",
        "\n",
        "# Calcula la varianza\n",
        "varianza = k * (1 - p) / (p**2)\n",
        "print(f\"La varianza de la distribución de Pascal es: {varianza:.2f}\")\n"
      ],
      "metadata": {
        "colab": {
          "base_uri": "https://localhost:8080/"
        },
        "id": "yRS_eRVBnEdV",
        "outputId": "8107dbbd-c395-4902-8b17-8fc60fa15fbf"
      },
      "execution_count": 5,
      "outputs": [
        {
          "output_type": "stream",
          "name": "stdout",
          "text": [
            "La varianza de la distribución de Pascal es: 100.00\n"
          ]
        }
      ]
    },
    {
      "cell_type": "markdown",
      "source": [
        "Sí, puedes calcular varios estadísticos de la distribución binomial negativa (también conocida como distribución de Pascal) en Python utilizando la biblioteca `scipy.stats`. Además de la media y la varianza, también puedes calcular otros estadísticos como la moda, la mediana, la asimetría (skewness) y la curtosis (kurtosis). Aquí tienes un ejemplo que muestra cómo calcular estos estadísticos:\n",
        "\n",
        "```python\n",
        "from scipy.stats import nbinom\n",
        "\n",
        "p = 0.3  # Probabilidad de éxito en un ensayo\n",
        "k = 5    # Número de éxitos deseados\n",
        "\n",
        "# Calcula la media\n",
        "media = nbinom.mean(k, p)\n",
        "\n",
        "# Calcula la varianza\n",
        "varianza = nbinom.var(k, p)\n",
        "\n",
        "# Calcula la moda (valor más frecuente)\n",
        "moda = nbinom.ppf((p - 1) / (p + 1), k, p)\n",
        "\n",
        "# Calcula la mediana\n",
        "mediana = nbinom.median(k, p)\n",
        "\n",
        "# Calcula la asimetría (skewness)\n",
        "asimetria = nbinom.stats(k, p, moments='s')\n",
        "\n",
        "# Calcula la curtosis (kurtosis)\n",
        "curtosis = nbinom.stats(k, p, moments='k')\n",
        "\n",
        "print(f\"Media: {media:.2f}\")\n",
        "print(f\"Varianza: {varianza:.2f}\")\n",
        "print(f\"Moda: {moda:.2f}\")\n",
        "print(f\"Mediana: {mediana:.2f}\")\n",
        "print(f\"Asimetría (Skewness): {asimetria:.2f}\")\n",
        "print(f\"Curtosis (Kurtosis): {curtosis:.2f}\")\n",
        "```\n",
        "\n",
        "Este código utiliza las funciones proporcionadas por `scipy.stats` para calcular la media, la varianza, la moda, la mediana, la asimetría (skewness) y la curtosis (kurtosis) de la distribución binomial negativa con los parámetros dados (`k` y `p`). Puedes ajustar estos valores según tus necesidades para calcular estadísticos específicos de otras distribuciones binomiales negativas."
      ],
      "metadata": {
        "id": "vxUaaHspnbca"
      }
    },
    {
      "cell_type": "code",
      "source": [
        "from scipy.stats import nbinom\n",
        "\n",
        "p = 0.3  # Probabilidad de éxito en un ensayo\n",
        "k = 5    # Número de éxitos deseados\n",
        "\n",
        "# Calcula la media\n",
        "media = nbinom.mean(k, p)\n",
        "\n",
        "# Calcula la varianza\n",
        "varianza = nbinom.var(k, p)\n",
        "\n",
        "# Calcula la moda (valor más frecuente)\n",
        "moda = nbinom.ppf((p - 1) / (p + 1), k, p)\n",
        "\n",
        "# Calcula la mediana\n",
        "mediana = nbinom.median(k, p)\n",
        "\n",
        "# Calcula la asimetría (skewness)\n",
        "asimetria = nbinom.stats(k, p, moments='s')\n",
        "\n",
        "# Calcula la curtosis (kurtosis)\n",
        "curtosis = nbinom.stats(k, p, moments='k')\n",
        "\n",
        "print(f\"Media: {media:.2f}\")\n",
        "print(f\"Varianza: {varianza:.2f}\")\n",
        "print(f\"Moda: {moda:.2f}\")\n",
        "print(f\"Mediana: {mediana:.2f}\")\n",
        "print(f\"Asimetría (Skewness): {asimetria:.2f}\")\n",
        "print(f\"Curtosis (Kurtosis): {curtosis:.2f}\")\n"
      ],
      "metadata": {
        "colab": {
          "base_uri": "https://localhost:8080/"
        },
        "id": "uwff1X3AnI5v",
        "outputId": "c9f21fdb-f2ef-4abf-8700-52f12db6f329"
      },
      "execution_count": 6,
      "outputs": [
        {
          "output_type": "stream",
          "name": "stdout",
          "text": [
            "Media: 11.67\n",
            "Varianza: 38.89\n",
            "Moda: nan\n",
            "Mediana: 11.00\n",
            "Asimetría (Skewness): 0.91\n",
            "Curtosis (Kurtosis): 1.23\n"
          ]
        }
      ]
    },
    {
      "cell_type": "code",
      "source": [
        "import numpy as np\n",
        "import matplotlib.pyplot as plt\n",
        "from scipy.stats import nbinom\n",
        "\n",
        "p = 0.3  # Probabilidad de éxito en un ensayo\n",
        "k = 5    # Número de éxitos deseados\n",
        "\n",
        "# Valores posibles de la variable aleatoria\n",
        "x = np.arange(0, 31)  # Puedes ajustar el rango según tus necesidades\n",
        "\n",
        "# Calcula las probabilidades para cada valor de x\n",
        "probabilidades = nbinom.pmf(x, k, p)\n",
        "\n",
        "# Grafica la distribución binomial negativa\n",
        "plt.bar(x, probabilidades)\n",
        "plt.xlabel('Número de Ensayos hasta el k-ésimo Éxito')\n",
        "plt.ylabel('Probabilidad')\n",
        "plt.title('Distribución Binomial Negativa')\n",
        "plt.grid(True)\n",
        "plt.show()\n"
      ],
      "metadata": {
        "colab": {
          "base_uri": "https://localhost:8080/",
          "height": 474
        },
        "id": "XoyZNuICnenm",
        "outputId": "82357931-9bad-4bd3-c6aa-c27ce81f6fae"
      },
      "execution_count": 7,
      "outputs": [
        {
          "output_type": "display_data",
          "data": {
            "text/plain": [
              "<Figure size 640x480 with 1 Axes>"
            ],
            "image/png": "[encoded data removed]"
          },
          "metadata": {}
        }
      ]
    },
    {
      "cell_type": "code",
      "source": [
        "import numpy as np\n",
        "import plotly.express as px\n",
        "from scipy.stats import nbinom\n",
        "\n",
        "p = 0.3  # Probabilidad de éxito en un ensayo\n",
        "k = 5    # Número de éxitos deseados\n",
        "\n",
        "# Valores posibles de la variable aleatoria\n",
        "x = np.arange(0, 31)  # Puedes ajustar el rango según tus necesidades\n",
        "\n",
        "# Calcula las probabilidades para cada valor de x\n",
        "probabilidades = nbinom.pmf(x, k, p)\n",
        "\n",
        "# Crea un gráfico de barras usando Plotly\n",
        "fig = px.bar(x=x, y=probabilidades, labels={'x': 'Número de Ensayos hasta el k-ésimo Éxito', 'y': 'Probabilidad'})\n",
        "fig.update_layout(title='Distribución Binomial Negativa')\n",
        "fig.show()\n"
      ],
      "metadata": {
        "colab": {
          "base_uri": "https://localhost:8080/",
          "height": 542
        },
        "id": "GjgrX8JbnsMM",
        "outputId": "0d92e083-5b81-4933-fe1e-77b6a2bc8e88"
      },
      "execution_count": 8,
      "outputs": [
        {
          "output_type": "display_data",
          "data": {
            "text/html": [
              "<html>\n",
              "<head><meta charset=\"utf-8\" /></head>\n",
              "<body>\n",
              "    <div>            <script src=\"https://cdnjs.cloudflare.com/ajax/libs/mathjax/2.7.5/MathJax.js?config=TeX-AMS-MML_SVG\"></script><script type=\"text/javascript\">if (window.MathJax && window.MathJax.Hub && window.MathJax.Hub.Config) {window.MathJax.Hub.Config({SVG: {font: \"STIX-Web\"}});}</script>                <script type=\"text/javascript\">window.PlotlyConfig = {MathJaxConfig: 'local'};</script>\n",
              "        <script charset=\"utf-8\" src=\"https://cdn.plot.ly/plotly-2.24.1.min.js\"></script>                <div id=\"f27d59a0-cbdf-4400-9854-5b8df79ce00e\" class=\"plotly-graph-div\" style=\"height:525px; width:100%;\"></div>            <script type=\"text/javascript\">                                    window.PLOTLYENV=window.PLOTLYENV || {};                                    if (document.getElementById(\"f27d59a0-cbdf-4400-9854-5b8df79ce00e\")) {                    Plotly.newPlot(                        \"f27d59a0-cbdf-4400-9854-5b8df79ce00e\",                        [{\"alignmentgroup\":\"True\",\"hovertemplate\":\"N\\u00famero de Ensayos hasta el k-\\u00e9simo \\u00c9xito=%{x}\\u003cbr\\u003eProbabilidad=%{y}\\u003cextra\\u003e\\u003c\\u002fextra\\u003e\",\"legendgroup\":\"\",\"marker\":{\"color\":\"#636efa\",\"pattern\":{\"shape\":\"\"}},\"name\":\"\",\"offsetgroup\":\"\",\"orientation\":\"v\",\"showlegend\":false,\"textposition\":\"auto\",\"x\":[0,1,2,3,4,5,6,7,8,9,10,11,12,13,14,15,16,17,18,19,20,21,22,23,24,25,26,27,28,29,30],\"xaxis\":\"x\",\"y\":[0.002430000000000001,0.008504999999999995,0.017860499999999998,0.029172149999999994,0.04084100999999998,0.0514596726,0.06003628469999997,0.06603991317000002,0.0693419088285,0.07011237448215002,0.06871012699250699,0.06558693940193847,0.06121447677514267,0.056034790278784365,0.050431311250905886,0.0447157626424699,0.03912629231216112,0.03383273511698629,0.02894578448897731,0.024527743698554382,0.020603304706785695,0.017169420588988075,0.014203793396344661,0.011671812834387618,0.009531980481416584,0.007739968150910241,0.006251512737273657,0.005024363940697714,0.00401949115255817,0.0032017326077273755,0.0025400412021303843],\"yaxis\":\"y\",\"type\":\"bar\"}],                        {\"template\":{\"data\":{\"histogram2dcontour\":[{\"type\":\"histogram2dcontour\",\"colorbar\":{\"outlinewidth\":0,\"ticks\":\"\"},\"colorscale\":[[0.0,\"#0d0887\"],[0.1111111111111111,\"#46039f\"],[0.2222222222222222,\"#7201a8\"],[0.3333333333333333,\"#9c179e\"],[0.4444444444444444,\"#bd3786\"],[0.5555555555555556,\"#d8576b\"],[0.6666666666666666,\"#ed7953\"],[0.7777777777777778,\"#fb9f3a\"],[0.8888888888888888,\"#fdca26\"],[1.0,\"#f0f921\"]]}],\"choropleth\":[{\"type\":\"choropleth\",\"colorbar\":{\"outlinewidth\":0,\"ticks\":\"\"}}],\"histogram2d\":[{\"type\":\"histogram2d\",\"colorbar\":{\"outlinewidth\":0,\"ticks\":\"\"},\"colorscale\":[[0.0,\"#0d0887\"],[0.1111111111111111,\"#46039f\"],[0.2222222222222222,\"#7201a8\"],[0.3333333333333333,\"#9c179e\"],[0.4444444444444444,\"#bd3786\"],[0.5555555555555556,\"#d8576b\"],[0.6666666666666666,\"#ed7953\"],[0.7777777777777778,\"#fb9f3a\"],[0.8888888888888888,\"#fdca26\"],[1.0,\"#f0f921\"]]}],\"heatmap\":[{\"type\":\"heatmap\",\"colorbar\":{\"outlinewidth\":0,\"ticks\":\"\"},\"colorscale\":[[0.0,\"#0d0887\"],[0.1111111111111111,\"#46039f\"],[0.2222222222222222,\"#7201a8\"],[0.3333333333333333,\"#9c179e\"],[0.4444444444444444,\"#bd3786\"],[0.5555555555555556,\"#d8576b\"],[0.6666666666666666,\"#ed7953\"],[0.7777777777777778,\"#fb9f3a\"],[0.8888888888888888,\"#fdca26\"],[1.0,\"#f0f921\"]]}],\"heatmapgl\":[{\"type\":\"heatmapgl\",\"colorbar\":{\"outlinewidth\":0,\"ticks\":\"\"},\"colorscale\":[[0.0,\"#0d0887\"],[0.1111111111111111,\"#46039f\"],[0.2222222222222222,\"#7201a8\"],[0.3333333333333333,\"#9c179e\"],[0.4444444444444444,\"#bd3786\"],[0.5555555555555556,\"#d8576b\"],[0.6666666666666666,\"#ed7953\"],[0.7777777777777778,\"#fb9f3a\"],[0.8888888888888888,\"#fdca26\"],[1.0,\"#f0f921\"]]}],\"contourcarpet\":[{\"type\":\"contourcarpet\",\"colorbar\":{\"outlinewidth\":0,\"ticks\":\"\"}}],\"contour\":[{\"type\":\"contour\",\"colorbar\":{\"outlinewidth\":0,\"ticks\":\"\"},\"colorscale\":[[0.0,\"#0d0887\"],[0.1111111111111111,\"#46039f\"],[0.2222222222222222,\"#7201a8\"],[0.3333333333333333,\"#9c179e\"],[0.4444444444444444,\"#bd3786\"],[0.5555555555555556,\"#d8576b\"],[0.6666666666666666,\"#ed7953\"],[0.7777777777777778,\"#fb9f3a\"],[0.8888888888888888,\"#fdca26\"],[1.0,\"#f0f921\"]]}],\"surface\":[{\"type\":\"surface\",\"colorbar\":{\"outlinewidth\":0,\"ticks\":\"\"},\"colorscale\":[[0.0,\"#0d0887\"],[0.1111111111111111,\"#46039f\"],[0.2222222222222222,\"#7201a8\"],[0.3333333333333333,\"#9c179e\"],[0.4444444444444444,\"#bd3786\"],[0.5555555555555556,\"#d8576b\"],[0.6666666666666666,\"#ed7953\"],[0.7777777777777778,\"#fb9f3a\"],[0.8888888888888888,\"#fdca26\"],[1.0,\"#f0f921\"]]}],\"mesh3d\":[{\"type\":\"mesh3d\",\"colorbar\":{\"outlinewidth\":0,\"ticks\":\"\"}}],\"scatter\":[{\"fillpattern\":{\"fillmode\":\"overlay\",\"size\":10,\"solidity\":0.2},\"type\":\"scatter\"}],\"parcoords\":[{\"type\":\"parcoords\",\"line\":{\"colorbar\":{\"outlinewidth\":0,\"ticks\":\"\"}}}],\"scatterpolargl\":[{\"type\":\"scatterpolargl\",\"marker\":{\"colorbar\":{\"outlinewidth\":0,\"ticks\":\"\"}}}],\"bar\":[{\"error_x\":{\"color\":\"#2a3f5f\"},\"error_y\":{\"color\":\"#2a3f5f\"},\"marker\":{\"line\":{\"color\":\"#E5ECF6\",\"width\":0.5},\"pattern\":{\"fillmode\":\"overlay\",\"size\":10,\"solidity\":0.2}},\"type\":\"bar\"}],\"scattergeo\":[{\"type\":\"scattergeo\",\"marker\":{\"colorbar\":{\"outlinewidth\":0,\"ticks\":\"\"}}}],\"scatterpolar\":[{\"type\":\"scatterpolar\",\"marker\":{\"colorbar\":{\"outlinewidth\":0,\"ticks\":\"\"}}}],\"histogram\":[{\"marker\":{\"pattern\":{\"fillmode\":\"overlay\",\"size\":10,\"solidity\":0.2}},\"type\":\"histogram\"}],\"scattergl\":[{\"type\":\"scattergl\",\"marker\":{\"colorbar\":{\"outlinewidth\":0,\"ticks\":\"\"}}}],\"scatter3d\":[{\"type\":\"scatter3d\",\"line\":{\"colorbar\":{\"outlinewidth\":0,\"ticks\":\"\"}},\"marker\":{\"colorbar\":{\"outlinewidth\":0,\"ticks\":\"\"}}}],\"scattermapbox\":[{\"type\":\"scattermapbox\",\"marker\":{\"colorbar\":{\"outlinewidth\":0,\"ticks\":\"\"}}}],\"scatterternary\":[{\"type\":\"scatterternary\",\"marker\":{\"colorbar\":{\"outlinewidth\":0,\"ticks\":\"\"}}}],\"scattercarpet\":[{\"type\":\"scattercarpet\",\"marker\":{\"colorbar\":{\"outlinewidth\":0,\"ticks\":\"\"}}}],\"carpet\":[{\"aaxis\":{\"endlinecolor\":\"#2a3f5f\",\"gridcolor\":\"white\",\"linecolor\":\"white\",\"minorgridcolor\":\"white\",\"startlinecolor\":\"#2a3f5f\"},\"baxis\":{\"endlinecolor\":\"#2a3f5f\",\"gridcolor\":\"white\",\"linecolor\":\"white\",\"minorgridcolor\":\"white\",\"startlinecolor\":\"#2a3f5f\"},\"type\":\"carpet\"}],\"table\":[{\"cells\":{\"fill\":{\"color\":\"#EBF0F8\"},\"line\":{\"color\":\"white\"}},\"header\":{\"fill\":{\"color\":\"#C8D4E3\"},\"line\":{\"color\":\"white\"}},\"type\":\"table\"}],\"barpolar\":[{\"marker\":{\"line\":{\"color\":\"#E5ECF6\",\"width\":0.5},\"pattern\":{\"fillmode\":\"overlay\",\"size\":10,\"solidity\":0.2}},\"type\":\"barpolar\"}],\"pie\":[{\"automargin\":true,\"type\":\"pie\"}]},\"layout\":{\"autotypenumbers\":\"strict\",\"colorway\":[\"#636efa\",\"#EF553B\",\"#00cc96\",\"#ab63fa\",\"#FFA15A\",\"#19d3f3\",\"#FF6692\",\"#B6E880\",\"#FF97FF\",\"#FECB52\"],\"font\":{\"color\":\"#2a3f5f\"},\"hovermode\":\"closest\",\"hoverlabel\":{\"align\":\"left\"},\"paper_bgcolor\":\"white\",\"plot_bgcolor\":\"#E5ECF6\",\"polar\":{\"bgcolor\":\"#E5ECF6\",\"angularaxis\":{\"gridcolor\":\"white\",\"linecolor\":\"white\",\"ticks\":\"\"},\"radialaxis\":{\"gridcolor\":\"white\",\"linecolor\":\"white\",\"ticks\":\"\"}},\"ternary\":{\"bgcolor\":\"#E5ECF6\",\"aaxis\":{\"gridcolor\":\"white\",\"linecolor\":\"white\",\"ticks\":\"\"},\"baxis\":{\"gridcolor\":\"white\",\"linecolor\":\"white\",\"ticks\":\"\"},\"caxis\":{\"gridcolor\":\"white\",\"linecolor\":\"white\",\"ticks\":\"\"}},\"coloraxis\":{\"colorbar\":{\"outlinewidth\":0,\"ticks\":\"\"}},\"colorscale\":{\"sequential\":[[0.0,\"#0d0887\"],[0.1111111111111111,\"#46039f\"],[0.2222222222222222,\"#7201a8\"],[0.3333333333333333,\"#9c179e\"],[0.4444444444444444,\"#bd3786\"],[0.5555555555555556,\"#d8576b\"],[0.6666666666666666,\"#ed7953\"],[0.7777777777777778,\"#fb9f3a\"],[0.8888888888888888,\"#fdca26\"],[1.0,\"#f0f921\"]],\"sequentialminus\":[[0.0,\"#0d0887\"],[0.1111111111111111,\"#46039f\"],[0.2222222222222222,\"#7201a8\"],[0.3333333333333333,\"#9c179e\"],[0.4444444444444444,\"#bd3786\"],[0.5555555555555556,\"#d8576b\"],[0.6666666666666666,\"#ed7953\"],[0.7777777777777778,\"#fb9f3a\"],[0.8888888888888888,\"#fdca26\"],[1.0,\"#f0f921\"]],\"diverging\":[[0,\"#8e0152\"],[0.1,\"#c51b7d\"],[0.2,\"#de77ae\"],[0.3,\"#f1b6da\"],[0.4,\"#fde0ef\"],[0.5,\"#f7f7f7\"],[0.6,\"#e6f5d0\"],[0.7,\"#b8e186\"],[0.8,\"#7fbc41\"],[0.9,\"#4d9221\"],[1,\"#276419\"]]},\"xaxis\":{\"gridcolor\":\"white\",\"linecolor\":\"white\",\"ticks\":\"\",\"title\":{\"standoff\":15},\"zerolinecolor\":\"white\",\"automargin\":true,\"zerolinewidth\":2},\"yaxis\":{\"gridcolor\":\"white\",\"linecolor\":\"white\",\"ticks\":\"\",\"title\":{\"standoff\":15},\"zerolinecolor\":\"white\",\"automargin\":true,\"zerolinewidth\":2},\"scene\":{\"xaxis\":{\"backgroundcolor\":\"#E5ECF6\",\"gridcolor\":\"white\",\"linecolor\":\"white\",\"showbackground\":true,\"ticks\":\"\",\"zerolinecolor\":\"white\",\"gridwidth\":2},\"yaxis\":{\"backgroundcolor\":\"#E5ECF6\",\"gridcolor\":\"white\",\"linecolor\":\"white\",\"showbackground\":true,\"ticks\":\"\",\"zerolinecolor\":\"white\",\"gridwidth\":2},\"zaxis\":{\"backgroundcolor\":\"#E5ECF6\",\"gridcolor\":\"white\",\"linecolor\":\"white\",\"showbackground\":true,\"ticks\":\"\",\"zerolinecolor\":\"white\",\"gridwidth\":2}},\"shapedefaults\":{\"line\":{\"color\":\"#2a3f5f\"}},\"annotationdefaults\":{\"arrowcolor\":\"#2a3f5f\",\"arrowhead\":0,\"arrowwidth\":1},\"geo\":{\"bgcolor\":\"white\",\"landcolor\":\"#E5ECF6\",\"subunitcolor\":\"white\",\"showland\":true,\"showlakes\":true,\"lakecolor\":\"white\"},\"title\":{\"x\":0.05},\"mapbox\":{\"style\":\"light\"}}},\"xaxis\":{\"anchor\":\"y\",\"domain\":[0.0,1.0],\"title\":{\"text\":\"N\\u00famero de Ensayos hasta el k-\\u00e9simo \\u00c9xito\"}},\"yaxis\":{\"anchor\":\"x\",\"domain\":[0.0,1.0],\"title\":{\"text\":\"Probabilidad\"}},\"legend\":{\"tracegroupgap\":0},\"margin\":{\"t\":60},\"barmode\":\"relative\",\"title\":{\"text\":\"Distribuci\\u00f3n Binomial Negativa\"}},                        {\"responsive\": true}                    ).then(function(){\n",
              "                            \n",
              "var gd = document.getElementById('f27d59a0-cbdf-4400-9854-5b8df79ce00e');\n",
              "var x = new MutationObserver(function (mutations, observer) {{\n",
              "        var display = window.getComputedStyle(gd).display;\n",
              "        if (!display || display === 'none') {{\n",
              "            console.log([gd, 'removed!']);\n",
              "            Plotly.purge(gd);\n",
              "            observer.disconnect();\n",
              "        }}\n",
              "}});\n",
              "\n",
              "// Listen for the removal of the full notebook cells\n",
              "var notebookContainer = gd.closest('#notebook-container');\n",
              "if (notebookContainer) {{\n",
              "    x.observe(notebookContainer, {childList: true});\n",
              "}}\n",
              "\n",
              "// Listen for the clearing of the current output cell\n",
              "var outputEl = gd.closest('.output');\n",
              "if (outputEl) {{\n",
              "    x.observe(outputEl, {childList: true});\n",
              "}}\n",
              "\n",
              "                        })                };                            </script>        </div>\n",
              "</body>\n",
              "</html>"
            ]
          },
          "metadata": {}
        }
      ]
    },
    {
      "cell_type": "markdown",
      "source": [
        "Puedes generar números aleatorios que sigan la distribución binomial negativa en Python utilizando tanto NumPy como SciPy. A continuación, te mostraré ejemplos de cómo hacerlo con ambas bibliotecas:\n",
        "\n",
        "**Usando NumPy:**\n",
        "\n",
        "```python\n",
        "import numpy as np\n",
        "\n",
        "p = 0.3  # Probabilidad de éxito en un ensayo\n",
        "k = 5    # Número de éxitos deseados\n",
        "size = 10  # Tamaño de la muestra, puedes ajustarlo según tus necesidades\n",
        "\n",
        "# Genera números aleatorios que sigan la distribución binomial negativa\n",
        "random_numbers = np.random.negative_binomial(k, p, size=size)\n",
        "\n",
        "print(random_numbers)\n",
        "```\n",
        "\n",
        "En este ejemplo, hemos utilizado `np.random.negative_binomial(k, p, size)` de NumPy para generar una muestra de números aleatorios que siguen la distribución binomial negativa con los parámetros `k` y `p`. Puedes ajustar el valor de `size` para generar una muestra del tamaño que desees.\n",
        "\n",
        "**Usando SciPy:**\n",
        "\n",
        "```python\n",
        "import numpy as np\n",
        "from scipy.stats import nbinom\n",
        "\n",
        "p = 0.3  # Probabilidad de éxito en un ensayo\n",
        "k = 5    # Número de éxitos deseados\n",
        "size = 10  # Tamaño de la muestra, puedes ajustarlo según tus necesidades\n",
        "\n",
        "# Genera números aleatorios que sigan la distribución binomial negativa\n",
        "random_numbers = nbinom.rvs(k, p, size=size)\n",
        "\n",
        "print(random_numbers)\n",
        "```\n",
        "\n",
        "En este ejemplo, hemos utilizado `nbinom.rvs(k, p, size)` de SciPy para generar una muestra de números aleatorios que siguen la distribución binomial negativa con los parámetros `k` y `p`. Puedes ajustar el valor de `size` para generar una muestra del tamaño que desees.\n",
        "\n",
        "Ambos enfoques te permiten generar números aleatorios que sigan la distribución binomial negativa en Python."
      ],
      "metadata": {
        "id": "_-vJfmDxoJiq"
      }
    },
    {
      "cell_type": "code",
      "source": [
        "import numpy as np\n",
        "\n",
        "p = 0.3  # Probabilidad de éxito en un ensayo\n",
        "k = 5    # Número de éxitos deseados\n",
        "size = 10  # Tamaño de la muestra, puedes ajustarlo según tus necesidades\n",
        "\n",
        "# Genera números aleatorios que sigan la distribución binomial negativa\n",
        "random_numbers = np.random.negative_binomial(k, p, size=size)\n",
        "\n",
        "print(random_numbers)\n"
      ],
      "metadata": {
        "colab": {
          "base_uri": "https://localhost:8080/"
        },
        "id": "3kETSkorn3cb",
        "outputId": "11b092e0-e19d-4bd3-d7b5-085762b00d43"
      },
      "execution_count": 9,
      "outputs": [
        {
          "output_type": "stream",
          "name": "stdout",
          "text": [
            "[12  3 13 12 11  9 19  4 13 10]\n"
          ]
        }
      ]
    },
    {
      "cell_type": "code",
      "source": [
        "import numpy as np\n",
        "from scipy.stats import nbinom\n",
        "\n",
        "p = 0.3  # Probabilidad de éxito en un ensayo\n",
        "k = 5    # Número de éxitos deseados\n",
        "size = 10  # Tamaño de la muestra, puedes ajustarlo según tus necesidades\n",
        "\n",
        "# Genera números aleatorios que sigan la distribución binomial negativa\n",
        "random_numbers = nbinom.rvs(k, p, size=size)\n",
        "\n",
        "print(random_numbers)\n"
      ],
      "metadata": {
        "colab": {
          "base_uri": "https://localhost:8080/"
        },
        "id": "s2lUcIwVoMrO",
        "outputId": "42aad31a-bb48-4812-9c55-3ff4de461387"
      },
      "execution_count": 10,
      "outputs": [
        {
          "output_type": "stream",
          "name": "stdout",
          "text": [
            "[10 31 15  7 16 10 13 15  6  8]\n"
          ]
        }
      ]
    },
    {
      "cell_type": "code",
      "source": [],
      "metadata": {
        "id": "TlANh-J3oQXk"
      },
      "execution_count": null,
      "outputs": []
    }
  ]
}