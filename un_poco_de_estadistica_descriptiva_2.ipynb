{
  "nbformat": 4,
  "nbformat_minor": 0,
  "metadata": {
    "colab": {
      "provenance": [],
      "authorship_tag": "ABX9TyPEy015JYyiFCvb1pWVsllM",
      "include_colab_link": true
    },
    "kernelspec": {
      "name": "python3",
      "display_name": "Python 3"
    },
    "language_info": {
      "name": "python"
    }
  },
  "cells": [
    {
      "cell_type": "markdown",
      "metadata": {
        "id": "view-in-github",
        "colab_type": "text"
      },
      "source": [
        "<a href=\"https://colab.research.google.com/github/jaimeisaac2020/Python-analsisis-basicos/blob/mi-github/un_poco_de_estadistica_descriptiva_2.ipynb\" target=\"_parent\"><img src=\"https://colab.research.google.com/assets/colab-badge.svg\" alt=\"Open In Colab\"/></a>"
      ]
    },
    {
      "cell_type": "code",
      "execution_count": 1,
      "metadata": {
        "colab": {
          "base_uri": "https://localhost:8080/"
        },
        "id": "3m6NlCLuSKgo",
        "outputId": "e6049b0f-b455-460a-82f7-ea4573931592"
      },
      "outputs": [
        {
          "output_type": "stream",
          "name": "stdout",
          "text": [
            "Edad: [18, 19, None, 18, 24, 17, 22, 15, 22, 25]\n",
            "Sexo: [0, 1, 0, 0, 1, 0, 0, 1, 1, 0]\n",
            "Estudios: [1, 2, 0, 1, 3, 2, 3, 1, 2, 3]\n"
          ]
        }
      ],
      "source": [
        "# Datos en R\n",
        "#edad = c(18, 19, NA, 18, 24, 17, 22, 15, 22, 25)\n",
        "#sexo = c(0, 1, 0, 0, 1, 0, 0, 1, 1, 0)\n",
        "#estudios = c(1, 2, 0, 1, 3, 2, 3, 1, 2, 3)\n",
        "\n",
        "# Convertir a listas de Python\n",
        "edad = [18, 19, None, 18, 24, 17, 22, 15, 22, 25]\n",
        "sexo = [0, 1, 0, 0, 1, 0, 0, 1, 1, 0]\n",
        "estudios = [1, 2, 0, 1, 3, 2, 3, 1, 2, 3]\n",
        "\n",
        "# Mostrar listas\n",
        "print(\"Edad:\", edad)\n",
        "print(\"Sexo:\", sexo)\n",
        "print(\"Estudios:\", estudios)\n"
      ]
    },
    {
      "cell_type": "code",
      "source": [
        "import pandas as pd\n",
        "import numpy as np\n",
        "# Convertir a DataFrame de pandas\n",
        "df = pd.DataFrame({'edad': edad, 'sexo': sexo, 'estudios': estudios})\n",
        "\n",
        "# Reemplazar NA con NaN\n",
        "df['edad'].replace({None: np.nan}, inplace=True)\n",
        "\n",
        "# Mostrar DataFrame\n",
        "print(df)"
      ],
      "metadata": {
        "colab": {
          "base_uri": "https://localhost:8080/"
        },
        "id": "MXwI4J9KSRwi",
        "outputId": "ca0c47ae-76e3-401c-ea71-b94d2c8b5678"
      },
      "execution_count": 7,
      "outputs": [
        {
          "output_type": "stream",
          "name": "stdout",
          "text": [
            "   edad  sexo  estudios\n",
            "0  18.0     0         1\n",
            "1  19.0     1         2\n",
            "2   NaN     0         0\n",
            "3  18.0     0         1\n",
            "4  24.0     1         3\n",
            "5  17.0     0         2\n",
            "6  22.0     0         3\n",
            "7  15.0     1         1\n",
            "8  22.0     1         2\n",
            "9  25.0     0         3\n"
          ]
        }
      ]
    },
    {
      "cell_type": "code",
      "source": [
        "import pandas as pd\n",
        "\n",
        "# Definir las listas\n",
        "sexo = [0, 1, 0, 0, 1, 0, 0, 1, 1, 0]\n",
        "estudios = [1, 2, 0, 1, 3, 2, 3, 1, 2, 3]\n",
        "\n",
        "# Convertir a DataFrame de pandas\n",
        "df = pd.DataFrame({'edad':edad,'sexo': sexo, 'estudios': estudios})\n",
        "\n",
        "# Definir las etiquetas\n",
        "sexo_labels = {0: \"Hombre\", 1: \"Mujer\"}\n",
        "estudios_labels = {0: \"Sin estudios\", 1: \"Estudios Primarios\", 2: \"Estudios Secundarios\", 3: \"Estudios Superiores\"}\n",
        "\n",
        "# Aplicar las etiquetas a las columnas correspondientes\n",
        "df['sexo'] = df['sexo'].map(sexo_labels)\n",
        "df['estudios'] = df['estudios'].map(estudios_labels)\n",
        "\n",
        "# Mostrar el DataFrame resultante\n",
        "print(df)\n"
      ],
      "metadata": {
        "colab": {
          "base_uri": "https://localhost:8080/"
        },
        "id": "s0wrrfogSfir",
        "outputId": "48f11388-1ee4-4e7a-feeb-f6212f56e637"
      },
      "execution_count": 10,
      "outputs": [
        {
          "output_type": "stream",
          "name": "stdout",
          "text": [
            "   edad    sexo              estudios\n",
            "0  18.0  Hombre    Estudios Primarios\n",
            "1  19.0   Mujer  Estudios Secundarios\n",
            "2   NaN  Hombre          Sin estudios\n",
            "3  18.0  Hombre    Estudios Primarios\n",
            "4  24.0   Mujer   Estudios Superiores\n",
            "5  17.0  Hombre  Estudios Secundarios\n",
            "6  22.0  Hombre   Estudios Superiores\n",
            "7  15.0   Mujer    Estudios Primarios\n",
            "8  22.0   Mujer  Estudios Secundarios\n",
            "9  25.0  Hombre   Estudios Superiores\n"
          ]
        }
      ]
    },
    {
      "cell_type": "code",
      "source": [
        "# Calcular la tabla de frecuencias\n",
        "tabla_frecuencias = df['edad'].value_counts(dropna=False).sort_index()\n",
        "\n",
        "# Mostrar la tabla de frecuencias\n",
        "print(tabla_frecuencias)"
      ],
      "metadata": {
        "colab": {
          "base_uri": "https://localhost:8080/"
        },
        "id": "wnAaPoESTNgc",
        "outputId": "5f5ceca3-fff5-4789-c0ec-e87d20e59f4b"
      },
      "execution_count": 11,
      "outputs": [
        {
          "output_type": "stream",
          "name": "stdout",
          "text": [
            "15.0    1\n",
            "17.0    1\n",
            "18.0    2\n",
            "19.0    1\n",
            "22.0    2\n",
            "24.0    1\n",
            "25.0    1\n",
            "NaN     1\n",
            "Name: edad, dtype: int64\n"
          ]
        }
      ]
    },
    {
      "cell_type": "code",
      "source": [
        "# Calcular la tabla de frecuencias relativas\n",
        "tabla_proporciones = df['edad'].value_counts(normalize=True, dropna=False).sort_index()\n",
        "\n",
        "# Mostrar la tabla de frecuencias relativas\n",
        "print(tabla_proporciones)"
      ],
      "metadata": {
        "colab": {
          "base_uri": "https://localhost:8080/"
        },
        "id": "GzonhzqbTwsj",
        "outputId": "7de28134-c7d2-4f8f-d2f3-323a95fc2b68"
      },
      "execution_count": 12,
      "outputs": [
        {
          "output_type": "stream",
          "name": "stdout",
          "text": [
            "15.0    0.1\n",
            "17.0    0.1\n",
            "18.0    0.2\n",
            "19.0    0.1\n",
            "22.0    0.2\n",
            "24.0    0.1\n",
            "25.0    0.1\n",
            "NaN     0.1\n",
            "Name: edad, dtype: float64\n"
          ]
        }
      ]
    },
    {
      "cell_type": "code",
      "source": [
        "#Calcular la tabla de contingencia\n",
        "tabla_contingencia = pd.crosstab(df['estudios'], df['sexo'])\n",
        "\n",
        "# Mostrar la tabla de contingencia\n",
        "print(tabla_contingencia)"
      ],
      "metadata": {
        "colab": {
          "base_uri": "https://localhost:8080/"
        },
        "id": "nNksqQbfUHyM",
        "outputId": "7e45f788-42f0-4508-9e26-4baa70a332a9"
      },
      "execution_count": 13,
      "outputs": [
        {
          "output_type": "stream",
          "name": "stdout",
          "text": [
            "sexo                  Hombre  Mujer\n",
            "estudios                           \n",
            "Estudios Primarios         2      1\n",
            "Estudios Secundarios       1      2\n",
            "Estudios Superiores        2      1\n",
            "Sin estudios               1      0\n"
          ]
        }
      ]
    },
    {
      "cell_type": "code",
      "source": [
        "# Normalizar la tabla de contingencia\n",
        "tabla_contingencia_normalizada = pd.crosstab(df['estudios'], [df['sexo'], pd.cut(df['edad'], [0, 18, 25])], normalize='all', margins=True, margins_name='Total')\n",
        "\n",
        "# Mostrar la tabla de contingencia normalizada\n",
        "print(tabla_contingencia_normalizada)"
      ],
      "metadata": {
        "colab": {
          "base_uri": "https://localhost:8080/"
        },
        "id": "swyi929vUrXC",
        "outputId": "b5f0fbdf-b68b-4913-aab4-3e62516560bc"
      },
      "execution_count": 14,
      "outputs": [
        {
          "output_type": "stream",
          "name": "stdout",
          "text": [
            "sexo                    Hombre               Mujer               Total\n",
            "edad                   (0, 18]  (18, 25]   (0, 18]  (18, 25]          \n",
            "estudios                                                              \n",
            "Estudios Primarios    0.222222  0.000000  0.111111  0.000000  0.333333\n",
            "Estudios Secundarios  0.111111  0.000000  0.000000  0.222222  0.333333\n",
            "Estudios Superiores   0.000000  0.222222  0.000000  0.111111  0.333333\n",
            "Total                 0.333333  0.222222  0.111111  0.333333  1.000000\n"
          ]
        }
      ]
    },
    {
      "cell_type": "code",
      "source": [
        "# Normalizar la tabla de contingencia\n",
        "tabla_contingencia_normalizada = pd.crosstab(df['estudios'], df['sexo'], normalize='all', margins=True, margins_name='Total')\n",
        "\n",
        "# Mostrar la tabla de contingencia normalizada\n",
        "print(tabla_contingencia_normalizada)"
      ],
      "metadata": {
        "colab": {
          "base_uri": "https://localhost:8080/"
        },
        "id": "iu8Oe7atVJB4",
        "outputId": "7d24d3eb-7aeb-4155-9415-f3bb7d1bf5f3"
      },
      "execution_count": 16,
      "outputs": [
        {
          "output_type": "stream",
          "name": "stdout",
          "text": [
            "sexo                  Hombre  Mujer  Total\n",
            "estudios                                  \n",
            "Estudios Primarios       0.2    0.1    0.3\n",
            "Estudios Secundarios     0.1    0.2    0.3\n",
            "Estudios Superiores      0.2    0.1    0.3\n",
            "Sin estudios             0.1    0.0    0.1\n",
            "Total                    0.6    0.4    1.0\n"
          ]
        }
      ]
    },
    {
      "cell_type": "code",
      "source": [
        "# Calcular la tabla de contingencia y normalizar por filas\n",
        "tabla_contingencia_normalizada_filas = pd.crosstab(df['estudios'], df['sexo'], normalize='index')\n",
        "\n",
        "# Mostrar la tabla de contingencia normalizada por filas\n",
        "print(tabla_contingencia_normalizada_filas)"
      ],
      "metadata": {
        "colab": {
          "base_uri": "https://localhost:8080/"
        },
        "id": "ysYd-l97VlKs",
        "outputId": "382cbd9f-d11b-455c-e162-d9d42bf1135e"
      },
      "execution_count": 17,
      "outputs": [
        {
          "output_type": "stream",
          "name": "stdout",
          "text": [
            "sexo                    Hombre     Mujer\n",
            "estudios                                \n",
            "Estudios Primarios    0.666667  0.333333\n",
            "Estudios Secundarios  0.333333  0.666667\n",
            "Estudios Superiores   0.666667  0.333333\n",
            "Sin estudios          1.000000  0.000000\n"
          ]
        }
      ]
    },
    {
      "cell_type": "code",
      "source": [
        "# Calcular la tabla de contingencia y normalizar por columnas\n",
        "tabla_contingencia_normalizada_columnas = pd.crosstab(df['estudios'], df['sexo'], normalize='columns')\n",
        "\n",
        "# Mostrar la tabla de contingencia normalizada por columnas\n",
        "print(tabla_contingencia_normalizada_columnas)"
      ],
      "metadata": {
        "colab": {
          "base_uri": "https://localhost:8080/"
        },
        "id": "jIFlWYbieXUx",
        "outputId": "a7be89c1-c8ac-4ce0-92dd-7224ce98ef99"
      },
      "execution_count": 18,
      "outputs": [
        {
          "output_type": "stream",
          "name": "stdout",
          "text": [
            "sexo                    Hombre  Mujer\n",
            "estudios                             \n",
            "Estudios Primarios    0.333333   0.25\n",
            "Estudios Secundarios  0.166667   0.50\n",
            "Estudios Superiores   0.333333   0.25\n",
            "Sin estudios          0.166667   0.00\n"
          ]
        }
      ]
    },
    {
      "cell_type": "code",
      "source": [
        "# Calcular la tabla de contingencia\n",
        "tabla_contingencia = pd.crosstab(df['estudios'], df['sexo'])\n",
        "\n",
        "# Normalizar la tabla de contingencia\n",
        "tabla_contingencia_normalizada = tabla_contingencia / tabla_contingencia.sum().sum()\n",
        "\n",
        "# Normalizar por filas\n",
        "tabla_contingencia_normalizada_filas = tabla_contingencia.div(tabla_contingencia.sum(axis=1), axis=0)\n",
        "\n",
        "# Normalizar por columnas\n",
        "tabla_contingencia_normalizada_columnas = tabla_contingencia.div(tabla_contingencia.sum(axis=0), axis=1)\n",
        "\n",
        "# Mostrar las tablas normalizadas\n",
        "print(\"Tabla de contingencia normalizada:\")\n",
        "print(tabla_contingencia_normalizada)\n",
        "print(\"\\nTabla de contingencia normalizada por filas:\")\n",
        "print(tabla_contingencia_normalizada_filas)\n",
        "print(\"\\nTabla de contingencia normalizada por columnas:\")\n",
        "print(tabla_contingencia_normalizada_columnas)\n",
        "#Este código utiliza la función pd.crosstab para calcular la tabla de contingencia. Luego, normaliza la tabla de contingencia por el total general, por filas y por columnas usando operaciones de división en Pandas. Las tablas normalizadas se imprimen al final.\n",
        "\n",
        "\n",
        "\n",
        "\n",
        "\n"
      ],
      "metadata": {
        "colab": {
          "base_uri": "https://localhost:8080/"
        },
        "id": "UMM2MnK2eng3",
        "outputId": "67c89f6e-6705-4199-dd26-7d03914adc16"
      },
      "execution_count": 20,
      "outputs": [
        {
          "output_type": "stream",
          "name": "stdout",
          "text": [
            "Tabla de contingencia normalizada:\n",
            "sexo                  Hombre  Mujer\n",
            "estudios                           \n",
            "Estudios Primarios       0.2    0.1\n",
            "Estudios Secundarios     0.1    0.2\n",
            "Estudios Superiores      0.2    0.1\n",
            "Sin estudios             0.1    0.0\n",
            "\n",
            "Tabla de contingencia normalizada por filas:\n",
            "sexo                    Hombre     Mujer\n",
            "estudios                                \n",
            "Estudios Primarios    0.666667  0.333333\n",
            "Estudios Secundarios  0.333333  0.666667\n",
            "Estudios Superiores   0.666667  0.333333\n",
            "Sin estudios          1.000000  0.000000\n",
            "\n",
            "Tabla de contingencia normalizada por columnas:\n",
            "sexo                    Hombre  Mujer\n",
            "estudios                             \n",
            "Estudios Primarios    0.333333   0.25\n",
            "Estudios Secundarios  0.166667   0.50\n",
            "Estudios Superiores   0.333333   0.25\n",
            "Sin estudios          0.166667   0.00\n"
          ]
        }
      ]
    },
    {
      "cell_type": "code",
      "source": [
        "import numpy as np\n",
        "\n",
        "# Supongamos que 'edad' es una lista o una columna de un DataFrame con valores numéricos y posiblemente NaN\n",
        "edad = [18, 19, None, 18, 24, 17, 22, 15, 22, 25]\n",
        "\n",
        "# Eliminar valores perdidos\n",
        "edad_sin_nans = [x for x in edad if x is not None]\n",
        "\n",
        "# Calcular el rango\n",
        "rango = np.ptp(edad_sin_nans)\n",
        "\n",
        "print(\"Rango:\", rango)\n"
      ],
      "metadata": {
        "colab": {
          "base_uri": "https://localhost:8080/"
        },
        "id": "Nz8smD5he-sU",
        "outputId": "0c8589d4-f5a8-4af9-c675-20a89630be69"
      },
      "execution_count": 21,
      "outputs": [
        {
          "output_type": "stream",
          "name": "stdout",
          "text": [
            "Rango: 10\n"
          ]
        }
      ]
    },
    {
      "cell_type": "code",
      "source": [
        "import numpy as np\n",
        "\n",
        "# Supongamos que 'edad' es una lista o una columna de un DataFrame con valores numéricos y posiblemente NaN\n",
        "edad = [18, 19, None, 18, 24, 17, 22, 15, 22, 25]\n",
        "\n",
        "# Eliminar valores perdidos\n",
        "edad_sin_nans = [x for x in edad if x is not None]\n",
        "\n",
        "# Calcular el número de intervalos según la regla de Sturges\n",
        "numero_intervalos = int(np.ceil(np.log2(len(edad_sin_nans)) + 1))\n",
        "\n",
        "print(\"Número de intervalos (Sturges):\", numero_intervalos)\n"
      ],
      "metadata": {
        "colab": {
          "base_uri": "https://localhost:8080/"
        },
        "id": "4VhkeiLgfZSZ",
        "outputId": "4916ac27-3fd0-4fee-f90f-bfa0f9b598a1"
      },
      "execution_count": 22,
      "outputs": [
        {
          "output_type": "stream",
          "name": "stdout",
          "text": [
            "Número de intervalos (Sturges): 5\n"
          ]
        }
      ]
    },
    {
      "cell_type": "code",
      "source": [
        "# Calcular los límites de los intervalos\n",
        "limites_intervalos = np.linspace(min(edad_sin_nans), max(edad_sin_nans), num=numero_intervalos+1)\n",
        "\n",
        "print(\"Límites de los intervalos:\", limites_intervalos)"
      ],
      "metadata": {
        "colab": {
          "base_uri": "https://localhost:8080/"
        },
        "id": "sMjgjblhfrJd",
        "outputId": "b2e1d267-cecb-410f-fb10-7f5dc2aca3ac"
      },
      "execution_count": 23,
      "outputs": [
        {
          "output_type": "stream",
          "name": "stdout",
          "text": [
            "Límites de los intervalos: [15. 17. 19. 21. 23. 25.]\n"
          ]
        }
      ]
    },
    {
      "cell_type": "code",
      "source": [
        "# Crear intervalos utilizando la función cut\n",
        "intervalos_edad = pd.cut(edad_sin_nans, bins=limites_intervalos, include_lowest=True)\n",
        "\n",
        "# Mostrar los intervalos\n",
        "print(\"Intervalos de Edad:\")\n",
        "print(intervalos_edad)"
      ],
      "metadata": {
        "colab": {
          "base_uri": "https://localhost:8080/"
        },
        "id": "u8uGdOJNgD4n",
        "outputId": "7821bce8-8dba-4ee9-82a3-c9b091159f98"
      },
      "execution_count": 24,
      "outputs": [
        {
          "output_type": "stream",
          "name": "stdout",
          "text": [
            "Intervalos de Edad:\n",
            "[(17.0, 19.0], (17.0, 19.0], (17.0, 19.0], (23.0, 25.0], (14.999, 17.0], (21.0, 23.0], (14.999, 17.0], (21.0, 23.0], (23.0, 25.0]]\n",
            "Categories (5, interval[float64, right]): [(14.999, 17.0] < (17.0, 19.0] < (19.0, 21.0] <\n",
            "                                           (21.0, 23.0] < (23.0, 25.0]]\n"
          ]
        }
      ]
    },
    {
      "cell_type": "code",
      "source": [
        "# Contar la frecuencia de cada intervalo\n",
        "conteo_intervalos = pd.value_counts(intervalos_edad)\n",
        "\n",
        "# Mostrar la tabla de frecuencias\n",
        "print(\"Tabla de frecuencias de intervalos de Edad:\")\n",
        "print(conteo_intervalos)"
      ],
      "metadata": {
        "colab": {
          "base_uri": "https://localhost:8080/"
        },
        "id": "xX-RWdt6gckv",
        "outputId": "bab9a363-3fcb-41bf-bbf2-5e6f077ac3a6"
      },
      "execution_count": 25,
      "outputs": [
        {
          "output_type": "stream",
          "name": "stdout",
          "text": [
            "Tabla de frecuencias de intervalos de Edad:\n",
            "(17.0, 19.0]      3\n",
            "(14.999, 17.0]    2\n",
            "(21.0, 23.0]      2\n",
            "(23.0, 25.0]      2\n",
            "(19.0, 21.0]      0\n",
            "dtype: int64\n"
          ]
        }
      ]
    },
    {
      "cell_type": "code",
      "source": [
        "import numpy as np\n",
        "\n",
        "# Supongamos que edad es una lista de Python creada previamente\n",
        "# Asegúrate de manejar los valores NA o NaN antes de calcular la media\n",
        "\n",
        "# Eliminar valores NA o NaN (si es necesario)\n",
        "edad_sin_nans = [valor for valor in edad if not pd.isna(valor)]\n",
        "\n",
        "# Calcular la media\n",
        "media_edad = np.mean(edad_sin_nans)\n",
        "\n",
        "# Mostrar la media\n",
        "print(\"Media de Edad:\", media_edad)\n"
      ],
      "metadata": {
        "colab": {
          "base_uri": "https://localhost:8080/"
        },
        "id": "MtlYMPllgtrD",
        "outputId": "1b116d2a-27d0-4435-830a-2ac6120b8aca"
      },
      "execution_count": 26,
      "outputs": [
        {
          "output_type": "stream",
          "name": "stdout",
          "text": [
            "Media de Edad: 20.0\n"
          ]
        }
      ]
    },
    {
      "cell_type": "code",
      "source": [
        "# Calcular la desviación estándar\n",
        "desviacion_estandar_edad = np.std(edad_sin_nans)\n",
        "\n",
        "# Mostrar la desviación estándar\n",
        "print(\"Desviación Estándar de Edad:\", desviacion_estandar_edad)"
      ],
      "metadata": {
        "colab": {
          "base_uri": "https://localhost:8080/"
        },
        "id": "BcWcg91phE6p",
        "outputId": "c3199ee2-b994-4ec7-810f-c89e27d8893e"
      },
      "execution_count": 27,
      "outputs": [
        {
          "output_type": "stream",
          "name": "stdout",
          "text": [
            "Desviación Estándar de Edad: 3.197221015541813\n"
          ]
        }
      ]
    },
    {
      "cell_type": "code",
      "source": [
        "# Calcular la media de 'edad' agrupado por 'sexo'\n",
        "resultado = df.groupby('sexo')['edad'].mean().reset_index()"
      ],
      "metadata": {
        "id": "myBiTBifhXYA"
      },
      "execution_count": 29,
      "outputs": []
    },
    {
      "cell_type": "code",
      "source": [
        "resultado"
      ],
      "metadata": {
        "colab": {
          "base_uri": "https://localhost:8080/",
          "height": 112
        },
        "id": "s0GdS93aiA2W",
        "outputId": "f17d6a99-9f11-4dcd-8ed5-5a16eda54bc2"
      },
      "execution_count": 30,
      "outputs": [
        {
          "output_type": "execute_result",
          "data": {
            "text/plain": [
              "     sexo  edad\n",
              "0  Hombre  20.0\n",
              "1   Mujer  20.0"
            ],
            "text/html": [
              "\n",
              "  <div id=\"df-3e201b28-36f9-4241-bfde-636510143365\" class=\"colab-df-container\">\n",
              "    <div>\n",
              "<style scoped>\n",
              "    .dataframe tbody tr th:only-of-type {\n",
              "        vertical-align: middle;\n",
              "    }\n",
              "\n",
              "    .dataframe tbody tr th {\n",
              "        vertical-align: top;\n",
              "    }\n",
              "\n",
              "    .dataframe thead th {\n",
              "        text-align: right;\n",
              "    }\n",
              "</style>\n",
              "<table border=\"1\" class=\"dataframe\">\n",
              "  <thead>\n",
              "    <tr style=\"text-align: right;\">\n",
              "      <th></th>\n",
              "      <th>sexo</th>\n",
              "      <th>edad</th>\n",
              "    </tr>\n",
              "  </thead>\n",
              "  <tbody>\n",
              "    <tr>\n",
              "      <th>0</th>\n",
              "      <td>Hombre</td>\n",
              "      <td>20.0</td>\n",
              "    </tr>\n",
              "    <tr>\n",
              "      <th>1</th>\n",
              "      <td>Mujer</td>\n",
              "      <td>20.0</td>\n",
              "    </tr>\n",
              "  </tbody>\n",
              "</table>\n",
              "</div>\n",
              "    <div class=\"colab-df-buttons\">\n",
              "\n",
              "  <div class=\"colab-df-container\">\n",
              "    <button class=\"colab-df-convert\" onclick=\"convertToInteractive('df-3e201b28-36f9-4241-bfde-636510143365')\"\n",
              "            title=\"Convert this dataframe to an interactive table.\"\n",
              "            style=\"display:none;\">\n",
              "\n",
              "  <svg xmlns=\"http://www.w3.org/2000/svg\" height=\"24px\" viewBox=\"0 -960 960 960\">\n",
              "    <path d=\"M120-120v-720h720v720H120Zm60-500h600v-160H180v160Zm220 220h160v-160H400v160Zm0 220h160v-160H400v160ZM180-400h160v-160H180v160Zm440 0h160v-160H620v160ZM180-180h160v-160H180v160Zm440 0h160v-160H620v160Z\"/>\n",
              "  </svg>\n",
              "    </button>\n",
              "\n",
              "  <style>\n",
              "    .colab-df-container {\n",
              "      display:flex;\n",
              "      gap: 12px;\n",
              "    }\n",
              "\n",
              "    .colab-df-convert {\n",
              "      background-color: #E8F0FE;\n",
              "      border: none;\n",
              "      border-radius: 50%;\n",
              "      cursor: pointer;\n",
              "      display: none;\n",
              "      fill: #1967D2;\n",
              "      height: 32px;\n",
              "      padding: 0 0 0 0;\n",
              "      width: 32px;\n",
              "    }\n",
              "\n",
              "    .colab-df-convert:hover {\n",
              "      background-color: #E2EBFA;\n",
              "      box-shadow: 0px 1px 2px rgba(60, 64, 67, 0.3), 0px 1px 3px 1px rgba(60, 64, 67, 0.15);\n",
              "      fill: #174EA6;\n",
              "    }\n",
              "\n",
              "    .colab-df-buttons div {\n",
              "      margin-bottom: 4px;\n",
              "    }\n",
              "\n",
              "    [theme=dark] .colab-df-convert {\n",
              "      background-color: #3B4455;\n",
              "      fill: #D2E3FC;\n",
              "    }\n",
              "\n",
              "    [theme=dark] .colab-df-convert:hover {\n",
              "      background-color: #434B5C;\n",
              "      box-shadow: 0px 1px 3px 1px rgba(0, 0, 0, 0.15);\n",
              "      filter: drop-shadow(0px 1px 2px rgba(0, 0, 0, 0.3));\n",
              "      fill: #FFFFFF;\n",
              "    }\n",
              "  </style>\n",
              "\n",
              "    <script>\n",
              "      const buttonEl =\n",
              "        document.querySelector('#df-3e201b28-36f9-4241-bfde-636510143365 button.colab-df-convert');\n",
              "      buttonEl.style.display =\n",
              "        google.colab.kernel.accessAllowed ? 'block' : 'none';\n",
              "\n",
              "      async function convertToInteractive(key) {\n",
              "        const element = document.querySelector('#df-3e201b28-36f9-4241-bfde-636510143365');\n",
              "        const dataTable =\n",
              "          await google.colab.kernel.invokeFunction('convertToInteractive',\n",
              "                                                    [key], {});\n",
              "        if (!dataTable) return;\n",
              "\n",
              "        const docLinkHtml = 'Like what you see? Visit the ' +\n",
              "          '<a target=\"_blank\" href=https://colab.research.google.com/notebooks/data_table.ipynb>data table notebook</a>'\n",
              "          + ' to learn more about interactive tables.';\n",
              "        element.innerHTML = '';\n",
              "        dataTable['output_type'] = 'display_data';\n",
              "        await google.colab.output.renderOutput(dataTable, element);\n",
              "        const docLink = document.createElement('div');\n",
              "        docLink.innerHTML = docLinkHtml;\n",
              "        element.appendChild(docLink);\n",
              "      }\n",
              "    </script>\n",
              "  </div>\n",
              "\n",
              "\n",
              "<div id=\"df-1d8b2307-6318-4372-af7f-a215e6ce4b70\">\n",
              "  <button class=\"colab-df-quickchart\" onclick=\"quickchart('df-1d8b2307-6318-4372-af7f-a215e6ce4b70')\"\n",
              "            title=\"Suggest charts.\"\n",
              "            style=\"display:none;\">\n",
              "\n",
              "<svg xmlns=\"http://www.w3.org/2000/svg\" height=\"24px\"viewBox=\"0 0 24 24\"\n",
              "     width=\"24px\">\n",
              "    <g>\n",
              "        <path d=\"M19 3H5c-1.1 0-2 .9-2 2v14c0 1.1.9 2 2 2h14c1.1 0 2-.9 2-2V5c0-1.1-.9-2-2-2zM9 17H7v-7h2v7zm4 0h-2V7h2v10zm4 0h-2v-4h2v4z\"/>\n",
              "    </g>\n",
              "</svg>\n",
              "  </button>\n",
              "\n",
              "<style>\n",
              "  .colab-df-quickchart {\n",
              "      --bg-color: #E8F0FE;\n",
              "      --fill-color: #1967D2;\n",
              "      --hover-bg-color: #E2EBFA;\n",
              "      --hover-fill-color: #174EA6;\n",
              "      --disabled-fill-color: #AAA;\n",
              "      --disabled-bg-color: #DDD;\n",
              "  }\n",
              "\n",
              "  [theme=dark] .colab-df-quickchart {\n",
              "      --bg-color: #3B4455;\n",
              "      --fill-color: #D2E3FC;\n",
              "      --hover-bg-color: #434B5C;\n",
              "      --hover-fill-color: #FFFFFF;\n",
              "      --disabled-bg-color: #3B4455;\n",
              "      --disabled-fill-color: #666;\n",
              "  }\n",
              "\n",
              "  .colab-df-quickchart {\n",
              "    background-color: var(--bg-color);\n",
              "    border: none;\n",
              "    border-radius: 50%;\n",
              "    cursor: pointer;\n",
              "    display: none;\n",
              "    fill: var(--fill-color);\n",
              "    height: 32px;\n",
              "    padding: 0;\n",
              "    width: 32px;\n",
              "  }\n",
              "\n",
              "  .colab-df-quickchart:hover {\n",
              "    background-color: var(--hover-bg-color);\n",
              "    box-shadow: 0 1px 2px rgba(60, 64, 67, 0.3), 0 1px 3px 1px rgba(60, 64, 67, 0.15);\n",
              "    fill: var(--button-hover-fill-color);\n",
              "  }\n",
              "\n",
              "  .colab-df-quickchart-complete:disabled,\n",
              "  .colab-df-quickchart-complete:disabled:hover {\n",
              "    background-color: var(--disabled-bg-color);\n",
              "    fill: var(--disabled-fill-color);\n",
              "    box-shadow: none;\n",
              "  }\n",
              "\n",
              "  .colab-df-spinner {\n",
              "    border: 2px solid var(--fill-color);\n",
              "    border-color: transparent;\n",
              "    border-bottom-color: var(--fill-color);\n",
              "    animation:\n",
              "      spin 1s steps(1) infinite;\n",
              "  }\n",
              "\n",
              "  @keyframes spin {\n",
              "    0% {\n",
              "      border-color: transparent;\n",
              "      border-bottom-color: var(--fill-color);\n",
              "      border-left-color: var(--fill-color);\n",
              "    }\n",
              "    20% {\n",
              "      border-color: transparent;\n",
              "      border-left-color: var(--fill-color);\n",
              "      border-top-color: var(--fill-color);\n",
              "    }\n",
              "    30% {\n",
              "      border-color: transparent;\n",
              "      border-left-color: var(--fill-color);\n",
              "      border-top-color: var(--fill-color);\n",
              "      border-right-color: var(--fill-color);\n",
              "    }\n",
              "    40% {\n",
              "      border-color: transparent;\n",
              "      border-right-color: var(--fill-color);\n",
              "      border-top-color: var(--fill-color);\n",
              "    }\n",
              "    60% {\n",
              "      border-color: transparent;\n",
              "      border-right-color: var(--fill-color);\n",
              "    }\n",
              "    80% {\n",
              "      border-color: transparent;\n",
              "      border-right-color: var(--fill-color);\n",
              "      border-bottom-color: var(--fill-color);\n",
              "    }\n",
              "    90% {\n",
              "      border-color: transparent;\n",
              "      border-bottom-color: var(--fill-color);\n",
              "    }\n",
              "  }\n",
              "</style>\n",
              "\n",
              "  <script>\n",
              "    async function quickchart(key) {\n",
              "      const quickchartButtonEl =\n",
              "        document.querySelector('#' + key + ' button');\n",
              "      quickchartButtonEl.disabled = true;  // To prevent multiple clicks.\n",
              "      quickchartButtonEl.classList.add('colab-df-spinner');\n",
              "      try {\n",
              "        const charts = await google.colab.kernel.invokeFunction(\n",
              "            'suggestCharts', [key], {});\n",
              "      } catch (error) {\n",
              "        console.error('Error during call to suggestCharts:', error);\n",
              "      }\n",
              "      quickchartButtonEl.classList.remove('colab-df-spinner');\n",
              "      quickchartButtonEl.classList.add('colab-df-quickchart-complete');\n",
              "    }\n",
              "    (() => {\n",
              "      let quickchartButtonEl =\n",
              "        document.querySelector('#df-1d8b2307-6318-4372-af7f-a215e6ce4b70 button');\n",
              "      quickchartButtonEl.style.display =\n",
              "        google.colab.kernel.accessAllowed ? 'block' : 'none';\n",
              "    })();\n",
              "  </script>\n",
              "</div>\n",
              "    </div>\n",
              "  </div>\n"
            ]
          },
          "metadata": {},
          "execution_count": 30
        }
      ]
    },
    {
      "cell_type": "code",
      "source": [
        "from scipy.stats import describe\n",
        "# Obtener estadísticas descriptivas para 'edad'\n",
        "descripcion_edad = describe(df['edad'])\n",
        "\n",
        "# Mostrar estadísticas descriptivas\n",
        "print(descripcion_edad)\n",
        "\n",
        "# Obtener estadísticas descriptivas agrupado por 'sexo'\n",
        "descripcion_por_sexo = df.groupby('sexo')['edad'].apply(describe)\n",
        "\n",
        "# Mostrar estadísticas descriptivas por grupo\n",
        "print(descripcion_por_sexo)\n",
        "#Este código utiliza describe de scipy.stats para obtener estadísticas descriptivas de 'edad' en general y luego utiliza describe en combinación con groupby de pandas para obtener estadísticas descriptivas agrupadas por 'sexo'. Asegúrate de manejar los valores NA o NaN según sea necesario. En este ejemplo, se utiliza dropna para eliminar las filas con valores NA en 'edad'.\n",
        "\n",
        "\n",
        "\n",
        "\n",
        "\n"
      ],
      "metadata": {
        "colab": {
          "base_uri": "https://localhost:8080/"
        },
        "id": "sQtg7Y4BiHlp",
        "outputId": "d0a14b4c-0ff1-4924-920c-9030e0aaeb18"
      },
      "execution_count": 33,
      "outputs": [
        {
          "output_type": "stream",
          "name": "stdout",
          "text": [
            "DescribeResult(nobs=10, minmax=(nan, nan), mean=nan, variance=nan, skewness=nan, kurtosis=nan)\n",
            "sexo\n",
            "Hombre                  (6, (nan, nan), nan, nan, nan, nan)\n",
            "Mujer     (4, (15.0, 24.0), 20.0, 15.333333333333332, -0...\n",
            "Name: edad, dtype: object\n"
          ]
        }
      ]
    },
    {
      "cell_type": "code",
      "source": [
        "descripcion_edad"
      ],
      "metadata": {
        "colab": {
          "base_uri": "https://localhost:8080/"
        },
        "id": "YymYzb2xigou",
        "outputId": "606a5c5f-3c6f-4d30-ca72-ce44a9befb52"
      },
      "execution_count": 34,
      "outputs": [
        {
          "output_type": "execute_result",
          "data": {
            "text/plain": [
              "DescribeResult(nobs=10, minmax=(nan, nan), mean=nan, variance=nan, skewness=nan, kurtosis=nan)"
            ]
          },
          "metadata": {},
          "execution_count": 34
        }
      ]
    },
    {
      "cell_type": "code",
      "source": [
        "descripcion_por_sexo"
      ],
      "metadata": {
        "colab": {
          "base_uri": "https://localhost:8080/"
        },
        "id": "JzeG7Nr7i00l",
        "outputId": "49a798a6-e44e-4732-f04c-18a6b34d0160"
      },
      "execution_count": 36,
      "outputs": [
        {
          "output_type": "execute_result",
          "data": {
            "text/plain": [
              "sexo\n",
              "Hombre                  (6, (nan, nan), nan, nan, nan, nan)\n",
              "Mujer     (4, (15.0, 24.0), 20.0, 15.333333333333332, -0...\n",
              "Name: edad, dtype: object"
            ]
          },
          "metadata": {},
          "execution_count": 36
        }
      ]
    },
    {
      "cell_type": "code",
      "source": [
        "# Obtener la tabla de frecuencias de 'estudios'\n",
        "tabla_frecuencias = pd.value_counts(df['estudios'])\n",
        "\n",
        "# Crear un gráfico de pastel para la tabla de frecuencias\n",
        "plt.pie(tabla_frecuencias, labels=tabla_frecuencias.index, autopct='%1.1f%%', startangle=90)\n",
        "\n",
        "# Añadir un título\n",
        "plt.title('Distribución de Estudios')\n",
        "\n",
        "# Mostrar el gráfico\n",
        "plt.show()"
      ],
      "metadata": {
        "colab": {
          "base_uri": "https://localhost:8080/",
          "height": 428
        },
        "id": "hPt6HZVvi5WF",
        "outputId": "72b6e555-2b53-49c1-8239-7a7529239125"
      },
      "execution_count": 38,
      "outputs": [
        {
          "output_type": "display_data",
          "data": {
            "text/plain": [
              "<Figure size 640x480 with 1 Axes>"
            ],
            "image/png": "[encoded data removed]"
          },
          "metadata": {}
        }
      ]
    },
    {
      "cell_type": "code",
      "source": [
        "# Obtener la tabla de frecuencias de 'sexo'\n",
        "tabla_frecuencias = pd.value_counts(df['sexo'])\n",
        "\n",
        "# Crear un gráfico de barras para la tabla de frecuencias\n",
        "tabla_frecuencias.plot(kind='bar', color=['blue', 'pink'])\n",
        "\n",
        "# Añadir etiquetas\n",
        "plt.title('Distribución de Sexo')\n",
        "plt.xlabel('Sexo')\n",
        "plt.ylabel('Frecuencia')\n",
        "\n",
        "# Mostrar el gráfico\n",
        "plt.show()"
      ],
      "metadata": {
        "colab": {
          "base_uri": "https://localhost:8080/",
          "height": 513
        },
        "id": "Hk6vrhUwjMRD",
        "outputId": "0a61d0a6-af05-4ff2-c005-2d04ed6f1c33"
      },
      "execution_count": 39,
      "outputs": [
        {
          "output_type": "display_data",
          "data": {
            "text/plain": [
              "<Figure size 640x480 with 1 Axes>"
            ],
            "image/png": "[encoded data removed]"
          },
          "metadata": {}
        }
      ]
    },
    {
      "cell_type": "code",
      "source": [
        "import matplotlib.pyplot as plt\n",
        "\n",
        "# Crear un histograma para la variable 'edad'\n",
        "plt.hist(df['edad'], bins='auto', edgecolor='black')\n",
        "\n",
        "# Añadir etiquetas\n",
        "plt.title('Histograma de Edad')\n",
        "plt.xlabel('Edad')\n",
        "plt.ylabel('Frecuencia')\n",
        "\n",
        "# Mostrar el histograma\n",
        "plt.show()\n"
      ],
      "metadata": {
        "colab": {
          "base_uri": "https://localhost:8080/",
          "height": 472
        },
        "id": "tQIpYzfFjogU",
        "outputId": "e71b8e32-32db-4701-dbfa-ccb411e71c39"
      },
      "execution_count": 40,
      "outputs": [
        {
          "output_type": "display_data",
          "data": {
            "text/plain": [
              "<Figure size 640x480 with 1 Axes>"
            ],
            "image/png": "[encoded data removed]"
          },
          "metadata": {}
        }
      ]
    },
    {
      "cell_type": "code",
      "source": [
        "# Crear un boxplot\n",
        "import seaborn as sns\n",
        "sns.boxplot(x='sexo', y='edad', data=df)\n",
        "\n",
        "# Añadir etiquetas\n",
        "plt.title('Boxplot de Edad por Sexo')\n",
        "plt.xlabel('Sexo')\n",
        "plt.ylabel('Edad')\n",
        "\n",
        "# Mostrar el boxplot\n",
        "plt.show()"
      ],
      "metadata": {
        "colab": {
          "base_uri": "https://localhost:8080/",
          "height": 472
        },
        "id": "lB0cOneCkBnA",
        "outputId": "72ff3d80-6769-42ed-cf69-c497ac05d269"
      },
      "execution_count": 42,
      "outputs": [
        {
          "output_type": "display_data",
          "data": {
            "text/plain": [
              "<Figure size 640x480 with 1 Axes>"
            ],
            "image/png": "[encoded data removed]"
          },
          "metadata": {}
        }
      ]
    },
    {
      "cell_type": "code",
      "source": [],
      "metadata": {
        "id": "px5Km1Otkcel"
      },
      "execution_count": null,
      "outputs": []
    }
  ]
}