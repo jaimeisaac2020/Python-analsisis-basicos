{
  "nbformat": 4,
  "nbformat_minor": 0,
  "metadata": {
    "colab": {
      "name": "valor_critico_t_student.ipynb",
      "provenance": [],
      "authorship_tag": "ABX9TyNIkSVduX1MJw8i7CQGcOg+",
      "include_colab_link": true
    },
    "kernelspec": {
      "name": "python3",
      "display_name": "Python 3"
    },
    "language_info": {
      "name": "python"
    }
  },
  "cells": [
    {
      "cell_type": "markdown",
      "metadata": {
        "id": "view-in-github",
        "colab_type": "text"
      },
      "source": [
        "<a href=\"https://colab.research.google.com/github/jaimeisaac2020/Python-analsisis-basicos/blob/mi-github/valor_critico_t_student.ipynb\" target=\"_parent\"><img src=\"https://colab.research.google.com/assets/colab-badge.svg\" alt=\"Open In Colab\"/></a>"
      ]
    },
    {
      "cell_type": "markdown",
      "metadata": {
        "id": "Tll3DQwKRRDk"
      },
      "source": [
        "El siguiente ejemplo calcula la función de punto porcentual para $ 95\\% $ en la distribución t de Student estándar con 10 grados de libertad."
      ]
    },
    {
      "cell_type": "code",
      "metadata": {
        "id": "xX5MlLwmQvFI"
      },
      "source": [
        "from scipy.stats import t"
      ],
      "execution_count": 2,
      "outputs": []
    },
    {
      "cell_type": "code",
      "metadata": {
        "id": "dWluOAyoRWbP"
      },
      "source": [
        "p=0.95\n",
        "df=10"
      ],
      "execution_count": 1,
      "outputs": []
    },
    {
      "cell_type": "code",
      "metadata": {
        "colab": {
          "base_uri": "https://localhost:8080/"
        },
        "id": "7uV--6eBRd0r",
        "outputId": "85c9e69f-2caf-4550-9f8c-f44aacf5305b"
      },
      "source": [
        "value=t.ppf(p,df)\n",
        "round(value,4)"
      ],
      "execution_count": 4,
      "outputs": [
        {
          "output_type": "execute_result",
          "data": {
            "text/plain": [
              "1.8125"
            ]
          },
          "metadata": {},
          "execution_count": 4
        }
      ]
    },
    {
      "cell_type": "code",
      "metadata": {
        "id": "UcLMyTGERl8m"
      },
      "source": [
        "p=t.cdf(value,df)"
      ],
      "execution_count": 5,
      "outputs": []
    },
    {
      "cell_type": "code",
      "metadata": {
        "colab": {
          "base_uri": "https://localhost:8080/"
        },
        "id": "jE3scCQiRuJA",
        "outputId": "fa75e5e1-ea06-4cb4-df38-77db58c427e5"
      },
      "source": [
        "print(p)"
      ],
      "execution_count": 6,
      "outputs": [
        {
          "output_type": "stream",
          "name": "stdout",
          "text": [
            "0.949999999999923\n"
          ]
        }
      ]
    },
    {
      "cell_type": "code",
      "metadata": {
        "id": "cN0_Zu1vRvA1"
      },
      "source": [
        ""
      ],
      "execution_count": null,
      "outputs": []
    }
  ]
}