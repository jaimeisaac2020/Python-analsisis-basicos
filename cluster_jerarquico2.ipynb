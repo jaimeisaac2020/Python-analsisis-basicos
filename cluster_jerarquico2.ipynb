{
  "nbformat": 4,
  "nbformat_minor": 0,
  "metadata": {
    "colab": {
      "provenance": [],
      "authorship_tag": "ABX9TyMR/zCvvKjgucJl37Bu+laU",
      "include_colab_link": true
    },
    "kernelspec": {
      "name": "python3",
      "display_name": "Python 3"
    },
    "language_info": {
      "name": "python"
    }
  },
  "cells": [
    {
      "cell_type": "markdown",
      "metadata": {
        "id": "view-in-github",
        "colab_type": "text"
      },
      "source": [
        "<a href=\"https://colab.research.google.com/github/jaimeisaac2020/Python-analsisis-basicos/blob/mi-github/cluster_jerarquico2.ipynb\" target=\"_parent\"><img src=\"https://colab.research.google.com/assets/colab-badge.svg\" alt=\"Open In Colab\"/></a>"
      ]
    },
    {
      "cell_type": "code",
      "execution_count": 2,
      "metadata": {
        "id": "YHrBDr8F0KWY"
      },
      "outputs": [],
      "source": [
        "import pandas as pd\n",
        "import numpy as np\n",
        "import matplotlib.pyplot as plt\n",
        "import seaborn as sb\n",
        "from sklearn.cluster import AgglomerativeClustering\n",
        "from scipy.cluster.hierarchy import dendrogram, linkage\n",
        "from matplotlib import pyplot as plt\n",
        "from sklearn.metrics import pairwise_distances_argmin_min\n",
        "from mpl_toolkits.mplot3d import Axes3D\n",
        "plt.rcParams['figure.figsize'] = (16, 9)\n",
        "plt.style.use('ggplot')"
      ]
    },
    {
      "cell_type": "code",
      "source": [
        "dataframe = pd.read_csv(r\"analisis.csv\")\n",
        "dataframe.head()"
      ],
      "metadata": {
        "colab": {
          "base_uri": "https://localhost:8080/",
          "height": 206
        },
        "id": "o_MWwDWt0LHO",
        "outputId": "a730cb5e-7942-42eb-c8d1-1dcc7857ca44"
      },
      "execution_count": 3,
      "outputs": [
        {
          "output_type": "execute_result",
          "data": {
            "text/plain": [
              "           usuario         op         co         ex         ag         ne  \\\n",
              "0     3gerardpique  34.297953  28.148819  41.948819  29.370315   9.841575   \n",
              "1  aguerosergiokun  44.986842  20.525865  37.938947  24.279098  10.362406   \n",
              "2   albertochicote  41.733854  13.745417  38.999896  34.645521   8.836979   \n",
              "3    AlejandroSanz  40.377154  15.377462  52.337538  31.082154   5.032231   \n",
              "4   alfredocasero1  36.664677  19.642258  48.530806  31.138871   7.305968   \n",
              "\n",
              "   wordcount  categoria  \n",
              "0    37.0945          7  \n",
              "1    78.7970          7  \n",
              "2    49.2604          4  \n",
              "3    80.4538          2  \n",
              "4    47.0645          4  "
            ],
            "text/html": [
              "\n",
              "  <div id=\"df-16b29c0e-71d6-435b-87d0-26cfc786d6d3\" class=\"colab-df-container\">\n",
              "    <div>\n",
              "<style scoped>\n",
              "    .dataframe tbody tr th:only-of-type {\n",
              "        vertical-align: middle;\n",
              "    }\n",
              "\n",
              "    .dataframe tbody tr th {\n",
              "        vertical-align: top;\n",
              "    }\n",
              "\n",
              "    .dataframe thead th {\n",
              "        text-align: right;\n",
              "    }\n",
              "</style>\n",
              "<table border=\"1\" class=\"dataframe\">\n",
              "  <thead>\n",
              "    <tr style=\"text-align: right;\">\n",
              "      <th></th>\n",
              "      <th>usuario</th>\n",
              "      <th>op</th>\n",
              "      <th>co</th>\n",
              "      <th>ex</th>\n",
              "      <th>ag</th>\n",
              "      <th>ne</th>\n",
              "      <th>wordcount</th>\n",
              "      <th>categoria</th>\n",
              "    </tr>\n",
              "  </thead>\n",
              "  <tbody>\n",
              "    <tr>\n",
              "      <th>0</th>\n",
              "      <td>3gerardpique</td>\n",
              "      <td>34.297953</td>\n",
              "      <td>28.148819</td>\n",
              "      <td>41.948819</td>\n",
              "      <td>29.370315</td>\n",
              "      <td>9.841575</td>\n",
              "      <td>37.0945</td>\n",
              "      <td>7</td>\n",
              "    </tr>\n",
              "    <tr>\n",
              "      <th>1</th>\n",
              "      <td>aguerosergiokun</td>\n",
              "      <td>44.986842</td>\n",
              "      <td>20.525865</td>\n",
              "      <td>37.938947</td>\n",
              "      <td>24.279098</td>\n",
              "      <td>10.362406</td>\n",
              "      <td>78.7970</td>\n",
              "      <td>7</td>\n",
              "    </tr>\n",
              "    <tr>\n",
              "      <th>2</th>\n",
              "      <td>albertochicote</td>\n",
              "      <td>41.733854</td>\n",
              "      <td>13.745417</td>\n",
              "      <td>38.999896</td>\n",
              "      <td>34.645521</td>\n",
              "      <td>8.836979</td>\n",
              "      <td>49.2604</td>\n",
              "      <td>4</td>\n",
              "    </tr>\n",
              "    <tr>\n",
              "      <th>3</th>\n",
              "      <td>AlejandroSanz</td>\n",
              "      <td>40.377154</td>\n",
              "      <td>15.377462</td>\n",
              "      <td>52.337538</td>\n",
              "      <td>31.082154</td>\n",
              "      <td>5.032231</td>\n",
              "      <td>80.4538</td>\n",
              "      <td>2</td>\n",
              "    </tr>\n",
              "    <tr>\n",
              "      <th>4</th>\n",
              "      <td>alfredocasero1</td>\n",
              "      <td>36.664677</td>\n",
              "      <td>19.642258</td>\n",
              "      <td>48.530806</td>\n",
              "      <td>31.138871</td>\n",
              "      <td>7.305968</td>\n",
              "      <td>47.0645</td>\n",
              "      <td>4</td>\n",
              "    </tr>\n",
              "  </tbody>\n",
              "</table>\n",
              "</div>\n",
              "    <div class=\"colab-df-buttons\">\n",
              "\n",
              "  <div class=\"colab-df-container\">\n",
              "    <button class=\"colab-df-convert\" onclick=\"convertToInteractive('df-16b29c0e-71d6-435b-87d0-26cfc786d6d3')\"\n",
              "            title=\"Convert this dataframe to an interactive table.\"\n",
              "            style=\"display:none;\">\n",
              "\n",
              "  <svg xmlns=\"http://www.w3.org/2000/svg\" height=\"24px\" viewBox=\"0 -960 960 960\">\n",
              "    <path d=\"M120-120v-720h720v720H120Zm60-500h600v-160H180v160Zm220 220h160v-160H400v160Zm0 220h160v-160H400v160ZM180-400h160v-160H180v160Zm440 0h160v-160H620v160ZM180-180h160v-160H180v160Zm440 0h160v-160H620v160Z\"/>\n",
              "  </svg>\n",
              "    </button>\n",
              "\n",
              "  <style>\n",
              "    .colab-df-container {\n",
              "      display:flex;\n",
              "      gap: 12px;\n",
              "    }\n",
              "\n",
              "    .colab-df-convert {\n",
              "      background-color: #E8F0FE;\n",
              "      border: none;\n",
              "      border-radius: 50%;\n",
              "      cursor: pointer;\n",
              "      display: none;\n",
              "      fill: #1967D2;\n",
              "      height: 32px;\n",
              "      padding: 0 0 0 0;\n",
              "      width: 32px;\n",
              "    }\n",
              "\n",
              "    .colab-df-convert:hover {\n",
              "      background-color: #E2EBFA;\n",
              "      box-shadow: 0px 1px 2px rgba(60, 64, 67, 0.3), 0px 1px 3px 1px rgba(60, 64, 67, 0.15);\n",
              "      fill: #174EA6;\n",
              "    }\n",
              "\n",
              "    .colab-df-buttons div {\n",
              "      margin-bottom: 4px;\n",
              "    }\n",
              "\n",
              "    [theme=dark] .colab-df-convert {\n",
              "      background-color: #3B4455;\n",
              "      fill: #D2E3FC;\n",
              "    }\n",
              "\n",
              "    [theme=dark] .colab-df-convert:hover {\n",
              "      background-color: #434B5C;\n",
              "      box-shadow: 0px 1px 3px 1px rgba(0, 0, 0, 0.15);\n",
              "      filter: drop-shadow(0px 1px 2px rgba(0, 0, 0, 0.3));\n",
              "      fill: #FFFFFF;\n",
              "    }\n",
              "  </style>\n",
              "\n",
              "    <script>\n",
              "      const buttonEl =\n",
              "        document.querySelector('#df-16b29c0e-71d6-435b-87d0-26cfc786d6d3 button.colab-df-convert');\n",
              "      buttonEl.style.display =\n",
              "        google.colab.kernel.accessAllowed ? 'block' : 'none';\n",
              "\n",
              "      async function convertToInteractive(key) {\n",
              "        const element = document.querySelector('#df-16b29c0e-71d6-435b-87d0-26cfc786d6d3');\n",
              "        const dataTable =\n",
              "          await google.colab.kernel.invokeFunction('convertToInteractive',\n",
              "                                                    [key], {});\n",
              "        if (!dataTable) return;\n",
              "\n",
              "        const docLinkHtml = 'Like what you see? Visit the ' +\n",
              "          '<a target=\"_blank\" href=https://colab.research.google.com/notebooks/data_table.ipynb>data table notebook</a>'\n",
              "          + ' to learn more about interactive tables.';\n",
              "        element.innerHTML = '';\n",
              "        dataTable['output_type'] = 'display_data';\n",
              "        await google.colab.output.renderOutput(dataTable, element);\n",
              "        const docLink = document.createElement('div');\n",
              "        docLink.innerHTML = docLinkHtml;\n",
              "        element.appendChild(docLink);\n",
              "      }\n",
              "    </script>\n",
              "  </div>\n",
              "\n",
              "\n",
              "<div id=\"df-01e81ead-860d-4b16-a7fc-88c5a138bae1\">\n",
              "  <button class=\"colab-df-quickchart\" onclick=\"quickchart('df-01e81ead-860d-4b16-a7fc-88c5a138bae1')\"\n",
              "            title=\"Suggest charts.\"\n",
              "            style=\"display:none;\">\n",
              "\n",
              "<svg xmlns=\"http://www.w3.org/2000/svg\" height=\"24px\"viewBox=\"0 0 24 24\"\n",
              "     width=\"24px\">\n",
              "    <g>\n",
              "        <path d=\"M19 3H5c-1.1 0-2 .9-2 2v14c0 1.1.9 2 2 2h14c1.1 0 2-.9 2-2V5c0-1.1-.9-2-2-2zM9 17H7v-7h2v7zm4 0h-2V7h2v10zm4 0h-2v-4h2v4z\"/>\n",
              "    </g>\n",
              "</svg>\n",
              "  </button>\n",
              "\n",
              "<style>\n",
              "  .colab-df-quickchart {\n",
              "      --bg-color: #E8F0FE;\n",
              "      --fill-color: #1967D2;\n",
              "      --hover-bg-color: #E2EBFA;\n",
              "      --hover-fill-color: #174EA6;\n",
              "      --disabled-fill-color: #AAA;\n",
              "      --disabled-bg-color: #DDD;\n",
              "  }\n",
              "\n",
              "  [theme=dark] .colab-df-quickchart {\n",
              "      --bg-color: #3B4455;\n",
              "      --fill-color: #D2E3FC;\n",
              "      --hover-bg-color: #434B5C;\n",
              "      --hover-fill-color: #FFFFFF;\n",
              "      --disabled-bg-color: #3B4455;\n",
              "      --disabled-fill-color: #666;\n",
              "  }\n",
              "\n",
              "  .colab-df-quickchart {\n",
              "    background-color: var(--bg-color);\n",
              "    border: none;\n",
              "    border-radius: 50%;\n",
              "    cursor: pointer;\n",
              "    display: none;\n",
              "    fill: var(--fill-color);\n",
              "    height: 32px;\n",
              "    padding: 0;\n",
              "    width: 32px;\n",
              "  }\n",
              "\n",
              "  .colab-df-quickchart:hover {\n",
              "    background-color: var(--hover-bg-color);\n",
              "    box-shadow: 0 1px 2px rgba(60, 64, 67, 0.3), 0 1px 3px 1px rgba(60, 64, 67, 0.15);\n",
              "    fill: var(--button-hover-fill-color);\n",
              "  }\n",
              "\n",
              "  .colab-df-quickchart-complete:disabled,\n",
              "  .colab-df-quickchart-complete:disabled:hover {\n",
              "    background-color: var(--disabled-bg-color);\n",
              "    fill: var(--disabled-fill-color);\n",
              "    box-shadow: none;\n",
              "  }\n",
              "\n",
              "  .colab-df-spinner {\n",
              "    border: 2px solid var(--fill-color);\n",
              "    border-color: transparent;\n",
              "    border-bottom-color: var(--fill-color);\n",
              "    animation:\n",
              "      spin 1s steps(1) infinite;\n",
              "  }\n",
              "\n",
              "  @keyframes spin {\n",
              "    0% {\n",
              "      border-color: transparent;\n",
              "      border-bottom-color: var(--fill-color);\n",
              "      border-left-color: var(--fill-color);\n",
              "    }\n",
              "    20% {\n",
              "      border-color: transparent;\n",
              "      border-left-color: var(--fill-color);\n",
              "      border-top-color: var(--fill-color);\n",
              "    }\n",
              "    30% {\n",
              "      border-color: transparent;\n",
              "      border-left-color: var(--fill-color);\n",
              "      border-top-color: var(--fill-color);\n",
              "      border-right-color: var(--fill-color);\n",
              "    }\n",
              "    40% {\n",
              "      border-color: transparent;\n",
              "      border-right-color: var(--fill-color);\n",
              "      border-top-color: var(--fill-color);\n",
              "    }\n",
              "    60% {\n",
              "      border-color: transparent;\n",
              "      border-right-color: var(--fill-color);\n",
              "    }\n",
              "    80% {\n",
              "      border-color: transparent;\n",
              "      border-right-color: var(--fill-color);\n",
              "      border-bottom-color: var(--fill-color);\n",
              "    }\n",
              "    90% {\n",
              "      border-color: transparent;\n",
              "      border-bottom-color: var(--fill-color);\n",
              "    }\n",
              "  }\n",
              "</style>\n",
              "\n",
              "  <script>\n",
              "    async function quickchart(key) {\n",
              "      const quickchartButtonEl =\n",
              "        document.querySelector('#' + key + ' button');\n",
              "      quickchartButtonEl.disabled = true;  // To prevent multiple clicks.\n",
              "      quickchartButtonEl.classList.add('colab-df-spinner');\n",
              "      try {\n",
              "        const charts = await google.colab.kernel.invokeFunction(\n",
              "            'suggestCharts', [key], {});\n",
              "      } catch (error) {\n",
              "        console.error('Error during call to suggestCharts:', error);\n",
              "      }\n",
              "      quickchartButtonEl.classList.remove('colab-df-spinner');\n",
              "      quickchartButtonEl.classList.add('colab-df-quickchart-complete');\n",
              "    }\n",
              "    (() => {\n",
              "      let quickchartButtonEl =\n",
              "        document.querySelector('#df-01e81ead-860d-4b16-a7fc-88c5a138bae1 button');\n",
              "      quickchartButtonEl.style.display =\n",
              "        google.colab.kernel.accessAllowed ? 'block' : 'none';\n",
              "    })();\n",
              "  </script>\n",
              "</div>\n",
              "    </div>\n",
              "  </div>\n"
            ]
          },
          "metadata": {},
          "execution_count": 3
        }
      ]
    },
    {
      "cell_type": "code",
      "source": [
        "X = np.array(dataframe[[\"op\", \"ex\", \"ag\"]])"
      ],
      "metadata": {
        "id": "r0DEqYtC0ZX4"
      },
      "execution_count": 4,
      "outputs": []
    },
    {
      "cell_type": "code",
      "source": [
        "# Realizamos el análisis jerárquico\n",
        "hc = AgglomerativeClustering(n_clusters=5, affinity='euclidean', linkage='ward')\n",
        "labels = hc.fit_predict(X)"
      ],
      "metadata": {
        "colab": {
          "base_uri": "https://localhost:8080/"
        },
        "id": "5bsvmz470dZP",
        "outputId": "ebd18c19-d3d9-4492-f9a6-63ea7b590c5b"
      },
      "execution_count": 5,
      "outputs": [
        {
          "output_type": "stream",
          "name": "stderr",
          "text": [
            "/usr/local/lib/python3.10/dist-packages/sklearn/cluster/_agglomerative.py:983: FutureWarning: Attribute `affinity` was deprecated in version 1.2 and will be removed in 1.4. Use `metric` instead\n",
            "  warnings.warn(\n"
          ]
        }
      ]
    },
    {
      "cell_type": "code",
      "source": [
        "# Graficamos los resultados en 3D\n",
        "fig = plt.figure()\n",
        "ax = Axes3D(fig)\n",
        "colores = ['red', 'green', 'blue', 'cyan', 'yellow']\n",
        "asignar = []\n",
        "for row in labels:\n",
        "    asignar.append(colores[row])\n",
        "\n",
        "ax.scatter(X[:, 0], X[:, 1], X[:, 2], c=asignar, s=60)\n",
        "\n",
        "plt.show()"
      ],
      "metadata": {
        "colab": {
          "base_uri": "https://localhost:8080/",
          "height": 34
        },
        "id": "L6EwkL-V0gk1",
        "outputId": "38bddbad-e7ee-4bd9-f461-101b059ed4d5"
      },
      "execution_count": 7,
      "outputs": [
        {
          "output_type": "display_data",
          "data": {
            "text/plain": [
              "<Figure size 1600x900 with 0 Axes>"
            ]
          },
          "metadata": {}
        }
      ]
    },
    {
      "cell_type": "code",
      "source": [
        "# Graficamos el dendrograma\n",
        "linked = linkage(X, 'ward')\n",
        "plt.figure(figsize=(7, 5))\n",
        "dendrogram(linked, orientation='top')\n",
        "plt.axhline(60,linestyle='--')\n",
        "plt.axhline(45)\n",
        "plt.title(\"Dendrograma\")\n",
        "plt.ylabel(\"Disimilitud\")\n",
        "plt.xlabel(\"Puntos de Datos\")\n",
        "plt.show()"
      ],
      "metadata": {
        "colab": {
          "base_uri": "https://localhost:8080/",
          "height": 492
        },
        "id": "JWsQ24PH0n73",
        "outputId": "5032fd14-27d6-4e8a-b798-3647bb8be99a"
      },
      "execution_count": 45,
      "outputs": [
        {
          "output_type": "display_data",
          "data": {
            "text/plain": [
              "<Figure size 700x500 with 1 Axes>"
            ],
            "image/png": "[encoded data removed]"
          },
          "metadata": {}
        }
      ]
    },
    {
      "cell_type": "code",
      "source": [
        "# Contamos cuántos usuarios hay en cada grupo\n",
        "copy = pd.DataFrame()\n",
        "copy['usuario'] = dataframe['usuario'].values\n",
        "copy['categoria'] = dataframe['categoria'].values\n",
        "copy['label'] = labels\n",
        "cantidadGrupo = pd.DataFrame()\n",
        "cantidadGrupo['color'] = colores\n",
        "cantidadGrupo['cantidad'] = copy.groupby('label').size()\n",
        "print(cantidadGrupo)"
      ],
      "metadata": {
        "colab": {
          "base_uri": "https://localhost:8080/"
        },
        "id": "9NU8mqR_0yTt",
        "outputId": "56493001-b97a-4402-cabd-76bbb66384fc"
      },
      "execution_count": 9,
      "outputs": [
        {
          "output_type": "stream",
          "name": "stdout",
          "text": [
            "    color  cantidad\n",
            "0     red        44\n",
            "1   green        36\n",
            "2    blue        17\n",
            "3    cyan        22\n",
            "4  yellow        21\n"
          ]
        }
      ]
    },
    {
      "cell_type": "code",
      "source": [
        "# Imprimimos en pantalla los usuarios con categoría 2 del grupo\n",
        "for index, row in copy.iterrows():\n",
        "    if row[\"label\"] == 2:\n",
        "        print(row[\"usuario\"], row[\"categoria\"], row[\"label\"])"
      ],
      "metadata": {
        "colab": {
          "base_uri": "https://localhost:8080/"
        },
        "id": "7XrXnukz06sv",
        "outputId": "cd908026-0dd5-4197-bdf2-3e6ea798852c"
      },
      "execution_count": 10,
      "outputs": [
        {
          "output_type": "stream",
          "name": "stdout",
          "text": [
            "aplusk 1 2\n",
            "EmWatson 1 2\n",
            "enrique305 2 2\n",
            "foofighters 2 2\n",
            "gwenstefani 2 2\n",
            "HilaryDuff 2 2\n",
            "IanMcKellen 1 2\n",
            "JerrySeinfeld 1 2\n",
            "JessieJ 2 2\n",
            "JLo 2 2\n",
            "JudgeJudy 4 2\n",
            "MeganFox516 1 2\n",
            "OfficialAdele 2 2\n",
            "rihanna 2 2\n",
            "springsteen 2 2\n",
            "victoriabeckham 3 2\n",
            "xoellopez 2 2\n"
          ]
        }
      ]
    },
    {
      "cell_type": "code",
      "source": [
        "# Vemos el representante del grupo, el usuario cercano a su centroide\n",
        "closest, _ = pairwise_distances_argmin_min(np.array([np.mean(X[labels == i], axis=0) for i in range(5)]), X)\n",
        "users = dataframe['usuario'].values\n",
        "for row in closest:\n",
        "    print(users[row])\n"
      ],
      "metadata": {
        "colab": {
          "base_uri": "https://localhost:8080/"
        },
        "id": "id2NyymL0_8X",
        "outputId": "a9d40224-f531-4317-e69b-426911466d04"
      },
      "execution_count": 11,
      "outputs": [
        {
          "output_type": "stream",
          "name": "stdout",
          "text": [
            "SJP\n",
            "David_Busta\n",
            "JudgeJudy\n",
            "DaniMateoAgain\n",
            "AngelAlessandra\n"
          ]
        }
      ]
    },
    {
      "cell_type": "code",
      "source": [
        "# Miramos los usuarios del grupo 3\n",
        "for index, row in copy.iterrows():\n",
        "    if row[\"label\"] == 3:\n",
        "        print(row[\"usuario\"], row[\"categoria\"], row[\"label\"])"
      ],
      "metadata": {
        "colab": {
          "base_uri": "https://localhost:8080/"
        },
        "id": "om4DF71s1Js-",
        "outputId": "24119b3e-bac0-4a6f-d2a7-23a268fd1d87"
      },
      "execution_count": 12,
      "outputs": [
        {
          "output_type": "stream",
          "name": "stdout",
          "text": [
            "alfredocasero1 4 3\n",
            "andykusnetzoff 5 3\n",
            "Berto_Romero 4 3\n",
            "Buenafuente 4 3\n",
            "CarlosAuryn 2 3\n",
            "CasillasWorld 7 3\n",
            "CristiPedroche 4 3\n",
            "DaniMateoAgain 5 3\n",
            "davidbisbal 2 3\n",
            "eva_hache 1 3\n",
            "jordievole 4 3\n",
            "jordiGlez 4 3\n",
            "josjaviersantos 9 3\n",
            "JPVarsky 5 3\n",
            "manuginobili 7 3\n",
            "maria_patino 4 3\n",
            "NadalMiki 4 3\n",
            "perezreverte 9 3\n",
            "pnique 8 3\n",
            "SerranoIsmael 2 3\n",
            "XaviRodriguez 4 3\n",
            "_josecoronado_ 1 3\n"
          ]
        }
      ]
    },
    {
      "cell_type": "code",
      "source": [
        "X"
      ],
      "metadata": {
        "colab": {
          "base_uri": "https://localhost:8080/"
        },
        "id": "0qVlW1uq14Vl",
        "outputId": "6d086e36-5930-47f1-b482-0c1f6cf0dc4e"
      },
      "execution_count": 16,
      "outputs": [
        {
          "output_type": "execute_result",
          "data": {
            "text/plain": [
              "array([[34.297953, 41.948819, 29.370315],\n",
              "       [44.986842, 37.938947, 24.279098],\n",
              "       [41.733854, 38.999896, 34.645521],\n",
              "       [40.377154, 52.337538, 31.082154],\n",
              "       [36.664677, 48.530806, 31.138871],\n",
              "       [33.531771, 43.211667, 25.786667],\n",
              "       [31.851102, 47.182362, 19.594331],\n",
              "       [31.865118, 55.377559, 36.258346],\n",
              "       [46.393488, 39.93031 , 16.658062],\n",
              "       [39.436667, 32.966288, 32.291591],\n",
              "       [52.750992, 41.698855, 17.057176],\n",
              "       [41.328182, 39.173333, 21.070505],\n",
              "       [54.407727, 34.104318, 18.771818],\n",
              "       [47.610076, 39.439545, 21.438409],\n",
              "       [39.435149, 41.479403, 21.004104],\n",
              "       [48.617348, 43.617955, 19.263258],\n",
              "       [40.073543, 44.194724, 33.921417],\n",
              "       [43.37292 , 43.792263, 21.067737],\n",
              "       [49.792403, 41.435581, 16.433953],\n",
              "       [30.020465, 44.29969 , 39.117984],\n",
              "       [36.909459, 51.947297, 34.687568],\n",
              "       [50.594462, 41.383154, 17.896538],\n",
              "       [34.186667, 18.693542,  9.682292],\n",
              "       [31.215455, 44.180909, 32.87    ],\n",
              "       [47.27686 , 41.973372, 12.40186 ],\n",
              "       [45.369773, 35.925909, 23.478258],\n",
              "       [35.943438, 45.519531, 28.02125 ],\n",
              "       [36.272348, 40.065152, 28.706894],\n",
              "       [44.501603, 46.598931, 29.535038],\n",
              "       [49.028308, 38.450462, 19.791538],\n",
              "       [34.235923, 41.231615, 14.153692],\n",
              "       [53.11048 , 39.00608 , 17.2064  ],\n",
              "       [49.28542 , 42.117786, 21.008931],\n",
              "       [52.895725, 38.620229, 19.972748],\n",
              "       [30.691797, 59.824844, 33.395938],\n",
              "       [34.949528, 50.177402, 36.325276],\n",
              "       [41.76596 , 49.865253, 30.071414],\n",
              "       [30.825938, 55.912578, 29.489922],\n",
              "       [38.948976, 44.460866, 27.345827],\n",
              "       [46.955854, 35.376179, 23.747561],\n",
              "       [45.053969, 48.950992, 24.374427],\n",
              "       [45.088504, 50.765276, 25.71252 ],\n",
              "       [42.444615, 45.780231, 24.745615],\n",
              "       [40.046439, 37.722197, 30.568258],\n",
              "       [52.535221, 35.290973, 15.793009],\n",
              "       [56.691163, 31.135698, 20.439651],\n",
              "       [48.709282, 44.728513, 19.387538],\n",
              "       [53.453713, 38.522321, 16.655907],\n",
              "       [31.450855, 45.490983, 40.583162],\n",
              "       [31.891474, 53.373368, 24.296316],\n",
              "       [49.077731, 45.670798, 17.449202],\n",
              "       [36.196989, 42.358817, 24.191613],\n",
              "       [38.91342 , 46.979524, 28.669524],\n",
              "       [60.225087, 28.902609, 14.337043],\n",
              "       [35.545054, 30.295484, 39.422796],\n",
              "       [56.815859, 38.419375, 13.961641],\n",
              "       [49.47    , 30.96626 , 23.053053],\n",
              "       [47.811742, 41.36447 , 20.816439],\n",
              "       [35.779512, 31.227724, 27.689919],\n",
              "       [55.974031, 33.09    , 21.330698],\n",
              "       [40.502021, 34.040957, 16.767979],\n",
              "       [38.78828 , 36.947204, 24.048172],\n",
              "       [52.082462, 39.402308, 16.628231],\n",
              "       [57.427596, 33.121827, 12.412404],\n",
              "       [39.528547, 42.353077, 23.810769],\n",
              "       [39.36155 , 40.205116, 26.27124 ],\n",
              "       [66.665564, 26.855564, 15.602331],\n",
              "       [48.587099, 26.988702,  9.948168],\n",
              "       [52.675729, 35.32625 , 16.510208],\n",
              "       [45.813043, 53.54587 , 30.403261],\n",
              "       [44.765313, 43.954375, 24.824609],\n",
              "       [42.643386, 33.345984, 14.643386],\n",
              "       [44.512578, 37.723594, 15.144922],\n",
              "       [51.830571, 44.304667, 10.049524],\n",
              "       [42.202857, 38.628681, 21.68989 ],\n",
              "       [57.241308, 33.237462, 16.194154],\n",
              "       [36.353298, 39.223723, 26.603617],\n",
              "       [35.566589, 48.679535, 29.923023],\n",
              "       [33.422105, 56.539263, 32.230842],\n",
              "       [31.7503  , 44.3443  , 39.1499  ],\n",
              "       [33.332362, 46.603622, 37.348898],\n",
              "       [41.929385, 41.960077, 17.815385],\n",
              "       [57.145227, 31.194545, 16.385   ],\n",
              "       [46.137348, 43.874697, 15.843258],\n",
              "       [49.331231, 34.458231, 23.982462],\n",
              "       [44.171154, 43.299846, 27.451538],\n",
              "       [49.322373, 41.494915, 14.199153],\n",
              "       [46.158281, 47.806719, 23.341641],\n",
              "       [48.355859, 35.778281, 15.101563],\n",
              "       [47.143474, 40.162316, 20.52    ],\n",
              "       [48.403333, 36.152326, 12.157829],\n",
              "       [40.281616, 35.341515, 20.805657],\n",
              "       [49.049323, 32.918647, 22.447594],\n",
              "       [47.737462, 41.528077, 19.694385],\n",
              "       [48.743333, 42.93187 , 17.984797],\n",
              "       [38.766702, 42.88383 , 22.15266 ],\n",
              "       [38.471406, 41.289922, 39.664375],\n",
              "       [54.911368, 42.269895, 11.263263],\n",
              "       [37.240989, 46.254286, 31.804286],\n",
              "       [46.319462, 38.176692, 14.143846],\n",
              "       [53.331333, 33.349333, 18.497333],\n",
              "       [51.006406, 36.351563, 22.484609],\n",
              "       [47.646364, 39.943939, 23.249848],\n",
              "       [32.683125, 54.681667, 35.906667],\n",
              "       [65.067447, 25.46617 , 14.787447],\n",
              "       [54.431756, 37.019847, 19.690305],\n",
              "       [35.834375, 44.595625, 23.930625],\n",
              "       [39.546441, 45.188475, 25.213644],\n",
              "       [41.114   , 41.884769, 19.713231],\n",
              "       [50.898163, 38.136837, 19.937347],\n",
              "       [45.669015, 44.523106, 20.548864],\n",
              "       [37.411719, 43.379531, 33.332422],\n",
              "       [31.541828, 47.688172, 28.897527],\n",
              "       [41.483701, 50.352283, 30.561496],\n",
              "       [36.813721, 52.722403, 14.703256],\n",
              "       [43.81828 , 42.931613, 17.494624],\n",
              "       [39.31561 , 30.73935 , 13.23122 ],\n",
              "       [63.995606, 26.921818,  9.305985],\n",
              "       [44.541328, 45.529453, 33.89125 ],\n",
              "       [35.420439, 41.05807 , 24.249737],\n",
              "       [45.162043, 34.678602, 22.719355],\n",
              "       [38.499688, 46.513828, 34.344766],\n",
              "       [55.293566, 49.822326, 20.592791],\n",
              "       [46.21    , 35.002222, 19.006667],\n",
              "       [54.151721, 32.722131, 11.041475],\n",
              "       [43.443893, 23.982901, 17.032443],\n",
              "       [40.120985, 27.149545, 23.975758],\n",
              "       [53.95    , 42.411488, 16.108347],\n",
              "       [48.796045, 46.014478, 14.642985],\n",
              "       [43.805615, 36.315846, 21.608308],\n",
              "       [51.161   , 44.074   , 17.386154],\n",
              "       [58.380294, 45.653922, 12.822843],\n",
              "       [40.345769, 37.003923, 17.285538],\n",
              "       [40.808939, 43.961591, 18.982424],\n",
              "       [57.962308, 33.373538, 17.684   ],\n",
              "       [35.569389, 38.904885, 31.624351],\n",
              "       [31.960417, 48.533125, 40.096458],\n",
              "       [71.696129, 27.57121 , 19.093548],\n",
              "       [51.537405, 36.465344, 23.008168],\n",
              "       [36.258913, 45.225652, 39.427283]])"
            ]
          },
          "metadata": {},
          "execution_count": 16
        }
      ]
    },
    {
      "cell_type": "code",
      "source": [
        "Xp = [[34.297953], [41.948819], [29.370315],\n",
        "      [34.297953], [41.948819], [29.370315]]\n",
        "new_labels = hc.fit_predict(Xp)\n",
        "print(new_labels)\n",
        "\n"
      ],
      "metadata": {
        "colab": {
          "base_uri": "https://localhost:8080/"
        },
        "id": "KcuNrO9p1Uwc",
        "outputId": "ee52e00e-3551-4a28-8b7b-c0adbae89aaa"
      },
      "execution_count": 43,
      "outputs": [
        {
          "output_type": "stream",
          "name": "stdout",
          "text": [
            "[0 4 3 0 2 1]\n"
          ]
        },
        {
          "output_type": "stream",
          "name": "stderr",
          "text": [
            "/usr/local/lib/python3.10/dist-packages/sklearn/cluster/_agglomerative.py:983: FutureWarning: Attribute `affinity` was deprecated in version 1.2 and will be removed in 1.4. Use `metric` instead\n",
            "  warnings.warn(\n"
          ]
        }
      ]
    },
    {
      "cell_type": "code",
      "source": [],
      "metadata": {
        "id": "gp8hBDEk26Aq"
      },
      "execution_count": null,
      "outputs": []
    }
  ]
}