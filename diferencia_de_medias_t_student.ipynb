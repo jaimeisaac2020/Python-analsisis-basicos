{
  "nbformat": 4,
  "nbformat_minor": 0,
  "metadata": {
    "colab": {
      "name": "diferencia_de_medias_t_student.ipynb",
      "provenance": [],
      "authorship_tag": "ABX9TyOM5lB8aT4n5wmbWddPO9Rf",
      "include_colab_link": true
    },
    "kernelspec": {
      "name": "python3",
      "display_name": "Python 3"
    },
    "language_info": {
      "name": "python"
    }
  },
  "cells": [
    {
      "cell_type": "markdown",
      "metadata": {
        "id": "view-in-github",
        "colab_type": "text"
      },
      "source": [
        "<a href=\"https://colab.research.google.com/github/jaimeisaac2020/Python-analsisis-basicos/blob/mi-github/diferencia_de_medias_t_student.ipynb\" target=\"_parent\"><img src=\"https://colab.research.google.com/assets/colab-badge.svg\" alt=\"Open In Colab\"/></a>"
      ]
    },
    {
      "cell_type": "code",
      "metadata": {
        "id": "1eo2GuHmnEVW"
      },
      "source": [
        "import pandas as pd\n",
        "from scipy import stats\n",
        "import statsmodels.api as sm"
      ],
      "execution_count": 23,
      "outputs": []
    },
    {
      "cell_type": "code",
      "metadata": {
        "id": "fMf11GzAnHBk"
      },
      "source": [
        "tips=pd.read_csv('tips.csv')"
      ],
      "execution_count": 5,
      "outputs": []
    },
    {
      "cell_type": "code",
      "metadata": {
        "colab": {
          "base_uri": "https://localhost:8080/",
          "height": 203
        },
        "id": "5HzoJ4QUnLFN",
        "outputId": "582bea61-8cf5-419c-8bcc-4d73935b4642"
      },
      "source": [
        "tips.head()"
      ],
      "execution_count": 6,
      "outputs": [
        {
          "output_type": "execute_result",
          "data": {
            "text/html": [
              "<div>\n",
              "<style scoped>\n",
              "    .dataframe tbody tr th:only-of-type {\n",
              "        vertical-align: middle;\n",
              "    }\n",
              "\n",
              "    .dataframe tbody tr th {\n",
              "        vertical-align: top;\n",
              "    }\n",
              "\n",
              "    .dataframe thead th {\n",
              "        text-align: right;\n",
              "    }\n",
              "</style>\n",
              "<table border=\"1\" class=\"dataframe\">\n",
              "  <thead>\n",
              "    <tr style=\"text-align: right;\">\n",
              "      <th></th>\n",
              "      <th>Unnamed: 0</th>\n",
              "      <th>total_bill</th>\n",
              "      <th>tip</th>\n",
              "      <th>sex</th>\n",
              "      <th>smoker</th>\n",
              "      <th>day</th>\n",
              "      <th>time</th>\n",
              "      <th>size</th>\n",
              "    </tr>\n",
              "  </thead>\n",
              "  <tbody>\n",
              "    <tr>\n",
              "      <th>0</th>\n",
              "      <td>1</td>\n",
              "      <td>16.99</td>\n",
              "      <td>1.01</td>\n",
              "      <td>Female</td>\n",
              "      <td>No</td>\n",
              "      <td>Sun</td>\n",
              "      <td>Dinner</td>\n",
              "      <td>2</td>\n",
              "    </tr>\n",
              "    <tr>\n",
              "      <th>1</th>\n",
              "      <td>2</td>\n",
              "      <td>10.34</td>\n",
              "      <td>1.66</td>\n",
              "      <td>Male</td>\n",
              "      <td>No</td>\n",
              "      <td>Sun</td>\n",
              "      <td>Dinner</td>\n",
              "      <td>3</td>\n",
              "    </tr>\n",
              "    <tr>\n",
              "      <th>2</th>\n",
              "      <td>3</td>\n",
              "      <td>21.01</td>\n",
              "      <td>3.50</td>\n",
              "      <td>Male</td>\n",
              "      <td>No</td>\n",
              "      <td>Sun</td>\n",
              "      <td>Dinner</td>\n",
              "      <td>3</td>\n",
              "    </tr>\n",
              "    <tr>\n",
              "      <th>3</th>\n",
              "      <td>4</td>\n",
              "      <td>23.68</td>\n",
              "      <td>3.31</td>\n",
              "      <td>Male</td>\n",
              "      <td>No</td>\n",
              "      <td>Sun</td>\n",
              "      <td>Dinner</td>\n",
              "      <td>2</td>\n",
              "    </tr>\n",
              "    <tr>\n",
              "      <th>4</th>\n",
              "      <td>5</td>\n",
              "      <td>24.59</td>\n",
              "      <td>3.61</td>\n",
              "      <td>Female</td>\n",
              "      <td>No</td>\n",
              "      <td>Sun</td>\n",
              "      <td>Dinner</td>\n",
              "      <td>4</td>\n",
              "    </tr>\n",
              "  </tbody>\n",
              "</table>\n",
              "</div>"
            ],
            "text/plain": [
              "   Unnamed: 0  total_bill   tip     sex smoker  day    time  size\n",
              "0           1       16.99  1.01  Female     No  Sun  Dinner     2\n",
              "1           2       10.34  1.66    Male     No  Sun  Dinner     3\n",
              "2           3       21.01  3.50    Male     No  Sun  Dinner     3\n",
              "3           4       23.68  3.31    Male     No  Sun  Dinner     2\n",
              "4           5       24.59  3.61  Female     No  Sun  Dinner     4"
            ]
          },
          "metadata": {},
          "execution_count": 6
        }
      ]
    },
    {
      "cell_type": "code",
      "metadata": {
        "id": "mJ3cRFccnMoe"
      },
      "source": [
        "tip_count=tips.groupby('sex').mean()['tip']"
      ],
      "execution_count": 7,
      "outputs": []
    },
    {
      "cell_type": "code",
      "metadata": {
        "colab": {
          "base_uri": "https://localhost:8080/"
        },
        "id": "5DCI_XRaneSI",
        "outputId": "693b6cea-4cc3-4048-c689-f4b2b0ee4de6"
      },
      "source": [
        "tip_count"
      ],
      "execution_count": 8,
      "outputs": [
        {
          "output_type": "execute_result",
          "data": {
            "text/plain": [
              "sex\n",
              "Female    2.833448\n",
              "Male      3.089618\n",
              "Name: tip, dtype: float64"
            ]
          },
          "metadata": {},
          "execution_count": 8
        }
      ]
    },
    {
      "cell_type": "code",
      "metadata": {
        "id": "HRyo14KtnfYT"
      },
      "source": [
        "genero0=tips[tips['sex']=='Female']['tip']"
      ],
      "execution_count": 26,
      "outputs": []
    },
    {
      "cell_type": "code",
      "metadata": {
        "colab": {
          "base_uri": "https://localhost:8080/"
        },
        "id": "ez0uyXZ8rDlD",
        "outputId": "29dc390b-14cd-44c9-b510-d0fa550f7d28"
      },
      "source": [
        "genero0"
      ],
      "execution_count": 27,
      "outputs": [
        {
          "output_type": "execute_result",
          "data": {
            "text/plain": [
              "0      1.01\n",
              "4      3.61\n",
              "11     5.00\n",
              "14     3.02\n",
              "16     1.67\n",
              "       ... \n",
              "226    2.00\n",
              "229    2.88\n",
              "238    4.67\n",
              "240    2.00\n",
              "243    3.00\n",
              "Name: tip, Length: 87, dtype: float64"
            ]
          },
          "metadata": {},
          "execution_count": 27
        }
      ]
    },
    {
      "cell_type": "code",
      "metadata": {
        "colab": {
          "base_uri": "https://localhost:8080/"
        },
        "id": "zXE3kF2knqrZ",
        "outputId": "baca367d-7453-48ab-ec35-fea0da5f071a"
      },
      "source": [
        "genero0.value_counts()"
      ],
      "execution_count": 11,
      "outputs": [
        {
          "output_type": "execute_result",
          "data": {
            "text/plain": [
              "Dinner    52\n",
              "Lunch     35\n",
              "Name: time, dtype: int64"
            ]
          },
          "metadata": {},
          "execution_count": 11
        }
      ]
    },
    {
      "cell_type": "code",
      "metadata": {
        "id": "E3Dp8mOUnr--"
      },
      "source": [
        "gener01=tips[tips['sex']=='Male']['tip']"
      ],
      "execution_count": 24,
      "outputs": []
    },
    {
      "cell_type": "code",
      "metadata": {
        "colab": {
          "base_uri": "https://localhost:8080/"
        },
        "id": "7kHpR8uvqpCu",
        "outputId": "033458bf-06b0-4f66-da1b-0ea3b98836d5"
      },
      "source": [
        "gener01"
      ],
      "execution_count": 25,
      "outputs": [
        {
          "output_type": "execute_result",
          "data": {
            "text/plain": [
              "1      1.66\n",
              "2      3.50\n",
              "3      3.31\n",
              "5      4.71\n",
              "6      2.00\n",
              "       ... \n",
              "236    1.00\n",
              "237    1.17\n",
              "239    5.92\n",
              "241    2.00\n",
              "242    1.75\n",
              "Name: tip, Length: 157, dtype: float64"
            ]
          },
          "metadata": {},
          "execution_count": 25
        }
      ]
    },
    {
      "cell_type": "code",
      "metadata": {
        "colab": {
          "base_uri": "https://localhost:8080/"
        },
        "id": "PNUNhN0mrIFy",
        "outputId": "f566f54a-0690-496d-e042-2e30c8085516"
      },
      "source": [
        "normalidad=stats.shapiro(genero0)\n",
        "normalidad"
      ],
      "execution_count": 29,
      "outputs": [
        {
          "output_type": "execute_result",
          "data": {
            "text/plain": [
              "(0.9567776918411255, 0.005448382347822189)"
            ]
          },
          "metadata": {},
          "execution_count": 29
        }
      ]
    },
    {
      "cell_type": "code",
      "metadata": {
        "id": "tn4t-Bz1sMhr"
      },
      "source": [
        "#el p-valor es 0.005448382347822189"
      ],
      "execution_count": 30,
      "outputs": []
    },
    {
      "cell_type": "code",
      "metadata": {
        "colab": {
          "base_uri": "https://localhost:8080/"
        },
        "id": "E9l9IcAZsmsL",
        "outputId": "ae305ece-e707-419a-e062-a315f55c9c59"
      },
      "source": [
        "normalidad1=stats.shapiro(gener01)\n",
        "normalidad1"
      ],
      "execution_count": 32,
      "outputs": [
        {
          "output_type": "execute_result",
          "data": {
            "text/plain": [
              "(0.8758689165115356, 3.708431339788376e-10)"
            ]
          },
          "metadata": {},
          "execution_count": 32
        }
      ]
    },
    {
      "cell_type": "code",
      "metadata": {
        "id": "1RvzR1XAsxuz"
      },
      "source": [
        "# P-valor casi cero:3.708431339788376e-10\n",
        "# No hay normalidad"
      ],
      "execution_count": 34,
      "outputs": []
    },
    {
      "cell_type": "code",
      "metadata": {
        "colab": {
          "base_uri": "https://localhost:8080/"
        },
        "id": "v__z-6Kjs5MH",
        "outputId": "1b61d569-5d04-4eff-c47b-2e9bb0f0f792"
      },
      "source": [
        "result=stats.levene(genero0,gener01)\n",
        "result"
      ],
      "execution_count": 36,
      "outputs": [
        {
          "output_type": "execute_result",
          "data": {
            "text/plain": [
              "LeveneResult(statistic=1.9909710178779405, pvalue=0.1595236359896614)"
            ]
          },
          "metadata": {},
          "execution_count": 36
        }
      ]
    },
    {
      "cell_type": "markdown",
      "metadata": {
        "id": "ITusexLKtNAR"
      },
      "source": [
        "# Las Varianzas son Homogeneas."
      ]
    },
    {
      "cell_type": "code",
      "metadata": {
        "id": "U8xBvWeXtRIi"
      },
      "source": [
        "result2=stats.ttest_ind(genero0,gener01,\n",
        "                        equal_var=True)"
      ],
      "execution_count": 37,
      "outputs": []
    },
    {
      "cell_type": "code",
      "metadata": {
        "colab": {
          "base_uri": "https://localhost:8080/"
        },
        "id": "gORRJRTQuXeU",
        "outputId": "d0970ee5-812b-4e98-c349-9c8b056d8ae2"
      },
      "source": [
        "print(result2)"
      ],
      "execution_count": 38,
      "outputs": [
        {
          "output_type": "stream",
          "name": "stdout",
          "text": [
            "Ttest_indResult(statistic=-1.3878597054212687, pvalue=0.16645623503456763)\n"
          ]
        }
      ]
    },
    {
      "cell_type": "markdown",
      "metadata": {
        "id": "4mCAczKHucjv"
      },
      "source": [
        "# P-valor mayor que 0.05.\n",
        "\n",
        "Esto significa que no existe una diferencia obvia entre las propinas recibidas por hombres y mujeres, es decir, no existe una relación evidente entre las propinas recibidas y el género."
      ]
    }
  ]
}