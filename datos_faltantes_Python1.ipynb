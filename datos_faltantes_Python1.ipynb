{
  "nbformat": 4,
  "nbformat_minor": 0,
  "metadata": {
    "colab": {
      "name": "datos_faltantes_Python1.ipynb",
      "provenance": [],
      "collapsed_sections": [],
      "authorship_tag": "ABX9TyOLS7hPrTL9Te4ob36WT2vV",
      "include_colab_link": true
    },
    "kernelspec": {
      "name": "python3",
      "display_name": "Python 3"
    },
    "language_info": {
      "name": "python"
    }
  },
  "cells": [
    {
      "cell_type": "markdown",
      "metadata": {
        "id": "view-in-github",
        "colab_type": "text"
      },
      "source": [
        "<a href=\"https://colab.research.google.com/github/jaimeisaac2020/Python-analsisis-basicos/blob/mi-github/datos_faltantes_Python1.ipynb\" target=\"_parent\"><img src=\"https://colab.research.google.com/assets/colab-badge.svg\" alt=\"Open In Colab\"/></a>"
      ]
    },
    {
      "cell_type": "markdown",
      "metadata": {
        "id": "xxOcaicOUllV"
      },
      "source": [
        "# Manejo de datos faltantes en Python"
      ]
    },
    {
      "cell_type": "code",
      "metadata": {
        "id": "XfdE2aooTnWw"
      },
      "source": [
        "import pandas as pd"
      ],
      "execution_count": 32,
      "outputs": []
    },
    {
      "cell_type": "code",
      "metadata": {
        "id": "9eoVQQCAUto_"
      },
      "source": [
        "datos=pd.read_csv(\"clientes.csv\")"
      ],
      "execution_count": 33,
      "outputs": []
    },
    {
      "cell_type": "code",
      "metadata": {
        "colab": {
          "base_uri": "https://localhost:8080/"
        },
        "id": "ptGjYdewUy8s",
        "outputId": "8db70666-470a-4930-abed-768db2c5e404"
      },
      "source": [
        "print(datos)"
      ],
      "execution_count": 34,
      "outputs": [
        {
          "output_type": "stream",
          "name": "stdout",
          "text": [
            "    nombre  edad  ingreso\n",
            "0     Juan  35.0  15800.0\n",
            "1    Luisa  25.0  17000.0\n",
            "2      NaN  70.0  20000.0\n",
            "3   Carmen  49.0  22000.0\n",
            "4      NaN   NaN      NaN\n",
            "5    Mario  30.0  15800.0\n",
            "6    Pedro   NaN  17400.0\n",
            "7  Gustavo  27.0      NaN\n",
            "8   Carlos   NaN      NaN\n"
          ]
        }
      ]
    },
    {
      "cell_type": "code",
      "metadata": {
        "colab": {
          "base_uri": "https://localhost:8080/"
        },
        "id": "O-ZiWxA1U0kk",
        "outputId": "a86adb2e-c083-47d9-9ec4-82c3f6e1a32e"
      },
      "source": [
        "print(datos['nombre'])"
      ],
      "execution_count": 35,
      "outputs": [
        {
          "output_type": "stream",
          "name": "stdout",
          "text": [
            "0       Juan\n",
            "1      Luisa\n",
            "2        NaN\n",
            "3     Carmen\n",
            "4        NaN\n",
            "5      Mario\n",
            "6      Pedro\n",
            "7    Gustavo\n",
            "8     Carlos\n",
            "Name: nombre, dtype: object\n"
          ]
        }
      ]
    },
    {
      "cell_type": "code",
      "metadata": {
        "colab": {
          "base_uri": "https://localhost:8080/"
        },
        "id": "166CBGmnVODR",
        "outputId": "0611048c-b134-41d7-9ad3-c68238934517"
      },
      "source": [
        "datos['nombre'].isnull()"
      ],
      "execution_count": 36,
      "outputs": [
        {
          "output_type": "execute_result",
          "data": {
            "text/plain": [
              "0    False\n",
              "1    False\n",
              "2     True\n",
              "3    False\n",
              "4     True\n",
              "5    False\n",
              "6    False\n",
              "7    False\n",
              "8    False\n",
              "Name: nombre, dtype: bool"
            ]
          },
          "metadata": {},
          "execution_count": 36
        }
      ]
    },
    {
      "cell_type": "code",
      "metadata": {
        "colab": {
          "base_uri": "https://localhost:8080/"
        },
        "id": "btLKEBPkVUXv",
        "outputId": "57427cd9-1955-4c78-c1e0-f7f284f4e3a9"
      },
      "source": [
        "datos.isnull().sum()"
      ],
      "execution_count": 37,
      "outputs": [
        {
          "output_type": "execute_result",
          "data": {
            "text/plain": [
              "nombre     2\n",
              "edad       3\n",
              "ingreso    3\n",
              "dtype: int64"
            ]
          },
          "metadata": {},
          "execution_count": 37
        }
      ]
    },
    {
      "cell_type": "code",
      "metadata": {
        "colab": {
          "base_uri": "https://localhost:8080/",
          "height": 112
        },
        "id": "CMK0JoSjVaZM",
        "outputId": "fe0a4a80-a7ce-4e98-afcd-5834fd45aa45"
      },
      "source": [
        "datos[datos['nombre'].isnull()]"
      ],
      "execution_count": 38,
      "outputs": [
        {
          "output_type": "execute_result",
          "data": {
            "text/html": [
              "<div>\n",
              "<style scoped>\n",
              "    .dataframe tbody tr th:only-of-type {\n",
              "        vertical-align: middle;\n",
              "    }\n",
              "\n",
              "    .dataframe tbody tr th {\n",
              "        vertical-align: top;\n",
              "    }\n",
              "\n",
              "    .dataframe thead th {\n",
              "        text-align: right;\n",
              "    }\n",
              "</style>\n",
              "<table border=\"1\" class=\"dataframe\">\n",
              "  <thead>\n",
              "    <tr style=\"text-align: right;\">\n",
              "      <th></th>\n",
              "      <th>nombre</th>\n",
              "      <th>edad</th>\n",
              "      <th>ingreso</th>\n",
              "    </tr>\n",
              "  </thead>\n",
              "  <tbody>\n",
              "    <tr>\n",
              "      <th>2</th>\n",
              "      <td>NaN</td>\n",
              "      <td>70.0</td>\n",
              "      <td>20000.0</td>\n",
              "    </tr>\n",
              "    <tr>\n",
              "      <th>4</th>\n",
              "      <td>NaN</td>\n",
              "      <td>NaN</td>\n",
              "      <td>NaN</td>\n",
              "    </tr>\n",
              "  </tbody>\n",
              "</table>\n",
              "</div>"
            ],
            "text/plain": [
              "  nombre  edad  ingreso\n",
              "2    NaN  70.0  20000.0\n",
              "4    NaN   NaN      NaN"
            ]
          },
          "metadata": {},
          "execution_count": 38
        }
      ]
    },
    {
      "cell_type": "code",
      "metadata": {
        "id": "iXKtuMoLVj7s"
      },
      "source": [
        "#datos.dropna(subset=['nombre','ingreso'],inplace=True)"
      ],
      "execution_count": 22,
      "outputs": []
    },
    {
      "cell_type": "code",
      "metadata": {
        "colab": {
          "base_uri": "https://localhost:8080/",
          "height": 206
        },
        "id": "Xk-ss7IgWV1c",
        "outputId": "ec014ce0-0e10-4ad9-9918-2fed3dd73ffa"
      },
      "source": [
        "datos.head()"
      ],
      "execution_count": 23,
      "outputs": [
        {
          "output_type": "execute_result",
          "data": {
            "text/html": [
              "<div>\n",
              "<style scoped>\n",
              "    .dataframe tbody tr th:only-of-type {\n",
              "        vertical-align: middle;\n",
              "    }\n",
              "\n",
              "    .dataframe tbody tr th {\n",
              "        vertical-align: top;\n",
              "    }\n",
              "\n",
              "    .dataframe thead th {\n",
              "        text-align: right;\n",
              "    }\n",
              "</style>\n",
              "<table border=\"1\" class=\"dataframe\">\n",
              "  <thead>\n",
              "    <tr style=\"text-align: right;\">\n",
              "      <th></th>\n",
              "      <th>nombre</th>\n",
              "      <th>edad</th>\n",
              "      <th>ingreso</th>\n",
              "    </tr>\n",
              "  </thead>\n",
              "  <tbody>\n",
              "    <tr>\n",
              "      <th>0</th>\n",
              "      <td>Juan</td>\n",
              "      <td>35.0</td>\n",
              "      <td>15800.0</td>\n",
              "    </tr>\n",
              "    <tr>\n",
              "      <th>1</th>\n",
              "      <td>Luisa</td>\n",
              "      <td>25.0</td>\n",
              "      <td>17000.0</td>\n",
              "    </tr>\n",
              "    <tr>\n",
              "      <th>2</th>\n",
              "      <td>NaN</td>\n",
              "      <td>70.0</td>\n",
              "      <td>20000.0</td>\n",
              "    </tr>\n",
              "    <tr>\n",
              "      <th>3</th>\n",
              "      <td>Carmen</td>\n",
              "      <td>49.0</td>\n",
              "      <td>22000.0</td>\n",
              "    </tr>\n",
              "    <tr>\n",
              "      <th>4</th>\n",
              "      <td>NaN</td>\n",
              "      <td>NaN</td>\n",
              "      <td>NaN</td>\n",
              "    </tr>\n",
              "  </tbody>\n",
              "</table>\n",
              "</div>"
            ],
            "text/plain": [
              "   nombre  edad  ingreso\n",
              "0    Juan  35.0  15800.0\n",
              "1   Luisa  25.0  17000.0\n",
              "2     NaN  70.0  20000.0\n",
              "3  Carmen  49.0  22000.0\n",
              "4     NaN   NaN      NaN"
            ]
          },
          "metadata": {},
          "execution_count": 23
        }
      ]
    },
    {
      "cell_type": "code",
      "metadata": {
        "id": "zna_l6N4WW50"
      },
      "source": [
        "#datos.fillna(0)"
      ],
      "execution_count": 29,
      "outputs": []
    },
    {
      "cell_type": "code",
      "metadata": {
        "colab": {
          "base_uri": "https://localhost:8080/"
        },
        "id": "j9isKeLAWpY9",
        "outputId": "480cf2a2-6afe-48d0-96dc-8562eff21c81"
      },
      "source": [
        "print(datos)"
      ],
      "execution_count": 30,
      "outputs": [
        {
          "output_type": "stream",
          "name": "stdout",
          "text": [
            "    nombre  edad  ingreso\n",
            "0     Juan  35.0  15800.0\n",
            "1    Luisa  25.0  17000.0\n",
            "2      NaN  70.0  20000.0\n",
            "3   Carmen  49.0  22000.0\n",
            "4      NaN   NaN      NaN\n",
            "5    Mario  30.0  15800.0\n",
            "6    Pedro   NaN  17400.0\n",
            "7  Gustavo  27.0      NaN\n",
            "8   Carlos   NaN      NaN\n"
          ]
        }
      ]
    },
    {
      "cell_type": "code",
      "metadata": {
        "colab": {
          "base_uri": "https://localhost:8080/"
        },
        "id": "xtUmdA6IWreC",
        "outputId": "7a75f5b4-d3cd-4f0b-db62-bfc6400f1329"
      },
      "source": [
        "#datos['nombre'].fillna('Desconocido')"
      ],
      "execution_count": 31,
      "outputs": [
        {
          "output_type": "execute_result",
          "data": {
            "text/plain": [
              "0           Juan\n",
              "1          Luisa\n",
              "2    Desconocido\n",
              "3         Carmen\n",
              "4    Desconocido\n",
              "5          Mario\n",
              "6          Pedro\n",
              "7        Gustavo\n",
              "8         Carlos\n",
              "Name: nombre, dtype: object"
            ]
          },
          "metadata": {},
          "execution_count": 31
        }
      ]
    },
    {
      "cell_type": "code",
      "metadata": {
        "colab": {
          "base_uri": "https://localhost:8080/"
        },
        "id": "4KUcRNKAXE0R",
        "outputId": "def6c6fc-353f-4128-d127-e7b8fd3e2bb1"
      },
      "source": [
        "print(datos)"
      ],
      "execution_count": 39,
      "outputs": [
        {
          "output_type": "stream",
          "name": "stdout",
          "text": [
            "    nombre  edad  ingreso\n",
            "0     Juan  35.0  15800.0\n",
            "1    Luisa  25.0  17000.0\n",
            "2      NaN  70.0  20000.0\n",
            "3   Carmen  49.0  22000.0\n",
            "4      NaN   NaN      NaN\n",
            "5    Mario  30.0  15800.0\n",
            "6    Pedro   NaN  17400.0\n",
            "7  Gustavo  27.0      NaN\n",
            "8   Carlos   NaN      NaN\n"
          ]
        }
      ]
    },
    {
      "cell_type": "code",
      "metadata": {
        "id": "yvaFBs2EXJih"
      },
      "source": [
        "media=datos['ingreso'].mean()"
      ],
      "execution_count": 40,
      "outputs": []
    },
    {
      "cell_type": "code",
      "metadata": {
        "colab": {
          "base_uri": "https://localhost:8080/"
        },
        "id": "Fzv0n5mEZB12",
        "outputId": "2e8def1d-edd2-4d4c-fe13-d287f7571424"
      },
      "source": [
        "media"
      ],
      "execution_count": 43,
      "outputs": [
        {
          "output_type": "execute_result",
          "data": {
            "text/plain": [
              "18000.0"
            ]
          },
          "metadata": {},
          "execution_count": 43
        }
      ]
    },
    {
      "cell_type": "code",
      "metadata": {
        "id": "SsfByomtY5MH"
      },
      "source": [
        "mediana=datos['ingreso'].median()"
      ],
      "execution_count": 41,
      "outputs": []
    },
    {
      "cell_type": "code",
      "metadata": {
        "colab": {
          "base_uri": "https://localhost:8080/"
        },
        "id": "bMaH6nmCZDAP",
        "outputId": "e3f83ea5-55da-408a-e1d6-31b477f9d845"
      },
      "source": [
        "mediana"
      ],
      "execution_count": 44,
      "outputs": [
        {
          "output_type": "execute_result",
          "data": {
            "text/plain": [
              "17200.0"
            ]
          },
          "metadata": {},
          "execution_count": 44
        }
      ]
    },
    {
      "cell_type": "code",
      "metadata": {
        "id": "V7thWgGFY82A"
      },
      "source": [
        "moda=datos['ingreso'].mode()[0]"
      ],
      "execution_count": 52,
      "outputs": []
    },
    {
      "cell_type": "code",
      "metadata": {
        "colab": {
          "base_uri": "https://localhost:8080/"
        },
        "id": "4I-532p_ZAu9",
        "outputId": "9de8e036-4484-4f2e-faa5-d14029f31488"
      },
      "source": [
        "moda"
      ],
      "execution_count": 53,
      "outputs": [
        {
          "output_type": "execute_result",
          "data": {
            "text/plain": [
              "15800.0"
            ]
          },
          "metadata": {},
          "execution_count": 53
        }
      ]
    },
    {
      "cell_type": "code",
      "metadata": {
        "id": "8Q6QmA0EZFkf"
      },
      "source": [
        "datos['ingreso']=datos['ingreso'].fillna(moda)"
      ],
      "execution_count": 56,
      "outputs": []
    },
    {
      "cell_type": "code",
      "metadata": {
        "colab": {
          "base_uri": "https://localhost:8080/"
        },
        "id": "ynx7WXurZwQ4",
        "outputId": "2131382d-2671-42d9-f8f9-201579538b8e"
      },
      "source": [
        "print(datos)"
      ],
      "execution_count": 57,
      "outputs": [
        {
          "output_type": "stream",
          "name": "stdout",
          "text": [
            "    nombre  edad  ingreso\n",
            "0     Juan  35.0  15800.0\n",
            "1    Luisa  25.0  17000.0\n",
            "2      NaN  70.0  20000.0\n",
            "3   Carmen  49.0  22000.0\n",
            "4      NaN   NaN  15800.0\n",
            "5    Mario  30.0  15800.0\n",
            "6    Pedro   NaN  17400.0\n",
            "7  Gustavo  27.0  15800.0\n",
            "8   Carlos   NaN  15800.0\n"
          ]
        }
      ]
    },
    {
      "cell_type": "code",
      "metadata": {
        "id": "ASDdFSt0Zxmm"
      },
      "source": [
        ""
      ],
      "execution_count": null,
      "outputs": []
    }
  ]
}