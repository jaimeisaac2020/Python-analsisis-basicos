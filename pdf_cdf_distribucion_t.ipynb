{
  "nbformat": 4,
  "nbformat_minor": 0,
  "metadata": {
    "colab": {
      "name": "pdf_cdf_distribucion_t.ipynb",
      "provenance": [],
      "authorship_tag": "ABX9TyM81RzVAxxhkLtleSWZG3eD",
      "include_colab_link": true
    },
    "kernelspec": {
      "name": "python3",
      "display_name": "Python 3"
    },
    "language_info": {
      "name": "python"
    }
  },
  "cells": [
    {
      "cell_type": "markdown",
      "metadata": {
        "id": "view-in-github",
        "colab_type": "text"
      },
      "source": [
        "<a href=\"https://colab.research.google.com/github/jaimeisaac2020/Python-analsisis-basicos/blob/mi-github/pdf_cdf_distribucion_t.ipynb\" target=\"_parent\"><img src=\"https://colab.research.google.com/assets/colab-badge.svg\" alt=\"Open In Colab\"/></a>"
      ]
    },
    {
      "cell_type": "markdown",
      "metadata": {
        "id": "RrdfspvQGtgb"
      },
      "source": [
        "# Distribucion t de student"
      ]
    },
    {
      "cell_type": "code",
      "metadata": {
        "id": "E7RDNrprGp7P"
      },
      "source": [
        "from numpy import arange\n",
        "from scipy.stats import t\n",
        "import matplotlib.pyplot as plt"
      ],
      "execution_count": 1,
      "outputs": []
    },
    {
      "cell_type": "code",
      "metadata": {
        "id": "6IL7gAqLHlL7"
      },
      "source": [
        "espacio=arange(-5,5,0.001)\n",
        "df=len(espacio)-1"
      ],
      "execution_count": 6,
      "outputs": []
    },
    {
      "cell_type": "code",
      "metadata": {
        "colab": {
          "base_uri": "https://localhost:8080/"
        },
        "id": "EAmn6M7xHthn",
        "outputId": "834f09ed-a373-4fbc-c276-fe36acb22ead"
      },
      "source": [
        "pdf=t.pdf(espacio,df)\n",
        "pdf"
      ],
      "execution_count": 7,
      "outputs": [
        {
          "output_type": "execute_result",
          "data": {
            "text/plain": [
              "array([1.50817306e-06, 1.51571391e-06, 1.52329095e-06, ...,\n",
              "       1.53090435e-06, 1.52329095e-06, 1.51571391e-06])"
            ]
          },
          "metadata": {},
          "execution_count": 7
        }
      ]
    },
    {
      "cell_type": "code",
      "metadata": {
        "colab": {
          "base_uri": "https://localhost:8080/",
          "height": 265
        },
        "id": "3_ww1ofvHwzD",
        "outputId": "08b8b765-d373-4df1-8ab9-5795ed620881"
      },
      "source": [
        "plt.plot(espacio,pdf)\n",
        "plt.show()"
      ],
      "execution_count": 8,
      "outputs": [
        {
          "output_type": "display_data",
          "data": {
            "image/png": "[encoded data removed]",
            "text/plain": [
              "<Figure size 432x288 with 1 Axes>"
            ]
          },
          "metadata": {
            "needs_background": "light"
          }
        }
      ]
    },
    {
      "cell_type": "code",
      "metadata": {
        "id": "tGs4-AR7H4Oi"
      },
      "source": [
        "from numpy import arange\n",
        "from scipy.stats import t\n",
        "import matplotlib.pyplot as plt\n"
      ],
      "execution_count": 9,
      "outputs": []
    },
    {
      "cell_type": "code",
      "metadata": {
        "id": "LAbAk8HEImPh"
      },
      "source": [
        "espacio=arange(-5,5,0.001)\n",
        "df=len(espacio)-1"
      ],
      "execution_count": 11,
      "outputs": []
    },
    {
      "cell_type": "code",
      "metadata": {
        "id": "15ftYh-KIqcO"
      },
      "source": [
        "cdf=t.cdf(espacio,df)"
      ],
      "execution_count": 12,
      "outputs": []
    },
    {
      "cell_type": "code",
      "metadata": {
        "colab": {
          "base_uri": "https://localhost:8080/",
          "height": 265
        },
        "id": "LsQ03e5lIyzj",
        "outputId": "4026a04b-55ce-41df-de60-1966b2baf8f3"
      },
      "source": [
        "plt.grid()\n",
        "plt.plot(espacio,cdf)\n",
        "plt.show()"
      ],
      "execution_count": 14,
      "outputs": [
        {
          "output_type": "display_data",
          "data": {
            "image/png": "[encoded data removed]",
            "text/plain": [
              "<Figure size 432x288 with 1 Axes>"
            ]
          },
          "metadata": {
            "needs_background": "light"
          }
        }
      ]
    }
  ]
}