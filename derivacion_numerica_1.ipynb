{
  "nbformat": 4,
  "nbformat_minor": 0,
  "metadata": {
    "colab": {
      "name": "derivacion numerica 1.ipynb",
      "provenance": [],
      "authorship_tag": "ABX9TyNLn2tNB/J34RMPguKi2AFb",
      "include_colab_link": true
    },
    "kernelspec": {
      "name": "python3",
      "display_name": "Python 3"
    },
    "language_info": {
      "name": "python"
    }
  },
  "cells": [
    {
      "cell_type": "markdown",
      "metadata": {
        "id": "view-in-github",
        "colab_type": "text"
      },
      "source": [
        "<a href=\"https://colab.research.google.com/github/jaimeisaac2020/Python-analsisis-basicos/blob/mi-github/derivacion_numerica_1.ipynb\" target=\"_parent\"><img src=\"https://colab.research.google.com/assets/colab-badge.svg\" alt=\"Open In Colab\"/></a>"
      ]
    },
    {
      "cell_type": "markdown",
      "source": [
        "# Derivacion numerica en Python"
      ],
      "metadata": {
        "id": "JydE3ueYUvyq"
      }
    },
    {
      "cell_type": "code",
      "execution_count": 1,
      "metadata": {
        "id": "OdzODceWSMaH"
      },
      "outputs": [],
      "source": [
        "from scipy.misc import derivative"
      ]
    },
    {
      "cell_type": "markdown",
      "source": [
        ""
      ],
      "metadata": {
        "id": "oMNUzIXDSTHg"
      }
    },
    {
      "cell_type": "code",
      "source": [
        "import numpy as np\n"
      ],
      "metadata": {
        "id": "RnBrzoJcSQyM"
      },
      "execution_count": 2,
      "outputs": []
    },
    {
      "cell_type": "code",
      "source": [
        "x=np.arange(0,5)"
      ],
      "metadata": {
        "id": "NtX8llbMScKW"
      },
      "execution_count": 11,
      "outputs": []
    },
    {
      "cell_type": "code",
      "source": [
        "def f(x): return np.cos(x)+x\n",
        "derivative(f,x,dx=0.01)"
      ],
      "metadata": {
        "colab": {
          "base_uri": "https://localhost:8080/"
        },
        "id": "PbpZtOm8SfwK",
        "outputId": "7edc2976-48e8-4696-a2a3-925592b27703"
      },
      "execution_count": 12,
      "outputs": [
        {
          "output_type": "execute_result",
          "data": {
            "text/plain": [
              "array([1.        , 0.15854304, 0.09071773, 0.85888234, 1.75678988])"
            ]
          },
          "metadata": {},
          "execution_count": 12
        }
      ]
    },
    {
      "cell_type": "code",
      "source": [
        "x=0.5\n",
        "f = lambda x: ((4*x**2 + 2*x + 1)/(x + 2*np.exp(x)))**x\n",
        "derivative(f,x,dx=0.0001)"
      ],
      "metadata": {
        "colab": {
          "base_uri": "https://localhost:8080/"
        },
        "id": "L_xqOxp7SsMR",
        "outputId": "b5ad1292-dbf4-4557-e57e-6bd03add14a2"
      },
      "execution_count": 13,
      "outputs": [
        {
          "output_type": "execute_result",
          "data": {
            "text/plain": [
              "0.17638742129288953"
            ]
          },
          "metadata": {},
          "execution_count": 13
        }
      ]
    },
    {
      "cell_type": "code",
      "source": [
        "import matplotlib.pyplot as plt\n"
      ],
      "metadata": {
        "id": "qt9C1sTYTfmQ"
      },
      "execution_count": 15,
      "outputs": []
    },
    {
      "cell_type": "code",
      "source": [
        "x = np.linspace(0,6,100)\n",
        "f = lambda x: ((4*x**2 + 2*x + 1)/(x + 2*np.exp(x)))**x\n",
        "y = f(x)\n",
        "dydx = derivative(f,x)\n",
        "\n",
        "plt.figure(figsize=(12,5))\n",
        "plt.plot(x,y,label='y=f(x)')\n",
        "plt.plot(x,dydx,label=\"Central Difference y=f'(x)\")\n",
        "plt.legend()\n",
        "plt.grid(True)\n",
        "\n",
        "plt.show()"
      ],
      "metadata": {
        "colab": {
          "base_uri": "https://localhost:8080/",
          "height": 355
        },
        "id": "CtozGx1eTP8F",
        "outputId": "c62f3d93-97a9-490e-eaa8-24803c3773f1"
      },
      "execution_count": 16,
      "outputs": [
        {
          "output_type": "stream",
          "name": "stderr",
          "text": [
            "/usr/local/lib/python3.7/dist-packages/ipykernel_launcher.py:2: RuntimeWarning: invalid value encountered in power\n",
            "  \n"
          ]
        },
        {
          "output_type": "display_data",
          "data": {
            "text/plain": [
              "<Figure size 864x360 with 1 Axes>"
            ],
            "image/png": "[encoded data removed]"
          },
          "metadata": {
            "needs_background": "light"
          }
        }
      ]
    },
    {
      "cell_type": "code",
      "source": [
        ""
      ],
      "metadata": {
        "id": "cYVR3ez0TimM"
      },
      "execution_count": null,
      "outputs": []
    }
  ]
}