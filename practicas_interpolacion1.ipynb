{
  "nbformat": 4,
  "nbformat_minor": 0,
  "metadata": {
    "colab": {
      "name": "practicas_interpolacion1.ipynb",
      "provenance": [],
      "authorship_tag": "ABX9TyNnWC3I811qmqv1ZXTkvApi",
      "include_colab_link": true
    },
    "kernelspec": {
      "name": "python3",
      "display_name": "Python 3"
    },
    "language_info": {
      "name": "python"
    }
  },
  "cells": [
    {
      "cell_type": "markdown",
      "metadata": {
        "id": "view-in-github",
        "colab_type": "text"
      },
      "source": [
        "<a href=\"https://colab.research.google.com/github/jaimeisaac2020/Python-analsisis-basicos/blob/mi-github/practicas_interpolacion1.ipynb\" target=\"_parent\"><img src=\"https://colab.research.google.com/assets/colab-badge.svg\" alt=\"Open In Colab\"/></a>"
      ]
    },
    {
      "cell_type": "code",
      "execution_count": 2,
      "metadata": {
        "id": "Sx76epQ_X1hA"
      },
      "outputs": [],
      "source": [
        "from math import *"
      ]
    },
    {
      "cell_type": "code",
      "source": [
        "sin(0.2)"
      ],
      "metadata": {
        "id": "0F3Wo8FuX8Za",
        "colab": {
          "base_uri": "https://localhost:8080/"
        },
        "outputId": "78446aa1-9348-4dae-ca2e-d28a02c900d6"
      },
      "execution_count": 3,
      "outputs": [
        {
          "output_type": "execute_result",
          "data": {
            "text/plain": [
              "0.19866933079506122"
            ]
          },
          "metadata": {},
          "execution_count": 3
        }
      ]
    },
    {
      "cell_type": "code",
      "source": [
        "sin(1.0)"
      ],
      "metadata": {
        "colab": {
          "base_uri": "https://localhost:8080/"
        },
        "id": "w1c_bPZUYA5m",
        "outputId": "f21d4a4e-ee26-40c3-fba2-b1e56faeae3f"
      },
      "execution_count": 4,
      "outputs": [
        {
          "output_type": "execute_result",
          "data": {
            "text/plain": [
              "0.8414709848078965"
            ]
          },
          "metadata": {},
          "execution_count": 4
        }
      ]
    },
    {
      "cell_type": "code",
      "source": [
        "import numpy as np\n",
        "import matplotlib.pyplot as plt\n"
      ],
      "metadata": {
        "id": "6728cFAIYCrS"
      },
      "execution_count": 5,
      "outputs": []
    },
    {
      "cell_type": "code",
      "source": [
        "x=np.arange(0.2,1.0,0.1)"
      ],
      "metadata": {
        "id": "i0U4MCmKYIBz"
      },
      "execution_count": 6,
      "outputs": []
    },
    {
      "cell_type": "code",
      "source": [
        "y=np.sin(x)\n",
        "y"
      ],
      "metadata": {
        "colab": {
          "base_uri": "https://localhost:8080/"
        },
        "id": "qxdWwewmYPie",
        "outputId": "483cafb0-8bac-4a65-ef9c-6afe12ea0a95"
      },
      "execution_count": 7,
      "outputs": [
        {
          "output_type": "execute_result",
          "data": {
            "text/plain": [
              "array([0.19866933, 0.29552021, 0.38941834, 0.47942554, 0.56464247,\n",
              "       0.64421769, 0.71735609, 0.78332691])"
            ]
          },
          "metadata": {},
          "execution_count": 7
        }
      ]
    },
    {
      "cell_type": "code",
      "source": [
        "plt.figure(figsize=(12,6))\n",
        "plt.grid()\n",
        "plt.axvline(x=0,color='red')\n",
        "plt.axhline(y=0,color='red')\n",
        "plt.plot(x,y)\n",
        "plt.show()"
      ],
      "metadata": {
        "colab": {
          "base_uri": "https://localhost:8080/",
          "height": 374
        },
        "id": "TkowgfNLYT9J",
        "outputId": "e064c7a8-0a8c-404f-806c-a03bad237e7f"
      },
      "execution_count": 8,
      "outputs": [
        {
          "output_type": "display_data",
          "data": {
            "text/plain": [
              "<Figure size 864x432 with 1 Axes>"
            ],
            "image/png": "[encoded data removed]"
          },
          "metadata": {
            "needs_background": "light"
          }
        }
      ]
    },
    {
      "cell_type": "code",
      "source": [
        "from sympy import *"
      ],
      "metadata": {
        "id": "7a1INAXzYier"
      },
      "execution_count": 9,
      "outputs": []
    },
    {
      "cell_type": "code",
      "source": [
        "x=symbols('x')"
      ],
      "metadata": {
        "id": "INQF62V0Z2qm"
      },
      "execution_count": 10,
      "outputs": []
    },
    {
      "cell_type": "code",
      "source": [
        "p_1=(0.19866933079506122/(0.2-1))*(x-1)+((0.8414709848078965)/(1-0.2))*(x-0.2)"
      ],
      "metadata": {
        "id": "FrgW5OnDZ80s"
      },
      "execution_count": 11,
      "outputs": []
    },
    {
      "cell_type": "code",
      "source": [
        "p_1"
      ],
      "metadata": {
        "colab": {
          "base_uri": "https://localhost:8080/",
          "height": 38
        },
        "id": "6OJp_y4eaT9R",
        "outputId": "26fa115f-2804-44d4-c805-ea22b5dca07e"
      },
      "execution_count": 12,
      "outputs": [
        {
          "output_type": "execute_result",
          "data": {
            "text/plain": [
              "0.803502067516044*x + 0.0379689172918524"
            ],
            "text/latex": "$\\displaystyle 0.803502067516044 x + 0.0379689172918524$"
          },
          "metadata": {},
          "execution_count": 12
        }
      ]
    },
    {
      "cell_type": "code",
      "source": [
        "def f(x):return 0.803502067516044*x+0.0379689172918524"
      ],
      "metadata": {
        "id": "UXQovXawaozl"
      },
      "execution_count": 13,
      "outputs": []
    },
    {
      "cell_type": "code",
      "source": [
        "f(0.6)"
      ],
      "metadata": {
        "colab": {
          "base_uri": "https://localhost:8080/"
        },
        "id": "2t2f4XISartu",
        "outputId": "e6f3673d-4aec-4213-a401-5904372fc696"
      },
      "execution_count": 14,
      "outputs": [
        {
          "output_type": "execute_result",
          "data": {
            "text/plain": [
              "0.5200701578014788"
            ]
          },
          "metadata": {},
          "execution_count": 14
        }
      ]
    },
    {
      "cell_type": "code",
      "source": [
        "sin(0.6)"
      ],
      "metadata": {
        "colab": {
          "base_uri": "https://localhost:8080/",
          "height": 37
        },
        "id": "E7ozbarNcXvc",
        "outputId": "b6656627-df1a-47f8-d660-24d32623d308"
      },
      "execution_count": 15,
      "outputs": [
        {
          "output_type": "execute_result",
          "data": {
            "text/plain": [
              "0.564642473395035"
            ],
            "text/latex": "$\\displaystyle 0.564642473395035$"
          },
          "metadata": {},
          "execution_count": 15
        }
      ]
    },
    {
      "cell_type": "code",
      "source": [
        "p1=np.poly1d([1,2,3])\n"
      ],
      "metadata": {
        "id": "Nlu1BmHPbFKt"
      },
      "execution_count": 16,
      "outputs": []
    },
    {
      "cell_type": "code",
      "source": [
        "p2=np.poly1d([1,2])"
      ],
      "metadata": {
        "id": "ooyAQq6hbWHG"
      },
      "execution_count": 17,
      "outputs": []
    },
    {
      "cell_type": "code",
      "source": [
        "p1/p2"
      ],
      "metadata": {
        "colab": {
          "base_uri": "https://localhost:8080/"
        },
        "id": "fOVp2zXZbbhe",
        "outputId": "30bf003f-eaf8-43b6-d0cb-04e85e752ca5"
      },
      "execution_count": 18,
      "outputs": [
        {
          "output_type": "execute_result",
          "data": {
            "text/plain": [
              "(poly1d([1., 0.]), poly1d([3.]))"
            ]
          },
          "metadata": {},
          "execution_count": 18
        }
      ]
    },
    {
      "cell_type": "code",
      "source": [
        "x0=0.2"
      ],
      "metadata": {
        "id": "4kXSQDZebcuu"
      },
      "execution_count": 19,
      "outputs": []
    },
    {
      "cell_type": "code",
      "source": [
        "x1=0.5"
      ],
      "metadata": {
        "id": "5Yhk1nj6erV6"
      },
      "execution_count": 21,
      "outputs": []
    },
    {
      "cell_type": "code",
      "source": [
        "x2=1.0"
      ],
      "metadata": {
        "id": "2ivtTVXXez7X"
      },
      "execution_count": 22,
      "outputs": []
    },
    {
      "cell_type": "code",
      "source": [
        "y0=sin(x0)"
      ],
      "metadata": {
        "id": "752dgMkBe1Ar"
      },
      "execution_count": 23,
      "outputs": []
    },
    {
      "cell_type": "code",
      "source": [
        "y0"
      ],
      "metadata": {
        "colab": {
          "base_uri": "https://localhost:8080/",
          "height": 37
        },
        "id": "2ZBHcgcvoiPc",
        "outputId": "ce667620-9b09-4b55-c581-46cff09c4249"
      },
      "execution_count": 24,
      "outputs": [
        {
          "output_type": "execute_result",
          "data": {
            "text/plain": [
              "0.198669330795061"
            ],
            "text/latex": "$\\displaystyle 0.198669330795061$"
          },
          "metadata": {},
          "execution_count": 24
        }
      ]
    },
    {
      "cell_type": "code",
      "source": [
        "y1=sin(x1)"
      ],
      "metadata": {
        "id": "BQFNz_l2e3mO"
      },
      "execution_count": 25,
      "outputs": []
    },
    {
      "cell_type": "code",
      "source": [
        "y2=sin(x2)"
      ],
      "metadata": {
        "id": "OeBLlyaSe6FL"
      },
      "execution_count": 26,
      "outputs": []
    },
    {
      "cell_type": "code",
      "source": [
        "from sympy import*"
      ],
      "metadata": {
        "id": "fckYx6CSk3P4"
      },
      "execution_count": 28,
      "outputs": []
    },
    {
      "cell_type": "code",
      "source": [
        "t0=(y0/((x0-x1)*(x0-x2)))*((x-x1)*(x-x2))"
      ],
      "metadata": {
        "id": "a685ilYze8wY"
      },
      "execution_count": 30,
      "outputs": []
    },
    {
      "cell_type": "code",
      "source": [
        "t0"
      ],
      "metadata": {
        "colab": {
          "base_uri": "https://localhost:8080/",
          "height": 38
        },
        "id": "xQE1ivhZoeIC",
        "outputId": "805475a2-6da6-483c-d668-6e2876142695"
      },
      "execution_count": 31,
      "outputs": [
        {
          "output_type": "execute_result",
          "data": {
            "text/plain": [
              "0.827788878312755*(x - 1.0)*(x - 0.5)"
            ],
            "text/latex": "$\\displaystyle 0.827788878312755 \\left(x - 1.0\\right) \\left(x - 0.5\\right)$"
          },
          "metadata": {},
          "execution_count": 31
        }
      ]
    },
    {
      "cell_type": "code",
      "source": [
        ""
      ],
      "metadata": {
        "id": "DksEymSrliiY"
      },
      "execution_count": 31,
      "outputs": []
    },
    {
      "cell_type": "code",
      "source": [
        "expand(t0)"
      ],
      "metadata": {
        "colab": {
          "base_uri": "https://localhost:8080/",
          "height": 38
        },
        "id": "WDZDbIqufSe7",
        "outputId": "e3a6898f-81c4-4f8e-b847-2f86735aeb12"
      },
      "execution_count": 32,
      "outputs": [
        {
          "output_type": "execute_result",
          "data": {
            "text/plain": [
              "0.827788878312755*x**2 - 1.24168331746913*x + 0.413894439156378"
            ],
            "text/latex": "$\\displaystyle 0.827788878312755 x^{2} - 1.24168331746913 x + 0.413894439156378$"
          },
          "metadata": {},
          "execution_count": 32
        }
      ]
    },
    {
      "cell_type": "code",
      "source": [
        "t1=(y1/((x1-x0)*(x1-x2)))*((x-x0)*(x-x2))"
      ],
      "metadata": {
        "id": "pmFjzAjGfTQG"
      },
      "execution_count": 33,
      "outputs": []
    },
    {
      "cell_type": "code",
      "source": [
        "expand(t1)"
      ],
      "metadata": {
        "colab": {
          "base_uri": "https://localhost:8080/",
          "height": 38
        },
        "id": "OjTu3jqYgFJI",
        "outputId": "b64e1960-6dfd-4105-b1f0-955c7429f406"
      },
      "execution_count": 34,
      "outputs": [
        {
          "output_type": "execute_result",
          "data": {
            "text/plain": [
              "-3.19617025736135*x**2 + 3.83540430883362*x - 0.639234051472271"
            ],
            "text/latex": "$\\displaystyle - 3.19617025736135 x^{2} + 3.83540430883362 x - 0.639234051472271$"
          },
          "metadata": {},
          "execution_count": 34
        }
      ]
    },
    {
      "cell_type": "code",
      "source": [
        "t2=(y2/((x2-x0)*(x2-x1)))*((x-x0)*(x-x1))"
      ],
      "metadata": {
        "id": "fEK7AF0jgGBb"
      },
      "execution_count": 35,
      "outputs": []
    },
    {
      "cell_type": "code",
      "source": [
        "expand(t2)"
      ],
      "metadata": {
        "colab": {
          "base_uri": "https://localhost:8080/",
          "height": 38
        },
        "id": "z-AQ332RgUUK",
        "outputId": "bf920a1e-d179-47b1-d480-e6e832446fd2"
      },
      "execution_count": 36,
      "outputs": [
        {
          "output_type": "execute_result",
          "data": {
            "text/plain": [
              "2.10367746201974*x**2 - 1.47257422341382*x + 0.210367746201974"
            ],
            "text/latex": "$\\displaystyle 2.10367746201974 x^{2} - 1.47257422341382 x + 0.210367746201974$"
          },
          "metadata": {},
          "execution_count": 36
        }
      ]
    },
    {
      "cell_type": "code",
      "source": [
        "expand(t0+t1+t2)"
      ],
      "metadata": {
        "colab": {
          "base_uri": "https://localhost:8080/",
          "height": 38
        },
        "id": "e_I3fueGgVS5",
        "outputId": "3cba1ec1-c694-4852-95a9-029c0eabfe3e"
      },
      "execution_count": 37,
      "outputs": [
        {
          "output_type": "execute_result",
          "data": {
            "text/plain": [
              "-0.264703917028858*x**2 + 1.12114676795067*x - 0.0149718661139191"
            ],
            "text/latex": "$\\displaystyle - 0.264703917028858 x^{2} + 1.12114676795067 x - 0.0149718661139191$"
          },
          "metadata": {},
          "execution_count": 37
        }
      ]
    },
    {
      "cell_type": "code",
      "source": [
        "def g(x): return -0.264703917028858*x**2+1.12114676795067*x-0.0149718661139191"
      ],
      "metadata": {
        "id": "HElMjC6aqMF0"
      },
      "execution_count": 38,
      "outputs": []
    },
    {
      "cell_type": "code",
      "source": [
        "g(6)"
      ],
      "metadata": {
        "colab": {
          "base_uri": "https://localhost:8080/"
        },
        "id": "5yNAshY8qYF3",
        "outputId": "b17606bd-69ea-4687-d073-80b3e16c3e49"
      },
      "execution_count": 39,
      "outputs": [
        {
          "output_type": "execute_result",
          "data": {
            "text/plain": [
              "-2.817432271448787"
            ]
          },
          "metadata": {},
          "execution_count": 39
        }
      ]
    },
    {
      "cell_type": "code",
      "source": [
        "sin(6.0)"
      ],
      "metadata": {
        "colab": {
          "base_uri": "https://localhost:8080/",
          "height": 37
        },
        "id": "uAzUZwBCqlnc",
        "outputId": "eddef786-4de9-4457-e652-96a7cc0f8c1c"
      },
      "execution_count": 40,
      "outputs": [
        {
          "output_type": "execute_result",
          "data": {
            "text/plain": [
              "-0.279415498198926"
            ],
            "text/latex": "$\\displaystyle -0.279415498198926$"
          },
          "metadata": {},
          "execution_count": 40
        }
      ]
    },
    {
      "cell_type": "code",
      "source": [
        "from scipy.interpolate import lagrange\n",
        "import numpy as np"
      ],
      "metadata": {
        "id": "eJLRipDrhbyx"
      },
      "execution_count": 41,
      "outputs": []
    },
    {
      "cell_type": "code",
      "source": [
        "sin(0.2)"
      ],
      "metadata": {
        "colab": {
          "base_uri": "https://localhost:8080/",
          "height": 37
        },
        "id": "qMivE4KAibVl",
        "outputId": "1a8dfd4e-b74e-414a-b29f-8e6b201e6103"
      },
      "execution_count": 42,
      "outputs": [
        {
          "output_type": "execute_result",
          "data": {
            "text/plain": [
              "0.198669330795061"
            ],
            "text/latex": "$\\displaystyle 0.198669330795061$"
          },
          "metadata": {},
          "execution_count": 42
        }
      ]
    },
    {
      "cell_type": "code",
      "source": [
        "sin(0.5)"
      ],
      "metadata": {
        "colab": {
          "base_uri": "https://localhost:8080/",
          "height": 37
        },
        "id": "vuhDsAK1ijy0",
        "outputId": "5cc13342-8d81-4fd2-ffab-9876cbacf662"
      },
      "execution_count": 43,
      "outputs": [
        {
          "output_type": "execute_result",
          "data": {
            "text/plain": [
              "0.479425538604203"
            ],
            "text/latex": "$\\displaystyle 0.479425538604203$"
          },
          "metadata": {},
          "execution_count": 43
        }
      ]
    },
    {
      "cell_type": "code",
      "source": [
        "sin(1.0)"
      ],
      "metadata": {
        "colab": {
          "base_uri": "https://localhost:8080/",
          "height": 37
        },
        "id": "xTi1WYcGinqa",
        "outputId": "2a6cb61a-9133-441f-c08b-c6d4511685b5"
      },
      "execution_count": 44,
      "outputs": [
        {
          "output_type": "execute_result",
          "data": {
            "text/plain": [
              "0.841470984807897"
            ],
            "text/latex": "$\\displaystyle 0.841470984807897$"
          },
          "metadata": {},
          "execution_count": 44
        }
      ]
    },
    {
      "cell_type": "code",
      "source": [
        ""
      ],
      "metadata": {
        "id": "jDKx1xVln7Su"
      },
      "execution_count": null,
      "outputs": []
    },
    {
      "cell_type": "code",
      "source": [
        ""
      ],
      "metadata": {
        "id": "CGZoKwJ-nm-m"
      },
      "execution_count": null,
      "outputs": []
    },
    {
      "cell_type": "code",
      "source": [
        ""
      ],
      "metadata": {
        "id": "UbXgRri-oED0"
      },
      "execution_count": null,
      "outputs": []
    },
    {
      "cell_type": "code",
      "source": [
        "x=np.array([0.2,0.5,1.0])\n",
        "y=np.array([0.198669330795061,0.479425538604203,0.841470984807897])"
      ],
      "metadata": {
        "id": "kw4SOpYNiBck"
      },
      "execution_count": 45,
      "outputs": []
    },
    {
      "cell_type": "code",
      "source": [
        "poli=lagrange(x,y)"
      ],
      "metadata": {
        "id": "wmiWxgNuiOL_"
      },
      "execution_count": 46,
      "outputs": []
    },
    {
      "cell_type": "code",
      "source": [
        "poli"
      ],
      "metadata": {
        "colab": {
          "base_uri": "https://localhost:8080/"
        },
        "id": "O4bXPzeaiUvo",
        "outputId": "77f0ad04-6842-4b3d-8533-4af166eff8e9"
      },
      "execution_count": 47,
      "outputs": [
        {
          "output_type": "execute_result",
          "data": {
            "text/plain": [
              "poly1d([-0.26470392,  1.12114677, -0.01497187])"
            ]
          },
          "metadata": {},
          "execution_count": 47
        }
      ]
    },
    {
      "cell_type": "code",
      "source": [
        "poli(6)"
      ],
      "metadata": {
        "colab": {
          "base_uri": "https://localhost:8080/"
        },
        "id": "CrCo4v5Kp8ix",
        "outputId": "dcf9f82b-579b-4293-e7b1-2c12956ddb07"
      },
      "execution_count": 48,
      "outputs": [
        {
          "output_type": "execute_result",
          "data": {
            "text/plain": [
              "-2.817432271448739"
            ]
          },
          "metadata": {},
          "execution_count": 48
        }
      ]
    },
    {
      "cell_type": "code",
      "source": [
        "poli.coef"
      ],
      "metadata": {
        "colab": {
          "base_uri": "https://localhost:8080/"
        },
        "id": "yCSA4k1biVpV",
        "outputId": "c7ac65f8-6900-451f-c934-3e7de959cba9"
      },
      "execution_count": null,
      "outputs": [
        {
          "output_type": "execute_result",
          "data": {
            "text/plain": [
              "array([-0.26470392,  1.12114677, -0.01497187])"
            ]
          },
          "metadata": {},
          "execution_count": 344
        }
      ]
    },
    {
      "cell_type": "code",
      "source": [
        ""
      ],
      "metadata": {
        "id": "n-xw2cNOgLt3"
      },
      "execution_count": 49,
      "outputs": []
    },
    {
      "cell_type": "code",
      "source": [
        "poli.roots"
      ],
      "metadata": {
        "colab": {
          "base_uri": "https://localhost:8080/"
        },
        "id": "L9Uzff5Dp4OC",
        "outputId": "923f42bf-7496-4c79-addf-8e82d486d64a"
      },
      "execution_count": null,
      "outputs": [
        {
          "output_type": "execute_result",
          "data": {
            "text/plain": [
              "array([4.22207836, 0.01339644])"
            ]
          },
          "metadata": {},
          "execution_count": 323
        }
      ]
    }
  ]
}