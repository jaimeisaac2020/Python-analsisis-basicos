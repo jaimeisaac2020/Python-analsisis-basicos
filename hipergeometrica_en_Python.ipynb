{
  "nbformat": 4,
  "nbformat_minor": 0,
  "metadata": {
    "colab": {
      "provenance": [],
      "authorship_tag": "ABX9TyMyXpGqq1pMHakWRbM6NF2l",
      "include_colab_link": true
    },
    "kernelspec": {
      "name": "python3",
      "display_name": "Python 3"
    },
    "language_info": {
      "name": "python"
    }
  },
  "cells": [
    {
      "cell_type": "markdown",
      "metadata": {
        "id": "view-in-github",
        "colab_type": "text"
      },
      "source": [
        "<a href=\"https://colab.research.google.com/github/jaimeisaac2020/Python-analsisis-basicos/blob/mi-github/hipergeometrica_en_Python.ipynb\" target=\"_parent\"><img src=\"https://colab.research.google.com/assets/colab-badge.svg\" alt=\"Open In Colab\"/></a>"
      ]
    },
    {
      "cell_type": "markdown",
      "source": [
        "La distribución hipergeométrica modela la probabilidad de obtener un número específico de éxitos en una muestra de tamaño fijo sin reemplazo de una población finita que contiene éxitos y fracasos. Aquí tienes 10 ejercicios resueltos de la distribución hipergeométrica en Python:\n",
        "\n",
        "**Ejercicio 1:**\n",
        "\n",
        "Supongamos que en una urna hay 10 bolas rojas y 15 bolas verdes. Si seleccionamos 5 bolas al azar sin reemplazo, ¿cuál es la probabilidad de obtener exactamente 3 bolas rojas?\n",
        "\n",
        "```python\n",
        "from scipy.stats import hypergeom\n",
        "\n",
        "M = 25  # Total de bolas (10 rojas + 15 verdes)\n",
        "n = 5   # Tamaño de la muestra\n",
        "N = 10  # Número de bolas rojas en la población\n",
        "\n",
        "k = 3   # Número de bolas rojas en la muestra\n",
        "\n",
        "probabilidad = hypergeom.pmf(k, M, n, N)\n",
        "print(f\"La probabilidad de obtener exactamente 3 bolas rojas es: {probabilidad:.4f}\")\n",
        "```\n",
        "\n",
        "**Ejercicio 2:**\n",
        "\n",
        "En una baraja de 52 cartas, ¿cuál es la probabilidad de obtener exactamente 2 ases al seleccionar 5 cartas al azar sin reemplazo?\n",
        "\n",
        "```python\n",
        "from scipy.stats import hypergeom\n",
        "\n",
        "M = 52  # Total de cartas en la baraja\n",
        "n = 5   # Tamaño de la muestra\n",
        "N = 4   # Número de ases en la baraja\n",
        "\n",
        "k = 2   # Número de ases en la muestra\n",
        "\n",
        "probabilidad = hypergeom.pmf(k, M, n, N)\n",
        "print(f\"La probabilidad de obtener exactamente 2 ases es: {probabilidad:.4f}\")\n",
        "```\n",
        "\n",
        "**Ejercicio 3:**\n",
        "\n",
        "Si tienes 20 estudiantes en una clase, 12 de los cuales son niñas, y seleccionas aleatoriamente un grupo de 8 estudiantes, ¿cuál es la probabilidad de que haya exactamente 4 niñas en el grupo?\n",
        "\n",
        "```python\n",
        "from scipy.stats import hypergeom\n",
        "\n",
        "M = 20  # Total de estudiantes\n",
        "n = 8   # Tamaño de la muestra\n",
        "N = 12  # Número de niñas en la clase\n",
        "\n",
        "k = 4   # Número de niñas en el grupo\n",
        "\n",
        "probabilidad = hypergeom.pmf(k, M, n, N)\n",
        "print(f\"La probabilidad de que haya exactamente 4 niñas en el grupo es: {probabilidad:.4f}\")\n",
        "```\n",
        "\n",
        "**Ejercicio 4:**\n",
        "\n",
        "En un lote de 100 piezas, hay 20 defectuosas. Si seleccionamos 10 piezas al azar sin reemplazo, ¿cuál es la probabilidad de obtener exactamente 3 piezas defectuosas?\n",
        "\n",
        "```python\n",
        "from scipy.stats import hypergeom\n",
        "\n",
        "M = 100   # Total de piezas\n",
        "n = 10    # Tamaño de la muestra\n",
        "N = 20    # Número de piezas defectuosas en el lote\n",
        "\n",
        "k = 3     # Número de piezas defectuosas en la muestra\n",
        "\n",
        "probabilidad = hypergeom.pmf(k, M, n, N)\n",
        "print(f\"La probabilidad de obtener exactamente 3 piezas defectuosas es: {probabilidad:.4f}\")\n",
        "```\n",
        "\n",
        "**Ejercicio 5:**\n",
        "\n",
        "Supongamos que en una urna hay 30 bolas blancas y 40 bolas negras. Si seleccionamos 12 bolas al azar sin reemplazo, ¿cuál es la probabilidad de obtener al menos 5 bolas blancas?\n",
        "\n",
        "```python\n",
        "from scipy.stats import hypergeom\n",
        "\n",
        "M = 70  # Total de bolas (30 blancas + 40 negras)\n",
        "n = 12  # Tamaño de la muestra\n",
        "N = 30  # Número de bolas blancas en la población\n",
        "\n",
        "k = 5   # Mínimo número de bolas blancas deseado\n",
        "\n",
        "# Calcula la probabilidad de obtener al menos 5 bolas blancas sumando las probabilidades desde 5 hasta n\n",
        "probabilidad = sum(hypergeom.pmf(i, M, n, N) for i in range(k, n+1))\n",
        "print(f\"La probabilidad de obtener al menos 5 bolas blancas es: {probabilidad:.4f}\")\n",
        "```\n",
        "\n",
        "**Ejercicio 6:**\n",
        "\n",
        "Si tienes 50 estudiantes en una clase, 30 de los cuales son chicos, y seleccionas aleatoriamente un grupo de 15 estudiantes, ¿cuál es la probabilidad de que haya menos de 8 chicas en el grupo?\n",
        "\n",
        "```python\n",
        "from scipy.stats import hypergeom\n",
        "\n",
        "M = 50   # Total de estudiantes\n",
        "n = 15   # Tamaño de la muestra\n",
        "N = 20   # Número de chicas en la clase\n",
        "\n",
        "k = 7    # Máximo número de chicas deseado\n",
        "\n",
        "# Calcula la probabilidad de que haya menos de 8 chicas en el grupo sumando las probabilidades desde 0 hasta 7\n",
        "probabilidad = sum(hypergeom.pmf(i, M, n, N) for i in range(k + 1))\n",
        "print(f\"La probabilidad de que haya menos de 8 chicas en el grupo es: {probabilidad:.4f}\")\n",
        "```\n",
        "\n",
        "**Ejercicio 7:**\n",
        "\n",
        "En una baraja de 52 cartas, ¿cuál es la probabilidad de obtener al menos 2 reyes al seleccionar 5 cartas al azar sin reemplazo?\n",
        "\n",
        "```python\n",
        "from scipy.stats import hypergeom\n",
        "\n",
        "M = 52  # Total de cartas en la baraja\n",
        "n = 5   # Tamaño de la muestra\n",
        "N = 4   # Número de reyes en la baraja\n",
        "\n",
        "k = 2   # Mínimo número de reyes deseado\n",
        "\n",
        "# Calcula la probabilidad de obtener al menos 2 reyes sumando las probabilidades desde 2 hasta 4\n",
        "probabilidad = sum(hypergeom.pmf(i, M, n, N) for i in range(k, N + 1))\n",
        "print(f\"La probabilidad de obtener al menos 2 reyes es: {probabilidad:.4f}\")\n",
        "```\n",
        "\n",
        "**Ejercicio 8:**\n",
        "\n",
        "Si tienes una urna con 60 bolas, 15 de las cuales son rojas y 45 son azules, y seleccionas 20 bolas al azar sin reemplazo, ¿cuál es la probabilidad de que exactamente la mitad de las bolas seleccionadas sean rojas?\n",
        "\n",
        "```python\n",
        "from scipy.stats import hypergeom\n",
        "\n",
        "M = 60  # Total de bolas (15 rojas + 45 azules)\n",
        "n = 20  # Tamaño de la muestra\n",
        "N = 15  # Número de bolas rojas en la urna\n",
        "\n",
        "k = 10  # Mitad del tamaño de la muestra\n",
        "\n",
        "probabilidad = hypergeom.pmf(k, M, n, N)\n",
        "print\n",
        "\n",
        "(f\"La probabilidad de que exactamente la mitad de las bolas sean rojas es: {probabilidad:.4f}\")\n",
        "```\n",
        "\n",
        "**Ejercicio 9:**\n",
        "\n",
        "Supongamos que en una competencia de 12 equipos, 4 de ellos son favoritos. Si seleccionamos aleatoriamente 6 equipos, ¿cuál es la probabilidad de que al menos 3 de los equipos seleccionados sean favoritos?\n",
        "\n",
        "```python\n",
        "from scipy.stats import hypergeom\n",
        "\n",
        "M = 12  # Total de equipos\n",
        "n = 6   # Tamaño de la muestra\n",
        "N = 4   # Número de equipos favoritos\n",
        "\n",
        "k = 3   # Mínimo número de equipos favoritos deseado\n",
        "\n",
        "# Calcula la probabilidad de que al menos 3 de los equipos sean favoritos sumando las probabilidades desde 3 hasta 4\n",
        "probabilidad = sum(hypergeom.pmf(i, M, n, N) for i in range(k, N + 1))\n",
        "print(f\"La probabilidad de que al menos 3 equipos sean favoritos es: {probabilidad:.4f}\")\n",
        "```\n",
        "\n",
        "**Ejercicio 10:**\n",
        "\n",
        "Si en un lote de 200 piezas, 25 son defectuosas, ¿cuál es la probabilidad de que al seleccionar 10 piezas al azar sin reemplazo, exactamente 2 sean defectuosas?\n",
        "\n",
        "```python\n",
        "from scipy.stats import hypergeom\n",
        "\n",
        "M = 200  # Total de piezas\n",
        "n = 10   # Tamaño de la muestra\n",
        "N = 25   # Número de piezas defectuosas en el lote\n",
        "\n",
        "k = 2    # Número de piezas defectuosas en la muestra\n",
        "\n",
        "probabilidad = hypergeom.pmf(k, M, n, N)\n",
        "print(f\"La probabilidad de que exactamente 2 piezas sean defectuosas es: {probabilidad:.4f}\")\n",
        "```\n",
        "\n",
        "Estos ejercicios te ayudarán a comprender y trabajar con la distribución hipergeométrica en Python. Puedes modificar los valores de `M`, `n`, `N`, y `k` según sea necesario para resolver problemas similares."
      ],
      "metadata": {
        "id": "mQC7VrG0j3Tq"
      }
    },
    {
      "cell_type": "code",
      "execution_count": 1,
      "metadata": {
        "colab": {
          "base_uri": "https://localhost:8080/"
        },
        "id": "Cj0qP1CMj1m-",
        "outputId": "9dd1c182-26f4-4bd3-eb39-64191d38b784"
      },
      "outputs": [
        {
          "output_type": "stream",
          "name": "stdout",
          "text": [
            "La probabilidad de obtener exactamente 3 bolas rojas es: 0.2372\n"
          ]
        }
      ],
      "source": [
        "from scipy.stats import hypergeom\n",
        "\n",
        "M = 25  # Total de bolas (10 rojas + 15 verdes)\n",
        "n = 5   # Tamaño de la muestra\n",
        "N = 10  # Número de bolas rojas en la población\n",
        "\n",
        "k = 3   # Número de bolas rojas en la muestra\n",
        "\n",
        "probabilidad = hypergeom.pmf(k, M, n, N)\n",
        "print(f\"La probabilidad de obtener exactamente 3 bolas rojas es: {probabilidad:.4f}\")\n"
      ]
    },
    {
      "cell_type": "code",
      "source": [
        "from scipy.stats import hypergeom\n",
        "\n",
        "M = 52  # Total de cartas en la baraja\n",
        "n = 5   # Tamaño de la muestra\n",
        "N = 4   # Número de ases en la baraja\n",
        "\n",
        "k = 2   # Número de ases en la muestra\n",
        "\n",
        "probabilidad = hypergeom.pmf(k, M, n, N)\n",
        "print(f\"La probabilidad de obtener exactamente 2 ases es: {probabilidad:.4f}\")\n"
      ],
      "metadata": {
        "colab": {
          "base_uri": "https://localhost:8080/"
        },
        "id": "xzD5DCLWkOn2",
        "outputId": "5dd85219-6469-481d-cd70-1186147e49ca"
      },
      "execution_count": 2,
      "outputs": [
        {
          "output_type": "stream",
          "name": "stdout",
          "text": [
            "La probabilidad de obtener exactamente 2 ases es: 0.0399\n"
          ]
        }
      ]
    },
    {
      "cell_type": "code",
      "source": [
        "from scipy.stats import hypergeom\n",
        "\n",
        "M = 20  # Total de estudiantes\n",
        "n = 8   # Tamaño de la muestra\n",
        "N = 12  # Número de niñas en la clase\n",
        "\n",
        "k = 4   # Número de niñas en el grupo\n",
        "\n",
        "probabilidad = hypergeom.pmf(k, M, n, N)\n",
        "print(f\"La probabilidad de que haya exactamente 4 niñas en el grupo es: {probabilidad:.4f}\")\n"
      ],
      "metadata": {
        "colab": {
          "base_uri": "https://localhost:8080/"
        },
        "id": "lphyo-JRkTyt",
        "outputId": "0fcbf3c0-6080-42f1-98f8-451694885c03"
      },
      "execution_count": 3,
      "outputs": [
        {
          "output_type": "stream",
          "name": "stdout",
          "text": [
            "La probabilidad de que haya exactamente 4 niñas en el grupo es: 0.2751\n"
          ]
        }
      ]
    },
    {
      "cell_type": "code",
      "source": [
        "from scipy.stats import hypergeom\n",
        "\n",
        "M = 100   # Total de piezas\n",
        "n = 10    # Tamaño de la muestra\n",
        "N = 20    # Número de piezas defectuosas en el lote\n",
        "\n",
        "k = 3     # Número de piezas defectuosas en la muestra\n",
        "\n",
        "probabilidad = hypergeom.pmf(k, M, n, N)\n",
        "print(f\"La probabilidad de obtener exactamente 3 piezas defectuosas es: {probabilidad:.4f}\")\n"
      ],
      "metadata": {
        "colab": {
          "base_uri": "https://localhost:8080/"
        },
        "id": "gnJBd66ZkW_H",
        "outputId": "1ee773d4-314f-4bb1-e93b-ee02161c3566"
      },
      "execution_count": 4,
      "outputs": [
        {
          "output_type": "stream",
          "name": "stdout",
          "text": [
            "La probabilidad de obtener exactamente 3 piezas defectuosas es: 0.2092\n"
          ]
        }
      ]
    },
    {
      "cell_type": "code",
      "source": [
        "from scipy.stats import hypergeom\n",
        "\n",
        "M = 70  # Total de bolas (30 blancas + 40 negras)\n",
        "n = 12  # Tamaño de la muestra\n",
        "N = 30  # Número de bolas blancas en la población\n",
        "\n",
        "k = 5   # Mínimo número de bolas blancas deseado\n",
        "\n",
        "# Calcula la probabilidad de obtener al menos 5 bolas blancas sumando las probabilidades desde 5 hasta n\n",
        "probabilidad = sum(hypergeom.pmf(i, M, n, N) for i in range(k, n+1))\n",
        "print(f\"La probabilidad de obtener al menos 5 bolas blancas es: {probabilidad:.4f}\")\n"
      ],
      "metadata": {
        "colab": {
          "base_uri": "https://localhost:8080/"
        },
        "id": "xDQIdYbgka3C",
        "outputId": "7e4a1e6f-66f1-4aca-9a68-81dee13cd86e"
      },
      "execution_count": 5,
      "outputs": [
        {
          "output_type": "stream",
          "name": "stdout",
          "text": [
            "La probabilidad de obtener al menos 5 bolas blancas es: 0.6558\n"
          ]
        }
      ]
    },
    {
      "cell_type": "code",
      "source": [
        "from scipy.stats import hypergeom\n",
        "\n",
        "M = 50   # Total de estudiantes\n",
        "n = 15   # Tamaño de la muestra\n",
        "N = 20   # Número de chicas en la clase\n",
        "\n",
        "k = 7    # Máximo número de chicas deseado\n",
        "\n",
        "# Calcula la probabilidad de que haya menos de 8 chicas en el grupo sumando las probabilidades desde 0 hasta 7\n",
        "probabilidad = sum(hypergeom.pmf(i, M, n, N) for i in range(k + 1))\n",
        "print(f\"La probabilidad de que haya menos de 8 chicas en el grupo es: {probabilidad:.4f}\")\n"
      ],
      "metadata": {
        "colab": {
          "base_uri": "https://localhost:8080/"
        },
        "id": "P_HqbAUykefK",
        "outputId": "c23f1093-ca16-4e18-de89-a14a6ecdb1de"
      },
      "execution_count": 6,
      "outputs": [
        {
          "output_type": "stream",
          "name": "stdout",
          "text": [
            "La probabilidad de que haya menos de 8 chicas en el grupo es: 0.8278\n"
          ]
        }
      ]
    },
    {
      "cell_type": "code",
      "source": [
        "from scipy.stats import hypergeom\n",
        "\n",
        "M = 52  # Total de cartas en la baraja\n",
        "n = 5   # Tamaño de la muestra\n",
        "N = 4   # Número de reyes en la baraja\n",
        "\n",
        "k = 2   # Mínimo número de reyes deseado\n",
        "\n",
        "# Calcula la probabilidad de obtener al menos 2 reyes sumando las probabilidades desde 2 hasta 4\n",
        "probabilidad = sum(hypergeom.pmf(i, M, n, N) for i in range(k, N + 1))\n",
        "print(f\"La probabilidad de obtener al menos 2 reyes es: {probabilidad:.4f}\")\n"
      ],
      "metadata": {
        "colab": {
          "base_uri": "https://localhost:8080/"
        },
        "id": "vm8vLXTvkirl",
        "outputId": "33318982-0623-4f5e-abbd-b7082522acf3"
      },
      "execution_count": 7,
      "outputs": [
        {
          "output_type": "stream",
          "name": "stdout",
          "text": [
            "La probabilidad de obtener al menos 2 reyes es: 0.0417\n"
          ]
        }
      ]
    },
    {
      "cell_type": "code",
      "source": [
        "from scipy.stats import hypergeom\n",
        "\n",
        "M = 60  # Total de bolas (15 rojas + 45 azules)\n",
        "n = 20  # Tamaño de la muestra\n",
        "N = 15  # Número de bolas rojas en la urna\n",
        "\n",
        "k = 10  # Mitad del tamaño de la muestra\n",
        "\n",
        "probabilidad = hypergeom.pmf(k, M, n, N)\n",
        "print(f\"La probabilidad de que exactamente la mitad de las bolas sean rojas es: {probabilidad:.4f}\")\n"
      ],
      "metadata": {
        "colab": {
          "base_uri": "https://localhost:8080/"
        },
        "id": "cUX48gdSkmGS",
        "outputId": "f5c5ad66-0362-4b93-f0fe-f763800f962b"
      },
      "execution_count": 8,
      "outputs": [
        {
          "output_type": "stream",
          "name": "stdout",
          "text": [
            "La probabilidad de que exactamente la mitad de las bolas sean rojas es: 0.0023\n"
          ]
        }
      ]
    },
    {
      "cell_type": "code",
      "source": [
        "from scipy.stats import hypergeom\n",
        "\n",
        "M = 12  # Total de equipos\n",
        "n = 6   # Tamaño de la muestra\n",
        "N = 4   # Número de equipos favoritos\n",
        "\n",
        "k = 3   # Mínimo número de equipos favoritos deseado\n",
        "\n",
        "# Calcula la probabilidad de que al menos 3 de los equipos sean favoritos sumando las probabilidades desde 3 hasta 4\n",
        "probabilidad = sum(hypergeom.pmf(i, M, n, N) for i in range(k, N + 1))\n",
        "print(f\"La probabilidad de que al menos 3 equipos sean favoritos es: {probabilidad:.4f}\")\n"
      ],
      "metadata": {
        "colab": {
          "base_uri": "https://localhost:8080/"
        },
        "id": "pyn5iKkhkpVg",
        "outputId": "416d309f-9a3e-46e4-a2bc-38e188da2296"
      },
      "execution_count": 9,
      "outputs": [
        {
          "output_type": "stream",
          "name": "stdout",
          "text": [
            "La probabilidad de que al menos 3 equipos sean favoritos es: 0.2727\n"
          ]
        }
      ]
    },
    {
      "cell_type": "code",
      "source": [
        "from scipy.stats import hypergeom\n",
        "\n",
        "M = 200  # Total de piezas\n",
        "n = 10   # Tamaño de la muestra\n",
        "N = 25   # Número de piezas defectuosas en el lote\n",
        "\n",
        "k = 2    # Número de piezas defectuosas en la muestra\n",
        "\n",
        "probabilidad = hypergeom.pmf(k, M, n, N)\n",
        "print(f\"La probabilidad de que exactamente 2 piezas sean defectuosas es: {probabilidad:.4f}\")\n"
      ],
      "metadata": {
        "colab": {
          "base_uri": "https://localhost:8080/"
        },
        "id": "7Tm_zLByksmc",
        "outputId": "9e307863-10ca-48d1-da53-0b23960947d5"
      },
      "execution_count": 10,
      "outputs": [
        {
          "output_type": "stream",
          "name": "stdout",
          "text": [
            "La probabilidad de que exactamente 2 piezas sean defectuosas es: 0.2478\n"
          ]
        }
      ]
    },
    {
      "cell_type": "markdown",
      "source": [
        "Claro, aquí tienes algunos ejercicios de la distribución hipergeométrica en Python que utilizan la función de distribución acumulativa (CDF) de SciPy (`cdf`). La CDF proporciona la probabilidad acumulada de que una variable aleatoria hipergeométrica sea menor o igual a un valor específico.\n",
        "\n",
        "**Ejercicio 1:**\n",
        "\n",
        "Supongamos que en una urna hay 12 bolas rojas y 18 bolas verdes. Si seleccionamos 7 bolas al azar sin reemplazo, ¿cuál es la probabilidad de obtener al menos 5 bolas rojas?\n",
        "\n",
        "```python\n",
        "from scipy.stats import hypergeom\n",
        "\n",
        "M = 30  # Total de bolas (12 rojas + 18 verdes)\n",
        "n = 7   # Tamaño de la muestra\n",
        "N = 12  # Número de bolas rojas en la urna\n",
        "\n",
        "k = 5   # Mínimo número de bolas rojas deseado\n",
        "\n",
        "# Calcula la probabilidad acumulativa de obtener al menos 5 bolas rojas\n",
        "probabilidad_acumulativa = 1 - hypergeom.cdf(k - 1, M, n, N)\n",
        "print(f\"La probabilidad de obtener al menos 5 bolas rojas es: {probabilidad_acumulativa:.4f}\")\n",
        "```\n",
        "\n",
        "**Ejercicio 2:**\n",
        "\n",
        "Si tienes 100 estudiantes en una clase, 60 de los cuales son chicos, y seleccionas aleatoriamente un grupo de 20 estudiantes, ¿cuál es la probabilidad de que haya menos de 10 chicas en el grupo?\n",
        "\n",
        "```python\n",
        "from scipy.stats import hypergeom\n",
        "\n",
        "M = 100   # Total de estudiantes\n",
        "n = 20    # Tamaño de la muestra\n",
        "N = 40    # Número de chicas en la clase\n",
        "\n",
        "k = 10    # Máximo número de chicas deseado\n",
        "\n",
        "# Calcula la probabilidad acumulativa de que haya menos de 10 chicas en el grupo\n",
        "probabilidad_acumulativa = hypergeom.cdf(k, M, n, N)\n",
        "print(f\"La probabilidad de que haya menos de 10 chicas en el grupo es: {probabilidad_acumulativa:.4f}\")\n",
        "```\n",
        "\n",
        "**Ejercicio 3:**\n",
        "\n",
        "En un lote de 80 piezas, 20 son defectuosas. Si seleccionamos 15 piezas al azar sin reemplazo, ¿cuál es la probabilidad de que exactamente 3 sean defectuosas?\n",
        "\n",
        "```python\n",
        "from scipy.stats import hypergeom\n",
        "\n",
        "M = 80  # Total de piezas\n",
        "n = 15  # Tamaño de la muestra\n",
        "N = 20  # Número de piezas defectuosas en el lote\n",
        "\n",
        "k = 3   # Número de piezas defectuosas deseado\n",
        "\n",
        "# Calcula la probabilidad acumulativa de obtener exactamente 3 piezas defectuosas\n",
        "probabilidad_acumulativa = hypergeom.cdf(k, M, n, N)\n",
        "print(f\"La probabilidad de obtener exactamente 3 piezas defectuosas es: {probabilidad_acumulativa:.4f}\")\n",
        "```\n",
        "\n",
        "**Ejercicio 4:**\n",
        "\n",
        "Supongamos que en una competencia de 16 equipos, 5 de ellos son favoritos. Si seleccionamos aleatoriamente 8 equipos, ¿cuál es la probabilidad de que al menos 3 de los equipos seleccionados sean favoritos?\n",
        "\n",
        "```python\n",
        "from scipy.stats import hypergeom\n",
        "\n",
        "M = 16  # Total de equipos\n",
        "n = 8   # Tamaño de la muestra\n",
        "N = 5   # Número de equipos favoritos\n",
        "\n",
        "k = 3   # Mínimo número de equipos favoritos deseado\n",
        "\n",
        "# Calcula la probabilidad acumulativa de que al menos 3 equipos sean favoritos\n",
        "probabilidad_acumulativa = 1 - hypergeom.cdf(k - 1, M, n, N)\n",
        "print(f\"La probabilidad de que al menos 3 equipos sean favoritos es: {probabilidad_acumulativa:.4f}\")\n",
        "```\n",
        "\n",
        "Estos ejercicios utilizan la función de distribución acumulativa (`cdf`) de la distribución hipergeométrica para calcular probabilidades acumuladas en diferentes situaciones. Puedes adaptar los valores de `M`, `n`, `N`, y `k` según tus necesidades."
      ],
      "metadata": {
        "id": "C8N_J_pelHRn"
      }
    },
    {
      "cell_type": "code",
      "source": [
        "from scipy.stats import hypergeom\n",
        "\n",
        "M = 30  # Total de bolas (12 rojas + 18 verdes)\n",
        "n = 7   # Tamaño de la muestra\n",
        "N = 12  # Número de bolas rojas en la urna\n",
        "\n",
        "k = 5   # Mínimo número de bolas rojas deseado\n",
        "\n",
        "# Calcula la probabilidad acumulativa de obtener al menos 5 bolas rojas\n",
        "probabilidad_acumulativa = 1 - hypergeom.cdf(k - 1, M, n, N)\n",
        "print(f\"La probabilidad de obtener al menos 5 bolas rojas es: {probabilidad_acumulativa:.4f}\")\n"
      ],
      "metadata": {
        "colab": {
          "base_uri": "https://localhost:8080/"
        },
        "id": "0-3qFltckwik",
        "outputId": "e68225a1-cc4f-45f3-a0c4-5f67a90c888c"
      },
      "execution_count": 11,
      "outputs": [
        {
          "output_type": "stream",
          "name": "stdout",
          "text": [
            "La probabilidad de obtener al menos 5 bolas rojas es: 0.0681\n"
          ]
        }
      ]
    },
    {
      "cell_type": "code",
      "source": [
        "from scipy.stats import hypergeom\n",
        "\n",
        "M = 100   # Total de estudiantes\n",
        "n = 20    # Tamaño de la muestra\n",
        "N = 40    # Número de chicas en la clase\n",
        "\n",
        "k = 10    # Máximo número de chicas deseado\n",
        "\n",
        "# Calcula la probabilidad acumulativa de que haya menos de 10 chicas en el grupo\n",
        "probabilidad_acumulativa = hypergeom.cdf(k, M, n, N)\n",
        "print(f\"La probabilidad de que haya menos de 10 chicas en el grupo es: {probabilidad_acumulativa:.4f}\")\n"
      ],
      "metadata": {
        "colab": {
          "base_uri": "https://localhost:8080/"
        },
        "id": "mLTBNtozlKj8",
        "outputId": "af6d2c65-812d-41f8-aa2b-462884fe2508"
      },
      "execution_count": 12,
      "outputs": [
        {
          "output_type": "stream",
          "name": "stdout",
          "text": [
            "La probabilidad de que haya menos de 10 chicas en el grupo es: 0.8983\n"
          ]
        }
      ]
    },
    {
      "cell_type": "code",
      "source": [
        "from scipy.stats import hypergeom\n",
        "\n",
        "M = 80  # Total de piezas\n",
        "n = 15  # Tamaño de la muestra\n",
        "N = 20  # Número de piezas defectuosas en el lote\n",
        "\n",
        "k = 3   # Número de piezas defectuosas deseado\n",
        "\n",
        "# Calcula la probabilidad acumulativa de obtener exactamente 3 piezas defectuosas\n",
        "probabilidad_acumulativa = hypergeom.cdf(k, M, n, N)\n",
        "print(f\"La probabilidad de obtener exactamente 3 piezas defectuosas es: {probabilidad_acumulativa:.4f}\")\n"
      ],
      "metadata": {
        "colab": {
          "base_uri": "https://localhost:8080/"
        },
        "id": "aGXr6JUhlPv2",
        "outputId": "2f0fbdb8-7700-4728-9f09-8a2349cd4148"
      },
      "execution_count": 13,
      "outputs": [
        {
          "output_type": "stream",
          "name": "stdout",
          "text": [
            "La probabilidad de obtener exactamente 3 piezas defectuosas es: 0.4486\n"
          ]
        }
      ]
    },
    {
      "cell_type": "code",
      "source": [
        "from scipy.stats import hypergeom\n",
        "\n",
        "M = 16  # Total de equipos\n",
        "n = 8   # Tamaño de la muestra\n",
        "N = 5   # Número de equipos favoritos\n",
        "\n",
        "k = 3   # Mínimo número de equipos favoritos deseado\n",
        "\n",
        "# Calcula la probabilidad acumulativa de que al menos 3 equipos sean favoritos\n",
        "probabilidad_acumulativa = 1 - hypergeom.cdf(k - 1, M, n, N)\n",
        "print(f\"La probabilidad de que al menos 3 equipos sean favoritos es: {probabilidad_acumulativa:.4f}\")\n"
      ],
      "metadata": {
        "colab": {
          "base_uri": "https://localhost:8080/"
        },
        "id": "8qvneMiblXZV",
        "outputId": "be5bc44c-cae5-48a4-9b65-06a60e24170d"
      },
      "execution_count": 14,
      "outputs": [
        {
          "output_type": "stream",
          "name": "stdout",
          "text": [
            "La probabilidad de que al menos 3 equipos sean favoritos es: 0.5000\n"
          ]
        }
      ]
    },
    {
      "cell_type": "markdown",
      "source": [
        "Para calcular la media y la varianza de una distribución hipergeométrica en Python, puedes utilizar las siguientes fórmulas:\n",
        "\n",
        "La media (esperanza) de una distribución hipergeométrica es:\n",
        "\n",
        "\\[ \\mu = \\frac{nN}{M} \\]\n",
        "\n",
        "Donde:\n",
        "- \\( \\mu \\) es la media.\n",
        "- \\( n \\) es el tamaño de la muestra.\n",
        "- \\( N \\) es el número de elementos en la población que son considerados \"éxitos\".\n",
        "- \\( M \\) es el tamaño total de la población.\n",
        "\n",
        "La varianza de una distribución hipergeométrica es:\n",
        "\n",
        "\\[ \\sigma^2 = \\frac{nN(M-n)(M-N)}{M^2(M-1)} \\]\n",
        "\n",
        "Donde:\n",
        "- \\( \\sigma^2 \\) es la varianza.\n",
        "- \\( n \\) es el tamaño de la muestra.\n",
        "- \\( N \\) es el número de elementos en la población que son considerados \"éxitos\".\n",
        "- \\( M \\) es el tamaño total de la población.\n",
        "\n",
        "A continuación, te mostraré ejemplos resueltos de cómo calcular la media y la varianza de una distribución hipergeométrica en Python:\n",
        "\n",
        "**Ejemplo 1:**\n",
        "\n",
        "Supongamos que en una urna hay 15 bolas rojas y 10 bolas verdes. Si seleccionamos 5 bolas al azar sin reemplazo, calculemos la media y la varianza de la distribución hipergeométrica.\n",
        "\n",
        "```python\n",
        "n = 5   # Tamaño de la muestra\n",
        "N = 15  # Número de bolas rojas en la urna\n",
        "M = 25  # Total de bolas (15 rojas + 10 verdes)\n",
        "\n",
        "# Calcula la media (esperanza)\n",
        "media = (n * N) / M\n",
        "\n",
        "# Calcula la varianza\n",
        "varianza = (n * N * (M - n) * (M - N)) / (M**2 * (M - 1))\n",
        "\n",
        "print(f\"Media: {media:.2f}\")\n",
        "print(f\"Varianza: {varianza:.2f}\")\n",
        "```\n",
        "\n",
        "**Ejemplo 2:**\n",
        "\n",
        "En una baraja de 52 cartas, ¿cuál es la media y la varianza de obtener 5 cartas al seleccionarlas al azar sin reemplazo?\n",
        "\n",
        "```python\n",
        "n = 5   # Tamaño de la muestra\n",
        "N = 4   # Número de ases en la baraja\n",
        "M = 52  # Total de cartas en la baraja\n",
        "\n",
        "# Calcula la media (esperanza)\n",
        "media = (n * N) / M\n",
        "\n",
        "# Calcula la varianza\n",
        "varianza = (n * N * (M - n) * (M - N)) / (M**2 * (M - 1))\n",
        "\n",
        "print(f\"Media: {media:.2f}\")\n",
        "print(f\"Varianza: {varianza:.2f}\")\n",
        "```\n",
        "\n",
        "Estos ejemplos te muestran cómo calcular la media y la varianza de una distribución hipergeométrica en Python utilizando las fórmulas mencionadas. Puedes adaptar los valores de `n`, `N`, y `M` según tus necesidades para resolver problemas similares."
      ],
      "metadata": {
        "id": "M-hmaniOlzCR"
      }
    },
    {
      "cell_type": "code",
      "source": [
        "n = 5   # Tamaño de la muestra\n",
        "N = 15  # Número de bolas rojas en la urna\n",
        "M = 25  # Total de bolas (15 rojas + 10 verdes)\n",
        "\n",
        "# Calcula la media (esperanza)\n",
        "media = (n * N) / M\n",
        "\n",
        "# Calcula la varianza\n",
        "varianza = (n * N * (M - n) * (M - N)) / (M**2 * (M - 1))\n",
        "\n",
        "print(f\"Media: {media:.2f}\")\n",
        "print(f\"Varianza: {varianza:.2f}\")\n"
      ],
      "metadata": {
        "colab": {
          "base_uri": "https://localhost:8080/"
        },
        "id": "RUjBeZgDlc0Q",
        "outputId": "a82b4c06-fafe-4b9e-80d1-8d7c0ac5dfe0"
      },
      "execution_count": 15,
      "outputs": [
        {
          "output_type": "stream",
          "name": "stdout",
          "text": [
            "Media: 3.00\n",
            "Varianza: 1.00\n"
          ]
        }
      ]
    },
    {
      "cell_type": "code",
      "source": [
        "n = 5   # Tamaño de la muestra\n",
        "N = 4   # Número de ases en la baraja\n",
        "M = 52  # Total de cartas en la baraja\n",
        "\n",
        "# Calcula la media (esperanza)\n",
        "media = (n * N) / M\n",
        "\n",
        "# Calcula la varianza\n",
        "varianza = (n * N * (M - n) * (M - N)) / (M**2 * (M - 1))\n",
        "\n",
        "print(f\"Media: {media:.2f}\")\n",
        "print(f\"Varianza: {varianza:.2f}\")\n"
      ],
      "metadata": {
        "colab": {
          "base_uri": "https://localhost:8080/"
        },
        "id": "wG6br-xHl4R9",
        "outputId": "600b5762-8ea9-469a-890f-f36133886d48"
      },
      "execution_count": 17,
      "outputs": [
        {
          "output_type": "stream",
          "name": "stdout",
          "text": [
            "Media: 0.38\n",
            "Varianza: 0.33\n"
          ]
        }
      ]
    },
    {
      "cell_type": "markdown",
      "source": [
        "Sí, puedes calcular la media y la varianza de una distribución hipergeométrica en Python utilizando bibliotecas como `scipy.stats`. Aquí tienes un ejemplo de cómo hacerlo:\n",
        "\n",
        "```python\n",
        "from scipy.stats import hypergeom\n",
        "\n",
        "# Definir los parámetros de la distribución\n",
        "M = 25  # Total de elementos en la población\n",
        "n = 5   # Tamaño de la muestra\n",
        "N = 10  # Número de elementos en la población que son considerados \"éxitos\"\n",
        "\n",
        "# Calcular la media y la varianza\n",
        "media = hypergeom.mean(M, n, N)\n",
        "varianza = hypergeom.var(M, n, N)\n",
        "\n",
        "print(f\"Media: {media:.2f}\")\n",
        "print(f\"Varianza: {varianza:.2f}\")\n",
        "```\n",
        "\n",
        "En este ejemplo, hemos utilizado las funciones `hypergeom.mean()` y `hypergeom.var()` de la biblioteca `scipy.stats` para calcular la media y la varianza de una distribución hipergeométrica con los parámetros dados (`M`, `n`, y `N`). Puedes cambiar estos valores según tus necesidades para calcular la media y la varianza de diferentes distribuciones hipergeométricas."
      ],
      "metadata": {
        "id": "v4EXxHqVmOml"
      }
    },
    {
      "cell_type": "code",
      "source": [
        "from scipy.stats import hypergeom\n",
        "\n",
        "# Definir los parámetros de la distribución\n",
        "M = 25  # Total de elementos en la población\n",
        "n = 5   # Tamaño de la muestra\n",
        "N = 10  # Número de elementos en la población que son considerados \"éxitos\"\n",
        "\n",
        "# Calcular la media y la varianza\n",
        "media = hypergeom.mean(M, n, N)\n",
        "varianza = hypergeom.var(M, n, N)\n",
        "\n",
        "print(f\"Media: {media:.2f}\")\n",
        "print(f\"Varianza: {varianza:.2f}\")\n"
      ],
      "metadata": {
        "colab": {
          "base_uri": "https://localhost:8080/"
        },
        "id": "3DLqiAxqmNK0",
        "outputId": "db37ec3c-0925-472e-a309-4dd63c0a8fb5"
      },
      "execution_count": 18,
      "outputs": [
        {
          "output_type": "stream",
          "name": "stdout",
          "text": [
            "Media: 2.00\n",
            "Varianza: 1.00\n"
          ]
        }
      ]
    },
    {
      "cell_type": "code",
      "source": [],
      "metadata": {
        "id": "9fq0E-_pmSE1"
      },
      "execution_count": null,
      "outputs": []
    }
  ]
}