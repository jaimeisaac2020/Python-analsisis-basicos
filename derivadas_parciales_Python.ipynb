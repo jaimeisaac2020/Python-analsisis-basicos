{
  "nbformat": 4,
  "nbformat_minor": 0,
  "metadata": {
    "colab": {
      "provenance": [],
      "authorship_tag": "ABX9TyOPFCeqH+eAxhJ0XgwaXuRP",
      "include_colab_link": true
    },
    "kernelspec": {
      "name": "python3",
      "display_name": "Python 3"
    },
    "language_info": {
      "name": "python"
    }
  },
  "cells": [
    {
      "cell_type": "markdown",
      "metadata": {
        "id": "view-in-github",
        "colab_type": "text"
      },
      "source": [
        "<a href=\"https://colab.research.google.com/github/jaimeisaac2020/Python-analsisis-basicos/blob/mi-github/derivadas_parciales_Python.ipynb\" target=\"_parent\"><img src=\"https://colab.research.google.com/assets/colab-badge.svg\" alt=\"Open In Colab\"/></a>"
      ]
    },
    {
      "cell_type": "code",
      "execution_count": 24,
      "metadata": {
        "colab": {
          "base_uri": "https://localhost:8080/"
        },
        "id": "fuy_JnumwyEF",
        "outputId": "9b80c06a-980d-4c82-fc86-36987070df45"
      },
      "outputs": [
        {
          "output_type": "stream",
          "name": "stdout",
          "text": [
            "-y/x + 1/(x**2*y)\n"
          ]
        }
      ],
      "source": [
        "from sympy import symbols, cos, diff,simplify\n",
        "\n",
        "x, y, z,a = symbols('x y z a', real=True)\n",
        "f = x**2*y**2-2*x-1\n",
        "\n",
        "#differntiating function f in respect to x\n",
        "#import sympy  \n",
        "print(simplify(-diff(f, x)/diff(f, y)))"
      ]
    },
    {
      "cell_type": "code",
      "source": [
        "f = x**3+y**3-3*a*x*y-1\n",
        "n=diff(f,x)"
      ],
      "metadata": {
        "id": "UnxfdbSlyH5K"
      },
      "execution_count": 25,
      "outputs": []
    },
    {
      "cell_type": "code",
      "source": [
        "d=diff(f,y)"
      ],
      "metadata": {
        "id": "tsH9uNA2yd3P"
      },
      "execution_count": 26,
      "outputs": []
    },
    {
      "cell_type": "code",
      "source": [
        "n/d"
      ],
      "metadata": {
        "colab": {
          "base_uri": "https://localhost:8080/",
          "height": 57
        },
        "id": "ywJRpoNqyqvc",
        "outputId": "c292a407-234b-4a06-b041-53cc3870643e"
      },
      "execution_count": 27,
      "outputs": [
        {
          "output_type": "execute_result",
          "data": {
            "text/plain": [
              "(-3*a*y + 3*x**2)/(-3*a*x + 3*y**2)"
            ],
            "text/latex": "$\\displaystyle \\frac{- 3 a y + 3 x^{2}}{- 3 a x + 3 y^{2}}$"
          },
          "metadata": {},
          "execution_count": 27
        }
      ]
    }
  ]
}