{
  "nbformat": 4,
  "nbformat_minor": 0,
  "metadata": {
    "colab": {
      "name": "valor_critico_z.ipynb",
      "provenance": [],
      "authorship_tag": "ABX9TyO43cmGqxMVySBE3Ldt7uPO",
      "include_colab_link": true
    },
    "kernelspec": {
      "name": "python3",
      "display_name": "Python 3"
    },
    "language_info": {
      "name": "python"
    }
  },
  "cells": [
    {
      "cell_type": "markdown",
      "metadata": {
        "id": "view-in-github",
        "colab_type": "text"
      },
      "source": [
        "<a href=\"https://colab.research.google.com/github/jaimeisaac2020/Python-analsisis-basicos/blob/mi-github/valor_critico_z.ipynb\" target=\"_parent\"><img src=\"https://colab.research.google.com/assets/colab-badge.svg\" alt=\"Open In Colab\"/></a>"
      ]
    },
    {
      "cell_type": "markdown",
      "metadata": {
        "id": "fU74epCxK3l0"
      },
      "source": [
        "El siguiente ejemplo calcula la función de punto porcentual para $95\\%$ en la distribución estándar de Gauss."
      ]
    },
    {
      "cell_type": "code",
      "metadata": {
        "id": "MdIqYdewK2me"
      },
      "source": [
        "from scipy.stats import norm"
      ],
      "execution_count": 1,
      "outputs": []
    },
    {
      "cell_type": "code",
      "metadata": {
        "id": "ZqgjNn8DPtcU"
      },
      "source": [
        "p=0.95"
      ],
      "execution_count": 14,
      "outputs": []
    },
    {
      "cell_type": "code",
      "metadata": {
        "id": "oXIJNWVYPuqU"
      },
      "source": [
        "value=norm.ppf(p)"
      ],
      "execution_count": 15,
      "outputs": []
    },
    {
      "cell_type": "code",
      "metadata": {
        "colab": {
          "base_uri": "https://localhost:8080/"
        },
        "id": "jweuMKCcPyk2",
        "outputId": "8b136da4-bf05-414c-8196-48bf0e70a547"
      },
      "source": [
        "value"
      ],
      "execution_count": 16,
      "outputs": [
        {
          "output_type": "execute_result",
          "data": {
            "text/plain": [
              "1.6448536269514722"
            ]
          },
          "metadata": {},
          "execution_count": 16
        }
      ]
    },
    {
      "cell_type": "code",
      "metadata": {
        "colab": {
          "base_uri": "https://localhost:8080/"
        },
        "id": "h2c6V50NPzV1",
        "outputId": "05f2bc91-d595-4783-acd9-bcbe0e3be1b5"
      },
      "source": [
        "# Confirmar con cdf\n",
        "p=norm.cdf(value)\n",
        "print(p)"
      ],
      "execution_count": 17,
      "outputs": [
        {
          "output_type": "stream",
          "name": "stdout",
          "text": [
            "0.95\n"
          ]
        }
      ]
    }
  ]
}