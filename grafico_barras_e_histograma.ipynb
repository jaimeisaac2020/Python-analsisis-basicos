{
  "nbformat": 4,
  "nbformat_minor": 0,
  "metadata": {
    "colab": {
      "name": "grafico_barras_e_histograma.ipynb",
      "provenance": [],
      "authorship_tag": "ABX9TyOsaEUr2+ZYjCe1S09ayLha",
      "include_colab_link": true
    },
    "kernelspec": {
      "name": "python3",
      "display_name": "Python 3"
    },
    "language_info": {
      "name": "python"
    }
  },
  "cells": [
    {
      "cell_type": "markdown",
      "metadata": {
        "id": "view-in-github",
        "colab_type": "text"
      },
      "source": [
        "<a href=\"https://colab.research.google.com/github/jaimeisaac2020/Python-analsisis-basicos/blob/mi-github/grafico_barras_e_histograma.ipynb\" target=\"_parent\"><img src=\"https://colab.research.google.com/assets/colab-badge.svg\" alt=\"Open In Colab\"/></a>"
      ]
    },
    {
      "cell_type": "code",
      "metadata": {
        "id": "sDauMsKoblKf"
      },
      "source": [
        "from numpy.random import seed\n",
        "from numpy.random import randint\n",
        "from matplotlib import pyplot"
      ],
      "execution_count": 6,
      "outputs": []
    },
    {
      "cell_type": "code",
      "metadata": {
        "colab": {
          "base_uri": "https://localhost:8080/",
          "height": 265
        },
        "id": "Ncz0DhQKbrGl",
        "outputId": "212b7cad-b1eb-4820-a6e2-f39971abd8ef"
      },
      "source": [
        "seed(123)\n",
        "x=['red','green','blue']\n",
        "y=[randint(0,100),randint(0,100),randint(0,100)]\n",
        "pyplot.bar(x,y,color=['red','green','blue'])\n",
        "pyplot.show()"
      ],
      "execution_count": 8,
      "outputs": [
        {
          "output_type": "display_data",
          "data": {
            "image/png": "[encoded data removed]",
            "text/plain": [
              "<Figure size 432x288 with 1 Axes>"
            ]
          },
          "metadata": {
            "needs_background": "light"
          }
        }
      ]
    },
    {
      "cell_type": "code",
      "metadata": {
        "id": "GHgbFRBqcN_J"
      },
      "source": [
        "from numpy.random import seed\n",
        "from numpy.random import randn\n",
        "from matplotlib import pyplot"
      ],
      "execution_count": 9,
      "outputs": []
    },
    {
      "cell_type": "code",
      "metadata": {
        "colab": {
          "base_uri": "https://localhost:8080/",
          "height": 265
        },
        "id": "DfIPYeZ9cwoR",
        "outputId": "d75be773-5d0d-46fc-dcad-b3950abf372c"
      },
      "source": [
        "seed(1)\n",
        "x=randn(100)\n",
        "pyplot.hist(x)\n",
        "pyplot.show()"
      ],
      "execution_count": 12,
      "outputs": [
        {
          "output_type": "display_data",
          "data": {
            "image/png": "[encoded data removed]",
            "text/plain": [
              "<Figure size 432x288 with 1 Axes>"
            ]
          },
          "metadata": {
            "needs_background": "light"
          }
        }
      ]
    }
  ]
}