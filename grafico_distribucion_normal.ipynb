{
  "nbformat": 4,
  "nbformat_minor": 0,
  "metadata": {
    "colab": {
      "name": "grafico_distribucion_normal.ipynb",
      "provenance": [],
      "collapsed_sections": [],
      "authorship_tag": "ABX9TyOzPbr1Kzsye3qewkXFoniM",
      "include_colab_link": true
    },
    "kernelspec": {
      "name": "python3",
      "display_name": "Python 3"
    },
    "language_info": {
      "name": "python"
    }
  },
  "cells": [
    {
      "cell_type": "markdown",
      "metadata": {
        "id": "view-in-github",
        "colab_type": "text"
      },
      "source": [
        "<a href=\"https://colab.research.google.com/github/jaimeisaac2020/Python-analsisis-basicos/blob/mi-github/grafico_distribucion_normal.ipynb\" target=\"_parent\"><img src=\"https://colab.research.google.com/assets/colab-badge.svg\" alt=\"Open In Colab\"/></a>"
      ]
    },
    {
      "cell_type": "code",
      "metadata": {
        "id": "gDKMN8JOIg7V"
      },
      "source": [
        "import numpy as np\n",
        "import matplotlib.pyplot as plt"
      ],
      "execution_count": 1,
      "outputs": []
    },
    {
      "cell_type": "code",
      "metadata": {
        "id": "wwWk-BD3Ip3D"
      },
      "source": [
        "from scipy.stats import norm"
      ],
      "execution_count": 2,
      "outputs": []
    },
    {
      "cell_type": "code",
      "metadata": {
        "id": "C5_xcHaRJZS7"
      },
      "source": [
        "import scipy.stats as st"
      ],
      "execution_count": 8,
      "outputs": []
    },
    {
      "cell_type": "code",
      "metadata": {
        "colab": {
          "base_uri": "https://localhost:8080/"
        },
        "id": "Beo0U-1nIzp6",
        "outputId": "bbaadcfa-38f8-4b39-ef64-4f6801c2d804"
      },
      "source": [
        "x=np.arange(-3,10,0.001)\n",
        "x"
      ],
      "execution_count": 13,
      "outputs": [
        {
          "output_type": "execute_result",
          "data": {
            "text/plain": [
              "array([-3.   , -2.999, -2.998, ...,  9.997,  9.998,  9.999])"
            ]
          },
          "metadata": {},
          "execution_count": 13
        }
      ]
    },
    {
      "cell_type": "code",
      "metadata": {
        "colab": {
          "base_uri": "https://localhost:8080/"
        },
        "id": "Pxx5hUErJC0j",
        "outputId": "fb857daf-56fa-4f6f-a175-f462e115b5f3"
      },
      "source": [
        "y=norm.pdf(x,2,1.5)\n",
        "y"
      ],
      "execution_count": 14,
      "outputs": [
        {
          "output_type": "execute_result",
          "data": {
            "text/plain": [
              "array([1.02818600e-03, 1.03047317e-03, 1.03276497e-03, ...,\n",
              "       1.78985472e-07, 1.78350407e-07, 1.77717517e-07])"
            ]
          },
          "metadata": {},
          "execution_count": 14
        }
      ]
    },
    {
      "cell_type": "code",
      "metadata": {
        "colab": {
          "base_uri": "https://localhost:8080/",
          "height": 265
        },
        "id": "aarYRvKLJJjF",
        "outputId": "a88fbe3a-9d1a-4945-a5ed-8ef2614a9d46"
      },
      "source": [
        "plt.grid()\n",
        "plt.axvline(x=2,ymax=1.5,color=\"red\")\n",
        "plt.plot(x,y)\n",
        "plt.show()\n"
      ],
      "execution_count": 33,
      "outputs": [
        {
          "output_type": "display_data",
          "data": {
            "image/png": "[encoded data removed]",
            "text/plain": [
              "<Figure size 432x288 with 1 Axes>"
            ]
          },
          "metadata": {
            "needs_background": "light"
          }
        }
      ]
    },
    {
      "cell_type": "markdown",
      "metadata": {
        "id": "YhtECinJSHoM"
      },
      "source": [
        "Generar datos aleatorios de una distribucion normal"
      ]
    },
    {
      "cell_type": "code",
      "metadata": {
        "id": "_wkmx0KuQ95q"
      },
      "source": [
        "np.random.seed(2021)\n",
        "data=5*np.random.randn(10000)+50"
      ],
      "execution_count": 42,
      "outputs": []
    },
    {
      "cell_type": "code",
      "metadata": {
        "colab": {
          "base_uri": "https://localhost:8080/"
        },
        "id": "YeIgZeU4RJ-U",
        "outputId": "91396df7-a834-4157-86dc-28715efa85a7"
      },
      "source": [
        "data"
      ],
      "execution_count": 43,
      "outputs": [
        {
          "output_type": "execute_result",
          "data": {
            "text/plain": [
              "array([57.44304526, 53.38005436, 47.90774315, ..., 56.61976758,\n",
              "       49.45663673, 41.55835705])"
            ]
          },
          "metadata": {},
          "execution_count": 43
        }
      ]
    },
    {
      "cell_type": "code",
      "metadata": {
        "colab": {
          "base_uri": "https://localhost:8080/",
          "height": 265
        },
        "id": "dqqMN0G4RK99",
        "outputId": "9e595cd4-fd91-4cdb-c8c7-b32a2581f3a7"
      },
      "source": [
        "plt.hist(data,bins=1000)\n",
        "plt.show()"
      ],
      "execution_count": 47,
      "outputs": [
        {
          "output_type": "display_data",
          "data": {
            "image/png": "[encoded data removed]",
            "text/plain": [
              "<Figure size 432x288 with 1 Axes>"
            ]
          },
          "metadata": {
            "needs_background": "light"
          }
        }
      ]
    },
    {
      "cell_type": "code",
      "metadata": {
        "id": "AhsfXDriReUm"
      },
      "source": [
        "from numpy.random import seed\n",
        "from numpy.random import randn\n",
        "from numpy import mean"
      ],
      "execution_count": 50,
      "outputs": []
    },
    {
      "cell_type": "code",
      "metadata": {
        "colab": {
          "base_uri": "https://localhost:8080/"
        },
        "id": "CLlafxcATRWS",
        "outputId": "fa79fd9d-c889-432b-a03a-b5e149cd159b"
      },
      "source": [
        "seed(1)\n",
        "data=5*randn(10000)+50\n",
        "media=mean(data)\n",
        "print('media:%.3f'%media)"
      ],
      "execution_count": 53,
      "outputs": [
        {
          "output_type": "stream",
          "name": "stdout",
          "text": [
            "media:50.049\n"
          ]
        }
      ]
    },
    {
      "cell_type": "code",
      "metadata": {
        "id": "uiQOHVhOTiV9"
      },
      "source": [
        ""
      ],
      "execution_count": null,
      "outputs": []
    }
  ]
}