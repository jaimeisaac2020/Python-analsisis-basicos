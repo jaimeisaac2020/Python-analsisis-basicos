{
  "nbformat": 4,
  "nbformat_minor": 0,
  "metadata": {
    "colab": {
      "name": "grafico_area_entre_curvas.ipynb",
      "provenance": [],
      "authorship_tag": "ABX9TyPvbiwsFH5kX0dcUIfx8C1M",
      "include_colab_link": true
    },
    "kernelspec": {
      "name": "python3",
      "display_name": "Python 3"
    },
    "language_info": {
      "name": "python"
    }
  },
  "cells": [
    {
      "cell_type": "markdown",
      "metadata": {
        "id": "view-in-github",
        "colab_type": "text"
      },
      "source": [
        "<a href=\"https://colab.research.google.com/github/jaimeisaac2020/Python-analsisis-basicos/blob/mi-github/grafico_area_entre_curvas.ipynb\" target=\"_parent\"><img src=\"https://colab.research.google.com/assets/colab-badge.svg\" alt=\"Open In Colab\"/></a>"
      ]
    },
    {
      "cell_type": "code",
      "execution_count": 1,
      "metadata": {
        "colab": {
          "base_uri": "https://localhost:8080/",
          "height": 265
        },
        "id": "pm8zwVwbDNaO",
        "outputId": "9d0c414d-93bf-4b9c-c2e6-7e303dbf3d34"
      },
      "outputs": [
        {
          "output_type": "display_data",
          "data": {
            "text/plain": [
              "<Figure size 432x288 with 1 Axes>"
            ],
            "image/png": "[encoded data removed]"
          },
          "metadata": {
            "needs_background": "light"
          }
        }
      ],
      "source": [
        "import numpy as np\n",
        "from matplotlib import pyplot as plt\n",
        "\n",
        "x = np.linspace(0,6,1000)\n",
        "y = np.cos(2*np.pi*x)*np.exp(-x)+1.2\n",
        "\n",
        "plt.axis([np.min(x),np.max(x),0,np.max(y)])           # Rango de coordenadas\n",
        "plt.plot(x,y,label=\"$cos(2πx)e^{-x}+1.2$\")      \t  # Dibujar curva con icono\n",
        "plt.fill_between(x,y1=y,y2=0,where=(x>=0.7)&(x<=4),   # Rellene el área de integración\n",
        "                 facecolor='blue',alpha=0.2)\n",
        "plt.text(0.5*(0.7+4),0.4,r\"$\\int_{0.7}^4(cos(2πx)e^{-x}+1.2)\\mathrm{d}x$\",\n",
        "         horizontalalignment='center',fontsize=14)    # Añadir texto explicativo\n",
        "plt.legend()                                          #Muestra el icono\n",
        "plt.show()\n"
      ]
    },
    {
      "cell_type": "code",
      "source": [
        "import math\n",
        "from scipy import integrate\n",
        "\n",
        "def func(x):\n",
        "    print(\"x=\",x)       # Se usa para mostrar múltiples llamadas de la función quad () a func\n",
        "    return math.cos(2*math.pi*x)*math.exp(-x)+1.2\n",
        "\n",
        "fArea,err = integrate.quad(func,0.7,4)\n",
        "print(\"Integral area:\",fArea)"
      ],
      "metadata": {
        "colab": {
          "base_uri": "https://localhost:8080/"
        },
        "id": "Xw5PlRR8EEbm",
        "outputId": "14fc74c1-e624-4844-b250-3ba7264367d8"
      },
      "execution_count": 2,
      "outputs": [
        {
          "output_type": "stream",
          "name": "stdout",
          "text": [
            "x= 2.35\n",
            "x= 0.7430542279466668\n",
            "x= 3.9569457720533334\n",
            "x= 0.9226454449631756\n",
            "x= 3.7773545550368244\n",
            "x= 1.2289742123066099\n",
            "x= 3.4710257876933905\n",
            "x= 1.634897599686742\n",
            "x= 3.065102400313258\n",
            "x= 2.1043573406803087\n",
            "x= 2.5956426593196915\n",
            "x= 0.7071656810074167\n",
            "x= 3.9928343189925837\n",
            "x= 0.8152401392630815\n",
            "x= 3.884759860736919\n",
            "x= 1.0616507511324123\n",
            "x= 3.6383492488675877\n",
            "x= 1.4214507277968025\n",
            "x= 3.2785492722031977\n",
            "x= 1.8642517765425908\n",
            "x= 2.8357482234574096\n",
            "x= 1.525\n",
            "x= 0.7215271139733331\n",
            "x= 2.328472886026667\n",
            "x= 0.8113227224815877\n",
            "x= 2.2386772775184123\n",
            "x= 0.9644871061533047\n",
            "x= 2.085512893846695\n",
            "x= 1.167448799843371\n",
            "x= 1.882551200156629\n",
            "x= 1.4021786703401542\n",
            "x= 1.6478213296598456\n",
            "x= 0.7035828405037081\n",
            "x= 2.3464171594962915\n",
            "x= 0.7576200696315405\n",
            "x= 2.292379930368459\n",
            "x= 0.8808253755662059\n",
            "x= 2.169174624433794\n",
            "x= 1.060725363898401\n",
            "x= 1.9892746361015987\n",
            "x= 1.2821258882712951\n",
            "x= 1.7678741117287047\n",
            "x= 3.175\n",
            "x= 2.3715271139733334\n",
            "x= 3.9784728860266663\n",
            "x= 2.4613227224815875\n",
            "x= 3.888677277518412\n",
            "x= 2.614487106153305\n",
            "x= 3.735512893846695\n",
            "x= 2.817448799843371\n",
            "x= 3.532551200156629\n",
            "x= 3.052178670340154\n",
            "x= 3.2978213296598455\n",
            "x= 2.3535828405037083\n",
            "x= 3.9964171594962914\n",
            "x= 2.4076200696315406\n",
            "x= 3.942379930368459\n",
            "x= 2.530825375566206\n",
            "x= 3.819174624433794\n",
            "x= 2.7107253638984012\n",
            "x= 3.6392746361015984\n",
            "x= 2.9321258882712953\n",
            "x= 3.4178741117287044\n",
            "Integral area: 4.029065401143393\n"
          ]
        }
      ]
    }
  ]
}