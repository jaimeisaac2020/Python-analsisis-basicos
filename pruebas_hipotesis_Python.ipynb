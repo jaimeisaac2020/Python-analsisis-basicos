{
  "nbformat": 4,
  "nbformat_minor": 0,
  "metadata": {
    "colab": {
      "provenance": [],
      "authorship_tag": "ABX9TyO/vCii510+pg1rs7Jx5Z67",
      "include_colab_link": true
    },
    "kernelspec": {
      "name": "python3",
      "display_name": "Python 3"
    },
    "language_info": {
      "name": "python"
    }
  },
  "cells": [
    {
      "cell_type": "markdown",
      "metadata": {
        "id": "view-in-github",
        "colab_type": "text"
      },
      "source": [
        "<a href=\"https://colab.research.google.com/github/jaimeisaac2020/Python-analsisis-basicos/blob/mi-github/pruebas_hipotesis_Python.ipynb\" target=\"_parent\"><img src=\"https://colab.research.google.com/assets/colab-badge.svg\" alt=\"Open In Colab\"/></a>"
      ]
    },
    {
      "cell_type": "code",
      "execution_count": 1,
      "metadata": {
        "id": "6dLh2frVA4BT"
      },
      "outputs": [],
      "source": [
        "import pandas as pd\n",
        "import numpy as np"
      ]
    },
    {
      "cell_type": "code",
      "source": [
        "datos=pd.read_excel('Terapia.xls',sheet_name=1)"
      ],
      "metadata": {
        "id": "gPu2VZwnBAcZ"
      },
      "execution_count": 10,
      "outputs": []
    },
    {
      "cell_type": "code",
      "source": [
        "datos"
      ],
      "metadata": {
        "colab": {
          "base_uri": "https://localhost:8080/",
          "height": 677
        },
        "id": "kKlghpFaBR8P",
        "outputId": "a45ac074-3819-4293-892c-c1e4c190c76c"
      },
      "execution_count": 12,
      "outputs": [
        {
          "output_type": "execute_result",
          "data": {
            "text/plain": [
              "     n  noche1  noche2  noche3  sexo  edad  terapia1  terapia2  terapia3\n",
              "0    1     4.0     4.5     5.0     0     1         0         1         0\n",
              "1    2     5.8     6.4     7.0     1     2         0         1         0\n",
              "2    3     4.1     4.9     5.1     0     3         0         0         0\n",
              "3    4     4.3     5.0     5.6     1     1         0         1         1\n",
              "4    5     5.4     6.1     6.3     0     2         0         0         1\n",
              "5    6     5.7     6.3     6.8     1     3         1         0         0\n",
              "6    7     4.3     4.8     5.4     0     1         0         1         1\n",
              "7    8     7.6     7.9     8.6     1     2         1         0         1\n",
              "8    9     5.7     6.0     6.7     0     3         1         1         0\n",
              "9   10     3.8     4.6     4.9     1     1         0         1         1\n",
              "10  11     7.5     8.0     8.5     0     2         1         0         0\n",
              "11  12     6.4     7.0     7.3     1     3         1         1         0\n",
              "12  13     4.0     4.5     5.0     0     1         0         1         1\n",
              "13  14     7.7     8.1     8.5     1     2         1         1         1\n",
              "14  15     6.4     6.9     7.3     0     3         1         0         1\n",
              "15  16     5.9     6.6     7.0     1     1         1         0         1\n",
              "16  17     7.2     7.8     8.1     0     2         1         1         1\n",
              "17  18     5.6     6.2     6.8     1     3         1         1         0\n",
              "18  19     5.7     6.1     6.8     0     1         1         0         0\n",
              "19  20     7.4     7.6     8.2     1     2         1         1         1"
            ],
            "text/html": [
              "\n",
              "  <div id=\"df-74167230-ecc6-42b8-b983-c0b8fd61730e\" class=\"colab-df-container\">\n",
              "    <div>\n",
              "<style scoped>\n",
              "    .dataframe tbody tr th:only-of-type {\n",
              "        vertical-align: middle;\n",
              "    }\n",
              "\n",
              "    .dataframe tbody tr th {\n",
              "        vertical-align: top;\n",
              "    }\n",
              "\n",
              "    .dataframe thead th {\n",
              "        text-align: right;\n",
              "    }\n",
              "</style>\n",
              "<table border=\"1\" class=\"dataframe\">\n",
              "  <thead>\n",
              "    <tr style=\"text-align: right;\">\n",
              "      <th></th>\n",
              "      <th>n</th>\n",
              "      <th>noche1</th>\n",
              "      <th>noche2</th>\n",
              "      <th>noche3</th>\n",
              "      <th>sexo</th>\n",
              "      <th>edad</th>\n",
              "      <th>terapia1</th>\n",
              "      <th>terapia2</th>\n",
              "      <th>terapia3</th>\n",
              "    </tr>\n",
              "  </thead>\n",
              "  <tbody>\n",
              "    <tr>\n",
              "      <th>0</th>\n",
              "      <td>1</td>\n",
              "      <td>4.0</td>\n",
              "      <td>4.5</td>\n",
              "      <td>5.0</td>\n",
              "      <td>0</td>\n",
              "      <td>1</td>\n",
              "      <td>0</td>\n",
              "      <td>1</td>\n",
              "      <td>0</td>\n",
              "    </tr>\n",
              "    <tr>\n",
              "      <th>1</th>\n",
              "      <td>2</td>\n",
              "      <td>5.8</td>\n",
              "      <td>6.4</td>\n",
              "      <td>7.0</td>\n",
              "      <td>1</td>\n",
              "      <td>2</td>\n",
              "      <td>0</td>\n",
              "      <td>1</td>\n",
              "      <td>0</td>\n",
              "    </tr>\n",
              "    <tr>\n",
              "      <th>2</th>\n",
              "      <td>3</td>\n",
              "      <td>4.1</td>\n",
              "      <td>4.9</td>\n",
              "      <td>5.1</td>\n",
              "      <td>0</td>\n",
              "      <td>3</td>\n",
              "      <td>0</td>\n",
              "      <td>0</td>\n",
              "      <td>0</td>\n",
              "    </tr>\n",
              "    <tr>\n",
              "      <th>3</th>\n",
              "      <td>4</td>\n",
              "      <td>4.3</td>\n",
              "      <td>5.0</td>\n",
              "      <td>5.6</td>\n",
              "      <td>1</td>\n",
              "      <td>1</td>\n",
              "      <td>0</td>\n",
              "      <td>1</td>\n",
              "      <td>1</td>\n",
              "    </tr>\n",
              "    <tr>\n",
              "      <th>4</th>\n",
              "      <td>5</td>\n",
              "      <td>5.4</td>\n",
              "      <td>6.1</td>\n",
              "      <td>6.3</td>\n",
              "      <td>0</td>\n",
              "      <td>2</td>\n",
              "      <td>0</td>\n",
              "      <td>0</td>\n",
              "      <td>1</td>\n",
              "    </tr>\n",
              "    <tr>\n",
              "      <th>5</th>\n",
              "      <td>6</td>\n",
              "      <td>5.7</td>\n",
              "      <td>6.3</td>\n",
              "      <td>6.8</td>\n",
              "      <td>1</td>\n",
              "      <td>3</td>\n",
              "      <td>1</td>\n",
              "      <td>0</td>\n",
              "      <td>0</td>\n",
              "    </tr>\n",
              "    <tr>\n",
              "      <th>6</th>\n",
              "      <td>7</td>\n",
              "      <td>4.3</td>\n",
              "      <td>4.8</td>\n",
              "      <td>5.4</td>\n",
              "      <td>0</td>\n",
              "      <td>1</td>\n",
              "      <td>0</td>\n",
              "      <td>1</td>\n",
              "      <td>1</td>\n",
              "    </tr>\n",
              "    <tr>\n",
              "      <th>7</th>\n",
              "      <td>8</td>\n",
              "      <td>7.6</td>\n",
              "      <td>7.9</td>\n",
              "      <td>8.6</td>\n",
              "      <td>1</td>\n",
              "      <td>2</td>\n",
              "      <td>1</td>\n",
              "      <td>0</td>\n",
              "      <td>1</td>\n",
              "    </tr>\n",
              "    <tr>\n",
              "      <th>8</th>\n",
              "      <td>9</td>\n",
              "      <td>5.7</td>\n",
              "      <td>6.0</td>\n",
              "      <td>6.7</td>\n",
              "      <td>0</td>\n",
              "      <td>3</td>\n",
              "      <td>1</td>\n",
              "      <td>1</td>\n",
              "      <td>0</td>\n",
              "    </tr>\n",
              "    <tr>\n",
              "      <th>9</th>\n",
              "      <td>10</td>\n",
              "      <td>3.8</td>\n",
              "      <td>4.6</td>\n",
              "      <td>4.9</td>\n",
              "      <td>1</td>\n",
              "      <td>1</td>\n",
              "      <td>0</td>\n",
              "      <td>1</td>\n",
              "      <td>1</td>\n",
              "    </tr>\n",
              "    <tr>\n",
              "      <th>10</th>\n",
              "      <td>11</td>\n",
              "      <td>7.5</td>\n",
              "      <td>8.0</td>\n",
              "      <td>8.5</td>\n",
              "      <td>0</td>\n",
              "      <td>2</td>\n",
              "      <td>1</td>\n",
              "      <td>0</td>\n",
              "      <td>0</td>\n",
              "    </tr>\n",
              "    <tr>\n",
              "      <th>11</th>\n",
              "      <td>12</td>\n",
              "      <td>6.4</td>\n",
              "      <td>7.0</td>\n",
              "      <td>7.3</td>\n",
              "      <td>1</td>\n",
              "      <td>3</td>\n",
              "      <td>1</td>\n",
              "      <td>1</td>\n",
              "      <td>0</td>\n",
              "    </tr>\n",
              "    <tr>\n",
              "      <th>12</th>\n",
              "      <td>13</td>\n",
              "      <td>4.0</td>\n",
              "      <td>4.5</td>\n",
              "      <td>5.0</td>\n",
              "      <td>0</td>\n",
              "      <td>1</td>\n",
              "      <td>0</td>\n",
              "      <td>1</td>\n",
              "      <td>1</td>\n",
              "    </tr>\n",
              "    <tr>\n",
              "      <th>13</th>\n",
              "      <td>14</td>\n",
              "      <td>7.7</td>\n",
              "      <td>8.1</td>\n",
              "      <td>8.5</td>\n",
              "      <td>1</td>\n",
              "      <td>2</td>\n",
              "      <td>1</td>\n",
              "      <td>1</td>\n",
              "      <td>1</td>\n",
              "    </tr>\n",
              "    <tr>\n",
              "      <th>14</th>\n",
              "      <td>15</td>\n",
              "      <td>6.4</td>\n",
              "      <td>6.9</td>\n",
              "      <td>7.3</td>\n",
              "      <td>0</td>\n",
              "      <td>3</td>\n",
              "      <td>1</td>\n",
              "      <td>0</td>\n",
              "      <td>1</td>\n",
              "    </tr>\n",
              "    <tr>\n",
              "      <th>15</th>\n",
              "      <td>16</td>\n",
              "      <td>5.9</td>\n",
              "      <td>6.6</td>\n",
              "      <td>7.0</td>\n",
              "      <td>1</td>\n",
              "      <td>1</td>\n",
              "      <td>1</td>\n",
              "      <td>0</td>\n",
              "      <td>1</td>\n",
              "    </tr>\n",
              "    <tr>\n",
              "      <th>16</th>\n",
              "      <td>17</td>\n",
              "      <td>7.2</td>\n",
              "      <td>7.8</td>\n",
              "      <td>8.1</td>\n",
              "      <td>0</td>\n",
              "      <td>2</td>\n",
              "      <td>1</td>\n",
              "      <td>1</td>\n",
              "      <td>1</td>\n",
              "    </tr>\n",
              "    <tr>\n",
              "      <th>17</th>\n",
              "      <td>18</td>\n",
              "      <td>5.6</td>\n",
              "      <td>6.2</td>\n",
              "      <td>6.8</td>\n",
              "      <td>1</td>\n",
              "      <td>3</td>\n",
              "      <td>1</td>\n",
              "      <td>1</td>\n",
              "      <td>0</td>\n",
              "    </tr>\n",
              "    <tr>\n",
              "      <th>18</th>\n",
              "      <td>19</td>\n",
              "      <td>5.7</td>\n",
              "      <td>6.1</td>\n",
              "      <td>6.8</td>\n",
              "      <td>0</td>\n",
              "      <td>1</td>\n",
              "      <td>1</td>\n",
              "      <td>0</td>\n",
              "      <td>0</td>\n",
              "    </tr>\n",
              "    <tr>\n",
              "      <th>19</th>\n",
              "      <td>20</td>\n",
              "      <td>7.4</td>\n",
              "      <td>7.6</td>\n",
              "      <td>8.2</td>\n",
              "      <td>1</td>\n",
              "      <td>2</td>\n",
              "      <td>1</td>\n",
              "      <td>1</td>\n",
              "      <td>1</td>\n",
              "    </tr>\n",
              "  </tbody>\n",
              "</table>\n",
              "</div>\n",
              "    <div class=\"colab-df-buttons\">\n",
              "\n",
              "  <div class=\"colab-df-container\">\n",
              "    <button class=\"colab-df-convert\" onclick=\"convertToInteractive('df-74167230-ecc6-42b8-b983-c0b8fd61730e')\"\n",
              "            title=\"Convert this dataframe to an interactive table.\"\n",
              "            style=\"display:none;\">\n",
              "\n",
              "  <svg xmlns=\"http://www.w3.org/2000/svg\" height=\"24px\" viewBox=\"0 -960 960 960\">\n",
              "    <path d=\"M120-120v-720h720v720H120Zm60-500h600v-160H180v160Zm220 220h160v-160H400v160Zm0 220h160v-160H400v160ZM180-400h160v-160H180v160Zm440 0h160v-160H620v160ZM180-180h160v-160H180v160Zm440 0h160v-160H620v160Z\"/>\n",
              "  </svg>\n",
              "    </button>\n",
              "\n",
              "  <style>\n",
              "    .colab-df-container {\n",
              "      display:flex;\n",
              "      gap: 12px;\n",
              "    }\n",
              "\n",
              "    .colab-df-convert {\n",
              "      background-color: #E8F0FE;\n",
              "      border: none;\n",
              "      border-radius: 50%;\n",
              "      cursor: pointer;\n",
              "      display: none;\n",
              "      fill: #1967D2;\n",
              "      height: 32px;\n",
              "      padding: 0 0 0 0;\n",
              "      width: 32px;\n",
              "    }\n",
              "\n",
              "    .colab-df-convert:hover {\n",
              "      background-color: #E2EBFA;\n",
              "      box-shadow: 0px 1px 2px rgba(60, 64, 67, 0.3), 0px 1px 3px 1px rgba(60, 64, 67, 0.15);\n",
              "      fill: #174EA6;\n",
              "    }\n",
              "\n",
              "    .colab-df-buttons div {\n",
              "      margin-bottom: 4px;\n",
              "    }\n",
              "\n",
              "    [theme=dark] .colab-df-convert {\n",
              "      background-color: #3B4455;\n",
              "      fill: #D2E3FC;\n",
              "    }\n",
              "\n",
              "    [theme=dark] .colab-df-convert:hover {\n",
              "      background-color: #434B5C;\n",
              "      box-shadow: 0px 1px 3px 1px rgba(0, 0, 0, 0.15);\n",
              "      filter: drop-shadow(0px 1px 2px rgba(0, 0, 0, 0.3));\n",
              "      fill: #FFFFFF;\n",
              "    }\n",
              "  </style>\n",
              "\n",
              "    <script>\n",
              "      const buttonEl =\n",
              "        document.querySelector('#df-74167230-ecc6-42b8-b983-c0b8fd61730e button.colab-df-convert');\n",
              "      buttonEl.style.display =\n",
              "        google.colab.kernel.accessAllowed ? 'block' : 'none';\n",
              "\n",
              "      async function convertToInteractive(key) {\n",
              "        const element = document.querySelector('#df-74167230-ecc6-42b8-b983-c0b8fd61730e');\n",
              "        const dataTable =\n",
              "          await google.colab.kernel.invokeFunction('convertToInteractive',\n",
              "                                                    [key], {});\n",
              "        if (!dataTable) return;\n",
              "\n",
              "        const docLinkHtml = 'Like what you see? Visit the ' +\n",
              "          '<a target=\"_blank\" href=https://colab.research.google.com/notebooks/data_table.ipynb>data table notebook</a>'\n",
              "          + ' to learn more about interactive tables.';\n",
              "        element.innerHTML = '';\n",
              "        dataTable['output_type'] = 'display_data';\n",
              "        await google.colab.output.renderOutput(dataTable, element);\n",
              "        const docLink = document.createElement('div');\n",
              "        docLink.innerHTML = docLinkHtml;\n",
              "        element.appendChild(docLink);\n",
              "      }\n",
              "    </script>\n",
              "  </div>\n",
              "\n",
              "\n",
              "<div id=\"df-902b526c-f3bd-4c12-9b2c-aa60334213b3\">\n",
              "  <button class=\"colab-df-quickchart\" onclick=\"quickchart('df-902b526c-f3bd-4c12-9b2c-aa60334213b3')\"\n",
              "            title=\"Suggest charts.\"\n",
              "            style=\"display:none;\">\n",
              "\n",
              "<svg xmlns=\"http://www.w3.org/2000/svg\" height=\"24px\"viewBox=\"0 0 24 24\"\n",
              "     width=\"24px\">\n",
              "    <g>\n",
              "        <path d=\"M19 3H5c-1.1 0-2 .9-2 2v14c0 1.1.9 2 2 2h14c1.1 0 2-.9 2-2V5c0-1.1-.9-2-2-2zM9 17H7v-7h2v7zm4 0h-2V7h2v10zm4 0h-2v-4h2v4z\"/>\n",
              "    </g>\n",
              "</svg>\n",
              "  </button>\n",
              "\n",
              "<style>\n",
              "  .colab-df-quickchart {\n",
              "      --bg-color: #E8F0FE;\n",
              "      --fill-color: #1967D2;\n",
              "      --hover-bg-color: #E2EBFA;\n",
              "      --hover-fill-color: #174EA6;\n",
              "      --disabled-fill-color: #AAA;\n",
              "      --disabled-bg-color: #DDD;\n",
              "  }\n",
              "\n",
              "  [theme=dark] .colab-df-quickchart {\n",
              "      --bg-color: #3B4455;\n",
              "      --fill-color: #D2E3FC;\n",
              "      --hover-bg-color: #434B5C;\n",
              "      --hover-fill-color: #FFFFFF;\n",
              "      --disabled-bg-color: #3B4455;\n",
              "      --disabled-fill-color: #666;\n",
              "  }\n",
              "\n",
              "  .colab-df-quickchart {\n",
              "    background-color: var(--bg-color);\n",
              "    border: none;\n",
              "    border-radius: 50%;\n",
              "    cursor: pointer;\n",
              "    display: none;\n",
              "    fill: var(--fill-color);\n",
              "    height: 32px;\n",
              "    padding: 0;\n",
              "    width: 32px;\n",
              "  }\n",
              "\n",
              "  .colab-df-quickchart:hover {\n",
              "    background-color: var(--hover-bg-color);\n",
              "    box-shadow: 0 1px 2px rgba(60, 64, 67, 0.3), 0 1px 3px 1px rgba(60, 64, 67, 0.15);\n",
              "    fill: var(--button-hover-fill-color);\n",
              "  }\n",
              "\n",
              "  .colab-df-quickchart-complete:disabled,\n",
              "  .colab-df-quickchart-complete:disabled:hover {\n",
              "    background-color: var(--disabled-bg-color);\n",
              "    fill: var(--disabled-fill-color);\n",
              "    box-shadow: none;\n",
              "  }\n",
              "\n",
              "  .colab-df-spinner {\n",
              "    border: 2px solid var(--fill-color);\n",
              "    border-color: transparent;\n",
              "    border-bottom-color: var(--fill-color);\n",
              "    animation:\n",
              "      spin 1s steps(1) infinite;\n",
              "  }\n",
              "\n",
              "  @keyframes spin {\n",
              "    0% {\n",
              "      border-color: transparent;\n",
              "      border-bottom-color: var(--fill-color);\n",
              "      border-left-color: var(--fill-color);\n",
              "    }\n",
              "    20% {\n",
              "      border-color: transparent;\n",
              "      border-left-color: var(--fill-color);\n",
              "      border-top-color: var(--fill-color);\n",
              "    }\n",
              "    30% {\n",
              "      border-color: transparent;\n",
              "      border-left-color: var(--fill-color);\n",
              "      border-top-color: var(--fill-color);\n",
              "      border-right-color: var(--fill-color);\n",
              "    }\n",
              "    40% {\n",
              "      border-color: transparent;\n",
              "      border-right-color: var(--fill-color);\n",
              "      border-top-color: var(--fill-color);\n",
              "    }\n",
              "    60% {\n",
              "      border-color: transparent;\n",
              "      border-right-color: var(--fill-color);\n",
              "    }\n",
              "    80% {\n",
              "      border-color: transparent;\n",
              "      border-right-color: var(--fill-color);\n",
              "      border-bottom-color: var(--fill-color);\n",
              "    }\n",
              "    90% {\n",
              "      border-color: transparent;\n",
              "      border-bottom-color: var(--fill-color);\n",
              "    }\n",
              "  }\n",
              "</style>\n",
              "\n",
              "  <script>\n",
              "    async function quickchart(key) {\n",
              "      const quickchartButtonEl =\n",
              "        document.querySelector('#' + key + ' button');\n",
              "      quickchartButtonEl.disabled = true;  // To prevent multiple clicks.\n",
              "      quickchartButtonEl.classList.add('colab-df-spinner');\n",
              "      try {\n",
              "        const charts = await google.colab.kernel.invokeFunction(\n",
              "            'suggestCharts', [key], {});\n",
              "      } catch (error) {\n",
              "        console.error('Error during call to suggestCharts:', error);\n",
              "      }\n",
              "      quickchartButtonEl.classList.remove('colab-df-spinner');\n",
              "      quickchartButtonEl.classList.add('colab-df-quickchart-complete');\n",
              "    }\n",
              "    (() => {\n",
              "      let quickchartButtonEl =\n",
              "        document.querySelector('#df-902b526c-f3bd-4c12-9b2c-aa60334213b3 button');\n",
              "      quickchartButtonEl.style.display =\n",
              "        google.colab.kernel.accessAllowed ? 'block' : 'none';\n",
              "    })();\n",
              "  </script>\n",
              "</div>\n",
              "    </div>\n",
              "  </div>\n"
            ]
          },
          "metadata": {},
          "execution_count": 12
        }
      ]
    },
    {
      "cell_type": "code",
      "source": [
        "type(datos)\n"
      ],
      "metadata": {
        "colab": {
          "base_uri": "https://localhost:8080/"
        },
        "id": "xvji6dIUBZqI",
        "outputId": "d4b40999-b033-4940-dbdb-1db133074441"
      },
      "execution_count": 13,
      "outputs": [
        {
          "output_type": "execute_result",
          "data": {
            "text/plain": [
              "pandas.core.frame.DataFrame"
            ]
          },
          "metadata": {},
          "execution_count": 13
        }
      ]
    },
    {
      "cell_type": "code",
      "source": [
        "datos.columns\n"
      ],
      "metadata": {
        "colab": {
          "base_uri": "https://localhost:8080/"
        },
        "id": "oT4YJEH6CNlX",
        "outputId": "6c319985-28ff-4bba-9577-5052711f4416"
      },
      "execution_count": 15,
      "outputs": [
        {
          "output_type": "execute_result",
          "data": {
            "text/plain": [
              "Index(['n', 'noche1', 'noche2', 'noche3', 'sexo', 'edad', 'terapia1',\n",
              "       'terapia2', 'terapia3'],\n",
              "      dtype='object')"
            ]
          },
          "metadata": {},
          "execution_count": 15
        }
      ]
    },
    {
      "cell_type": "code",
      "source": [
        "datos.std()\n"
      ],
      "metadata": {
        "colab": {
          "base_uri": "https://localhost:8080/"
        },
        "id": "4Vuy7iLZCSVh",
        "outputId": "63ebfd36-ff3a-4a63-d366-63fe67f55b43"
      },
      "execution_count": 16,
      "outputs": [
        {
          "output_type": "execute_result",
          "data": {
            "text/plain": [
              "n           5.916080\n",
              "noche1      1.317444\n",
              "noche2      1.235559\n",
              "noche3      1.252986\n",
              "sexo        0.512989\n",
              "edad        0.825578\n",
              "terapia1    0.502625\n",
              "terapia2    0.502625\n",
              "terapia3    0.510418\n",
              "dtype: float64"
            ]
          },
          "metadata": {},
          "execution_count": 16
        }
      ]
    },
    {
      "cell_type": "markdown",
      "source": [
        "#Prueba $Z$ para una media#\n",
        "\n",
        "La prueba $Z$ se utiliza en el contraste de hipótesis sobre una media cuando la varianza poblacional, $\\sigma^2$, es conocida. El estadístico de contraste $Z$ es:\n",
        "$$\n",
        "Z=\\frac{\\bar{X}-\\mu_0}{\\sigma / \\sqrt{n}}\n",
        "$$\n",
        "y su distribución es la $\\operatorname{Normal}(0,1)$. No existe una función específica de $R$ para calcular el estadístico $Z$, por lo que debemos programarla en $R$.\n",
        "\n",
        "Por ejemplo, supongamos que disponemos de los siguientes datos referidos a puntuaciones en el \"Test PMA de Thurstone\" de un grupo de ocho personas con Alzheimer precoz:\n",
        "$\\begin{array}{llllllll}94 & 102 & 88 & 91 & 97 & 94 & 101 & 93\\end{array}$\n",
        "\n",
        "El propósito del análisis es \"averiguar si el cociente intelectual medio es menor en la población de la que proceden estas personas que en la población general.\" Para ello realizamos un contraste unilateral izquierdo con las siguientes hipótesis:\n",
        "$$\n",
        "\\begin{array}{ll}\n",
        "H_0: & \\mu \\geq 100 \\\\\n",
        "H_1: & \\mu<100\n",
        "\\end{array}\n",
        "$$  \n",
        "\n",
        "Como sabemos que el cociente intelectual tiene $\\sigma=15$ en la población, podemos hacer el contraste con el estadístico $Z$. Para ello programamos el cálculo de $Z$ del siguiente modo:"
      ],
      "metadata": {
        "id": "hMWu4tFtWSpm"
      }
    },
    {
      "cell_type": "code",
      "source": [
        "import numpy as np\n",
        "\n",
        "x = np.array([94, 102, 88, 91, 97, 94, 101, 93])\n",
        "z = (np.mean(x) - 100) / (15 / np.sqrt(8))\n",
        "\n",
        "print(z)\n"
      ],
      "metadata": {
        "colab": {
          "base_uri": "https://localhost:8080/"
        },
        "id": "Lw29Ydk0CXws",
        "outputId": "1f0d49d3-46b8-49a1-c0d4-b84cab86a2ce"
      },
      "execution_count": 17,
      "outputs": [
        {
          "output_type": "stream",
          "name": "stdout",
          "text": [
            "-0.9428090415820635\n"
          ]
        }
      ]
    },
    {
      "cell_type": "markdown",
      "source": [
        "El resultado de este cálculo es $Z=-0,94$. Para tomar una decisión sobre $H_0$ podemos emplear dos maneras equivalentes:\n",
        "- Buscar el punto crítico, $z_\\alpha$, que es el valor de $Z$ que deja a su izquierda la probabilidad $\\alpha=0,05$. Como vimos en el capítulo anterior, esto puede hacerse con el comando norm.ppf(0.05), donde se ha utilizado un nivel de significación $\\alpha=0,05$.  \n",
        "\n",
        "- Calcular el nivel crítico unilateral izquierdo: $p=P(Z \\leq-0,94)$. Para ello empleamos la función pnorm (z), que proporciona la probabilidad acumulada de la distribución normal para el estadístico de contraste definido en $z$.\n",
        "\n",
        "El punto crítico con $\\alpha=0,05$ es $z_\\alpha=-1,64$, y el nivel crítico vale $p=0,17$. Con cualquiera de estos métodos llegamos a la decisión de mantener $H_0$. En consecuencia, no podemos concluir que en la población de personas con Alzheimer precoz el cociente intelectual medio sea inferior al de la población general."
      ],
      "metadata": {
        "id": "0IhM6lMmXBMf"
      }
    },
    {
      "cell_type": "code",
      "source": [
        "from scipy.stats import norm\n",
        "\n",
        "quantile = norm.ppf(0.05)\n",
        "\n",
        "print(quantile)\n",
        "\n"
      ],
      "metadata": {
        "colab": {
          "base_uri": "https://localhost:8080/"
        },
        "id": "zrJnok_1W40G",
        "outputId": "2eff8c96-b2f1-4162-b552-d65236670db7"
      },
      "execution_count": 18,
      "outputs": [
        {
          "output_type": "stream",
          "name": "stdout",
          "text": [
            "-1.6448536269514729\n"
          ]
        }
      ]
    },
    {
      "cell_type": "code",
      "source": [
        "from scipy.stats import norm\n",
        "\n",
        "#z =  # Coloca aquí el valor z que desees calcular\n",
        "cumulative_probability = norm.cdf(z)\n",
        "\n",
        "print(cumulative_probability)\n"
      ],
      "metadata": {
        "colab": {
          "base_uri": "https://localhost:8080/"
        },
        "id": "ON_3x_yYX33I",
        "outputId": "84751974-e17b-4891-e9d9-ed2c8c89ce01"
      },
      "execution_count": 19,
      "outputs": [
        {
          "output_type": "stream",
          "name": "stdout",
          "text": [
            "0.17288929307558015\n"
          ]
        }
      ]
    },
    {
      "cell_type": "markdown",
      "source": [
        "# Prueba $T$ sobre una media\n",
        "\n",
        "Cuando el valor de $\\sigma^2$ es desconocido, los contrastes sobre medias se realizan con la prueba $T$. En $R$ está implementada la función t.test para realizar el contraste sobre una y dos medias.\n",
        "\n",
        "Como ejemplo de contraste sobre una media con $\\sigma^2$ desconocida, podemos contrastar la hipótesis de que la variable noche1, contenida en datos, tiene media 5 en la población. Las hipótesis son:\n",
        "$$\n",
        "\\begin{aligned}\n",
        "& H_0: \\mu=5 \\\\\n",
        "& H_1: \\mu \\neq 5\n",
        "\\end{aligned}\n",
        "$$\n",
        "\n",
        "El código $R$ para este contraste es:"
      ],
      "metadata": {
        "id": "uBOo-sA8YJO7"
      }
    },
    {
      "cell_type": "code",
      "source": [
        "from scipy import stats\n",
        "\n",
        "\n",
        "\n",
        "# Realizar la prueba t de dos muestras\n",
        "t_statistic, p_value = stats.ttest_1samp(datos['noche1'], 5)\n",
        "\n",
        "# Imprimir el resultado\n",
        "print(\"Estadístico t:\", t_statistic)\n",
        "print(\"Valor p:\", p_value)\n"
      ],
      "metadata": {
        "colab": {
          "base_uri": "https://localhost:8080/"
        },
        "id": "3Re21COWX5xj",
        "outputId": "edcd1b63-46ca-4d28-e746-04b6ddad7b29"
      },
      "execution_count": 20,
      "outputs": [
        {
          "output_type": "stream",
          "name": "stdout",
          "text": [
            "Estadístico t: 2.4610528516582364\n",
            "Valor p: 0.02359580334437601\n"
          ]
        }
      ]
    },
    {
      "cell_type": "markdown",
      "source": [
        "La salida de resultados muestra el estadístico de contraste $(\\mathrm{t}=2.4611)$ y el nivel crítico $(\\mathrm{p}$-value $=0.0236)$, por lo que la decisión sobre $H_0$ será una u otra dependiendo del nivel de $\\alpha$ empleado. La hipótesis nula se mantiene con $\\alpha=0,01$ y se rechaza con $\\alpha=0,05$."
      ],
      "metadata": {
        "id": "hvU_DLXdY8DK"
      }
    },
    {
      "cell_type": "code",
      "source": [
        "from scipy import stats\n",
        "\n",
        "\n",
        "\n",
        "# Prueba t de una muestra contra una media de 5\n",
        "t_statistic, p_value = stats.ttest_1samp(datos['noche1'], 5)\n",
        "print(\"Prueba t de una muestra contra una media de 5:\")\n",
        "print(\"Estadístico t:\", t_statistic)\n",
        "print(\"Valor p (bilateral):\", p_value)\n",
        "\n",
        "# Prueba t de una muestra para una media mayor que 5\n",
        "t_statistic_greater, p_value_greater = stats.ttest_1samp(datos['noche1'], 5, alternative=\"greater\")\n",
        "print(\"\\nPrueba t de una muestra para una media mayor que 5:\")\n",
        "print(\"Estadístico t:\", t_statistic_greater)\n",
        "print(\"Valor p (una cola, mayor que 5):\", p_value_greater)\n",
        "\n",
        "# Prueba t de una muestra para una media menor que 5 con un nivel de confianza del 99%\n",
        "t_statistic_less, p_value_less = stats.ttest_1samp(datos['noche1'], 5, alternative=\"less\")\n",
        "alpha = 1 - 0.99\n",
        "print(\"\\nPrueba t de una muestra para una media menor que 5 con nivel de confianza del 99%:\")\n",
        "print(\"Estadístico t:\", t_statistic_less)\n",
        "print(\"Valor p (una cola, menor que 5):\", p_value_less)\n",
        "print(\"Nivel de confianza del 99% (alpha):\", alpha)\n"
      ],
      "metadata": {
        "colab": {
          "base_uri": "https://localhost:8080/"
        },
        "id": "knlrz6EoY8xp",
        "outputId": "60d13bbe-001b-4187-91cd-16f19c167dbe"
      },
      "execution_count": 22,
      "outputs": [
        {
          "output_type": "stream",
          "name": "stdout",
          "text": [
            "Prueba t de una muestra contra una media de 5:\n",
            "Estadístico t: 2.4610528516582364\n",
            "Valor p (bilateral): 0.02359580334437601\n",
            "\n",
            "Prueba t de una muestra para una media mayor que 5:\n",
            "Estadístico t: 2.4610528516582364\n",
            "Valor p (una cola, mayor que 5): 0.011797901672188004\n",
            "\n",
            "Prueba t de una muestra para una media menor que 5 con nivel de confianza del 99%:\n",
            "Estadístico t: 2.4610528516582364\n",
            "Valor p (una cola, menor que 5): 0.988202098327812\n",
            "Nivel de confianza del 99% (alpha): 0.010000000000000009\n"
          ]
        }
      ]
    },
    {
      "cell_type": "code",
      "source": [],
      "metadata": {
        "id": "2XVlBoGwZ_6w"
      },
      "execution_count": null,
      "outputs": []
    },
    {
      "cell_type": "markdown",
      "source": [
        "#Contraste sobre dos medias y dos varianzas independientes\n",
        "\n",
        "En un diseño inter-sujetos, disponemos de dos grupos formados por diferentes personas y queremos comparar las medias de los grupos. A este análisis se le denomina contraste de dos medias independientes. El contraste tiene dos versiones: una en la que se asumen varianzas iguales en los dos grupos comparados y otra en la que las varianzas de los grupos son distintas. En ambos casos se calcula un estadístico $T$, pero el modo de calcularlo y sus grados de libertad son distintos.\n",
        "\n",
        "Para escoger una de estas versiones de la prueba $T$ (varianzas poblacionales iguales o distintas), debemos empezar realizando un Contraste sobre la igualdad de las varianzas de los grupos, cuyas hipótesis son:\n",
        "$$\n",
        "\\begin{aligned}\n",
        "& H_0: \\sigma_1^2=\\sigma_2^2 \\\\\n",
        "& H_1: \\sigma_1^2 \\neq \\sigma_2^2\n",
        "\\end{aligned}\n",
        "$$\n",
        "\n",
        "En función del resultado del contraste de varianzas, nos decantaremos por la prueba $T$ para dos medias independientes con varianzas iguales o con varianzas distintas.\n",
        "\n",
        "Supongamos que queremos comparar las medias de noche1 en varones y mujeres. El primer paso es utilizar la función var.test para realizar el contraste de igualdad de varianzas. El argumento que le pasamos a var.test es la fórmula noche1 sexo, que significa que la variable dependiente es noche1 y, por tanto, vamos a comparar la varianza de noche1 en los grupos formados por la variable independiente sexo."
      ],
      "metadata": {
        "id": "53l5EovEcGb8"
      }
    }
  ]
}