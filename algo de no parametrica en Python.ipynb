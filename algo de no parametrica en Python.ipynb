{
  "nbformat": 4,
  "nbformat_minor": 0,
  "metadata": {
    "colab": {
      "name": "Untitled5.ipynb",
      "provenance": [],
      "authorship_tag": "ABX9TyMng8yR3rpitlq1X1QajoED",
      "include_colab_link": true
    },
    "kernelspec": {
      "name": "python3",
      "display_name": "Python 3"
    },
    "language_info": {
      "name": "python"
    }
  },
  "cells": [
    {
      "cell_type": "markdown",
      "metadata": {
        "id": "view-in-github",
        "colab_type": "text"
      },
      "source": [
        "<a href=\"https://colab.research.google.com/github/jaimeisaac2020/Python-analsisis-basicos/blob/mi-github/algo%20de%20no%20parametrica%20en%20Python.ipynb\" target=\"_parent\"><img src=\"https://colab.research.google.com/assets/colab-badge.svg\" alt=\"Open In Colab\"/></a>"
      ]
    },
    {
      "cell_type": "markdown",
      "metadata": {
        "id": "n58ZlYhcFyRA"
      },
      "source": [
        "**Una prueba t** es una especie de ***prueba paramétrica*** que se usa para verificar si hay una\n",
        "diferencia significativa entre las medias de los dos grupos en cuestión. Es la\n",
        "estadística inferencial más comúnmente utilizada que sigue la distribución normal. A\n",
        "**La prueba t tiene dos tipos**: **una prueba t de una muestra** y una **prueba t de dos muestras**. *Una prueba t de una muestra*\n",
        "se utiliza para comprobar si hay una diferencia significativa entre una muestra y\n",
        "medias poblacionales hipotetizadas. \n",
        "\n",
        "Tomemos a 10 estudiantes y verifiquemos si sus\n",
        "el peso medio es de 68 kg o no utilizando una prueba t, como se indica a continuación:"
      ]
    },
    {
      "cell_type": "markdown",
      "metadata": {
        "id": "E4c1NOjbKS4P"
      },
      "source": [
        "**Una prueba de chi-cuadrado** se determina por una diferencia o relación significativa\n",
        "entre dos **variables categóricas** de una sola población. En general, esta prueba\n",
        "evalúa si las distribuciones de variables categóricas difieren entre sí. Está\n",
        "también conocida como prueba de bondad de ajuste de chi-cuadrado o prueba de chi-cuadrado para\n",
        "independencia. Un valor pequeño del estadístico Chi-Cuadrado significa el ajuste de los datos observados\n",
        "con los datos esperados, y un valor mayor de las medias del estadístico Chi-Cuadrado observadas\n",
        "los datos no encajan con los datos esperados. Por ejemplo, el impacto del género en la votación\n",
        "preferencia o el impacto del tamaño de la empresa en la cobertura del seguro de salud puede ser\n",
        "evaluado mediante una prueba de chi-cuadrado:  \n",
        "\n",
        "$$\n",
        "\\chi^{2}=\\sum_{i=1}^{n} \\frac{\\left(O_{i}-E_{i}\\right)^{2}}{E_{i}}\n",
        "$$\n",
        "Aquí, $O$ es el valor observado, $ E $ es el valor esperado y \"$i\"$ es la posición \"$\\mathrm {i}^{\\text {th\"}}$ en la tabla de contingencia.  \n",
        "\n",
        "Entendamos la prueba de chi-cuadrado con un ejemplo. Supongamos que hemos hecho un\n",
        "encuesta en una empresa de 200 empleados y se les preguntó sobre su calificación más alta\n",
        "como escuela secundaria, secundaria superior, posgrado, y compárelo\n",
        "con niveles de desempeño como Promedio y Sobresaliente. Aquí está la hipótesis\n",
        "y criterios de contingencia:  \n",
        "\n",
        "**Hipótesis nula H0:** Las dos variables categóricas son independientes, es decir,\n",
        "El desempeño de los empleados es independiente del nivel de calificación más alto.  \n",
        "\n",
        "**Hipótesis alternativa Ha:** Las dos variables categóricas no son\n",
        "independiente, es decir, el desempeño del empleado no es independiente de la\n",
        "nivel de calificación más alto.\n",
        "La tabla de contingencia se puede representar de la siguiente manera:  \n",
        "\n",
        "|  | High School | Higher Secondary | Graduate | Post-Graduate |\n",
        "| :---: | :---: | :---: | :---: | :---: |\n",
        "| Average | 20 | 16 | 13 | 7 |\n",
        "| Outstanding | 31 | 40 | 50 | 13 |"
      ]
    },
    {
      "cell_type": "markdown",
      "metadata": {
        "id": "KBRrK0q-K2hK"
      },
      "source": [
        ""
      ]
    },
    {
      "cell_type": "code",
      "metadata": {
        "id": "i2iIzdbSFxOW"
      },
      "source": [
        "from scipy.stats import chi2_contingency\n",
        "# Average performing employees\n",
        "average=[20, 16, 13, 7]\n",
        "# Outstanding performing employees\n",
        "outstanding=[31, 40, 60, 13]\n",
        "# contingency table\n",
        "contingency_table= [average, outstanding]"
      ],
      "execution_count": 1,
      "outputs": []
    },
    {
      "cell_type": "code",
      "metadata": {
        "colab": {
          "base_uri": "https://localhost:8080/"
        },
        "id": "zcEmIIR7Oa8x",
        "outputId": "0b1218a8-0602-4080-fb49-c413bdea6705"
      },
      "source": [
        "# Apply Test\n",
        "stat, p, dof, expected = chi2_contingency(contingency_table)\n",
        "print(\"p-values:\",p)\n",
        "if p < 0.05:\n",
        "  print(\"Hypothesis Rejected\")\n",
        "else:\n",
        "  print(\"Hypothesis Accepted\")"
      ],
      "execution_count": 4,
      "outputs": [
        {
          "output_type": "stream",
          "name": "stdout",
          "text": [
            "p-values: 0.059155602774381234\n",
            "Hypothesis Accepted\n"
          ]
        }
      ]
    },
    {
      "cell_type": "markdown",
      "metadata": {
        "id": "TWDmHya6OR3A"
      },
      "source": [
        "En el bloque de código anterior, hemos probado la hipótesis de que el empleado\n",
        "el desempeño es independiente del nivel de calificación más alto. El precedente\n",
        "Los resultados muestran que la hipótesis nula se acepta con un intervalo de confianza del 95%,\n",
        "lo que significa que el desempeño de los empleados es independiente del más alto\n",
        "nivel de calificación."
      ]
    },
    {
      "cell_type": "markdown",
      "metadata": {
        "id": "3I50YoJMPi84"
      },
      "source": [
        "La prueba U de Mann-Whitney es la contraparte no paramétrica de la prueba t para dos\n",
        "muestras. No asume que la diferencia entre las muestras sea normalmente\n",
        "repartido. La prueba U de Mann-Whitney se utiliza cuando la observación es ordinal\n",
        "y los supuestos de la prueba t no se cumplieron, por ejemplo, comparar dos grupos\n",
        "de las preferencias de prueba de películas de sus clasificaciones de películas dadas. Comparemos dos\n",
        "grupos de clasificaciones de películas utilizando los siguientes criterios:  \n",
        "\n",
        "**Hipótesis nula H0:** no hay diferencia entre las dos muestras\n",
        "distribuciones.  \n",
        "\n",
        "**Hipótesis alternativa Ha:** hay una diferencia entre las dos muestras\n",
        "distribuciones.  \n",
        "\n",
        "Eche un vistazo al siguiente bloque de código:"
      ]
    },
    {
      "cell_type": "code",
      "metadata": {
        "id": "Xo06sDGNQ_4C"
      },
      "source": [
        "from scipy.stats import mannwhitneyu\n",
        "# Sample1\n",
        "data1=[7,8,4,9,8]\n",
        "# Sample2\n",
        "data2=[3,4,2,1,1]"
      ],
      "execution_count": 5,
      "outputs": []
    },
    {
      "cell_type": "code",
      "metadata": {
        "colab": {
          "base_uri": "https://localhost:8080/"
        },
        "id": "X2OhYB8dSEqy",
        "outputId": "21239d22-8308-421f-f9e8-4e4f3f6f003f"
      },
      "source": [
        "stat, p = mannwhitneyu(data1, data2)\n",
        "print(\"p-values:\",p)\n",
        "# 0.01 or 1% is significance level or alpha.\n",
        "if p < 0.01:\n",
        "  print(\"Hypothesis Rejected\")\n",
        "else:\n",
        "  print(\"Hypothesis Accepted\")\n"
      ],
      "execution_count": 6,
      "outputs": [
        {
          "output_type": "stream",
          "name": "stdout",
          "text": [
            "p-values: 0.007666581056801412\n",
            "Hypothesis Rejected\n"
          ]
        }
      ]
    },
    {
      "cell_type": "markdown",
      "metadata": {
        "id": "XVO12N0xTLS-"
      },
      "source": [
        "La **prueba de rango con signo de Wilcoxon **compara dos **muestras pareadas**. Es la no paramétrica\n",
        "versión homóloga de la prueba t pareada. Prueba la hipótesis nula como\n",
        "a si las dos muestras emparejadas pertenecen a la misma distribución o no, para\n",
        "ejemplo, para comparar la diferencia entre dos observaciones de tratamiento para\n",
        "múltiples grupos. Comparemos la diferencia entre dos tratamientos\n",
        "observaciones utilizando los siguientes criterios:  \n",
        "\n",
        "**Hipótesis nula H0:** No hay diferencia entre la muestra dependiente\n",
        "distribuciones.  \n",
        "\n",
        "\n",
        "**Hipótesis alternativa Ha:** hay una diferencia entre el dependiente\n",
        "distribuciones de muestra.  \n",
        "\n"
      ]
    },
    {
      "cell_type": "code",
      "metadata": {
        "id": "sSZ-A-pTWGOa"
      },
      "source": [
        "from scipy.stats import wilcoxon\n",
        "# Sample-1\n",
        "data1 = [1, 3, 5, 7, 9]\n",
        "# Sample-2 after treatement\n",
        "data2 = [2, 4, 6, 8, 10]"
      ],
      "execution_count": 7,
      "outputs": []
    },
    {
      "cell_type": "code",
      "metadata": {
        "colab": {
          "base_uri": "https://localhost:8080/"
        },
        "id": "_tpUDJDRWPbM",
        "outputId": "168fe20b-aa44-4520-f4c8-9bd8fc0a4664"
      },
      "source": [
        "# Apply\n",
        "stat, p = wilcoxon(data1, data2)\n",
        "print(\"p-values:\",p)\n",
        "# 0.01 or 1% is significance level or alpha.\n",
        "if p < 0.01:\n",
        "  print(\"Hypothesis Rejected\")\n",
        "else:\n",
        "  print(\"Hypothesis Accepted\")"
      ],
      "execution_count": 8,
      "outputs": [
        {
          "output_type": "stream",
          "name": "stdout",
          "text": [
            "p-values: 0.025347318677468252\n",
            "Hypothesis Accepted\n"
          ]
        },
        {
          "output_type": "stream",
          "name": "stderr",
          "text": [
            "/usr/local/lib/python3.7/dist-packages/scipy/stats/morestats.py:2879: UserWarning: Sample size too small for normal approximation.\n",
            "  warnings.warn(\"Sample size too small for normal approximation.\")\n"
          ]
        }
      ]
    },
    {
      "cell_type": "markdown",
      "metadata": {
        "id": "kHtlebmWWE57"
      },
      "source": [
        "En el bloque de código anterior, hemos probado la hipótesis de que \n",
        "no hay diferencia entre la distribución de los grupos antes y después del tratamiento usando\n",
        "el método wilcoxon (). Los resultados anteriores muestran que la hipótesis nula es\n",
        "aceptado con un intervalo de confianza del 99%, lo que significa que no hay\n",
        "diferencia entre los grupos antes y después del tratamiento."
      ]
    },
    {
      "cell_type": "markdown",
      "metadata": {
        "id": "KvixvJYAW8Xj"
      },
      "source": [
        "La prueba de ***Kruskal-Wallis***  es la versión no paramétrica de ***ANOVA de una vía***, para\n",
        "evaluar si las muestras pertenecen a la misma distribución o no. Compara dos\n",
        "o muestras más independientes. Extiende el límite de la prueba U de Mann-Whitney,\n",
        "que compara solo dos grupos. Comparemos tres grupos de muestra usando el\n",
        "siguiente código:"
      ]
    },
    {
      "cell_type": "code",
      "metadata": {
        "colab": {
          "base_uri": "https://localhost:8080/"
        },
        "id": "gSmPKduyXFpe",
        "outputId": "2f56532a-effa-4504-b366-8c0790101d7e"
      },
      "source": [
        "# Create matrix A and Vector B using NumPy\n",
        "import numpy as np\n",
        "\n",
        "A=np.array([[1,1],[3,2]])\n",
        "print(\"Matrix A:\\n\",A)\n",
        "B = np.array([200,450])\n",
        "print(\"Vector B:\", B)"
      ],
      "execution_count": 11,
      "outputs": [
        {
          "output_type": "stream",
          "name": "stdout",
          "text": [
            "Matrix A:\n",
            " [[1 1]\n",
            " [3 2]]\n",
            "Vector B: [200 450]\n"
          ]
        }
      ]
    },
    {
      "cell_type": "code",
      "metadata": {
        "colab": {
          "base_uri": "https://localhost:8080/"
        },
        "id": "9amPurUAbWxh",
        "outputId": "77c861db-9b7b-4fa2-f4a6-d3c9bfc585ca"
      },
      "source": [
        "#Solve linear equations\n",
        "solution = np.linalg.solve(A, B)\n",
        "print(\"Solution vector x:\", solution)"
      ],
      "execution_count": 12,
      "outputs": [
        {
          "output_type": "stream",
          "name": "stdout",
          "text": [
            "Solution vector x: [ 50. 150.]\n"
          ]
        }
      ]
    }
  ]
}