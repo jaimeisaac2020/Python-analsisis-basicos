{
  "nbformat": 4,
  "nbformat_minor": 0,
  "metadata": {
    "colab": {
      "name": "pandas_1_python.ipynb",
      "provenance": [],
      "authorship_tag": "ABX9TyMbOawYmlY6UIk2veKHTLAr",
      "include_colab_link": true
    },
    "kernelspec": {
      "name": "python3",
      "display_name": "Python 3"
    },
    "language_info": {
      "name": "python"
    }
  },
  "cells": [
    {
      "cell_type": "markdown",
      "metadata": {
        "id": "view-in-github",
        "colab_type": "text"
      },
      "source": [
        "<a href=\"https://colab.research.google.com/github/jaimeisaac2020/Python-analsisis-basicos/blob/mi-github/pandas_1_python.ipynb\" target=\"_parent\"><img src=\"https://colab.research.google.com/assets/colab-badge.svg\" alt=\"Open In Colab\"/></a>"
      ]
    },
    {
      "cell_type": "code",
      "metadata": {
        "id": "7lj7NvQaDvvM"
      },
      "source": [
        "import pandas as pd"
      ],
      "execution_count": 1,
      "outputs": []
    },
    {
      "cell_type": "code",
      "metadata": {
        "id": "gZWpK2kMEe0b"
      },
      "source": [
        "movies=pd.read_csv('movies1.csv',index_col='Title')"
      ],
      "execution_count": 2,
      "outputs": []
    },
    {
      "cell_type": "code",
      "metadata": {
        "colab": {
          "base_uri": "https://localhost:8080/",
          "height": 394
        },
        "id": "M-wW-ngZEomg",
        "outputId": "20803939-fa09-4a67-8cb2-5cb6c255fd79"
      },
      "source": [
        "movies.head(10)"
      ],
      "execution_count": 3,
      "outputs": [
        {
          "output_type": "execute_result",
          "data": {
            "text/html": [
              "<div>\n",
              "<style scoped>\n",
              "    .dataframe tbody tr th:only-of-type {\n",
              "        vertical-align: middle;\n",
              "    }\n",
              "\n",
              "    .dataframe tbody tr th {\n",
              "        vertical-align: top;\n",
              "    }\n",
              "\n",
              "    .dataframe thead th {\n",
              "        text-align: right;\n",
              "    }\n",
              "</style>\n",
              "<table border=\"1\" class=\"dataframe\">\n",
              "  <thead>\n",
              "    <tr style=\"text-align: right;\">\n",
              "      <th></th>\n",
              "      <th>Rank</th>\n",
              "      <th>Studio</th>\n",
              "      <th>Gross</th>\n",
              "      <th>Year</th>\n",
              "    </tr>\n",
              "    <tr>\n",
              "      <th>Title</th>\n",
              "      <th></th>\n",
              "      <th></th>\n",
              "      <th></th>\n",
              "      <th></th>\n",
              "    </tr>\n",
              "  </thead>\n",
              "  <tbody>\n",
              "    <tr>\n",
              "      <th>Avengers: Endgame</th>\n",
              "      <td>1</td>\n",
              "      <td>Buena Vista</td>\n",
              "      <td>$2,796.30</td>\n",
              "      <td>2019</td>\n",
              "    </tr>\n",
              "    <tr>\n",
              "      <th>Avatar</th>\n",
              "      <td>2</td>\n",
              "      <td>Fox</td>\n",
              "      <td>$2,789.70</td>\n",
              "      <td>2009</td>\n",
              "    </tr>\n",
              "    <tr>\n",
              "      <th>Titanic</th>\n",
              "      <td>3</td>\n",
              "      <td>Paramount</td>\n",
              "      <td>$2,187.50</td>\n",
              "      <td>1997</td>\n",
              "    </tr>\n",
              "    <tr>\n",
              "      <th>Star Wars: The Force Awakens</th>\n",
              "      <td>4</td>\n",
              "      <td>Buena Vista</td>\n",
              "      <td>$2,068.20</td>\n",
              "      <td>2015</td>\n",
              "    </tr>\n",
              "    <tr>\n",
              "      <th>Avengers: Infinity War</th>\n",
              "      <td>5</td>\n",
              "      <td>Buena Vista</td>\n",
              "      <td>$2,048.40</td>\n",
              "      <td>2018</td>\n",
              "    </tr>\n",
              "    <tr>\n",
              "      <th>Jurassic World</th>\n",
              "      <td>6</td>\n",
              "      <td>Universal</td>\n",
              "      <td>$1,671.70</td>\n",
              "      <td>2015</td>\n",
              "    </tr>\n",
              "    <tr>\n",
              "      <th>Marvel's The Avengers</th>\n",
              "      <td>7</td>\n",
              "      <td>Buena Vista</td>\n",
              "      <td>$1,518.80</td>\n",
              "      <td>2012</td>\n",
              "    </tr>\n",
              "    <tr>\n",
              "      <th>Furious 7</th>\n",
              "      <td>8</td>\n",
              "      <td>Universal</td>\n",
              "      <td>$1,516.00</td>\n",
              "      <td>2015</td>\n",
              "    </tr>\n",
              "    <tr>\n",
              "      <th>Avengers: Age of Ultron</th>\n",
              "      <td>9</td>\n",
              "      <td>Buena Vista</td>\n",
              "      <td>$1,405.40</td>\n",
              "      <td>2015</td>\n",
              "    </tr>\n",
              "    <tr>\n",
              "      <th>Black Panther</th>\n",
              "      <td>10</td>\n",
              "      <td>Buena Vista</td>\n",
              "      <td>$1,346.90</td>\n",
              "      <td>2018</td>\n",
              "    </tr>\n",
              "  </tbody>\n",
              "</table>\n",
              "</div>"
            ],
            "text/plain": [
              "                              Rank       Studio       Gross  Year\n",
              "Title                                                            \n",
              "Avengers: Endgame                1  Buena Vista  $2,796.30   2019\n",
              "Avatar                           2          Fox  $2,789.70   2009\n",
              "Titanic                          3    Paramount  $2,187.50   1997\n",
              "Star Wars: The Force Awakens     4  Buena Vista  $2,068.20   2015\n",
              "Avengers: Infinity War           5  Buena Vista  $2,048.40   2018\n",
              "Jurassic World                   6    Universal  $1,671.70   2015\n",
              "Marvel's The Avengers            7  Buena Vista  $1,518.80   2012\n",
              "Furious 7                        8    Universal  $1,516.00   2015\n",
              "Avengers: Age of Ultron          9  Buena Vista  $1,405.40   2015\n",
              "Black Panther                   10  Buena Vista  $1,346.90   2018"
            ]
          },
          "metadata": {},
          "execution_count": 3
        }
      ]
    },
    {
      "cell_type": "code",
      "metadata": {
        "colab": {
          "base_uri": "https://localhost:8080/",
          "height": 269
        },
        "id": "3bFW8MZrErYs",
        "outputId": "d9d2c379-22d4-4aa4-ccbf-d7d149b01e33"
      },
      "source": [
        "movies.tail(6)"
      ],
      "execution_count": 4,
      "outputs": [
        {
          "output_type": "execute_result",
          "data": {
            "text/html": [
              "<div>\n",
              "<style scoped>\n",
              "    .dataframe tbody tr th:only-of-type {\n",
              "        vertical-align: middle;\n",
              "    }\n",
              "\n",
              "    .dataframe tbody tr th {\n",
              "        vertical-align: top;\n",
              "    }\n",
              "\n",
              "    .dataframe thead th {\n",
              "        text-align: right;\n",
              "    }\n",
              "</style>\n",
              "<table border=\"1\" class=\"dataframe\">\n",
              "  <thead>\n",
              "    <tr style=\"text-align: right;\">\n",
              "      <th></th>\n",
              "      <th>Rank</th>\n",
              "      <th>Studio</th>\n",
              "      <th>Gross</th>\n",
              "      <th>Year</th>\n",
              "    </tr>\n",
              "    <tr>\n",
              "      <th>Title</th>\n",
              "      <th></th>\n",
              "      <th></th>\n",
              "      <th></th>\n",
              "      <th></th>\n",
              "    </tr>\n",
              "  </thead>\n",
              "  <tbody>\n",
              "    <tr>\n",
              "      <th>21 Jump Street</th>\n",
              "      <td>777</td>\n",
              "      <td>Sony</td>\n",
              "      <td>$201.60</td>\n",
              "      <td>2012</td>\n",
              "    </tr>\n",
              "    <tr>\n",
              "      <th>Yogi Bear</th>\n",
              "      <td>778</td>\n",
              "      <td>Warner Brothers</td>\n",
              "      <td>$201.60</td>\n",
              "      <td>2010</td>\n",
              "    </tr>\n",
              "    <tr>\n",
              "      <th>Garfield: The Movie</th>\n",
              "      <td>779</td>\n",
              "      <td>Fox</td>\n",
              "      <td>$200.80</td>\n",
              "      <td>2004</td>\n",
              "    </tr>\n",
              "    <tr>\n",
              "      <th>Cats &amp; Dogs</th>\n",
              "      <td>780</td>\n",
              "      <td>Warner Brothers</td>\n",
              "      <td>$200.70</td>\n",
              "      <td>2001</td>\n",
              "    </tr>\n",
              "    <tr>\n",
              "      <th>The Hunt for Red October</th>\n",
              "      <td>781</td>\n",
              "      <td>Paramount</td>\n",
              "      <td>$200.50</td>\n",
              "      <td>1990</td>\n",
              "    </tr>\n",
              "    <tr>\n",
              "      <th>Valkyrie</th>\n",
              "      <td>782</td>\n",
              "      <td>MGM</td>\n",
              "      <td>$200.30</td>\n",
              "      <td>2008</td>\n",
              "    </tr>\n",
              "  </tbody>\n",
              "</table>\n",
              "</div>"
            ],
            "text/plain": [
              "                          Rank           Studio     Gross  Year\n",
              "Title                                                          \n",
              "21 Jump Street             777             Sony  $201.60   2012\n",
              "Yogi Bear                  778  Warner Brothers  $201.60   2010\n",
              "Garfield: The Movie        779              Fox  $200.80   2004\n",
              "Cats & Dogs                780  Warner Brothers  $200.70   2001\n",
              "The Hunt for Red October   781        Paramount  $200.50   1990\n",
              "Valkyrie                   782              MGM  $200.30   2008"
            ]
          },
          "metadata": {},
          "execution_count": 4
        }
      ]
    },
    {
      "cell_type": "code",
      "metadata": {
        "colab": {
          "base_uri": "https://localhost:8080/"
        },
        "id": "qn9X_9ogEt5T",
        "outputId": "175315f7-8aad-4a7a-e442-9755c855bee7"
      },
      "source": [
        "movies.shape"
      ],
      "execution_count": 5,
      "outputs": [
        {
          "output_type": "execute_result",
          "data": {
            "text/plain": [
              "(782, 4)"
            ]
          },
          "metadata": {},
          "execution_count": 5
        }
      ]
    },
    {
      "cell_type": "code",
      "metadata": {
        "colab": {
          "base_uri": "https://localhost:8080/"
        },
        "id": "pf5WUF77ExQW",
        "outputId": "ed4347e8-1b22-46f5-905c-967bd3203f1c"
      },
      "source": [
        "movies.size"
      ],
      "execution_count": 6,
      "outputs": [
        {
          "output_type": "execute_result",
          "data": {
            "text/plain": [
              "3128"
            ]
          },
          "metadata": {},
          "execution_count": 6
        }
      ]
    },
    {
      "cell_type": "code",
      "metadata": {
        "colab": {
          "base_uri": "https://localhost:8080/"
        },
        "id": "e4lRNs2KEynN",
        "outputId": "138f57cd-40cc-4529-9197-181d4385b7e8"
      },
      "source": [
        "movies.dtypes"
      ],
      "execution_count": 7,
      "outputs": [
        {
          "output_type": "execute_result",
          "data": {
            "text/plain": [
              "Rank       int64\n",
              "Studio    object\n",
              "Gross     object\n",
              "Year       int64\n",
              "dtype: object"
            ]
          },
          "metadata": {},
          "execution_count": 7
        }
      ]
    },
    {
      "cell_type": "code",
      "metadata": {
        "colab": {
          "base_uri": "https://localhost:8080/"
        },
        "id": "SF12OgUOE1Dy",
        "outputId": "7f127a2a-c322-47ff-ad4e-0b9874e8017e"
      },
      "source": [
        "movies.iloc[499]"
      ],
      "execution_count": 8,
      "outputs": [
        {
          "output_type": "execute_result",
          "data": {
            "text/plain": [
              "Rank           500\n",
              "Studio         Fox\n",
              "Gross     $288.30 \n",
              "Year          2018\n",
              "Name: Maze Runner: The Death Cure, dtype: object"
            ]
          },
          "metadata": {},
          "execution_count": 8
        }
      ]
    },
    {
      "cell_type": "code",
      "metadata": {
        "colab": {
          "base_uri": "https://localhost:8080/",
          "height": 801
        },
        "id": "zcVPHe89FCf8",
        "outputId": "ad475ca2-439e-44cd-a5e6-566549497ee6"
      },
      "source": [
        "movies.iloc[1:24,2:4]"
      ],
      "execution_count": 10,
      "outputs": [
        {
          "output_type": "execute_result",
          "data": {
            "text/html": [
              "<div>\n",
              "<style scoped>\n",
              "    .dataframe tbody tr th:only-of-type {\n",
              "        vertical-align: middle;\n",
              "    }\n",
              "\n",
              "    .dataframe tbody tr th {\n",
              "        vertical-align: top;\n",
              "    }\n",
              "\n",
              "    .dataframe thead th {\n",
              "        text-align: right;\n",
              "    }\n",
              "</style>\n",
              "<table border=\"1\" class=\"dataframe\">\n",
              "  <thead>\n",
              "    <tr style=\"text-align: right;\">\n",
              "      <th></th>\n",
              "      <th>Gross</th>\n",
              "      <th>Year</th>\n",
              "    </tr>\n",
              "    <tr>\n",
              "      <th>Title</th>\n",
              "      <th></th>\n",
              "      <th></th>\n",
              "    </tr>\n",
              "  </thead>\n",
              "  <tbody>\n",
              "    <tr>\n",
              "      <th>Avatar</th>\n",
              "      <td>$2,789.70</td>\n",
              "      <td>2009</td>\n",
              "    </tr>\n",
              "    <tr>\n",
              "      <th>Titanic</th>\n",
              "      <td>$2,187.50</td>\n",
              "      <td>1997</td>\n",
              "    </tr>\n",
              "    <tr>\n",
              "      <th>Star Wars: The Force Awakens</th>\n",
              "      <td>$2,068.20</td>\n",
              "      <td>2015</td>\n",
              "    </tr>\n",
              "    <tr>\n",
              "      <th>Avengers: Infinity War</th>\n",
              "      <td>$2,048.40</td>\n",
              "      <td>2018</td>\n",
              "    </tr>\n",
              "    <tr>\n",
              "      <th>Jurassic World</th>\n",
              "      <td>$1,671.70</td>\n",
              "      <td>2015</td>\n",
              "    </tr>\n",
              "    <tr>\n",
              "      <th>Marvel's The Avengers</th>\n",
              "      <td>$1,518.80</td>\n",
              "      <td>2012</td>\n",
              "    </tr>\n",
              "    <tr>\n",
              "      <th>Furious 7</th>\n",
              "      <td>$1,516.00</td>\n",
              "      <td>2015</td>\n",
              "    </tr>\n",
              "    <tr>\n",
              "      <th>Avengers: Age of Ultron</th>\n",
              "      <td>$1,405.40</td>\n",
              "      <td>2015</td>\n",
              "    </tr>\n",
              "    <tr>\n",
              "      <th>Black Panther</th>\n",
              "      <td>$1,346.90</td>\n",
              "      <td>2018</td>\n",
              "    </tr>\n",
              "    <tr>\n",
              "      <th>Harry Potter and the Deathly Hallows Part 2</th>\n",
              "      <td>$1,341.70</td>\n",
              "      <td>2011</td>\n",
              "    </tr>\n",
              "    <tr>\n",
              "      <th>Star Wars: The Last Jedi</th>\n",
              "      <td>$1,332.50</td>\n",
              "      <td>2017</td>\n",
              "    </tr>\n",
              "    <tr>\n",
              "      <th>Jurassic World: Fallen Kingdom</th>\n",
              "      <td>$1,309.50</td>\n",
              "      <td>2018</td>\n",
              "    </tr>\n",
              "    <tr>\n",
              "      <th>Frozen</th>\n",
              "      <td>$1,276.50</td>\n",
              "      <td>2013</td>\n",
              "    </tr>\n",
              "    <tr>\n",
              "      <th>Beauty and the Beast</th>\n",
              "      <td>$1,263.50</td>\n",
              "      <td>2017</td>\n",
              "    </tr>\n",
              "    <tr>\n",
              "      <th>Incredibles 2</th>\n",
              "      <td>$1,242.80</td>\n",
              "      <td>2018</td>\n",
              "    </tr>\n",
              "    <tr>\n",
              "      <th>The Fate of the Furious</th>\n",
              "      <td>$1,236.00</td>\n",
              "      <td>2017</td>\n",
              "    </tr>\n",
              "    <tr>\n",
              "      <th>Iron Man 3</th>\n",
              "      <td>$1,214.80</td>\n",
              "      <td>2013</td>\n",
              "    </tr>\n",
              "    <tr>\n",
              "      <th>Minions</th>\n",
              "      <td>$1,159.40</td>\n",
              "      <td>2015</td>\n",
              "    </tr>\n",
              "    <tr>\n",
              "      <th>Captain America: Civil War</th>\n",
              "      <td>$1,153.30</td>\n",
              "      <td>2016</td>\n",
              "    </tr>\n",
              "    <tr>\n",
              "      <th>Aquaman</th>\n",
              "      <td>$1,148.00</td>\n",
              "      <td>2018</td>\n",
              "    </tr>\n",
              "    <tr>\n",
              "      <th>Captain Marvel</th>\n",
              "      <td>$1,128.30</td>\n",
              "      <td>2019</td>\n",
              "    </tr>\n",
              "    <tr>\n",
              "      <th>Transformers: Dark of the Moon</th>\n",
              "      <td>$1,123.80</td>\n",
              "      <td>2011</td>\n",
              "    </tr>\n",
              "    <tr>\n",
              "      <th>The Lord of the Rings: The Return of the King</th>\n",
              "      <td>$1,119.90</td>\n",
              "      <td>2003</td>\n",
              "    </tr>\n",
              "  </tbody>\n",
              "</table>\n",
              "</div>"
            ],
            "text/plain": [
              "                                                    Gross  Year\n",
              "Title                                                          \n",
              "Avatar                                         $2,789.70   2009\n",
              "Titanic                                        $2,187.50   1997\n",
              "Star Wars: The Force Awakens                   $2,068.20   2015\n",
              "Avengers: Infinity War                         $2,048.40   2018\n",
              "Jurassic World                                 $1,671.70   2015\n",
              "Marvel's The Avengers                          $1,518.80   2012\n",
              "Furious 7                                      $1,516.00   2015\n",
              "Avengers: Age of Ultron                        $1,405.40   2015\n",
              "Black Panther                                  $1,346.90   2018\n",
              "Harry Potter and the Deathly Hallows Part 2    $1,341.70   2011\n",
              "Star Wars: The Last Jedi                       $1,332.50   2017\n",
              "Jurassic World: Fallen Kingdom                 $1,309.50   2018\n",
              "Frozen                                         $1,276.50   2013\n",
              "Beauty and the Beast                           $1,263.50   2017\n",
              "Incredibles 2                                  $1,242.80   2018\n",
              "The Fate of the Furious                        $1,236.00   2017\n",
              "Iron Man 3                                     $1,214.80   2013\n",
              "Minions                                        $1,159.40   2015\n",
              "Captain America: Civil War                     $1,153.30   2016\n",
              "Aquaman                                        $1,148.00   2018\n",
              "Captain Marvel                                 $1,128.30   2019\n",
              "Transformers: Dark of the Moon                 $1,123.80   2011\n",
              "The Lord of the Rings: The Return of the King  $1,119.90   2003"
            ]
          },
          "metadata": {},
          "execution_count": 10
        }
      ]
    },
    {
      "cell_type": "code",
      "metadata": {
        "id": "TvZTb1e0FHYz"
      },
      "source": [
        ""
      ],
      "execution_count": null,
      "outputs": []
    }
  ]
}