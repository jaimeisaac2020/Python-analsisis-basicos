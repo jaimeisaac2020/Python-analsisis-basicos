{
  "nbformat": 4,
  "nbformat_minor": 0,
  "metadata": {
    "colab": {
      "name": " IntConfianza_t.ipynb",
      "provenance": [],
      "include_colab_link": true
    },
    "kernelspec": {
      "name": "python3",
      "display_name": "Python 3"
    }
  },
  "cells": [
    {
      "cell_type": "markdown",
      "metadata": {
        "id": "view-in-github",
        "colab_type": "text"
      },
      "source": [
        "<a href=\"https://colab.research.google.com/github/jaimeisaac2020/Python-analsisis-basicos/blob/mi-github/IntConfianza_t.ipynb\" target=\"_parent\"><img src=\"https://colab.research.google.com/assets/colab-badge.svg\" alt=\"Open In Colab\"/></a>"
      ]
    },
    {
      "cell_type": "markdown",
      "metadata": {
        "id": "msTv1Xl4YeZW"
      },
      "source": [
        "# **Intervalos de confianza**"
      ]
    },
    {
      "cell_type": "markdown",
      "metadata": {
        "id": "dEOc4NSSKxP-"
      },
      "source": [
        "# Ejemplo\n",
        "\n",
        "Un fabricante ha inventado una nueva pólvora que fue probada en ocho proyectiles. Las velocidades resultantes en la boca del cañón, en pies por segundo, fueron las siguientes:\n"
      ]
    },
    {
      "cell_type": "code",
      "metadata": {
        "id": "K9heZDWnLVlG"
      },
      "source": [
        "velocidades = [3005, 2925, 2935, 2965, 2995, 3005, 2937, 2905]"
      ],
      "execution_count": null,
      "outputs": []
    },
    {
      "cell_type": "markdown",
      "metadata": {
        "id": "jtNznyJ1Ls-4"
      },
      "source": [
        "Encuentre un __intervalo de confianza de _95%_ para el verdadero promedio de velocidad $\\mu$__ para proyectiles de este tipo. Suponga que las velocidades en la boca del cañón están distribuidas normalmente en forma aproximada.\n",
        "\n",
        "## Solución\n"
      ]
    },
    {
      "cell_type": "markdown",
      "metadata": {
        "id": "OdrsTNpHMx2J"
      },
      "source": [
        "Si suponemos que las velocidades $Y_{i}$ están distribuidas normalmente, el intervalo de confianza para $\\mu$ es\n",
        "\n",
        "\\begin{equation}\n",
        "\\bar{Y}\\pm t_{\\alpha/2}(\\frac{S}{\\sqrt{n}})\n",
        "\\end{equation}\n",
        "\n",
        "donde $t_{\\frac{\\alpha}{2}}$ está determinado por $n-1$ grados de libertad. Con los datos dados tenemos:"
      ]
    },
    {
      "cell_type": "code",
      "metadata": {
        "colab": {
          "base_uri": "https://localhost:8080/"
        },
        "id": "bzUwdip2PA0I",
        "outputId": "7f474bb7-17ee-4904-d038-ba5ffe1a0cfd"
      },
      "source": [
        "n = len(velocidades)\n",
        "import statistics\n",
        "media = statistics.mean(velocidades)\n",
        "desv = statistics.stdev(velocidades)\n",
        "print(n)\n",
        "print(media)\n",
        "print(desv)"
      ],
      "execution_count": null,
      "outputs": [
        {
          "output_type": "stream",
          "text": [
            "8\n",
            "2959\n",
            "39.08964057138413\n"
          ],
          "name": "stdout"
        }
      ]
    },
    {
      "cell_type": "markdown",
      "metadata": {
        "id": "p6aIZ-hhQ1_v"
      },
      "source": [
        "en este ejemplo tenemos $n-1 =$ "
      ]
    },
    {
      "cell_type": "code",
      "metadata": {
        "colab": {
          "base_uri": "https://localhost:8080/"
        },
        "id": "pAnJ80qMXM2u",
        "outputId": "b7635de5-7f76-4110-cb1a-27f8122adcf3"
      },
      "source": [
        "n-1"
      ],
      "execution_count": null,
      "outputs": [
        {
          "output_type": "execute_result",
          "data": {
            "text/plain": [
              "7"
            ]
          },
          "metadata": {
            "tags": []
          },
          "execution_count": 9
        }
      ]
    },
    {
      "cell_type": "markdown",
      "metadata": {
        "id": "hxSzNqfgXQiy"
      },
      "source": [
        "grados de libertad, $1-\\alpha = 0.95$, $\\alpha =0.05$, $\\alpha/2 = 0.025$\n",
        "\n",
        "\\begin{equation}\n",
        "t_{\\alpha/2} = t_{0.025},\n",
        "\\end{equation}\n",
        "\n",
        "luego, $t_{0.025}=$"
      ]
    },
    {
      "cell_type": "code",
      "metadata": {
        "colab": {
          "base_uri": "https://localhost:8080/"
        },
        "id": "jOBkQj4MRZaX",
        "outputId": "e43be9fb-a121-41c7-d0a4-8edd5bcf8623"
      },
      "source": [
        "from scipy import stats\n",
        "t0_25 = stats.t(df = 7).ppf(0.975)\n",
        "print(t0_25)"
      ],
      "execution_count": null,
      "outputs": [
        {
          "output_type": "stream",
          "text": [
            "2.3646242510102993\n"
          ],
          "name": "stdout"
        }
      ]
    },
    {
      "cell_type": "markdown",
      "metadata": {
        "id": "vvblKkNyTt-M"
      },
      "source": [
        "entonces obtenemos"
      ]
    },
    {
      "cell_type": "code",
      "metadata": {
        "colab": {
          "base_uri": "https://localhost:8080/"
        },
        "id": "NVXd_Ot1QdiJ",
        "outputId": "941b3a0c-7601-4b8e-9baf-f231feefb7e2"
      },
      "source": [
        "import math\n",
        "li = media - t0_25*(desv/math.sqrt(n))\n",
        "ls = media + t0_25*(desv/math.sqrt(n))\n",
        "print(li)\n",
        "print(ls)"
      ],
      "execution_count": null,
      "outputs": [
        {
          "output_type": "stream",
          "text": [
            "2926.3202426713874\n",
            "2991.6797573286126\n"
          ],
          "name": "stdout"
        }
      ]
    },
    {
      "cell_type": "code",
      "metadata": {
        "id": "xzy9gic4VfCK"
      },
      "source": [
        ""
      ],
      "execution_count": null,
      "outputs": []
    },
    {
      "cell_type": "markdown",
      "metadata": {
        "id": "md5E1DHOVfne"
      },
      "source": [
        "Es decir, nuestro intervalo de confianza del $95\\%$ para el verdadero promedio de velocidad $\\mu$ es\n",
        "\n",
        "\\begin{equation}\n",
        "(2926.3, 2991.7)\n",
        "\\end{equation}"
      ]
    },
    {
      "cell_type": "markdown",
      "metadata": {
        "id": "Iu8WOuBHtMSK"
      },
      "source": [
        "Basado en *Wackerly, D. et al. (2010). Estadística Matemática con Aplicaciones. Cengage Learning Editores, S.A. de C.V.*"
      ]
    }
  ]
}