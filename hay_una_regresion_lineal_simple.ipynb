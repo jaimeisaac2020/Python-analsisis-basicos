{
  "nbformat": 4,
  "nbformat_minor": 0,
  "metadata": {
    "colab": {
      "provenance": [],
      "authorship_tag": "ABX9TyNE84kI+ZZfgsOFYNsT8LBF",
      "include_colab_link": true
    },
    "kernelspec": {
      "name": "python3",
      "display_name": "Python 3"
    },
    "language_info": {
      "name": "python"
    }
  },
  "cells": [
    {
      "cell_type": "markdown",
      "metadata": {
        "id": "view-in-github",
        "colab_type": "text"
      },
      "source": [
        "<a href=\"https://colab.research.google.com/github/jaimeisaac2020/Python-analsisis-basicos/blob/mi-github/hay_una_regresion_lineal_simple.ipynb\" target=\"_parent\"><img src=\"https://colab.research.google.com/assets/colab-badge.svg\" alt=\"Open In Colab\"/></a>"
      ]
    },
    {
      "cell_type": "code",
      "execution_count": 1,
      "metadata": {
        "id": "yDHzLbXxuW_R"
      },
      "outputs": [],
      "source": [
        "import numpy as np"
      ]
    },
    {
      "cell_type": "code",
      "source": [
        "p=[1,2,2,-1,3,-4]"
      ],
      "metadata": {
        "id": "WXKispGWud6d"
      },
      "execution_count": 4,
      "outputs": []
    },
    {
      "cell_type": "code",
      "source": [
        "np.roots(p)"
      ],
      "metadata": {
        "colab": {
          "base_uri": "https://localhost:8080/"
        },
        "id": "ErQaFpELuh1q",
        "outputId": "4a3153e3-05a1-46db-fb74-2bc5f2d20af0"
      },
      "execution_count": 5,
      "outputs": [
        {
          "output_type": "execute_result",
          "data": {
            "text/plain": [
              "array([-1.56979911+1.27818164j, -1.56979911-1.27818164j,\n",
              "        0.16678982+1.08773745j,  0.16678982-1.08773745j,\n",
              "        0.80601858+0.j        ])"
            ]
          },
          "metadata": {},
          "execution_count": 5
        }
      ]
    },
    {
      "cell_type": "code",
      "source": [
        "import scipy.optimize as op"
      ],
      "metadata": {
        "id": "nNxqMzUzujyT"
      },
      "execution_count": 24,
      "outputs": []
    },
    {
      "cell_type": "code",
      "source": [
        "def f(x): return x**5+2*x**4+2*x**3-x**2+3*x-4 \n",
        "    "
      ],
      "metadata": {
        "id": "_lUVRnhL0EF7"
      },
      "execution_count": 49,
      "outputs": []
    },
    {
      "cell_type": "code",
      "source": [
        "def fp(x): return 5*x**4+8*x**3+6*x**2-2*x+3"
      ],
      "metadata": {
        "id": "PiH2NUTT02-u"
      },
      "execution_count": 50,
      "outputs": []
    },
    {
      "cell_type": "code",
      "source": [
        "x0=1.5"
      ],
      "metadata": {
        "id": "q8uDTZhw1ROl"
      },
      "execution_count": 51,
      "outputs": []
    },
    {
      "cell_type": "code",
      "source": [
        "f(1.5)"
      ],
      "metadata": {
        "colab": {
          "base_uri": "https://localhost:8080/"
        },
        "id": "XDugnSIz1o-Y",
        "outputId": "bbd2782c-77ac-4e2a-ffa8-7f604b1bf0cb"
      },
      "execution_count": 52,
      "outputs": [
        {
          "output_type": "execute_result",
          "data": {
            "text/plain": [
              "22.71875"
            ]
          },
          "metadata": {},
          "execution_count": 52
        }
      ]
    },
    {
      "cell_type": "code",
      "source": [
        "op.newton(f,x0,fprime=fp,tol=0.00001)"
      ],
      "metadata": {
        "colab": {
          "base_uri": "https://localhost:8080/"
        },
        "id": "bgToWUTWz18R",
        "outputId": "f505edb8-02d5-440e-f865-8c66ba45cf26"
      },
      "execution_count": 53,
      "outputs": [
        {
          "output_type": "execute_result",
          "data": {
            "text/plain": [
              "0.8060185751615446"
            ]
          },
          "metadata": {},
          "execution_count": 53
        }
      ]
    },
    {
      "cell_type": "markdown",
      "source": [
        "# Regresion lineal en Python."
      ],
      "metadata": {
        "id": "S_n52a4RUIDU"
      }
    },
    {
      "cell_type": "code",
      "source": [
        "import pandas as pd\n",
        "import statsmodels.api as sm\n",
        "\n",
        "data = {'year': [2017,2017,2017,2017,2017,2017,2017,2017,2017,2017,2017,2017,2016,2016,2016,2016,2016,2016,2016,2016,2016,2016,2016,2016],\n",
        "        'month': [12,11,10,9,8,7,6,5,4,3,2,1,12,11,10,9,8,7,6,5,4,3,2,1],\n",
        "        'interest_rate': [2.75,2.5,2.5,2.5,2.5,2.5,2.5,2.25,2.25,2.25,2,2,2,1.75,1.75,1.75,1.75,1.75,1.75,1.75,1.75,1.75,1.75,1.75],\n",
        "        'unemployment_rate': [5.3,5.3,5.3,5.3,5.4,5.6,5.5,5.5,5.5,5.6,5.7,5.9,6,5.9,5.8,6.1,6.2,6.1,6.1,6.1,5.9,6.2,6.2,6.1],\n",
        "        'index_price': [1464,1394,1357,1293,1256,1254,1234,1195,1159,1167,1130,1075,1047,965,943,958,971,949,884,866,876,822,704,719]        \n",
        "        }\n",
        "\n",
        "df = pd.DataFrame(data) "
      ],
      "metadata": {
        "id": "u9pKyKW-RiaW"
      },
      "execution_count": 1,
      "outputs": []
    },
    {
      "cell_type": "code",
      "source": [
        "print(df)"
      ],
      "metadata": {
        "colab": {
          "base_uri": "https://localhost:8080/"
        },
        "id": "FuGWewmdRmDI",
        "outputId": "ba1f5e73-a122-4077-ffd7-e95ee41db5aa"
      },
      "execution_count": 2,
      "outputs": [
        {
          "output_type": "stream",
          "name": "stdout",
          "text": [
            "    year  month  interest_rate  unemployment_rate  index_price\n",
            "0   2017     12           2.75                5.3         1464\n",
            "1   2017     11           2.50                5.3         1394\n",
            "2   2017     10           2.50                5.3         1357\n",
            "3   2017      9           2.50                5.3         1293\n",
            "4   2017      8           2.50                5.4         1256\n",
            "5   2017      7           2.50                5.6         1254\n",
            "6   2017      6           2.50                5.5         1234\n",
            "7   2017      5           2.25                5.5         1195\n",
            "8   2017      4           2.25                5.5         1159\n",
            "9   2017      3           2.25                5.6         1167\n",
            "10  2017      2           2.00                5.7         1130\n",
            "11  2017      1           2.00                5.9         1075\n",
            "12  2016     12           2.00                6.0         1047\n",
            "13  2016     11           1.75                5.9          965\n",
            "14  2016     10           1.75                5.8          943\n",
            "15  2016      9           1.75                6.1          958\n",
            "16  2016      8           1.75                6.2          971\n",
            "17  2016      7           1.75                6.1          949\n",
            "18  2016      6           1.75                6.1          884\n",
            "19  2016      5           1.75                6.1          866\n",
            "20  2016      4           1.75                5.9          876\n",
            "21  2016      3           1.75                6.2          822\n",
            "22  2016      2           1.75                6.2          704\n",
            "23  2016      1           1.75                6.1          719\n"
          ]
        }
      ]
    },
    {
      "cell_type": "code",
      "source": [
        "x = df[['interest_rate','unemployment_rate']]\n",
        "y = df['index_price']\n"
      ],
      "metadata": {
        "id": "kFvHp9PPRr9Q"
      },
      "execution_count": 3,
      "outputs": []
    },
    {
      "cell_type": "code",
      "source": [
        "x = sm.add_constant(x)\n",
        "print(x)"
      ],
      "metadata": {
        "colab": {
          "base_uri": "https://localhost:8080/"
        },
        "id": "ZfeOFBzeRxEB",
        "outputId": "5181a525-6ed5-4e5e-e3bb-c322702ff4c8"
      },
      "execution_count": 5,
      "outputs": [
        {
          "output_type": "stream",
          "name": "stdout",
          "text": [
            "    const  interest_rate  unemployment_rate\n",
            "0     1.0           2.75                5.3\n",
            "1     1.0           2.50                5.3\n",
            "2     1.0           2.50                5.3\n",
            "3     1.0           2.50                5.3\n",
            "4     1.0           2.50                5.4\n",
            "5     1.0           2.50                5.6\n",
            "6     1.0           2.50                5.5\n",
            "7     1.0           2.25                5.5\n",
            "8     1.0           2.25                5.5\n",
            "9     1.0           2.25                5.6\n",
            "10    1.0           2.00                5.7\n",
            "11    1.0           2.00                5.9\n",
            "12    1.0           2.00                6.0\n",
            "13    1.0           1.75                5.9\n",
            "14    1.0           1.75                5.8\n",
            "15    1.0           1.75                6.1\n",
            "16    1.0           1.75                6.2\n",
            "17    1.0           1.75                6.1\n",
            "18    1.0           1.75                6.1\n",
            "19    1.0           1.75                6.1\n",
            "20    1.0           1.75                5.9\n",
            "21    1.0           1.75                6.2\n",
            "22    1.0           1.75                6.2\n",
            "23    1.0           1.75                6.1\n"
          ]
        },
        {
          "output_type": "stream",
          "name": "stderr",
          "text": [
            "/usr/local/lib/python3.7/dist-packages/statsmodels/tsa/tsatools.py:142: FutureWarning: In a future version of pandas all arguments of concat except for the argument 'objs' will be keyword-only\n",
            "  x = pd.concat(x[::order], 1)\n"
          ]
        }
      ]
    },
    {
      "cell_type": "code",
      "source": [
        "model = sm.OLS(y, x).fit()\n",
        "print(model)"
      ],
      "metadata": {
        "colab": {
          "base_uri": "https://localhost:8080/"
        },
        "id": "VtmisdRUR5Lt",
        "outputId": "3add9d68-5b54-4211-e841-26c305ba70a4"
      },
      "execution_count": 7,
      "outputs": [
        {
          "output_type": "stream",
          "name": "stdout",
          "text": [
            "<statsmodels.regression.linear_model.RegressionResultsWrapper object at 0x7f651976fa10>\n"
          ]
        }
      ]
    },
    {
      "cell_type": "code",
      "source": [
        "model.summary()"
      ],
      "metadata": {
        "colab": {
          "base_uri": "https://localhost:8080/",
          "height": 473
        },
        "id": "VytxMPC0R-i7",
        "outputId": "748a3451-abb9-4dcb-de59-40cbbd4785f3"
      },
      "execution_count": 8,
      "outputs": [
        {
          "output_type": "execute_result",
          "data": {
            "text/plain": [
              "<class 'statsmodels.iolib.summary.Summary'>\n",
              "\"\"\"\n",
              "                            OLS Regression Results                            \n",
              "==============================================================================\n",
              "Dep. Variable:            index_price   R-squared:                       0.898\n",
              "Model:                            OLS   Adj. R-squared:                  0.888\n",
              "Method:                 Least Squares   F-statistic:                     92.07\n",
              "Date:                Sat, 19 Nov 2022   Prob (F-statistic):           4.04e-11\n",
              "Time:                        23:45:10   Log-Likelihood:                -134.61\n",
              "No. Observations:                  24   AIC:                             275.2\n",
              "Df Residuals:                      21   BIC:                             278.8\n",
              "Df Model:                           2                                         \n",
              "Covariance Type:            nonrobust                                         \n",
              "=====================================================================================\n",
              "                        coef    std err          t      P>|t|      [0.025      0.975]\n",
              "-------------------------------------------------------------------------------------\n",
              "const              1798.4040    899.248      2.000      0.059     -71.685    3668.493\n",
              "interest_rate       345.5401    111.367      3.103      0.005     113.940     577.140\n",
              "unemployment_rate  -250.1466    117.950     -2.121      0.046    -495.437      -4.856\n",
              "==============================================================================\n",
              "Omnibus:                        2.691   Durbin-Watson:                   0.530\n",
              "Prob(Omnibus):                  0.260   Jarque-Bera (JB):                1.551\n",
              "Skew:                          -0.612   Prob(JB):                        0.461\n",
              "Kurtosis:                       3.226   Cond. No.                         394.\n",
              "==============================================================================\n",
              "\n",
              "Notes:\n",
              "[1] Standard Errors assume that the covariance matrix of the errors is correctly specified.\n",
              "\"\"\""
            ],
            "text/html": [
              "<table class=\"simpletable\">\n",
              "<caption>OLS Regression Results</caption>\n",
              "<tr>\n",
              "  <th>Dep. Variable:</th>       <td>index_price</td>   <th>  R-squared:         </th> <td>   0.898</td>\n",
              "</tr>\n",
              "<tr>\n",
              "  <th>Model:</th>                   <td>OLS</td>       <th>  Adj. R-squared:    </th> <td>   0.888</td>\n",
              "</tr>\n",
              "<tr>\n",
              "  <th>Method:</th>             <td>Least Squares</td>  <th>  F-statistic:       </th> <td>   92.07</td>\n",
              "</tr>\n",
              "<tr>\n",
              "  <th>Date:</th>             <td>Sat, 19 Nov 2022</td> <th>  Prob (F-statistic):</th> <td>4.04e-11</td>\n",
              "</tr>\n",
              "<tr>\n",
              "  <th>Time:</th>                 <td>23:45:10</td>     <th>  Log-Likelihood:    </th> <td> -134.61</td>\n",
              "</tr>\n",
              "<tr>\n",
              "  <th>No. Observations:</th>      <td>    24</td>      <th>  AIC:               </th> <td>   275.2</td>\n",
              "</tr>\n",
              "<tr>\n",
              "  <th>Df Residuals:</th>          <td>    21</td>      <th>  BIC:               </th> <td>   278.8</td>\n",
              "</tr>\n",
              "<tr>\n",
              "  <th>Df Model:</th>              <td>     2</td>      <th>                     </th>     <td> </td>   \n",
              "</tr>\n",
              "<tr>\n",
              "  <th>Covariance Type:</th>      <td>nonrobust</td>    <th>                     </th>     <td> </td>   \n",
              "</tr>\n",
              "</table>\n",
              "<table class=\"simpletable\">\n",
              "<tr>\n",
              "          <td></td>             <th>coef</th>     <th>std err</th>      <th>t</th>      <th>P>|t|</th>  <th>[0.025</th>    <th>0.975]</th>  \n",
              "</tr>\n",
              "<tr>\n",
              "  <th>const</th>             <td> 1798.4040</td> <td>  899.248</td> <td>    2.000</td> <td> 0.059</td> <td>  -71.685</td> <td> 3668.493</td>\n",
              "</tr>\n",
              "<tr>\n",
              "  <th>interest_rate</th>     <td>  345.5401</td> <td>  111.367</td> <td>    3.103</td> <td> 0.005</td> <td>  113.940</td> <td>  577.140</td>\n",
              "</tr>\n",
              "<tr>\n",
              "  <th>unemployment_rate</th> <td> -250.1466</td> <td>  117.950</td> <td>   -2.121</td> <td> 0.046</td> <td> -495.437</td> <td>   -4.856</td>\n",
              "</tr>\n",
              "</table>\n",
              "<table class=\"simpletable\">\n",
              "<tr>\n",
              "  <th>Omnibus:</th>       <td> 2.691</td> <th>  Durbin-Watson:     </th> <td>   0.530</td>\n",
              "</tr>\n",
              "<tr>\n",
              "  <th>Prob(Omnibus):</th> <td> 0.260</td> <th>  Jarque-Bera (JB):  </th> <td>   1.551</td>\n",
              "</tr>\n",
              "<tr>\n",
              "  <th>Skew:</th>          <td>-0.612</td> <th>  Prob(JB):          </th> <td>   0.461</td>\n",
              "</tr>\n",
              "<tr>\n",
              "  <th>Kurtosis:</th>      <td> 3.226</td> <th>  Cond. No.          </th> <td>    394.</td>\n",
              "</tr>\n",
              "</table><br/><br/>Notes:<br/>[1] Standard Errors assume that the covariance matrix of the errors is correctly specified."
            ]
          },
          "metadata": {},
          "execution_count": 8
        }
      ]
    },
    {
      "cell_type": "code",
      "source": [
        "predictions = model.predict(x)\n",
        "predictions "
      ],
      "metadata": {
        "colab": {
          "base_uri": "https://localhost:8080/"
        },
        "id": "AmS_M40uSG9W",
        "outputId": "62881366-804d-40e3-cb62-68ada2661f91"
      },
      "execution_count": 10,
      "outputs": [
        {
          "output_type": "execute_result",
          "data": {
            "text/plain": [
              "0     1422.862389\n",
              "1     1336.477367\n",
              "2     1336.477367\n",
              "3     1336.477367\n",
              "4     1311.462710\n",
              "5     1261.433395\n",
              "6     1286.448053\n",
              "7     1200.063031\n",
              "8     1200.063031\n",
              "9     1175.048374\n",
              "10    1063.648695\n",
              "11    1013.619381\n",
              "12     988.604723\n",
              "13     927.234359\n",
              "14     952.249016\n",
              "15     877.205045\n",
              "16     852.190387\n",
              "17     877.205045\n",
              "18     877.205045\n",
              "19     877.205045\n",
              "20     927.234359\n",
              "21     852.190387\n",
              "22     852.190387\n",
              "23     877.205045\n",
              "dtype: float64"
            ]
          },
          "metadata": {},
          "execution_count": 10
        }
      ]
    },
    {
      "cell_type": "code",
      "source": [
        "datan=pd.DataFrame({\n",
        "    'const':[1.0],\n",
        "    'interest_rate':[2.45],\n",
        "    'unemployment_rate':[5.2]\n",
        "})"
      ],
      "metadata": {
        "id": "4JTwM4oLSOMH"
      },
      "execution_count": 16,
      "outputs": []
    },
    {
      "cell_type": "code",
      "source": [
        "model.predict(datan)"
      ],
      "metadata": {
        "colab": {
          "base_uri": "https://localhost:8080/"
        },
        "id": "tnYONvnNSwfq",
        "outputId": "5b9dbf52-7a05-4654-a932-4a5f5b3672bf"
      },
      "execution_count": 17,
      "outputs": [
        {
          "output_type": "execute_result",
          "data": {
            "text/plain": [
              "0    1344.21502\n",
              "dtype: float64"
            ]
          },
          "metadata": {},
          "execution_count": 17
        }
      ]
    },
    {
      "cell_type": "code",
      "source": [
        "datan=pd.DataFrame({\n",
        "    'const':[1.0],\n",
        "    'interest_rate':[1.75],\n",
        "    'unemployment_rate':[6.1]\n",
        "})"
      ],
      "metadata": {
        "id": "77cfrgLwTWft"
      },
      "execution_count": 18,
      "outputs": []
    },
    {
      "cell_type": "code",
      "source": [
        "model.predict(datan)"
      ],
      "metadata": {
        "colab": {
          "base_uri": "https://localhost:8080/"
        },
        "id": "QPvcouuCThcJ",
        "outputId": "3bc7976c-f03f-4a3f-90a0-330289dc8805"
      },
      "execution_count": 19,
      "outputs": [
        {
          "output_type": "execute_result",
          "data": {
            "text/plain": [
              "0    877.205045\n",
              "dtype: float64"
            ]
          },
          "metadata": {},
          "execution_count": 19
        }
      ]
    },
    {
      "cell_type": "code",
      "source": [
        "model.ssr"
      ],
      "metadata": {
        "colab": {
          "base_uri": "https://localhost:8080/"
        },
        "id": "heyKDbjwTjfQ",
        "outputId": "617330e5-2101-43f1-8916-27f3b488a264"
      },
      "execution_count": 21,
      "outputs": [
        {
          "output_type": "execute_result",
          "data": {
            "text/plain": [
              "104558.67257095508"
            ]
          },
          "metadata": {},
          "execution_count": 21
        }
      ]
    },
    {
      "cell_type": "code",
      "source": [
        "model.params"
      ],
      "metadata": {
        "colab": {
          "base_uri": "https://localhost:8080/"
        },
        "id": "gs0OS_hpT2SQ",
        "outputId": "70eeda1b-7b56-46fd-bf74-7c05db350a82"
      },
      "execution_count": 22,
      "outputs": [
        {
          "output_type": "execute_result",
          "data": {
            "text/plain": [
              "const                1798.403978\n",
              "interest_rate         345.540087\n",
              "unemployment_rate    -250.146571\n",
              "dtype: float64"
            ]
          },
          "metadata": {},
          "execution_count": 22
        }
      ]
    }
  ]
}