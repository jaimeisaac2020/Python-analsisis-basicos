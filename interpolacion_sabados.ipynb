{
  "nbformat": 4,
  "nbformat_minor": 0,
  "metadata": {
    "colab": {
      "name": "interpolacion_sabados.ipynb",
      "provenance": [],
      "collapsed_sections": [],
      "authorship_tag": "ABX9TyNKS+NW00y6o9xiEqY0g+fS",
      "include_colab_link": true
    },
    "kernelspec": {
      "name": "python3",
      "display_name": "Python 3"
    },
    "language_info": {
      "name": "python"
    }
  },
  "cells": [
    {
      "cell_type": "markdown",
      "metadata": {
        "id": "view-in-github",
        "colab_type": "text"
      },
      "source": [
        "<a href=\"https://colab.research.google.com/github/jaimeisaac2020/Python-analsisis-basicos/blob/mi-github/interpolacion_sabados.ipynb\" target=\"_parent\"><img src=\"https://colab.research.google.com/assets/colab-badge.svg\" alt=\"Open In Colab\"/></a>"
      ]
    },
    {
      "cell_type": "markdown",
      "source": [
        "# INTERPOLACION DE LAGRANGE EN PYTHON CON SCIPY"
      ],
      "metadata": {
        "id": "sjEo0w-Nnl2y"
      }
    },
    {
      "cell_type": "markdown",
      "source": [
        ""
      ],
      "metadata": {
        "id": "Ao5yKlYDDlF4"
      }
    },
    {
      "cell_type": "code",
      "execution_count": 231,
      "metadata": {
        "id": "TsZ3LdKBjw3N"
      },
      "outputs": [],
      "source": [
        "from scipy.interpolate import lagrange\n",
        "import numpy as np"
      ]
    },
    {
      "cell_type": "code",
      "source": [
        ""
      ],
      "metadata": {
        "id": "wz32Y7zoyA2-"
      },
      "execution_count": 179,
      "outputs": []
    },
    {
      "cell_type": "code",
      "source": [
        "x=np.array([-1,0,2])\n",
        "y=np.array([8,3,-1])"
      ],
      "metadata": {
        "id": "SfbWRen4j05b"
      },
      "execution_count": 232,
      "outputs": []
    },
    {
      "cell_type": "code",
      "source": [
        "poly = lagrange(x, y)"
      ],
      "metadata": {
        "id": "abBXK_2okfaK"
      },
      "execution_count": 182,
      "outputs": []
    },
    {
      "cell_type": "code",
      "source": [
        "poly"
      ],
      "metadata": {
        "colab": {
          "base_uri": "https://localhost:8080/"
        },
        "id": "dJptCF1gkvPZ",
        "outputId": "7ae8f770-a51d-4076-aa80-99ff417b781c"
      },
      "execution_count": 183,
      "outputs": [
        {
          "output_type": "execute_result",
          "data": {
            "text/plain": [
              "poly1d([ 1., -4.,  3.])"
            ]
          },
          "metadata": {},
          "execution_count": 183
        }
      ]
    },
    {
      "cell_type": "code",
      "source": [
        "poly.coef"
      ],
      "metadata": {
        "colab": {
          "base_uri": "https://localhost:8080/"
        },
        "id": "Ppyvp0dQkv-p",
        "outputId": "7f7ec9bb-6079-4c85-f8fd-7610c94e1b06"
      },
      "execution_count": 184,
      "outputs": [
        {
          "output_type": "execute_result",
          "data": {
            "text/plain": [
              "array([ 1., -4.,  3.])"
            ]
          },
          "metadata": {},
          "execution_count": 184
        }
      ]
    },
    {
      "cell_type": "code",
      "source": [
        "poly(7.1)"
      ],
      "metadata": {
        "colab": {
          "base_uri": "https://localhost:8080/"
        },
        "id": "iYDXdayJmavf",
        "outputId": "d8a7a9b4-8a38-4a6b-e51a-6a9889bead5e"
      },
      "execution_count": 185,
      "outputs": [
        {
          "output_type": "execute_result",
          "data": {
            "text/plain": [
              "25.009999999999994"
            ]
          },
          "metadata": {},
          "execution_count": 185
        }
      ]
    },
    {
      "cell_type": "code",
      "source": [
        ""
      ],
      "metadata": {
        "id": "jfmM2gxf2cCZ"
      },
      "execution_count": 185,
      "outputs": []
    },
    {
      "cell_type": "code",
      "source": [
        "poly(-1)"
      ],
      "metadata": {
        "colab": {
          "base_uri": "https://localhost:8080/"
        },
        "id": "_1LtNSnPmh2j",
        "outputId": "e7f6cb54-425f-496e-d0d7-c6efff7121f2"
      },
      "execution_count": 186,
      "outputs": [
        {
          "output_type": "execute_result",
          "data": {
            "text/plain": [
              "7.999999999999999"
            ]
          },
          "metadata": {},
          "execution_count": 186
        }
      ]
    },
    {
      "cell_type": "code",
      "source": [
        "poly([-1,0,2])"
      ],
      "metadata": {
        "colab": {
          "base_uri": "https://localhost:8080/"
        },
        "id": "QYcpb0X0m3R7",
        "outputId": "3127370b-2798-46bf-b6cd-3a83f682643d"
      },
      "execution_count": 188,
      "outputs": [
        {
          "output_type": "execute_result",
          "data": {
            "text/plain": [
              "array([ 8.,  3., -1.])"
            ]
          },
          "metadata": {},
          "execution_count": 188
        }
      ]
    },
    {
      "cell_type": "code",
      "source": [
        "from numpy.polynomial.polynomial import Polynomial\n",
        "Polynomial(poly.coef[::-1]).coef"
      ],
      "metadata": {
        "colab": {
          "base_uri": "https://localhost:8080/"
        },
        "id": "jnVQwhlalRYG",
        "outputId": "04cd7942-cda7-469c-b9c0-40c444cc324f"
      },
      "execution_count": 189,
      "outputs": [
        {
          "output_type": "execute_result",
          "data": {
            "text/plain": [
              "array([ 3., -4.,  1.])"
            ]
          },
          "metadata": {},
          "execution_count": 189
        }
      ]
    },
    {
      "cell_type": "code",
      "source": [
        ""
      ],
      "metadata": {
        "id": "eGB7csm-laBm"
      },
      "execution_count": 189,
      "outputs": []
    },
    {
      "cell_type": "code",
      "source": [
        "import matplotlib.pyplot as plt\n",
        "x_new = np.arange(-4, 2.1, 0.1)\n",
        "plt.scatter(x, y, label='data')\n",
        "plt.plot(x_new, Polynomial(poly.coef[::-1])(x_new), label='Polynomial')\n",
        "plt.plot(x_new, x_new**2 - 4*x_new + 3,\n",
        "         label=r\"$x^2 - 4x+3$\", linestyle='-.')\n",
        "plt.legend()\n",
        "plt.show()"
      ],
      "metadata": {
        "colab": {
          "base_uri": "https://localhost:8080/",
          "height": 265
        },
        "id": "u-qoxgwclNk1",
        "outputId": "1d3649aa-ecdc-4e86-8e20-be7f7e8329a7"
      },
      "execution_count": 190,
      "outputs": [
        {
          "output_type": "display_data",
          "data": {
            "text/plain": [
              "<Figure size 432x288 with 1 Axes>"
            ],
            "image/png": "[encoded data removed]"
          },
          "metadata": {
            "needs_background": "light"
          }
        }
      ]
    },
    {
      "cell_type": "code",
      "source": [
        "x=[0.2,0.5,1]"
      ],
      "metadata": {
        "id": "fyqp9BY-pDMw"
      },
      "execution_count": 191,
      "outputs": []
    },
    {
      "cell_type": "code",
      "source": [
        "y=np.sin(x)"
      ],
      "metadata": {
        "id": "kfiWQpZypIbl"
      },
      "execution_count": 192,
      "outputs": []
    },
    {
      "cell_type": "code",
      "source": [
        "y"
      ],
      "metadata": {
        "colab": {
          "base_uri": "https://localhost:8080/"
        },
        "id": "lzvQ8V-VpNlY",
        "outputId": "6440a643-979c-49c5-be3b-9853cfd5dedd"
      },
      "execution_count": 193,
      "outputs": [
        {
          "output_type": "execute_result",
          "data": {
            "text/plain": [
              "array([0.19866933, 0.47942554, 0.84147098])"
            ]
          },
          "metadata": {},
          "execution_count": 193
        }
      ]
    },
    {
      "cell_type": "code",
      "source": [
        "import sympy as sy"
      ],
      "metadata": {
        "id": "wW-Z6BFhpPfl"
      },
      "execution_count": 194,
      "outputs": []
    },
    {
      "cell_type": "code",
      "source": [
        "x=sy.symbols('x')"
      ],
      "metadata": {
        "id": "XkuYED3EpUCB"
      },
      "execution_count": 196,
      "outputs": []
    },
    {
      "cell_type": "code",
      "source": [
        "sy.expand((x-2)*(x+1))"
      ],
      "metadata": {
        "colab": {
          "base_uri": "https://localhost:8080/",
          "height": 38
        },
        "id": "2znk9AobrKGH",
        "outputId": "97931186-de0a-4935-b275-b4bf4f249eca"
      },
      "execution_count": 197,
      "outputs": [
        {
          "output_type": "execute_result",
          "data": {
            "text/plain": [
              "x**2 - x - 2"
            ],
            "text/latex": "$\\displaystyle x^{2} - x - 2$"
          },
          "metadata": {},
          "execution_count": 197
        }
      ]
    },
    {
      "cell_type": "code",
      "source": [
        "(x-2)/(x+1)"
      ],
      "metadata": {
        "colab": {
          "base_uri": "https://localhost:8080/",
          "height": 52
        },
        "id": "OoiWxukk9_50",
        "outputId": "79a5d230-cc2c-4dd2-a740-b56c537f9b68"
      },
      "execution_count": 198,
      "outputs": [
        {
          "output_type": "execute_result",
          "data": {
            "text/plain": [
              "(x - 2)/(x + 1)"
            ],
            "text/latex": "$\\displaystyle \\frac{x - 2}{x + 1}$"
          },
          "metadata": {},
          "execution_count": 198
        }
      ]
    },
    {
      "cell_type": "code",
      "source": [
        "p=x-2"
      ],
      "metadata": {
        "id": "tyg4fUKL-atC"
      },
      "execution_count": 199,
      "outputs": []
    },
    {
      "cell_type": "code",
      "source": [
        "q=x+1"
      ],
      "metadata": {
        "id": "spMud8sz-dIB"
      },
      "execution_count": 200,
      "outputs": []
    },
    {
      "cell_type": "code",
      "source": [
        "p/q"
      ],
      "metadata": {
        "colab": {
          "base_uri": "https://localhost:8080/",
          "height": 52
        },
        "id": "ha1sAB8F-f-t",
        "outputId": "763486f8-5225-4c90-a881-f240cacf03dd"
      },
      "execution_count": 201,
      "outputs": [
        {
          "output_type": "execute_result",
          "data": {
            "text/plain": [
              "(x - 2)/(x + 1)"
            ],
            "text/latex": "$\\displaystyle \\frac{x - 2}{x + 1}$"
          },
          "metadata": {},
          "execution_count": 201
        }
      ]
    },
    {
      "cell_type": "code",
      "source": [
        ""
      ],
      "metadata": {
        "id": "6V2DnPIk-tKL"
      },
      "execution_count": 170,
      "outputs": []
    },
    {
      "cell_type": "code",
      "source": [
        "from math import *"
      ],
      "metadata": {
        "id": "kMGvTIBZAawH"
      },
      "execution_count": 202,
      "outputs": []
    },
    {
      "cell_type": "code",
      "source": [
        "p%q"
      ],
      "metadata": {
        "colab": {
          "base_uri": "https://localhost:8080/",
          "height": 38
        },
        "id": "ZFZ3xbu9-nJd",
        "outputId": "e75df0ee-28e7-4df3-8118-01062cbd2403"
      },
      "execution_count": 203,
      "outputs": [
        {
          "output_type": "execute_result",
          "data": {
            "text/plain": [
              "Mod(x - 2, x + 1)"
            ],
            "text/latex": "$\\displaystyle \\left(x - 2\\right)\\bmod{x + 1}$"
          },
          "metadata": {},
          "execution_count": 203
        }
      ]
    },
    {
      "cell_type": "code",
      "source": [
        "t1=0.19866933*(sy.expand((x-0.47942554)*(x-0.84147098)))/(sy.expand((0.19866933-0.47942554)*(0.19866933-0.84147098)))"
      ],
      "metadata": {
        "id": "qxMv4tVDqB1X"
      },
      "execution_count": 204,
      "outputs": []
    },
    {
      "cell_type": "code",
      "source": [
        "t1"
      ],
      "metadata": {
        "colab": {
          "base_uri": "https://localhost:8080/",
          "height": 38
        },
        "id": "ToeFtQ2xsrfE",
        "outputId": "7a5c0131-ec92-4a46-933f-95f3b0a36815"
      },
      "execution_count": 205,
      "outputs": [
        {
          "output_type": "execute_result",
          "data": {
            "text/plain": [
              "1.10084068817015*x**2 - 1.45409663407836*x + 0.444104099552701"
            ],
            "text/latex": "$\\displaystyle 1.10084068817015 x^{2} - 1.45409663407836 x + 0.444104099552701$"
          },
          "metadata": {},
          "execution_count": 205
        }
      ]
    },
    {
      "cell_type": "code",
      "source": [
        "t2=0.47942554*(sy.expand((x-0.19866933)*(x-0.84147098)))/(sy.expand((0.47942554-0.19866933)*(0.47942554-0.84147098)))"
      ],
      "metadata": {
        "id": "Djc-kIp-sCss"
      },
      "execution_count": 207,
      "outputs": []
    },
    {
      "cell_type": "code",
      "source": [
        "t2"
      ],
      "metadata": {
        "colab": {
          "base_uri": "https://localhost:8080/",
          "height": 38
        },
        "id": "QEWPuEE2sqYl",
        "outputId": "29832569-777a-44b2-b339-430eacc2864d"
      },
      "execution_count": 208,
      "outputs": [
        {
          "output_type": "execute_result",
          "data": {
            "text/plain": [
              "-4.71659637735779*x**2 + 4.90592201808981*x - 0.788494526997055"
            ],
            "text/latex": "$\\displaystyle - 4.71659637735779 x^{2} + 4.90592201808981 x - 0.788494526997055$"
          },
          "metadata": {},
          "execution_count": 208
        }
      ]
    },
    {
      "cell_type": "code",
      "source": [
        "t3=0.84147098*(sy.expand((x-0.19866933)*(x-0.47942554)))/(sy.expand((0.84147098-0.19866933)*(0.84147098-0.47942554)))"
      ],
      "metadata": {
        "id": "Sv-3KVOPsq7E"
      },
      "execution_count": 209,
      "outputs": []
    },
    {
      "cell_type": "code",
      "source": [
        "t3"
      ],
      "metadata": {
        "colab": {
          "base_uri": "https://localhost:8080/",
          "height": 38
        },
        "id": "hMjJ-kzhtmNJ",
        "outputId": "0dd5f72a-8919-4797-d9fb-6e62d541c103"
      },
      "execution_count": 210,
      "outputs": [
        {
          "output_type": "execute_result",
          "data": {
            "text/plain": [
              "3.61575568918764*x**2 - 2.45182538401145*x + 0.344390427444354"
            ],
            "text/latex": "$\\displaystyle 3.61575568918764 x^{2} - 2.45182538401145 x + 0.344390427444354$"
          },
          "metadata": {},
          "execution_count": 210
        }
      ]
    },
    {
      "cell_type": "code",
      "source": [
        "poli=t1+t2+t3"
      ],
      "metadata": {
        "id": "_UY99XA-tm1c"
      },
      "execution_count": 212,
      "outputs": []
    },
    {
      "cell_type": "code",
      "source": [
        "poli"
      ],
      "metadata": {
        "colab": {
          "base_uri": "https://localhost:8080/",
          "height": 38
        },
        "id": "r3oVHSsQtrLw",
        "outputId": "ed6969ed-d874-4033-ebfa-6afe7ea4b9ee"
      },
      "execution_count": 213,
      "outputs": [
        {
          "output_type": "execute_result",
          "data": {
            "text/plain": [
              "-8.88178419700125e-16*x**2 + 1.0*x - 5.55111512312578e-17"
            ],
            "text/latex": "$\\displaystyle - 8.88178419700125 \\cdot 10^{-16} x^{2} + 1.0 x - 5.55111512312578 \\cdot 10^{-17}$"
          },
          "metadata": {},
          "execution_count": 213
        }
      ]
    },
    {
      "cell_type": "code",
      "source": [
        "from scipy.interpolate import lagrange\n",
        "import numpy as np"
      ],
      "metadata": {
        "id": "qkhUokwNttoH"
      },
      "execution_count": 214,
      "outputs": []
    },
    {
      "cell_type": "code",
      "source": [
        "x=np.array([0.2,0.5,1])"
      ],
      "metadata": {
        "id": "QxAYW4oVuutZ"
      },
      "execution_count": 215,
      "outputs": []
    },
    {
      "cell_type": "code",
      "source": [
        "y=np.sin(x)"
      ],
      "metadata": {
        "id": "Rq-XGVefuzYy"
      },
      "execution_count": 216,
      "outputs": []
    },
    {
      "cell_type": "code",
      "source": [
        "y"
      ],
      "metadata": {
        "colab": {
          "base_uri": "https://localhost:8080/"
        },
        "id": "ohMJK5bEu141",
        "outputId": "11040b13-4734-4b03-d44a-16eaaec4b36a"
      },
      "execution_count": 217,
      "outputs": [
        {
          "output_type": "execute_result",
          "data": {
            "text/plain": [
              "array([0.19866933, 0.47942554, 0.84147098])"
            ]
          },
          "metadata": {},
          "execution_count": 217
        }
      ]
    },
    {
      "cell_type": "code",
      "source": [
        "polin=lagrange(x,y)"
      ],
      "metadata": {
        "id": "haPJg9Jnu5MD"
      },
      "execution_count": 218,
      "outputs": []
    },
    {
      "cell_type": "code",
      "source": [
        "polin"
      ],
      "metadata": {
        "colab": {
          "base_uri": "https://localhost:8080/"
        },
        "id": "IxEdk_Q1u_w0",
        "outputId": "17c7af0f-e560-49df-974b-6bbe6a51aa01"
      },
      "execution_count": 219,
      "outputs": [
        {
          "output_type": "execute_result",
          "data": {
            "text/plain": [
              "poly1d([-0.26470392,  1.12114677, -0.01497187])"
            ]
          },
          "metadata": {},
          "execution_count": 219
        }
      ]
    },
    {
      "cell_type": "code",
      "source": [
        "polin(0.75)"
      ],
      "metadata": {
        "colab": {
          "base_uri": "https://localhost:8080/"
        },
        "id": "MZWSp1MhvFKl",
        "outputId": "9feef7d3-f1aa-4da7-b021-2cce1f6c9189"
      },
      "execution_count": 220,
      "outputs": [
        {
          "output_type": "execute_result",
          "data": {
            "text/plain": [
              "0.6769922565203532"
            ]
          },
          "metadata": {},
          "execution_count": 220
        }
      ]
    },
    {
      "cell_type": "code",
      "source": [
        "polin(6)"
      ],
      "metadata": {
        "colab": {
          "base_uri": "https://localhost:8080/"
        },
        "id": "GqNepiZDxd_w",
        "outputId": "f0672efa-e966-43b8-fcd9-48f38be14814"
      },
      "execution_count": 221,
      "outputs": [
        {
          "output_type": "execute_result",
          "data": {
            "text/plain": [
              "-2.817432271448728"
            ]
          },
          "metadata": {},
          "execution_count": 221
        }
      ]
    },
    {
      "cell_type": "code",
      "source": [
        "from numpy.polynomial.polynomial import Polynomial\n",
        "Polynomial(polin.coef[::-1]).coef"
      ],
      "metadata": {
        "colab": {
          "base_uri": "https://localhost:8080/"
        },
        "id": "ZLQ829cjv-dw",
        "outputId": "07b53011-ccfb-464f-a605-e6f318bf0c95"
      },
      "execution_count": 222,
      "outputs": [
        {
          "output_type": "execute_result",
          "data": {
            "text/plain": [
              "array([-0.01497187,  1.12114677, -0.26470392])"
            ]
          },
          "metadata": {},
          "execution_count": 222
        }
      ]
    },
    {
      "cell_type": "code",
      "source": [
        "import matplotlib.pyplot as plt\n",
        "x_new = np.arange(0.2, 1, 0.1)\n",
        "plt.scatter(x, y, label='data')\n",
        "plt.plot(x_new, Polynomial(poly.coef[::-1])(x_new), label='Polynomial')\n",
        "plt.plot(x_new, -0.26470392*x_new**2+1.12114677*x_new -0.01497187,\n",
        "         label=r\"$-0.26470392x^2 +1.12114677x-0.01497187$\", linestyle='-.')\n",
        "plt.legend()\n",
        "plt.show()"
      ],
      "metadata": {
        "colab": {
          "base_uri": "https://localhost:8080/",
          "height": 265
        },
        "id": "bMHd-jmAvQuO",
        "outputId": "004c42df-479e-418f-df63-1ffa4990b063"
      },
      "execution_count": 223,
      "outputs": [
        {
          "output_type": "display_data",
          "data": {
            "text/plain": [
              "<Figure size 432x288 with 1 Axes>"
            ],
            "image/png": "[encoded data removed]"
          },
          "metadata": {
            "needs_background": "light"
          }
        }
      ]
    },
    {
      "cell_type": "code",
      "source": [
        "import numpy as np\n",
        "x=np.array ([150 , 160 , 170 , 180 ])\n",
        "y=np.array ([35.5 , 37.8 , 43.6 , 45.7])\n",
        "np.vander(x)\n"
      ],
      "metadata": {
        "colab": {
          "base_uri": "https://localhost:8080/"
        },
        "id": "RRcN9S_PzuhB",
        "outputId": "6c230104-1105-4899-ef77-c75ba4db44b0"
      },
      "execution_count": 233,
      "outputs": [
        {
          "output_type": "execute_result",
          "data": {
            "text/plain": [
              "array([[3375000,   22500,     150,       1],\n",
              "       [4096000,   25600,     160,       1],\n",
              "       [4913000,   28900,     170,       1],\n",
              "       [5832000,   32400,     180,       1]])"
            ]
          },
          "metadata": {},
          "execution_count": 233
        }
      ]
    },
    {
      "cell_type": "code",
      "source": [
        "np.dot(np.linalg.inv( np.vander(x)) ,y.T )\n"
      ],
      "metadata": {
        "colab": {
          "base_uri": "https://localhost:8080/"
        },
        "id": "dtksXtkp0FOI",
        "outputId": "3c64dbf3-f580-45fd-9ec7-1e831ef0799e"
      },
      "execution_count": 234,
      "outputs": [
        {
          "output_type": "execute_result",
          "data": {
            "text/plain": [
              "array([-1.2000e-03,  5.9350e-01, -9.7235e+01,  5.3170e+03])"
            ]
          },
          "metadata": {},
          "execution_count": 234
        }
      ]
    },
    {
      "cell_type": "code",
      "source": [
        "p=np.polyfit(x,y,3)"
      ],
      "metadata": {
        "id": "PkeJnCR_0pWY"
      },
      "execution_count": 235,
      "outputs": []
    },
    {
      "cell_type": "code",
      "source": [
        "p"
      ],
      "metadata": {
        "colab": {
          "base_uri": "https://localhost:8080/"
        },
        "id": "FNrg76za03yM",
        "outputId": "55e63755-1d42-4729-f180-f7403de9965a"
      },
      "execution_count": 236,
      "outputs": [
        {
          "output_type": "execute_result",
          "data": {
            "text/plain": [
              "array([-1.2000e-03,  5.9350e-01, -9.7235e+01,  5.3170e+03])"
            ]
          },
          "metadata": {},
          "execution_count": 236
        }
      ]
    },
    {
      "cell_type": "code",
      "source": [
        "np.polyval(p,0.75)"
      ],
      "metadata": {
        "colab": {
          "base_uri": "https://localhost:8080/"
        },
        "id": "8yUYc45u1BcS",
        "outputId": "446adcd1-e7cd-47e3-eda3-453f62b27b64"
      },
      "execution_count": 237,
      "outputs": [
        {
          "output_type": "execute_result",
          "data": {
            "text/plain": [
              "5244.407087499726"
            ]
          },
          "metadata": {},
          "execution_count": 237
        }
      ]
    },
    {
      "cell_type": "code",
      "source": [
        ""
      ],
      "metadata": {
        "id": "2fWOpZGC1C1L"
      },
      "execution_count": null,
      "outputs": []
    }
  ]
}