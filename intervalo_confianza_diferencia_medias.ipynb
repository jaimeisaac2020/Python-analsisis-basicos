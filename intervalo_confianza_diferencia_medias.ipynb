{
  "nbformat": 4,
  "nbformat_minor": 0,
  "metadata": {
    "colab": {
      "name": "intervalo_confianza_diferencia_medias.ipynb",
      "provenance": [],
      "authorship_tag": "ABX9TyMwCLlA4epjZuShrpdmio+X",
      "include_colab_link": true
    },
    "kernelspec": {
      "name": "python3",
      "display_name": "Python 3"
    },
    "language_info": {
      "name": "python"
    }
  },
  "cells": [
    {
      "cell_type": "markdown",
      "metadata": {
        "id": "view-in-github",
        "colab_type": "text"
      },
      "source": [
        "<a href=\"https://colab.research.google.com/github/jaimeisaac2020/Python-analsisis-basicos/blob/mi-github/intervalo_confianza_diferencia_medias.ipynb\" target=\"_parent\"><img src=\"https://colab.research.google.com/assets/colab-badge.svg\" alt=\"Open In Colab\"/></a>"
      ]
    },
    {
      "cell_type": "code",
      "metadata": {
        "colab": {
          "base_uri": "https://localhost:8080/"
        },
        "id": "TWUL9pMlh6sB",
        "outputId": "b6e6b237-3147-4161-c2e9-d21f0905bb2d"
      },
      "source": [
        "import numpy as np, statsmodels.stats.api as sms\n",
        "\n",
        "X1, X2 = np.arange(10,21), np.arange(20,26.5,.5)\n",
        "\n",
        "cm = sms.CompareMeans(sms.DescrStatsW(X1), sms.DescrStatsW(X2))\n",
        "print(cm.tconfint_diff(usevar='unequal'))"
      ],
      "execution_count": 2,
      "outputs": [
        {
          "output_type": "stream",
          "name": "stderr",
          "text": [
            "/usr/local/lib/python3.7/dist-packages/statsmodels/tools/_testing.py:19: FutureWarning: pandas.util.testing is deprecated. Use the functions in the public API at pandas.testing instead.\n",
            "  import pandas.util.testing as tm\n"
          ]
        },
        {
          "output_type": "stream",
          "name": "stdout",
          "text": [
            "(-10.414599391793885, -5.585400608206114)\n"
          ]
        }
      ]
    }
  ]
}