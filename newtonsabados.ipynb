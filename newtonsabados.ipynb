{
  "nbformat": 4,
  "nbformat_minor": 0,
  "metadata": {
    "colab": {
      "name": "newtonsabados.ipynb",
      "provenance": [],
      "collapsed_sections": [],
      "include_colab_link": true
    },
    "kernelspec": {
      "name": "python3",
      "display_name": "Python 3"
    }
  },
  "cells": [
    {
      "cell_type": "markdown",
      "metadata": {
        "id": "view-in-github",
        "colab_type": "text"
      },
      "source": [
        "<a href=\"https://colab.research.google.com/github/jaimeisaac2020/Python-analsisis-basicos/blob/mi-github/newtonsabados.ipynb\" target=\"_parent\"><img src=\"https://colab.research.google.com/assets/colab-badge.svg\" alt=\"Open In Colab\"/></a>"
      ]
    },
    {
      "cell_type": "markdown",
      "metadata": {
        "id": "FIndnA5xsneg"
      },
      "source": [
        "# Ejemplo 1 de la clase de hoy Sabado 12 de Marzo de 2022\n",
        "## Resolver $f(x)=4cos(x)-e^{x}$"
      ]
    },
    {
      "cell_type": "code",
      "metadata": {
        "colab": {
          "base_uri": "https://localhost:8080/"
        },
        "id": "w8MvjNQDs6iD",
        "outputId": "1747459e-d2d0-4f29-f0bf-74a57c4f4f97"
      },
      "source": [
        "# Método de Newton-Raphson\n",
        "# Ejemplo 1 \n",
        "\n",
        "import numpy as np\n",
        "\n",
        "# INGRESO\n",
        "fx  = lambda x: 4*np.cos(x)-np.exp(x)\n",
        "dfx = lambda x: -4*np.sin(x)-np.exp(x)\n",
        "\n",
        "x0 = 2\n",
        "tolera = 0.0000001\n",
        "\n",
        "# PROCEDIMIENTO\n",
        "tabla = []\n",
        "tramo = abs(2*tolera)\n",
        "xi = x0\n",
        "while (tramo>=tolera):\n",
        "    xnuevo = xi - fx(xi)/dfx(xi)\n",
        "    tramo  = abs(xnuevo-xi)\n",
        "    tabla.append([xi,xnuevo,tramo])\n",
        "    xi = xnuevo\n",
        "\n",
        "# convierte la lista a un arreglo.\n",
        "tabla = np.array(tabla)\n",
        "n = len(tabla)\n",
        "\n",
        "# SALIDA\n",
        "print(['xi', 'xnuevo', 'tramo'])\n",
        "np.set_printoptions(precision = 4)\n",
        "print(tabla)\n",
        "print('raiz en: ', xi)\n",
        "print('con error de: ',tramo)\n"
      ],
      "execution_count": null,
      "outputs": [
        {
          "output_type": "stream",
          "text": [
            "['xi', 'xnuevo', 'tramo']\n",
            "[[2.0000e+00 1.1789e+00 8.2110e-01]\n",
            " [1.1789e+00 9.3089e-01 2.4801e-01]\n",
            " [9.3089e-01 9.0508e-01 2.5814e-02]\n",
            " [9.0508e-01 9.0479e-01 2.9243e-04]\n",
            " [9.0479e-01 9.0479e-01 3.7628e-08]]\n",
            "raiz en:  0.9047882178730194\n",
            "con error de:  3.762819067443246e-08\n"
          ],
          "name": "stdout"
        }
      ]
    },
    {
      "cell_type": "markdown",
      "metadata": {
        "id": "lbwPQ7Eyu0FV"
      },
      "source": [
        "# Ejemplo 2 de la clase de hoy"
      ]
    },
    {
      "cell_type": "markdown",
      "metadata": {
        "id": "djT-HiNmu45C"
      },
      "source": [
        "## Resolver $f(x)=3x+sen(x)-e^{x}$ en $[0,1]$"
      ]
    },
    {
      "cell_type": "code",
      "metadata": {
        "colab": {
          "base_uri": "https://localhost:8080/"
        },
        "id": "Zbi6AiUPvFYd",
        "outputId": "aad80ac3-44a6-4c1c-c107-9dd27c3a2c44"
      },
      "source": [
        "# Método de Newton-Raphson\n",
        "# Ejemplo 1 \n",
        "\n",
        "import numpy as np\n",
        "\n",
        "# INGRESO\n",
        "fx  = lambda x: 3*x+np.sin(x)-np.exp(x)\n",
        "dfx = lambda x: 3+np.cos(x)-np.exp(x)\n",
        "\n",
        "x0 = 0.5\n",
        "tolera = 0.0000001\n",
        "\n",
        "# PROCEDIMIENTO\n",
        "tabla = []\n",
        "tramo = abs(2*tolera)\n",
        "xi = x0\n",
        "while (tramo>=tolera):\n",
        "    xnuevo = xi - fx(xi)/dfx(xi)\n",
        "    tramo  = abs(xnuevo-xi)\n",
        "    tabla.append([xi,xnuevo,tramo])\n",
        "    xi = xnuevo\n",
        "\n",
        "# convierte la lista a un arreglo.\n",
        "tabla = np.array(tabla)\n",
        "n = len(tabla)\n",
        "\n",
        "# SALIDA\n",
        "print(['xi', 'xnuevo', 'tramo'])\n",
        "np.set_printoptions(precision = 4)\n",
        "print(tabla)\n",
        "print('raiz en: ', xi)\n",
        "print('con error de: ',tramo)\n"
      ],
      "execution_count": null,
      "outputs": [
        {
          "output_type": "stream",
          "text": [
            "['xi', 'xnuevo', 'tramo']\n",
            "[[5.0000e-01 3.5163e-01 1.4837e-01]\n",
            " [3.5163e-01 3.6039e-01 8.7681e-03]\n",
            " [3.6039e-01 3.6042e-01 2.7237e-05]\n",
            " [3.6042e-01 3.6042e-01 2.6488e-10]]\n",
            "raiz en:  0.3604217029603244\n",
            "con error de:  2.6487645410355753e-10\n"
          ],
          "name": "stdout"
        }
      ]
    },
    {
      "cell_type": "markdown",
      "metadata": {
        "id": "-ybY9uYJtS-U"
      },
      "source": [
        "# Otros Ejemplos"
      ]
    },
    {
      "cell_type": "markdown",
      "metadata": {
        "id": "KYtBUUsttYdc"
      },
      "source": [
        "## Resolver $f(x)=x^3+4x^2-10$"
      ]
    },
    {
      "cell_type": "code",
      "metadata": {
        "id": "3T4MPwESsiyV"
      },
      "source": [
        "# Método de Newton-Raphson\n",
        "# \n",
        "\n",
        "import numpy as np\n",
        "\n",
        "# INGRESO\n",
        "fx  = lambda x: x**3 + 4*(x**2) - 10\n",
        "dfx = lambda x: 3*(x**2) + 8*x\n",
        "\n",
        "x0 = 2\n",
        "tolera = 0.0000001\n",
        "\n",
        "# PROCEDIMIENTO\n",
        "tabla = []\n",
        "tramo = abs(2*tolera)\n",
        "xi = x0\n",
        "while (tramo>=tolera):\n",
        "    xnuevo = xi - fx(xi)/dfx(xi)\n",
        "    tramo  = abs(xnuevo-xi)\n",
        "    tabla.append([xi,xnuevo,tramo])\n",
        "    xi = xnuevo\n",
        "\n",
        "# convierte la lista a un arreglo.\n",
        "tabla = np.array(tabla)\n",
        "n = len(tabla)\n",
        "\n",
        "# SALIDA\n",
        "print(['xi', 'xnuevo', 'tramo'])\n",
        "np.set_printoptions(precision = 4)\n",
        "print(tabla)\n",
        "print('raiz en: ', xi)\n",
        "print('con error de: ',tramo)\n"
      ],
      "execution_count": null,
      "outputs": []
    },
    {
      "cell_type": "code",
      "metadata": {
        "colab": {
          "base_uri": "https://localhost:8080/"
        },
        "id": "8FhJ87lYjsjr",
        "outputId": "36b401dd-ae2b-4a09-9cc1-ccff1ca3220a"
      },
      "source": [
        "# Método de Newton-Raphson\n",
        "\n",
        "\n",
        "import numpy as np\n",
        "\n",
        "# INGRESO\n",
        "fx  = lambda x: np.exp(x)+2**(-x)+2*np.cos(x)-6\n",
        "dfx = lambda x: np.exp(x)-2**(-x)*np.log(2)-2*np.sin(x)\n",
        "\n",
        "x0 = 1/3\n",
        "tolera = 0.0000001\n",
        "\n",
        "# PROCEDIMIENTO\n",
        "tabla = []\n",
        "tramo = abs(2*tolera)\n",
        "xi = x0\n",
        "while (tramo>=tolera):\n",
        "    xnuevo = xi - fx(xi)/dfx(xi)\n",
        "    tramo  = abs(xnuevo-xi)\n",
        "    tabla.append([xi,xnuevo,tramo])\n",
        "    xi = xnuevo\n",
        "\n",
        "# convierte la lista a un arreglo.\n",
        "tabla = np.array(tabla)\n",
        "n = len(tabla)\n",
        "\n",
        "# SALIDA\n",
        "print(['xi', 'xnuevo', 'tramo'])\n",
        "np.set_printoptions(precision = 4)\n",
        "print(tabla)\n",
        "print('raiz en: ', xi)\n",
        "print('con error de: ',tramo)\n"
      ],
      "execution_count": null,
      "outputs": [
        {
          "output_type": "stream",
          "name": "stdout",
          "text": [
            "['xi', 'xnuevo', 'tramo']\n",
            "[[3.3333e-01 1.0386e+01 1.0053e+01]\n",
            " [1.0386e+01 9.3862e+00 9.9973e-01]\n",
            " [9.3862e+00 8.3869e+00 9.9934e-01]\n",
            " [8.3869e+00 7.3881e+00 9.9879e-01]\n",
            " [7.3881e+00 6.3901e+00 9.9795e-01]\n",
            " [6.3901e+00 5.3965e+00 9.9366e-01]\n",
            " [5.3965e+00 4.4246e+00 9.7189e-01]\n",
            " [4.4246e+00 3.5231e+00 9.0152e-01]\n",
            " [3.5231e+00 2.7676e+00 7.5549e-01]\n",
            " [2.7676e+00 2.2238e+00 5.4384e-01]\n",
            " [2.2238e+00 1.9252e+00 2.9860e-01]\n",
            " [1.9252e+00 1.8365e+00 8.8694e-02]\n",
            " [1.8365e+00 1.8294e+00 7.0368e-03]\n",
            " [1.8294e+00 1.8294e+00 4.1739e-05]\n",
            " [1.8294e+00 1.8294e+00 1.4605e-09]]\n",
            "raiz en:  1.8293836019338487\n",
            "con error de:  1.460484844173493e-09\n"
          ]
        }
      ]
    },
    {
      "cell_type": "code",
      "metadata": {
        "colab": {
          "base_uri": "https://localhost:8080/"
        },
        "id": "wwvzef3cmPP_",
        "outputId": "bd24027c-c76b-4cc2-b05a-7728145209be"
      },
      "source": [
        "import scipy.optimize as opt\n",
        "opt.newton(fx,x0, fprime=dfx, tol = tolera)"
      ],
      "execution_count": null,
      "outputs": [
        {
          "output_type": "execute_result",
          "data": {
            "text/plain": [
              "0.9047882178730194"
            ]
          },
          "metadata": {
            "tags": []
          },
          "execution_count": 2
        }
      ]
    },
    {
      "cell_type": "markdown",
      "metadata": {
        "id": "oqC1x-QftpLh"
      },
      "source": [
        "## Resolver $f(x)=-x^3-cos(x)$"
      ]
    },
    {
      "cell_type": "code",
      "metadata": {
        "colab": {
          "base_uri": "https://localhost:8080/"
        },
        "id": "X-9WMueOmWfV",
        "outputId": "769ad0ff-0136-44f4-b6b8-539aebe8a5fe"
      },
      "source": [
        "# Método de Newton-Raphson\n",
        "# \n",
        "\n",
        "import numpy as np\n",
        "\n",
        "# INGRESO\n",
        "fx  = lambda x: -x**3-np.cos(x)\n",
        "dfx = lambda x: -3*(x**2)+np.sin(x)\n",
        "\n",
        "x0 = -1\n",
        "tolera = 0.0000001\n",
        "\n",
        "# PROCEDIMIENTO\n",
        "tabla = []\n",
        "tramo = abs(2*tolera)\n",
        "xi = x0\n",
        "while (tramo>=tolera):\n",
        "    xnuevo = xi - fx(xi)/dfx(xi)\n",
        "    tramo  = abs(xnuevo-xi)\n",
        "    tabla.append([xi,xnuevo,tramo])\n",
        "    xi = xnuevo\n",
        "\n",
        "# convierte la lista a un arreglo.\n",
        "tabla = np.array(tabla)\n",
        "n = len(tabla)\n",
        "\n",
        "# SALIDA\n",
        "print(['xi', 'xnuevo', 'tramo'])\n",
        "np.set_printoptions(precision = 4)\n",
        "print(tabla)\n",
        "print('raiz en: ', xi)\n",
        "print('con error de: ',tramo)"
      ],
      "execution_count": null,
      "outputs": [
        {
          "output_type": "stream",
          "text": [
            "['xi', 'xnuevo', 'tramo']\n",
            "[[-1.0000e+00 -8.8033e-01  1.1967e-01]\n",
            " [-8.8033e-01 -8.6568e-01  1.4649e-02]\n",
            " [-8.6568e-01 -8.6547e-01  2.1009e-04]\n",
            " [-8.6547e-01 -8.6547e-01  4.2851e-08]]\n",
            "raiz en:  -0.8654740331016162\n",
            "con error de:  4.28513607930725e-08\n"
          ],
          "name": "stdout"
        }
      ]
    },
    {
      "cell_type": "code",
      "metadata": {
        "id": "vmPAEbZFn5Nl"
      },
      "source": [
        "import numpy as np\n",
        "\n",
        "# INGRESO\n",
        "fx  = lambda x: -x**3-np.cos(x)\n",
        "dfx = lambda x: -3*(x**2)+np.sin(x)"
      ],
      "execution_count": null,
      "outputs": []
    },
    {
      "cell_type": "code",
      "metadata": {
        "colab": {
          "base_uri": "https://localhost:8080/"
        },
        "id": "PBnLiP2ln1Xd",
        "outputId": "676267d6-d643-4fb8-f674-320ec57bd1ac"
      },
      "source": [
        "import scipy.optimize as opt\n",
        "opt.newton(fx,x0, fprime=dfx, tol = tolera)"
      ],
      "execution_count": null,
      "outputs": [
        {
          "output_type": "execute_result",
          "data": {
            "text/plain": [
              "-0.8654740331016162"
            ]
          },
          "metadata": {
            "tags": []
          },
          "execution_count": 5
        }
      ]
    },
    {
      "cell_type": "markdown",
      "metadata": {
        "id": "2SFwXOfSt1V0"
      },
      "source": [
        "## Resolver $F(x)=e^x-2^x+cos(x)-2$"
      ]
    },
    {
      "cell_type": "code",
      "metadata": {
        "colab": {
          "base_uri": "https://localhost:8080/"
        },
        "id": "hBGpBePWn9mO",
        "outputId": "e71a0430-1e47-43f5-8513-46b959c89bb0"
      },
      "source": [
        "# Método de Newton-Raphson\n",
        "# \n",
        "\n",
        "import numpy as np\n",
        "\n",
        "# INGRESO\n",
        "fx  = lambda x: np.exp(x)+2**(-x)+2*np.cos(x)-2\n",
        "dfx = lambda x: np.exp(x)+(2**(-x))*(np.log(2))*(-1)-2*np.sin(x)\n",
        "\n",
        "x0 = 1.5\n",
        "tolera = 0.00001\n",
        "\n",
        "# PROCEDIMIENTO\n",
        "tabla = []\n",
        "tramo = abs(2*tolera)\n",
        "xi = x0\n",
        "while (tramo>=tolera):\n",
        "    xnuevo = xi - fx(xi)/dfx(xi)\n",
        "    tramo  = abs(xnuevo-xi)\n",
        "    tabla.append([xi,xnuevo,tramo])\n",
        "    xi = xnuevo\n",
        "\n",
        "# convierte la lista a un arreglo.\n",
        "tabla = np.array(tabla)\n",
        "n = len(tabla)\n",
        "\n",
        "# SALIDA\n",
        "print(['xi', 'xnuevo', 'tramo'])\n",
        "np.set_printoptions(precision = 4)\n",
        "print(tabla)\n",
        "print('raiz en: ', xi)\n",
        "print('con error de: ',tramo)\n"
      ],
      "execution_count": null,
      "outputs": [
        {
          "output_type": "stream",
          "text": [
            "['xi', 'xnuevo', 'tramo']\n",
            "[[ 1.5000e+00  1.7208e-01  1.3279e+00]\n",
            " [ 1.7208e-01 -8.7189e+00  8.8910e+00]\n",
            " [-8.7189e+00 -7.2819e+00  1.4370e+00]\n",
            " ...\n",
            " [-2.4736e+00 -1.6550e+00  8.1858e-01]\n",
            " [-1.6550e+00 -1.1157e+03  1.1140e+03]\n",
            " [-1.1157e+03         nan         nan]]\n",
            "raiz en:  nan\n",
            "con error de:  nan\n"
          ],
          "name": "stdout"
        },
        {
          "output_type": "stream",
          "text": [
            "/usr/local/lib/python3.7/dist-packages/ipykernel_launcher.py:7: RuntimeWarning: overflow encountered in double_scalars\n",
            "  import sys\n",
            "/usr/local/lib/python3.7/dist-packages/ipykernel_launcher.py:8: RuntimeWarning: overflow encountered in double_scalars\n",
            "  \n",
            "/usr/local/lib/python3.7/dist-packages/ipykernel_launcher.py:18: RuntimeWarning: invalid value encountered in double_scalars\n"
          ],
          "name": "stderr"
        }
      ]
    },
    {
      "cell_type": "code",
      "metadata": {
        "colab": {
          "base_uri": "https://localhost:8080/"
        },
        "id": "Y00knSG8pH4P",
        "outputId": "f5c60999-678b-42da-aced-e974d415f9fa"
      },
      "source": [
        "# Método de Newton-Raphson\n",
        "# \n",
        "\n",
        "import numpy as np\n",
        "\n",
        "# INGRESO\n",
        "fx  = lambda x:np.log(x-1)+np.cos(x-1)\n",
        "dfx = lambda x: (1/(x-1))-np.sin(x-1)\n",
        "\n",
        "x0 = 1.4\n",
        "tolera = 0.00001\n",
        "\n",
        "# PROCEDIMIENTO\n",
        "tabla = []\n",
        "tramo = abs(2*tolera)\n",
        "xi = x0\n",
        "while (tramo>=tolera):\n",
        "    xnuevo = xi - fx(xi)/dfx(xi)\n",
        "    tramo  = abs(xnuevo-xi)\n",
        "    tabla.append([xi,xnuevo,tramo])\n",
        "    xi = xnuevo\n",
        "\n",
        "# convierte la lista a un arreglo.\n",
        "tabla = np.array(tabla)\n",
        "n = len(tabla)\n",
        "\n",
        "# SALIDA\n",
        "print(['xi', 'xnuevo', 'tramo'])\n",
        "np.set_printoptions(precision = 4)\n",
        "print(tabla)\n",
        "print('raiz en: ', xi)\n",
        "print('con error de: ',tramo)\n"
      ],
      "execution_count": null,
      "outputs": [
        {
          "output_type": "stream",
          "text": [
            "['xi', 'xnuevo', 'tramo']\n",
            "[[1.4000e+00 1.3977e+00 2.2602e-03]\n",
            " [1.3977e+00 1.3977e+00 8.6405e-06]]\n",
            "raiz en:  1.397748475831618\n",
            "con error de:  8.640517190183772e-06\n"
          ],
          "name": "stdout"
        }
      ]
    },
    {
      "cell_type": "code",
      "metadata": {
        "colab": {
          "base_uri": "https://localhost:8080/"
        },
        "id": "-Rmnruv_qL7n",
        "outputId": "75fa0d97-7699-4aaf-fd18-be0923aecf9d"
      },
      "source": [
        "# Método de Newton-Raphson\n",
        "# \n",
        "\n",
        "import numpy as np\n",
        "\n",
        "# INGRESO\n",
        "#fx  = lambda x:2*x*(np.cos(2*x))-(x-2)**2\n",
        "#dfx = lambda x: \n",
        "\n",
        "x0 = 1.4\n",
        "tolera = 0.00001\n",
        "\n",
        "# PROCEDIMIENTO\n",
        "tabla = []\n",
        "tramo = abs(2*tolera)\n",
        "xi = x0\n",
        "while (tramo>=tolera):\n",
        "    xnuevo = xi - fx(xi)/dfx(xi)\n",
        "    tramo  = abs(xnuevo-xi)\n",
        "    tabla.append([xi,xnuevo,tramo])\n",
        "    xi = xnuevo\n",
        "\n",
        "# convierte la lista a un arreglo.\n",
        "tabla = np.array(tabla)\n",
        "n = len(tabla)\n",
        "\n",
        "# SALIDA\n",
        "print(['xi', 'xnuevo', 'tramo'])\n",
        "np.set_printoptions(precision = 4)\n",
        "print(tabla)\n",
        "print('raiz en: ', xi)\n",
        "print('con error de: ',tramo)"
      ],
      "execution_count": null,
      "outputs": [
        {
          "output_type": "stream",
          "text": [
            "['xi', 'xnuevo', 'tramo']\n",
            "[[1.4000e+00 1.3977e+00 2.2602e-03]\n",
            " [1.3977e+00 1.3977e+00 8.6405e-06]]\n",
            "raiz en:  1.397748475831618\n",
            "con error de:  8.640517190183772e-06\n"
          ],
          "name": "stdout"
        }
      ]
    },
    {
      "cell_type": "markdown",
      "metadata": {
        "id": "qHJJAQihr6TH"
      },
      "source": [
        "# Ejercicios para hacer en clase\n",
        "## Resolver usando el metodo de Newton Raphson realizando 5 iteraciones.\n",
        "+ $f(x)=x^3-3x+4$\n",
        "+ $g(x)=x+cos(x)$"
      ]
    },
    {
      "cell_type": "code",
      "metadata": {
        "id": "zO5_o3dj5Sfc"
      },
      "source": [
        "# Método de Newton-Raphson\n",
        "# \n",
        "\n",
        "import numpy as np\n",
        "\n",
        "# INGRESO\n",
        "#fx  = lambda x:2*x*(np.cos(2*x))-(x-2)**2\n",
        "#dfx = lambda x: \n",
        "\n",
        "x0 = 1.4\n",
        "tolera = 0.0001\n",
        "\n",
        "# PROCEDIMIENTO\n",
        "tabla = []\n",
        "tramo = abs(2*tolera)\n",
        "xi = x0\n",
        "while (tramo>=tolera):\n",
        "    xnuevo = xi - fx(xi)/dfx(xi)\n",
        "    tramo  = abs(xnuevo-xi)\n",
        "    tabla.append([xi,xnuevo,tramo])\n",
        "    xi = xnuevo\n",
        "\n",
        "# convierte la lista a un arreglo.\n",
        "tabla = np.array(tabla)\n",
        "n = len(tabla)\n",
        "\n",
        "# SALIDA\n",
        "print(['xi', 'xnuevo', 'tramo'])\n",
        "np.set_printoptions(precision = 4)\n",
        "print(tabla)\n",
        "print('raiz en: ', xi)\n",
        "print('con error de: ',tramo)"
      ],
      "execution_count": null,
      "outputs": []
    },
    {
      "cell_type": "code",
      "metadata": {
        "colab": {
          "base_uri": "https://localhost:8080/"
        },
        "id": "AD1ujiX6yLNJ",
        "outputId": "7238074d-e0ae-43ba-bc9a-1bec53d96a7b"
      },
      "source": [
        "# Método de Newton-Raphson\n",
        "# \n",
        "\n",
        "import numpy as np\n",
        "\n",
        "# INGRESO\n",
        "fx  = lambda x: 20*x**3+24*x**2-12*x-5\n",
        "dfx = lambda x: 60*x**2+48*x-12*x\n",
        "\n",
        "x0 = -2\n",
        "tolera = 0.0000001\n",
        "\n",
        "# PROCEDIMIENTO\n",
        "tabla = []\n",
        "tramo = abs(2*tolera)\n",
        "xi = x0\n",
        "while (tramo>=tolera):\n",
        "    xnuevo = xi - fx(xi)/dfx(xi)\n",
        "    tramo  = abs(xnuevo-xi)\n",
        "    tabla.append([xi,xnuevo,tramo])\n",
        "    xi = xnuevo\n",
        "\n",
        "# convierte la lista a un arreglo.\n",
        "tabla = np.array(tabla)\n",
        "n = len(tabla)\n",
        "\n",
        "# SALIDA\n",
        "print(['xi', 'xnuevo', 'tramo'])\n",
        "np.set_printoptions(precision = 4)\n",
        "print(tabla)\n",
        "print('raiz en: ', xi)\n",
        "print('con error de: ',tramo)"
      ],
      "execution_count": null,
      "outputs": [
        {
          "output_type": "stream",
          "text": [
            "['xi', 'xnuevo', 'tramo']\n",
            "[[-2.0000e+00 -1.7321e+00  2.6786e-01]\n",
            " [-1.7321e+00 -1.5949e+00  1.3723e-01]\n",
            " [-1.5949e+00 -1.5324e+00  6.2520e-02]\n",
            " [-1.5324e+00 -1.5065e+00  2.5921e-02]\n",
            " [-1.5065e+00 -1.4963e+00  1.0167e-02]\n",
            " [-1.4963e+00 -1.4924e+00  3.8852e-03]\n",
            " [-1.4924e+00 -1.4910e+00  1.4688e-03]\n",
            " [-1.4910e+00 -1.4904e+00  5.5295e-04]\n",
            " [-1.4904e+00 -1.4902e+00  2.0783e-04]\n",
            " [-1.4902e+00 -1.4901e+00  7.8071e-05]\n",
            " [-1.4901e+00 -1.4901e+00  2.9320e-05]\n",
            " [-1.4901e+00 -1.4901e+00  1.1010e-05]\n",
            " [-1.4901e+00 -1.4901e+00  4.1344e-06]\n",
            " [-1.4901e+00 -1.4901e+00  1.5525e-06]\n",
            " [-1.4901e+00 -1.4901e+00  5.8296e-07]\n",
            " [-1.4901e+00 -1.4901e+00  2.1890e-07]\n",
            " [-1.4901e+00 -1.4901e+00  8.2198e-08]]\n",
            "raiz en:  -1.4900688754558749\n",
            "con error de:  8.219829417122071e-08\n"
          ],
          "name": "stdout"
        }
      ]
    }
  ]
}