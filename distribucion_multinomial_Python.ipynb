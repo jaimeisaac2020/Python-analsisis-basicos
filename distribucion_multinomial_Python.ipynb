{
  "nbformat": 4,
  "nbformat_minor": 0,
  "metadata": {
    "colab": {
      "name": "distribucion_multinomial_Python.ipynb",
      "provenance": [],
      "authorship_tag": "ABX9TyP8KhCdUCAUgtugxHn+AJub",
      "include_colab_link": true
    },
    "kernelspec": {
      "name": "python3",
      "display_name": "Python 3"
    },
    "language_info": {
      "name": "python"
    }
  },
  "cells": [
    {
      "cell_type": "markdown",
      "metadata": {
        "id": "view-in-github",
        "colab_type": "text"
      },
      "source": [
        "<a href=\"https://colab.research.google.com/github/jaimeisaac2020/Python-analsisis-basicos/blob/mi-github/distribucion_multinomial_Python.ipynb\" target=\"_parent\"><img src=\"https://colab.research.google.com/assets/colab-badge.svg\" alt=\"Open In Colab\"/></a>"
      ]
    },
    {
      "cell_type": "code",
      "metadata": {
        "id": "zDzXh49TY-Tj"
      },
      "source": [
        "from scipy.stats import multinomial"
      ],
      "execution_count": 1,
      "outputs": []
    },
    {
      "cell_type": "code",
      "metadata": {
        "colab": {
          "base_uri": "https://localhost:8080/"
        },
        "id": "aP9ovWQ8ZEMQ",
        "outputId": "8c8160ae-191d-4975-86d9-5b13f4eb649c"
      },
      "source": [
        "rv=multinomial(10,[1/3,1/3,1/3])\n",
        "rv"
      ],
      "execution_count": 11,
      "outputs": [
        {
          "output_type": "execute_result",
          "data": {
            "text/plain": [
              "<scipy.stats._multivariate.multinomial_frozen at 0x7fbea80c4450>"
            ]
          },
          "metadata": {},
          "execution_count": 11
        }
      ]
    },
    {
      "cell_type": "code",
      "metadata": {
        "colab": {
          "base_uri": "https://localhost:8080/"
        },
        "id": "07K9svV8ZdXZ",
        "outputId": "15bbb217-c23e-4f7e-eb07-86c65a5f1048"
      },
      "source": [
        "rv.rvs(4)# Generar datos aleatorios de la distribucion multinomial"
      ],
      "execution_count": 10,
      "outputs": [
        {
          "output_type": "execute_result",
          "data": {
            "text/plain": [
              "array([[4, 4, 2],\n",
              "       [2, 2, 6],\n",
              "       [3, 5, 2],\n",
              "       [4, 2, 4]])"
            ]
          },
          "metadata": {},
          "execution_count": 10
        }
      ]
    },
    {
      "cell_type": "code",
      "metadata": {
        "id": "yHnBo8VsZ9qa"
      },
      "source": [
        "from scipy.stats import expon"
      ],
      "execution_count": 7,
      "outputs": []
    },
    {
      "cell_type": "code",
      "metadata": {
        "id": "exN_MgBDdv6P"
      },
      "source": [
        " import sympy as S\n",
        " from sympy import stats\n",
        " p,t = S.symbols('p t',positive=True)\n",
        " x=stats.Binomial('x',10,p)\n",
        " mgf = stats.E(S.exp(t*x))"
      ],
      "execution_count": 9,
      "outputs": []
    }
  ]
}