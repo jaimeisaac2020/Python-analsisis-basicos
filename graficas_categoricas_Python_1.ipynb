{
  "nbformat": 4,
  "nbformat_minor": 0,
  "metadata": {
    "colab": {
      "name": "graficas_categoricas_Python_1.ipynb",
      "provenance": [],
      "collapsed_sections": [],
      "authorship_tag": "ABX9TyNzgZu5Qy1mb216ZUg7ETZt",
      "include_colab_link": true
    },
    "kernelspec": {
      "name": "python3",
      "display_name": "Python 3"
    },
    "language_info": {
      "name": "python"
    }
  },
  "cells": [
    {
      "cell_type": "markdown",
      "metadata": {
        "id": "view-in-github",
        "colab_type": "text"
      },
      "source": [
        "<a href=\"https://colab.research.google.com/github/jaimeisaac2020/Python-analsisis-basicos/blob/mi-github/graficas_categoricas_Python_1.ipynb\" target=\"_parent\"><img src=\"https://colab.research.google.com/assets/colab-badge.svg\" alt=\"Open In Colab\"/></a>"
      ]
    },
    {
      "cell_type": "code",
      "metadata": {
        "id": "oV_gaHqmlUUo"
      },
      "source": [
        "import numpy as np\n",
        "import scipy.stats\n",
        "import pandas as pd"
      ],
      "execution_count": 1,
      "outputs": []
    },
    {
      "cell_type": "code",
      "metadata": {
        "id": "wqW-rZhnlaTW"
      },
      "source": [
        "import matplotlib\n",
        "import matplotlib.pyplot as plt\n",
        "\n",
        "import pandas.plotting\n",
        "\n",
        "from IPython import display\n",
        "from ipywidgets import interact, widgets"
      ],
      "execution_count": 14,
      "outputs": []
    },
    {
      "cell_type": "code",
      "metadata": {
        "id": "W7jaxKlkld37"
      },
      "source": [
        "\n",
        "import re\n",
        "import mailbox\n",
        "import csv"
      ],
      "execution_count": 3,
      "outputs": []
    },
    {
      "cell_type": "code",
      "metadata": {
        "colab": {
          "base_uri": "https://localhost:8080/",
          "height": 363
        },
        "id": "4E1wTk48lgvI",
        "outputId": "944d207e-a8c7-47b4-d9ef-336067bdba90"
      },
      "source": [
        "smoking=pd.read_csv('whickham.csv')\n",
        "smoking.head(10)"
      ],
      "execution_count": 5,
      "outputs": [
        {
          "output_type": "execute_result",
          "data": {
            "text/html": [
              "<div>\n",
              "<style scoped>\n",
              "    .dataframe tbody tr th:only-of-type {\n",
              "        vertical-align: middle;\n",
              "    }\n",
              "\n",
              "    .dataframe tbody tr th {\n",
              "        vertical-align: top;\n",
              "    }\n",
              "\n",
              "    .dataframe thead th {\n",
              "        text-align: right;\n",
              "    }\n",
              "</style>\n",
              "<table border=\"1\" class=\"dataframe\">\n",
              "  <thead>\n",
              "    <tr style=\"text-align: right;\">\n",
              "      <th></th>\n",
              "      <th>outcome</th>\n",
              "      <th>smoker</th>\n",
              "      <th>age</th>\n",
              "    </tr>\n",
              "  </thead>\n",
              "  <tbody>\n",
              "    <tr>\n",
              "      <th>0</th>\n",
              "      <td>Alive</td>\n",
              "      <td>Yes</td>\n",
              "      <td>23</td>\n",
              "    </tr>\n",
              "    <tr>\n",
              "      <th>1</th>\n",
              "      <td>Alive</td>\n",
              "      <td>Yes</td>\n",
              "      <td>18</td>\n",
              "    </tr>\n",
              "    <tr>\n",
              "      <th>2</th>\n",
              "      <td>Dead</td>\n",
              "      <td>Yes</td>\n",
              "      <td>71</td>\n",
              "    </tr>\n",
              "    <tr>\n",
              "      <th>3</th>\n",
              "      <td>Alive</td>\n",
              "      <td>No</td>\n",
              "      <td>67</td>\n",
              "    </tr>\n",
              "    <tr>\n",
              "      <th>4</th>\n",
              "      <td>Alive</td>\n",
              "      <td>No</td>\n",
              "      <td>64</td>\n",
              "    </tr>\n",
              "    <tr>\n",
              "      <th>5</th>\n",
              "      <td>Alive</td>\n",
              "      <td>Yes</td>\n",
              "      <td>38</td>\n",
              "    </tr>\n",
              "    <tr>\n",
              "      <th>6</th>\n",
              "      <td>Alive</td>\n",
              "      <td>Yes</td>\n",
              "      <td>45</td>\n",
              "    </tr>\n",
              "    <tr>\n",
              "      <th>7</th>\n",
              "      <td>Dead</td>\n",
              "      <td>No</td>\n",
              "      <td>76</td>\n",
              "    </tr>\n",
              "    <tr>\n",
              "      <th>8</th>\n",
              "      <td>Alive</td>\n",
              "      <td>No</td>\n",
              "      <td>28</td>\n",
              "    </tr>\n",
              "    <tr>\n",
              "      <th>9</th>\n",
              "      <td>Alive</td>\n",
              "      <td>No</td>\n",
              "      <td>27</td>\n",
              "    </tr>\n",
              "  </tbody>\n",
              "</table>\n",
              "</div>"
            ],
            "text/plain": [
              "  outcome smoker  age\n",
              "0   Alive    Yes   23\n",
              "1   Alive    Yes   18\n",
              "2    Dead    Yes   71\n",
              "3   Alive     No   67\n",
              "4   Alive     No   64\n",
              "5   Alive    Yes   38\n",
              "6   Alive    Yes   45\n",
              "7    Dead     No   76\n",
              "8   Alive     No   28\n",
              "9   Alive     No   27"
            ]
          },
          "metadata": {},
          "execution_count": 5
        }
      ]
    },
    {
      "cell_type": "code",
      "metadata": {
        "id": "hhSsPYhFm9wb"
      },
      "source": [
        "smoking['ageGroup']=pd.cut(smoking.age,[0,30,40,53,64],\n",
        "                           labels=['0-30','30-40','40-53','53-64'])"
      ],
      "execution_count": 6,
      "outputs": []
    },
    {
      "cell_type": "code",
      "metadata": {
        "colab": {
          "base_uri": "https://localhost:8080/",
          "height": 206
        },
        "id": "uwLiJISTqH31",
        "outputId": "908761d1-c309-4aa9-ed0d-e1fcbcce92f4"
      },
      "source": [
        "smoking.head()"
      ],
      "execution_count": 7,
      "outputs": [
        {
          "output_type": "execute_result",
          "data": {
            "text/html": [
              "<div>\n",
              "<style scoped>\n",
              "    .dataframe tbody tr th:only-of-type {\n",
              "        vertical-align: middle;\n",
              "    }\n",
              "\n",
              "    .dataframe tbody tr th {\n",
              "        vertical-align: top;\n",
              "    }\n",
              "\n",
              "    .dataframe thead th {\n",
              "        text-align: right;\n",
              "    }\n",
              "</style>\n",
              "<table border=\"1\" class=\"dataframe\">\n",
              "  <thead>\n",
              "    <tr style=\"text-align: right;\">\n",
              "      <th></th>\n",
              "      <th>outcome</th>\n",
              "      <th>smoker</th>\n",
              "      <th>age</th>\n",
              "      <th>ageGroup</th>\n",
              "    </tr>\n",
              "  </thead>\n",
              "  <tbody>\n",
              "    <tr>\n",
              "      <th>0</th>\n",
              "      <td>Alive</td>\n",
              "      <td>Yes</td>\n",
              "      <td>23</td>\n",
              "      <td>0-30</td>\n",
              "    </tr>\n",
              "    <tr>\n",
              "      <th>1</th>\n",
              "      <td>Alive</td>\n",
              "      <td>Yes</td>\n",
              "      <td>18</td>\n",
              "      <td>0-30</td>\n",
              "    </tr>\n",
              "    <tr>\n",
              "      <th>2</th>\n",
              "      <td>Dead</td>\n",
              "      <td>Yes</td>\n",
              "      <td>71</td>\n",
              "      <td>NaN</td>\n",
              "    </tr>\n",
              "    <tr>\n",
              "      <th>3</th>\n",
              "      <td>Alive</td>\n",
              "      <td>No</td>\n",
              "      <td>67</td>\n",
              "      <td>NaN</td>\n",
              "    </tr>\n",
              "    <tr>\n",
              "      <th>4</th>\n",
              "      <td>Alive</td>\n",
              "      <td>No</td>\n",
              "      <td>64</td>\n",
              "      <td>53-64</td>\n",
              "    </tr>\n",
              "  </tbody>\n",
              "</table>\n",
              "</div>"
            ],
            "text/plain": [
              "  outcome smoker  age ageGroup\n",
              "0   Alive    Yes   23     0-30\n",
              "1   Alive    Yes   18     0-30\n",
              "2    Dead    Yes   71      NaN\n",
              "3   Alive     No   67      NaN\n",
              "4   Alive     No   64    53-64"
            ]
          },
          "metadata": {},
          "execution_count": 7
        }
      ]
    },
    {
      "cell_type": "code",
      "metadata": {
        "id": "jVRLdj47qJ-a"
      },
      "source": [
        "bysmoker=smoking.groupby('smoker').outcome.value_counts(normalize=True)"
      ],
      "execution_count": 10,
      "outputs": []
    },
    {
      "cell_type": "code",
      "metadata": {
        "colab": {
          "base_uri": "https://localhost:8080/"
        },
        "id": "4P7VzLa5quZb",
        "outputId": "50feb0b3-6d41-4559-a6e6-723e691fddbb"
      },
      "source": [
        "bysmoker"
      ],
      "execution_count": 11,
      "outputs": [
        {
          "output_type": "execute_result",
          "data": {
            "text/plain": [
              "smoker  outcome\n",
              "No      Alive      0.685792\n",
              "        Dead       0.314208\n",
              "Yes     Alive      0.761168\n",
              "        Dead       0.238832\n",
              "Name: outcome, dtype: float64"
            ]
          },
          "metadata": {},
          "execution_count": 11
        }
      ]
    },
    {
      "cell_type": "code",
      "metadata": {
        "id": "CxXDJI4gqvbH"
      },
      "source": [
        "byage=smoking.groupby(['ageGroup','smoker']).outcome.value_counts(normalize=True)"
      ],
      "execution_count": 12,
      "outputs": []
    },
    {
      "cell_type": "code",
      "metadata": {
        "colab": {
          "base_uri": "https://localhost:8080/"
        },
        "id": "c5xS2la6rcgt",
        "outputId": "d44c82c5-bad2-4bbc-e020-31c45a3d8b17"
      },
      "source": [
        "byage"
      ],
      "execution_count": 13,
      "outputs": [
        {
          "output_type": "execute_result",
          "data": {
            "text/plain": [
              "ageGroup  smoker  outcome\n",
              "0-30      No      Alive      0.981818\n",
              "                  Dead       0.018182\n",
              "          Yes     Alive      0.975610\n",
              "                  Dead       0.024390\n",
              "30-40     No      Alive      0.955224\n",
              "                  Dead       0.044776\n",
              "          Yes     Alive      0.940678\n",
              "                  Dead       0.059322\n",
              "40-53     No      Alive      0.876106\n",
              "                  Dead       0.123894\n",
              "          Yes     Alive      0.802395\n",
              "                  Dead       0.197605\n",
              "53-64     No      Alive      0.669291\n",
              "                  Dead       0.330709\n",
              "          Yes     Alive      0.580645\n",
              "                  Dead       0.419355\n",
              "Name: outcome, dtype: float64"
            ]
          },
          "metadata": {},
          "execution_count": 13
        }
      ]
    },
    {
      "cell_type": "code",
      "metadata": {
        "colab": {
          "base_uri": "https://localhost:8080/",
          "height": 406
        },
        "id": "lT-pxOQnrdj-",
        "outputId": "8ca9ec4b-6163-4a8c-e9ac-83bb96290887"
      },
      "source": [
        "plt.figure(figsize=(14,6))\n",
        "plt.subplot(1,2,1)\n",
        "smoking.outcome.value_counts().plot(kind='bar',color=['C0','C1'])\n",
        "plt.title('Outcome')\n",
        "plt.subplot(1,2,2)\n",
        "smoking.smoker.value_counts().plot(kind='bar',color=['C2','C3'])\n",
        "plt.title('Smoker')\n",
        "plt.show()"
      ],
      "execution_count": 19,
      "outputs": [
        {
          "output_type": "display_data",
          "data": {
            "image/png": "[encoded data removed]",
            "text/plain": [
              "<Figure size 1008x432 with 2 Axes>"
            ]
          },
          "metadata": {
            "needs_background": "light"
          }
        }
      ]
    },
    {
      "cell_type": "code",
      "metadata": {
        "colab": {
          "base_uri": "https://localhost:8080/",
          "height": 373
        },
        "id": "kGtSagWKtFaF",
        "outputId": "c8dd0177-15c9-4568-cf5f-bdd17fc72832"
      },
      "source": [
        "plt.figure(figsize=(14,6))\n",
        "plt.subplot(1,2,1)\n",
        "smoking.outcome.value_counts().plot(kind='pie',colors=['C0','C1'])\n",
        "plt.title('Outcome')\n",
        "plt.subplot(1,2,2)\n",
        "smoking.smoker.value_counts().plot(kind='pie',colors=['C2','C3'])\n",
        "plt.title('Smoker')\n",
        "plt.show()"
      ],
      "execution_count": 20,
      "outputs": [
        {
          "output_type": "display_data",
          "data": {
            "image/png": "[encoded data removed]",
            "text/plain": [
              "<Figure size 1008x432 with 2 Axes>"
            ]
          },
          "metadata": {}
        }
      ]
    },
    {
      "cell_type": "code",
      "metadata": {
        "colab": {
          "base_uri": "https://localhost:8080/"
        },
        "id": "LJe6Umz8u8zh",
        "outputId": "4c639819-bf10-4622-a9c3-cd3aa3620d0c"
      },
      "source": [
        "bysmoker"
      ],
      "execution_count": 21,
      "outputs": [
        {
          "output_type": "execute_result",
          "data": {
            "text/plain": [
              "smoker  outcome\n",
              "No      Alive      0.685792\n",
              "        Dead       0.314208\n",
              "Yes     Alive      0.761168\n",
              "        Dead       0.238832\n",
              "Name: outcome, dtype: float64"
            ]
          },
          "metadata": {},
          "execution_count": 21
        }
      ]
    },
    {
      "cell_type": "code",
      "metadata": {
        "colab": {
          "base_uri": "https://localhost:8080/",
          "height": 343
        },
        "id": "SGiqmPp1vBNR",
        "outputId": "2e797cfc-7070-4d39-d620-76c347874d71"
      },
      "source": [
        "bysmoker.plot(kind='bar')"
      ],
      "execution_count": 22,
      "outputs": [
        {
          "output_type": "execute_result",
          "data": {
            "text/plain": [
              "<matplotlib.axes._subplots.AxesSubplot at 0x7f5b03c50510>"
            ]
          },
          "metadata": {},
          "execution_count": 22
        },
        {
          "output_type": "display_data",
          "data": {
            "image/png": "[encoded data removed]",
            "text/plain": [
              "<Figure size 432x288 with 1 Axes>"
            ]
          },
          "metadata": {
            "needs_background": "light"
          }
        }
      ]
    },
    {
      "cell_type": "code",
      "metadata": {
        "colab": {
          "base_uri": "https://localhost:8080/",
          "height": 303
        },
        "id": "aoe1nQQsvHZ2",
        "outputId": "33bb25a0-d661-4a3e-9a3f-1d6cbdf5f479"
      },
      "source": [
        "bysmoker.unstack().plot(kind='bar',stacked=False)"
      ],
      "execution_count": 27,
      "outputs": [
        {
          "output_type": "execute_result",
          "data": {
            "text/plain": [
              "<matplotlib.axes._subplots.AxesSubplot at 0x7f5b025fff10>"
            ]
          },
          "metadata": {},
          "execution_count": 27
        },
        {
          "output_type": "display_data",
          "data": {
            "image/png": "[encoded data removed]",
            "text/plain": [
              "<Figure size 432x288 with 1 Axes>"
            ]
          },
          "metadata": {
            "needs_background": "light"
          }
        }
      ]
    },
    {
      "cell_type": "code",
      "metadata": {
        "colab": {
          "base_uri": "https://localhost:8080/",
          "height": 303
        },
        "id": "FpmUT7iZvuZH",
        "outputId": "04462cad-5a63-4caf-dc85-843e7e22cefc"
      },
      "source": [
        "bysmoker.unstack().plot(kind='bar',stacked=True)"
      ],
      "execution_count": 28,
      "outputs": [
        {
          "output_type": "execute_result",
          "data": {
            "text/plain": [
              "<matplotlib.axes._subplots.AxesSubplot at 0x7f5b0257e550>"
            ]
          },
          "metadata": {},
          "execution_count": 28
        },
        {
          "output_type": "display_data",
          "data": {
            "image/png": "[encoded data removed]",
            "text/plain": [
              "<Figure size 432x288 with 1 Axes>"
            ]
          },
          "metadata": {
            "needs_background": "light"
          }
        }
      ]
    },
    {
      "cell_type": "code",
      "metadata": {
        "colab": {
          "base_uri": "https://localhost:8080/",
          "height": 455
        },
        "id": "FlMJwAlOxrz3",
        "outputId": "05fc9365-db64-4467-ba77-302b04f87604"
      },
      "source": [
        "byage.unstack().plot(kind='bar',stacked=False,figsize=(10,6))"
      ],
      "execution_count": 30,
      "outputs": [
        {
          "output_type": "execute_result",
          "data": {
            "text/plain": [
              "<matplotlib.axes._subplots.AxesSubplot at 0x7f5b0243dad0>"
            ]
          },
          "metadata": {},
          "execution_count": 30
        },
        {
          "output_type": "display_data",
          "data": {
            "image/png": "[encoded data removed]",
            "text/plain": [
              "<Figure size 720x432 with 1 Axes>"
            ]
          },
          "metadata": {
            "needs_background": "light"
          }
        }
      ]
    },
    {
      "cell_type": "code",
      "metadata": {
        "colab": {
          "base_uri": "https://localhost:8080/",
          "height": 455
        },
        "id": "ZMnqG0HW0bYi",
        "outputId": "877ca4e6-c3bf-4b0f-c77a-ae830ed6d412"
      },
      "source": [
        "byage.unstack().plot(kind='bar',stacked=True,figsize=(10,6))"
      ],
      "execution_count": 31,
      "outputs": [
        {
          "output_type": "execute_result",
          "data": {
            "text/plain": [
              "<matplotlib.axes._subplots.AxesSubplot at 0x7f5b0236bf90>"
            ]
          },
          "metadata": {},
          "execution_count": 31
        },
        {
          "output_type": "display_data",
          "data": {
            "image/png": "[encoded data removed]",
            "text/plain": [
              "<Figure size 720x432 with 1 Axes>"
            ]
          },
          "metadata": {
            "needs_background": "light"
          }
        }
      ]
    },
    {
      "cell_type": "code",
      "metadata": {
        "colab": {
          "base_uri": "https://localhost:8080/",
          "height": 237
        },
        "id": "Saryq86A02cI",
        "outputId": "5b8ba4f3-ba8f-4985-92bf-655bac6731dc"
      },
      "source": [
        "\n",
        "byage.unstack().drop(\"Dead\",axis=1).unstack()"
      ],
      "execution_count": 32,
      "outputs": [
        {
          "output_type": "execute_result",
          "data": {
            "text/html": [
              "<div>\n",
              "<style scoped>\n",
              "    .dataframe tbody tr th:only-of-type {\n",
              "        vertical-align: middle;\n",
              "    }\n",
              "\n",
              "    .dataframe tbody tr th {\n",
              "        vertical-align: top;\n",
              "    }\n",
              "\n",
              "    .dataframe thead tr th {\n",
              "        text-align: left;\n",
              "    }\n",
              "\n",
              "    .dataframe thead tr:last-of-type th {\n",
              "        text-align: right;\n",
              "    }\n",
              "</style>\n",
              "<table border=\"1\" class=\"dataframe\">\n",
              "  <thead>\n",
              "    <tr>\n",
              "      <th>outcome</th>\n",
              "      <th colspan=\"2\" halign=\"left\">Alive</th>\n",
              "    </tr>\n",
              "    <tr>\n",
              "      <th>smoker</th>\n",
              "      <th>No</th>\n",
              "      <th>Yes</th>\n",
              "    </tr>\n",
              "    <tr>\n",
              "      <th>ageGroup</th>\n",
              "      <th></th>\n",
              "      <th></th>\n",
              "    </tr>\n",
              "  </thead>\n",
              "  <tbody>\n",
              "    <tr>\n",
              "      <th>0-30</th>\n",
              "      <td>0.981818</td>\n",
              "      <td>0.975610</td>\n",
              "    </tr>\n",
              "    <tr>\n",
              "      <th>30-40</th>\n",
              "      <td>0.955224</td>\n",
              "      <td>0.940678</td>\n",
              "    </tr>\n",
              "    <tr>\n",
              "      <th>40-53</th>\n",
              "      <td>0.876106</td>\n",
              "      <td>0.802395</td>\n",
              "    </tr>\n",
              "    <tr>\n",
              "      <th>53-64</th>\n",
              "      <td>0.669291</td>\n",
              "      <td>0.580645</td>\n",
              "    </tr>\n",
              "  </tbody>\n",
              "</table>\n",
              "</div>"
            ],
            "text/plain": [
              "outcome      Alive          \n",
              "smoker          No       Yes\n",
              "ageGroup                    \n",
              "0-30      0.981818  0.975610\n",
              "30-40     0.955224  0.940678\n",
              "40-53     0.876106  0.802395\n",
              "53-64     0.669291  0.580645"
            ]
          },
          "metadata": {},
          "execution_count": 32
        }
      ]
    },
    {
      "cell_type": "code",
      "metadata": {
        "id": "9LYHucDo17Fk"
      },
      "source": [
        "byage2 = byage.unstack().drop(\"Dead\",axis=1).unstack()\n",
        "\n",
        "byage2.columns = [\"No\", \"Yes\"]\n",
        "byage2.columns.name = \"smoker\""
      ],
      "execution_count": 34,
      "outputs": []
    },
    {
      "cell_type": "code",
      "metadata": {
        "colab": {
          "base_uri": "https://localhost:8080/",
          "height": 206
        },
        "id": "FQQ2jx9H2QKq",
        "outputId": "af47bce9-d750-470e-b9a8-e4282f6fbe63"
      },
      "source": [
        "byage2"
      ],
      "execution_count": 35,
      "outputs": [
        {
          "output_type": "execute_result",
          "data": {
            "text/html": [
              "<div>\n",
              "<style scoped>\n",
              "    .dataframe tbody tr th:only-of-type {\n",
              "        vertical-align: middle;\n",
              "    }\n",
              "\n",
              "    .dataframe tbody tr th {\n",
              "        vertical-align: top;\n",
              "    }\n",
              "\n",
              "    .dataframe thead th {\n",
              "        text-align: right;\n",
              "    }\n",
              "</style>\n",
              "<table border=\"1\" class=\"dataframe\">\n",
              "  <thead>\n",
              "    <tr style=\"text-align: right;\">\n",
              "      <th>smoker</th>\n",
              "      <th>No</th>\n",
              "      <th>Yes</th>\n",
              "    </tr>\n",
              "    <tr>\n",
              "      <th>ageGroup</th>\n",
              "      <th></th>\n",
              "      <th></th>\n",
              "    </tr>\n",
              "  </thead>\n",
              "  <tbody>\n",
              "    <tr>\n",
              "      <th>0-30</th>\n",
              "      <td>0.981818</td>\n",
              "      <td>0.975610</td>\n",
              "    </tr>\n",
              "    <tr>\n",
              "      <th>30-40</th>\n",
              "      <td>0.955224</td>\n",
              "      <td>0.940678</td>\n",
              "    </tr>\n",
              "    <tr>\n",
              "      <th>40-53</th>\n",
              "      <td>0.876106</td>\n",
              "      <td>0.802395</td>\n",
              "    </tr>\n",
              "    <tr>\n",
              "      <th>53-64</th>\n",
              "      <td>0.669291</td>\n",
              "      <td>0.580645</td>\n",
              "    </tr>\n",
              "  </tbody>\n",
              "</table>\n",
              "</div>"
            ],
            "text/plain": [
              "smoker          No       Yes\n",
              "ageGroup                    \n",
              "0-30      0.981818  0.975610\n",
              "30-40     0.955224  0.940678\n",
              "40-53     0.876106  0.802395\n",
              "53-64     0.669291  0.580645"
            ]
          },
          "metadata": {},
          "execution_count": 35
        }
      ]
    },
    {
      "cell_type": "code",
      "metadata": {
        "colab": {
          "base_uri": "https://localhost:8080/",
          "height": 315
        },
        "id": "6WxJ64WC2VU6",
        "outputId": "f8a8b951-c44f-42ef-9964-99af66bf5975"
      },
      "source": [
        "byage2.plot(kind='bar')"
      ],
      "execution_count": 36,
      "outputs": [
        {
          "output_type": "execute_result",
          "data": {
            "text/plain": [
              "<matplotlib.axes._subplots.AxesSubplot at 0x7f5b025192d0>"
            ]
          },
          "metadata": {},
          "execution_count": 36
        },
        {
          "output_type": "display_data",
          "data": {
            "image/png": "[encoded data removed]",
            "text/plain": [
              "<Figure size 432x288 with 1 Axes>"
            ]
          },
          "metadata": {
            "needs_background": "light"
          }
        }
      ]
    },
    {
      "cell_type": "code",
      "metadata": {
        "id": "v1VnCRwI2h7q"
      },
      "source": [
        ""
      ],
      "execution_count": null,
      "outputs": []
    }
  ]
}